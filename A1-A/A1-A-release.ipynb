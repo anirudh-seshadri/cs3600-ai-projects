{
 "cells": [
  {
   "cell_type": "markdown",
   "metadata": {
    "id": "gKTBPBJy-MIp"
   },
   "source": [
    "# Part 1 - Text Adventure Games\n",
    "## Overview\n",
    "*Text Adventure Games* are games in which the player interacts with a rich world only through text. Text adventure games predate computers with graphics. However, in many ways they are more complex than conventional video games because they can involve complicated interactions (e.g., \"build a rope bridge\") that require a fair amount of imagination. Indeed, text adventure games are used as [research testbeds](https://arxiv.org/abs/1909.05398) for natural language processing agents.\n",
    "\n",
    "The canonical text adventure game is [Zork](https://en.wikipedia.org/wiki/Zork), in which the player discover an abandoned underworld realm full of treasure. You can find online playable versions.\n",
    "\n",
    "A text game is made up of individual locations--also called \"rooms\", though they need not be indoor enclosed spaces as the term might imply. The agent can move between rooms and interact with objects by typing in short commands like \"move north\" and \"take lamp\".\n",
    "\n",
    "In this assignment, we will use a special package that implements text worlds for testing agents: [TextWorld-Express](https://github.com/cognitiveailab/TextWorldExpress). Textworld-Express simplifies text worlds in a few ways: it uses a reduced set of text commands, and rooms laid out in a grid.\n",
    "TextWorld-Express also implements a few different game objectives, such as cooking, and searching for coins.\n",
    "TextWorld-Express generates world configurations, so we will need to implement algorithms that are able to complete different game objectives in different world configurations.\n",
    "\n",
    "In this part of the assignment, our agents will play two different games:\n",
    "- **Coin Game**: a game in which the agent must search for and pick up a single coin.\n",
    "- **Map Reader**: a game in which the agent must find a coin and return it to a box at the starting location.\n",
    "\n",
    "We will be implementing various search algorithms towards these games to help the agent succeed!\n",
    "\n",
    "## Important Notes and Guidelines\n",
    "- You are **only** allowed to use a restricted set of libraries for this assignment. All packages that come with the default Python installation are permitted, as well as any imports we have already provided for you. You may not use any other libraries than the ones we have provided. If you attempt to use other libraries, the autograder will not be able to run your code.\n",
    "- In the Map Reader game, you must use a single search loop (you cannot run a search to the coin and then a separate search to the box). You cannot write specialized code for handling the Map Reader game. You cannot memorize the path to the coin and then reverse it.\n",
    "- Do not change the data within the global variables containing environment data that are loaded from file.\n",
    "- TextWorldExpress requires Java 1.8 or higher to be installed on your system. For more information, see the [TextWorld-Express README](https://github.com/cognitiveailab/TextWorldExpress).\n",
    "- Do not modify any function signatures or the global variables provided in the notebook. You may add additional helper functions as needed - do not add them to separate cells, as they will not be exported in the autograder. **Any helper functions should be nested within the function that uses them.**\n",
    "\n",
    "## Helpful Tips\n",
    "- If you break execution of a cell running the game engine, you may put TextWorld-Express in an un-recoverable state. If this happens, you will need to reset your kernel/runtime.\n",
    "- In the Map Reader game, you cannot use the map information (it isn't helpful anyway).\n",
    "- You cannot (and shouldn't) filter any actions. We've already filtered out the actions that we don't want your agent to have to consider. For example, the \"take map\" action is never helpful, but you must explore it. Your implementations should quickly realize that that action creates a state self-loop and disregard it.\n",
    "- Think about when you mark a state as visited. You should mark a state as visited when you have visited it, not when you are about to visit it. This will help you avoid infinite loops and cycles - this is a core concept in uninformed and informed search algorithms. "
   ]
  },
  {
   "cell_type": "markdown",
   "metadata": {
    "id": "NMJadvTO-O7z"
   },
   "source": [
    "# Installation"
   ]
  },
  {
   "cell_type": "markdown",
   "metadata": {
    "id": "AdVL2D-B-qYC"
   },
   "source": [
    "Install the `TextWorld-Express` engine, and `graphviz` and `pydot` for visualization of the graphs!"
   ]
  },
  {
   "cell_type": "code",
   "execution_count": 39,
   "metadata": {
    "colab": {
     "base_uri": "https://localhost:8080/"
    },
    "executionInfo": {
     "elapsed": 30973,
     "status": "ok",
     "timestamp": 1727280292995,
     "user": {
      "displayName": "Sanskriti Gupta",
      "userId": "14423739044698282671"
     },
     "user_tz": 240
    },
    "id": "Q_jkFnjg-C7N",
    "outputId": "9504434c-dd97-47a5-a89d-9c58453b9bbe"
   },
   "outputs": [
    {
     "name": "stdout",
     "output_type": "stream",
     "text": [
      "Requirement already satisfied: textworld-express in /opt/homebrew/Caskroom/miniconda/base/envs/CS-3600/lib/python3.10/site-packages (1.0.5)\n",
      "Requirement already satisfied: py4j in /opt/homebrew/Caskroom/miniconda/base/envs/CS-3600/lib/python3.10/site-packages (from textworld-express) (0.10.9.8)\n",
      "Requirement already satisfied: orjson in /opt/homebrew/Caskroom/miniconda/base/envs/CS-3600/lib/python3.10/site-packages (from textworld-express) (3.10.14)\n",
      "Requirement already satisfied: prompt-toolkit in /opt/homebrew/Caskroom/miniconda/base/envs/CS-3600/lib/python3.10/site-packages (from textworld-express) (3.0.48)\n",
      "Requirement already satisfied: wcwidth in /opt/homebrew/Caskroom/miniconda/base/envs/CS-3600/lib/python3.10/site-packages (from prompt-toolkit->textworld-express) (0.2.13)\n",
      "Note: you may need to restart the kernel to use updated packages.\n",
      "Requirement already satisfied: graphviz in /opt/homebrew/Caskroom/miniconda/base/envs/CS-3600/lib/python3.10/site-packages (0.20.3)\n",
      "Note: you may need to restart the kernel to use updated packages.\n",
      "Requirement already satisfied: pydot in /opt/homebrew/Caskroom/miniconda/base/envs/CS-3600/lib/python3.10/site-packages (3.0.4)\n",
      "Requirement already satisfied: pyparsing>=3.0.9 in /opt/homebrew/Caskroom/miniconda/base/envs/CS-3600/lib/python3.10/site-packages (from pydot) (3.2.1)\n",
      "Note: you may need to restart the kernel to use updated packages.\n"
     ]
    }
   ],
   "source": [
    "%pip install textworld-express\n",
    "%pip install graphviz\n",
    "%pip install pydot"
   ]
  },
  {
   "cell_type": "markdown",
   "metadata": {
    "id": "f0GaE8xE-T6A"
   },
   "source": [
    "# Imports"
   ]
  },
  {
   "cell_type": "code",
   "execution_count": 40,
   "metadata": {
    "executionInfo": {
     "elapsed": 331,
     "status": "ok",
     "timestamp": 1727280293314,
     "user": {
      "displayName": "Sanskriti Gupta",
      "userId": "14423739044698282671"
     },
     "user_tz": 240
    },
    "id": "_ScAIKmf-Vmm"
   },
   "outputs": [],
   "source": [
    "# export - DO NOT MODIFY THIS CELL\n",
    "\n",
    "# provided imports\n",
    "from IPython.display import Image\n",
    "from textworld_express import TextWorldExpressEnv\n",
    "from typing import Union\n",
    "import copy\n",
    "import graphviz\n",
    "import json\n",
    "import math\n",
    "import networkx as nx\n",
    "import os\n",
    "import pydot\n",
    "import re\n"
   ]
  },
  {
   "cell_type": "code",
   "execution_count": 41,
   "metadata": {},
   "outputs": [],
   "source": [
    "# export - DO NOT MODIFY OR MOVE THIS LINE \n",
    "# Add any additional imports (from the Python Standard Library only) here\n",
    "from collections import deque\n",
    "import heapq"
   ]
  },
  {
   "cell_type": "markdown",
   "metadata": {
    "id": "c9z6aZSrCTIi"
   },
   "source": [
    "# Load Data for Assignments"
   ]
  },
  {
   "cell_type": "markdown",
   "metadata": {
    "id": "fGWoBDPCCX-9"
   },
   "source": [
    "For this assignment, we will provide you data for several combinations of game type, seed, and game parameters. You can use this data to test your agent. It includes several ways of achieving full-observability in an otherwise partially observable environment. Each combination of game type, seed, and game parameters is stored in a file with filename `gametype+parameters+seed.json`.\n",
    "\n",
    "For example: \"mapreader+numLocations=5,maxDistanceApart=3,includeDoors=0,maxDistractorItemsPerLocation=0+seed=3.json\"."
   ]
  },
  {
   "cell_type": "markdown",
   "metadata": {},
   "source": [
    "**First, let's retrieve all the environment files.** If the script is unable to execute the `wget` or the `curl` commands, you can download the file manually from the following link: [environment files](https://www.dropbox.com/scl/fi/i0pws1rtkm4rse71rc6xr/environment_files.tgz?rlkey=n1w3l79z1qmnhc5qlyx0vanr0&st=fj80iq1z&dl=0), and then extract the files into a folder called `environment_files` to the same directory as this notebook by running the cell below."
   ]
  },
  {
   "cell_type": "code",
   "execution_count": 42,
   "metadata": {},
   "outputs": [
    {
     "name": "stdout",
     "output_type": "stream",
     "text": [
      "environment_files.tgz already downloaded and extracted\n"
     ]
    }
   ],
   "source": [
    "import os\n",
    "\n",
    "# link to the environment files\n",
    "ENVIRONMENT_FILES_URL = \"https://www.dropbox.com/scl/fi/i0pws1rtkm4rse71rc6xr/environment_files.tgz?rlkey=n1w3l79z1qmnhc5qlyx0vanr0&st=fj80iq1z&dl=0\"\n",
    "OUTPUT_ZIP_PATH = \"environment_files.tgz\"\n",
    "\n",
    "# trying wget\n",
    "if not os.path.isfile(OUTPUT_ZIP_PATH):\n",
    "    !wget -O {OUTPUT_ZIP_PATH} 'https://www.dropbox.com/scl/fi/i0pws1rtkm4rse71rc6xr/environment_files.tgz?rlkey=n1w3l79z1qmnhc5qlyx0vanr0&st=fj80iq1z&dl=0'\n",
    "    !tar -xzvf {OUTPUT_ZIP_PATH}\n",
    "\n",
    "# trying curl\n",
    "if not os.path.isfile(OUTPUT_ZIP_PATH):\n",
    "    !curl -L -o {OUTPUT_ZIP_PATH} 'https://www.dropbox.com/scl/fi/i0pws1rtkm4rse71rc6xr/environment_files.tgz?rlkey=n1w3l79z1qmnhc5qlyx0vanr0&st=fj80iq1z&dl=0'\n",
    "    !tar -xzvf {OUTPUT_ZIP_PATH}\n",
    "\n",
    "# machine cannot execute curl or tar commands, must download files manually\n",
    "if not os.path.isfile(OUTPUT_ZIP_PATH) and not os.path.isdir(\"environment_files\"):\n",
    "    raise Exception(f\"Could not download {OUTPUT_ZIP_PATH} automatically. Please download it manually from {ENVIRONMENT_FILES_URL}, place it in the same directory as this notebook, and re-run this cell.\")\n",
    "\n",
    "# file is downloaded but not extracted\n",
    "if os.path.isfile(OUTPUT_ZIP_PATH) and not os.path.isdir(\"environment_files\"):\n",
    "    !tar -xzvf {OUTPUT_ZIP_PATH}\n",
    "    print(f\"Extracted {OUTPUT_ZIP_PATH}\")\n",
    "elif os.path.isdir(\"environment_files\"):\n",
    "    print(f\"{OUTPUT_ZIP_PATH} already downloaded and extracted\")"
   ]
  },
  {
   "cell_type": "markdown",
   "metadata": {},
   "source": [
    "A function to read in a file that describes the environment for a game type, set of parameters, and a seed. This function assumes that an appropriately named file is available in the filesystem."
   ]
  },
  {
   "cell_type": "code",
   "execution_count": 43,
   "metadata": {},
   "outputs": [],
   "source": [
    "def read_environment_file(game_type: str, game_params: str, seed: int) -> tuple[list, dict, dict, list, dict, dict]:\n",
    "    environment_file = f\"environment_files/{game_type}+{game_params}+seed={seed}.json\"\n",
    "    with open(environment_file, 'r') as f:\n",
    "        data = json.load(f)\n",
    "        graph = [tuple(x) for x in data['graph']]\n",
    "\n",
    "        world_state_hash = data['world states']\n",
    "        world_map = [tuple(x) for x in data['world map']]\n",
    "        world_observation_hash = data['world state observations']\n",
    "        world_map_observations = data['world map observations']\n",
    "        coordinates = data['coordinates']\n",
    "\n",
    "    return graph, world_state_hash, world_observation_hash, world_map, world_map_observations, coordinates"
   ]
  },
  {
   "cell_type": "markdown",
   "metadata": {
    "id": "LD9oN1pug2Or"
   },
   "source": [
    "Set the game type and game parameters, and load the environment information into global variables (described below). \n",
    "\n",
    "**Note:** We have provided samples for the `GAME_PARAMS` variables. While we do provide a function to test your search algorithms with each of these environments automatically, to closely and thoroughly test and verify the correctness of your implementations, we recommend loading the other provided environment data files and testing your code with then. "
   ]
  },
  {
   "cell_type": "code",
   "execution_count": 44,
   "metadata": {
    "executionInfo": {
     "elapsed": 10,
     "status": "ok",
     "timestamp": 1727280330947,
     "user": {
      "displayName": "Sanskriti Gupta",
      "userId": "14423739044698282671"
     },
     "user_tz": 240
    },
    "id": "d8m95oCXEHVi"
   },
   "outputs": [],
   "source": [
    "SEED = 3\n",
    "\n",
    "# change the game type and parameters here to test different environments in depth\n",
    "GAME_TYPE = \"coin\"\n",
    "GAME_PARAMS = \"numLocations=5,includeDoors=1,numDistractorItems=0\"\n",
    "# GAME_TYPE=\"mapreader\"\n",
    "# GAME_PARAMS=\"numLocations=5,maxDistanceApart=3,includeDoors=0,maxDistractorItemsPerLocation=0\"\n",
    "\n",
    "GRAPH, WORLD_STATE_HASH, WORLD_OBSERVATION_HASH, WORLD_MAP, WORLD_MAP_OBSERVATIONS, COORDINATES =  read_environment_file(GAME_TYPE, GAME_PARAMS, SEED)\n",
    "ENV = TextWorldExpressEnv(envStepLimit=100)\n",
    "ENV.load(gameName=GAME_TYPE, gameParams=GAME_PARAMS)"
   ]
  },
  {
   "cell_type": "markdown",
   "metadata": {
    "id": "RacIrTTCFmLJ"
   },
   "source": [
    "## Data Structures Information"
   ]
  },
  {
   "cell_type": "markdown",
   "metadata": {
    "id": "LP_Rc4H-C-u5"
   },
   "source": [
    "## Map Information\n",
    "\n",
    "```WORLD_MAP``` is a list of transitions of the form ```(loc1, 'move x', loc2)```\n",
    "For example\n",
    "```python\n",
    "[('kitchen', 'move west', 'pantry'),\n",
    " ('pantry', 'move east', 'kitchen'),\n",
    " ('kitchen', 'move south', 'backyard'),\n",
    " ('backyard', 'move north', 'kitchen'),\n",
    " ('backyard', 'move east', 'corridor'),\n",
    " ('corridor', 'move west', 'backyard'),\n",
    " ('corridor', 'move north', 'bedroom'),\n",
    " ('bedroom', 'move south', 'corridor')]\n",
    " ```\n",
    "\n",
    "```WORLD_MAP_OBSERVATIONS``` is a hash that maps location name to observation text. This is per location and the observation is the one that is seen the first time a location is encountered (it could be changed by the agent).\n",
    "\n",
    "For example:\n",
    "```python\n",
    " {'kitchen': 'You are in the kitchen. In one part of the room you see a stove. There is also an oven. You also see a fridge that is closed. In another part of the room you see a counter, that has nothing on it. In one part of the room you see a kitchen cupboard that is closed. There is also a cutlery drawer that is closed. You also see a trash can that is closed. In another part of the room you see a dishwasher that is closed. In one part of the room you see a dining chair, that has nothing on it. \\nTo the South you see a closed sliding patio door. To the West you see a closed frosted-glass door. \\nempty'}\n",
    " ```\n",
    "\n",
    " ```COORDINATES``` is a hash that maps location name to ```(x, y)``` coordinates.\n",
    "\n",
    " For example:\n",
    " ```python\n",
    " {'kitchen': (0, 0),\n",
    " 'pantry': (-1, 0),\n",
    " 'backyard': (0, -1),\n",
    " 'corridor': (1, -1),\n",
    " 'bedroom': (1, 0)}\n",
    " ```"
   ]
  },
  {
   "cell_type": "markdown",
   "metadata": {
    "id": "8oTEcm20izFK"
   },
   "source": [
    "## State Graph Information\n",
    "\n",
    "Each state has a unique id string (e.g., `'8289070664768900319'`).\n",
    "\n",
    "`GRAPH` is a list of tuples in the form of `(state_hash1, state_hash2, action)`. This gives all the possible state-to-state transitions.\n",
    "\n",
    "For example (these are arbitrary state hashes and actions):\n",
    "```python\n",
    "[\n",
    "    ('1234567890123456789', '1328501827302028361', 'close door to west'),\n",
    "    ('3879096835221616523', '9876543210123456789', 'move west'),\n",
    "    ('7392010263929462920', '8289070664768900319', 'open door to south'),\n",
    "    ('1810263629203640102', '5409443512146995218', 'open door to west'),\n",
    "    ('6436292619203629201', '7201026363929162639', 'move south'),\n",
    "    ('5362929162638201920', '4028372016293756292', 'close door to south')\n",
    "]\n",
    " ```\n",
    "\n",
    " `WORLD_STATE_HASH` maps a unique state id to a dictionary containing information about location, inventory, information about each room in the environment, and information about all the doors in the environment.\n",
    "\n",
    " Room information contains the objects in the room. If the object is a string (e.g., `'a box'`). If the object has an attribute, then the object is given as a tuple with the first element being the name of the object and the second element being the attribute (e.g., `('a box', 'contains a coin')`).\n",
    "\n",
    " Doors can be `'open'` or `'closed'`.\n",
    "\n",
    " For example:\n",
    " ```python\n",
    " {\n",
    "  '3879096835221616523': {\n",
    "    'location': 'kitchen',\n",
    "    'inventory': 'empty',\n",
    "    'rooms': {\n",
    "      'backyard': {\n",
    "        'things': [\n",
    "          ('a garden',\n",
    "          'has nothing on it'),\n",
    "          'barbeque',\n",
    "          ('patio table',\n",
    "          'has nothing on it')\n",
    "        ]\n",
    "      },\n",
    "      'bedroom': {\n",
    "        'things': [\n",
    "          ('a desk chair',\n",
    "          'has nothing on it'),\n",
    "          ('wardrobe',\n",
    "          'is closed')\n",
    "        ]\n",
    "      },\n",
    "      'corridor': {\n",
    "        'things': [\n",
    "          'a coin',\n",
    "          ('umbrella stand',\n",
    "          'has nothing on it')\n",
    "        ]\n",
    "      }\n",
    "    },\n",
    "    'doors': {\n",
    "      'frosted-glass door': 'closed',\n",
    "      'screen door': 'closed',\n",
    "      'sliding patio door': 'closed',\n",
    "      'wood door': 'closed'\n",
    "    }\n",
    "  }\n",
    "}\n",
    "```\n",
    "\n",
    "You can get the number of unique states in the environment with `len(WORLD_STATE_HASH)`.\n",
    "\n",
    "`WORLD_OBSERVATION_HASH` maps unique state ids to observations.\n",
    "\n",
    "For example:\n",
    "```python\n",
    "{'3879096835221616523': 'You are in the kitchen. In one part of the room you see a stove. There is also an oven. You also see a fridge that is closed. In another part of the room you see a counter, that has nothing on it. In one part of the room you see a kitchen cupboard that is closed. There is also a cutlery drawer that is closed. You also see a trash can that is closed. In another part of the room you see a dishwasher that is closed. In one part of the room you see a dining chair, that has nothing on it. \\nTo the South you see a closed sliding patio door. To the West you see a closed frosted-glass door. \\nInventory (maximum capacity is 2 items): \\n  Your inventory is currently empty.\\n'}\n",
    "```"
   ]
  },
  {
   "cell_type": "markdown",
   "metadata": {
    "id": "DkJydtuTEhoK"
   },
   "source": [
    "# Helper Functions"
   ]
  },
  {
   "cell_type": "markdown",
   "metadata": {},
   "source": [
    "## General Helper Functions"
   ]
  },
  {
   "cell_type": "code",
   "execution_count": 45,
   "metadata": {
    "executionInfo": {
     "elapsed": 12,
     "status": "ok",
     "timestamp": 1727280331295,
     "user": {
      "displayName": "Sanskriti Gupta",
      "userId": "14423739044698282671"
     },
     "user_tz": 240
    },
    "id": "rnfFStcGEkWG"
   },
   "outputs": [],
   "source": [
    "def obs_with_inventory(obs: str, inv: str) -> str:\n",
    "    \"\"\"\n",
    "    Add the inventory to the world observation text.\n",
    "    \n",
    "    This function combines the observation text with the inventory\n",
    "    to provide a more complete text observation.\n",
    "    \n",
    "    Args:\n",
    "        obs (str): The observation text.\n",
    "        inv (str): The inventory text.\n",
    "    \n",
    "    Returns:\n",
    "        str: The combined observation and inventory text.\n",
    "    \"\"\"\n",
    "    return obs + '\\n' + inv\n",
    "\n",
    "def parse_inventory(obs: str) -> str:\n",
    "    \"\"\"\n",
    "    Pull the inventory items out of the observation text that includes\n",
    "    the inventory (from obs_with_inventory()).\n",
    "    \n",
    "    This function searches for the inventory in the observation\n",
    "    and returns the items if they are not empty.\n",
    "    \n",
    "    Args:\n",
    "        obs (str): The observation text containing inventory information.\n",
    "    \n",
    "    Returns:\n",
    "        str: The inventory items or 'empty' if there are no items.\n",
    "    \"\"\"\n",
    "    m = re.search(r'Inventory[a-zA-Z0-9 \\(\\)]*:\\s*([a-zA-Z0-9 \\.\\n]+)', obs)\n",
    "    if m is not None:\n",
    "        if 'empty' not in m.group(1):\n",
    "            return m.group(1).replace('\\n', '')\n",
    "    return 'empty'\n",
    "\n",
    "def obs_location(obs: str) -> str:\n",
    "    \"\"\"\n",
    "    Pull the location out of the observation text.\n",
    "    \n",
    "    This function extracts the location from the first sentence\n",
    "    of the observation text.\n",
    "    \n",
    "    Args:\n",
    "        obs (str): The observation text.\n",
    "    \n",
    "    Returns:\n",
    "        str: The location extracted from the observation.\n",
    "    \"\"\"\n",
    "    first_sentence = obs.split('.')[0].split(' ')\n",
    "    start = first_sentence.index('the') + 1\n",
    "    return ' '.join(first_sentence[start:])\n",
    "\n",
    "def hash_state(state: dict) -> str:\n",
    "    \"\"\"\n",
    "    Produces an identifier for a state dictionary.\n",
    "    \n",
    "    This function generates a hash for the given state dictionary,\n",
    "    which is not guaranteed to be unique but should suffice for\n",
    "    identifying the state.\n",
    "    \n",
    "    Args:\n",
    "        state (dict): The state dictionary to hash.\n",
    "    \n",
    "    Returns:\n",
    "        str: The string representation of the hash.\n",
    "    \"\"\"\n",
    "    return str(abs(hash(json.dumps(state))))\n",
    "\n",
    "def parse_things(obs: str) -> list[Union[str, list[str]]]:\n",
    "    \"\"\"\n",
    "    Parse the objects out of an observation.\n",
    "    \n",
    "    This function extracts various objects mentioned in the observation\n",
    "    text and returns them as a list.\n",
    "    \n",
    "    Args:\n",
    "        obs (str): The observation text.\n",
    "    \n",
    "    Returns:\n",
    "        list[Union[str, list[str]]]: A list of objects found in the observation.\n",
    "    \"\"\"\n",
    "    things1 = re.findall(r'[yY]ou \\w*\\s*see [aA]? ([a-zA-Z0-9\\- ]+)\\,? that ([a-zA-Z0-9\\-, ]+).', obs)\n",
    "    things2 = re.findall(r'[tT]here is \\w*\\s*([a-zA-Z0-9\\- ]+)\\,? that ([a-zA-Z0-9\\-, ]+).', obs)\n",
    "    things3 = re.findall(r'[tT]here is \\w*\\s*([a-zA-Z0-9\\- ]+)\\.', obs)\n",
    "    things3 = list(filter(lambda s: 'that' not in s, things3))\n",
    "    things4 = re.findall(r'[yY]ou \\w*\\s*see a ([a-zA-Z0-9\\- ]+)\\.', obs)\n",
    "    things4 = list(filter(lambda s: 'door' not in s and 'that' not in s, things4))\n",
    "    return list(map(lambda x: list(x) if type(x) is tuple else x,\n",
    "                    things1 + things2 + things3 + things4))\n",
    "\n",
    "def parse_doors(obs: str, location: str) -> list[tuple[str, str]]:\n",
    "    \"\"\"\n",
    "    Parse doors out of an observation.\n",
    "    \n",
    "    This function identifies open and closed doors mentioned in the\n",
    "    observation text and returns them along with their status.\n",
    "    \n",
    "    Args:\n",
    "        obs (str): The observation text.\n",
    "        location (str): The current location of the observer.\n",
    "    \n",
    "    Returns:\n",
    "        list[tuple[str, str]]: A list of tuples containing door descriptions and their statuses.\n",
    "    \"\"\"\n",
    "    sentences = obs.split('.')\n",
    "    doors = []\n",
    "    dirs = re.compile('west|east|south|north')\n",
    "    for sentence in sentences:\n",
    "        m_open = re.search(r'open ([a-z\\- ]*door)', sentence)\n",
    "        m_closed = re.search(r'closed ([a-z\\- ]*door)', sentence)\n",
    "        dir = dirs.search(sentence.lower())\n",
    "        if dir is not None:\n",
    "            if m_open is not None:\n",
    "                doors.append((m_open[1] + ' (' + location + ') ' + dir[0], 'open'))\n",
    "            elif m_closed is not None:\n",
    "                doors.append((m_closed[1] + ' (' + location + ') ' + dir[0], 'closed'))\n",
    "    return doors\n",
    "\n",
    "def parse_room(obs: str) -> dict[str, list[Union[str, list[str]]]]:\n",
    "    \"\"\"\n",
    "    Parse room information from an observation.\n",
    "    \n",
    "    This function extracts and sorts the objects found in the room\n",
    "    from the observation text.\n",
    "    \n",
    "    Args:\n",
    "        obs (str): The observation text for the room.\n",
    "    \n",
    "    Returns:\n",
    "        dict[str, list[Union[str, list[str]]]]: A dictionary containing the things in the room.\n",
    "    \"\"\"\n",
    "    things = sorted(parse_things(obs), key=lambda x: x[0] if type(x) is list else x)\n",
    "    return {'things': things}\n",
    "\n",
    "def make_world_state(observation: str, inventory: str, world_map_hash_table: dict[str, str]) -> dict:\n",
    "    \"\"\"\n",
    "    Make a world state dictionary from an observation, inventory, and world map hash.\n",
    "    \n",
    "    This function constructs a comprehensive state dictionary that includes\n",
    "    the current location, inventory, rooms, and doors based on the provided\n",
    "    observation and world map.\n",
    "    \n",
    "    Args:\n",
    "        observation (str): The observation text.\n",
    "        inventory (str): The current inventory.\n",
    "        world_map_hash_table (dict[str, str]): A mapping of room names to their observations.\n",
    "    \n",
    "    Returns:\n",
    "        dict: The constructed world state dictionary.\n",
    "    \"\"\"\n",
    "    rooms = list(world_map_hash_table.keys())\n",
    "    world_state = {'location': obs_location(observation),\n",
    "                   'inventory': inventory,\n",
    "                   'rooms': {},\n",
    "                   'doors': {}}\n",
    "    all_doors = []\n",
    "    rooms_hash = {}\n",
    "    for room in sorted(rooms):\n",
    "        room_obs = world_map_hash_table[room]\n",
    "        rooms_hash[room] = parse_room(room_obs)\n",
    "        all_doors = list(set(all_doors + parse_doors(room_obs, room)))\n",
    "    world_state['rooms'] = rooms_hash\n",
    "    for door, status in sorted(all_doors, key=lambda x: x[0]):\n",
    "        world_state['doors'][door] = status\n",
    "    return world_state"
   ]
  },
  {
   "cell_type": "markdown",
   "metadata": {
    "id": "4MOKXe0N8UcO"
   },
   "source": [
    "## Functions for Parsing the Environment"
   ]
  },
  {
   "cell_type": "markdown",
   "metadata": {
    "id": "u6DW9kwn7lEK"
   },
   "source": [
    "`world_state_to_string()` is a function for printing a world state dictionary in a reader-friendly (pretty) fashion. It takes a world state dictionary object (described below). There is an optional input, `ignore_keys` to tell the function to not print certain keys in any part of the world state dictionary."
   ]
  },
  {
   "cell_type": "code",
   "execution_count": 46,
   "metadata": {
    "executionInfo": {
     "elapsed": 10,
     "status": "ok",
     "timestamp": 1727280331295,
     "user": {
      "displayName": "Sanskriti Gupta",
      "userId": "14423739044698282671"
     },
     "user_tz": 240
    },
    "id": "KxorXnQL7jll"
   },
   "outputs": [],
   "source": [
    "def list_to_pretty_string(lst: list, indent: int = 0) -> str:\n",
    "    \"\"\"\n",
    "    Convert a list into a nicely formatted string.\n",
    "\n",
    "    Args:\n",
    "        lst (list): The list of items to format.\n",
    "        indent (int): The number of spaces to indent each line.\n",
    "\n",
    "    Returns:\n",
    "        str: A string representation of the list, with each item on a new line.\n",
    "    \"\"\"\n",
    "    out = ''\n",
    "    indent_str = ' ' * indent\n",
    "    for item in lst:\n",
    "        out += indent_str + '- ' + str(item) + '\\n'\n",
    "    return out\n",
    "\n",
    "def dict_to_pretty_string(d: dict, indent: int = 0, ignore_keys: list = []) -> str:\n",
    "    \"\"\"\n",
    "    Convert a dictionary into a nicely formatted string.\n",
    "\n",
    "    Args:\n",
    "        d (dict): The dictionary to format.\n",
    "        indent (int): The number of spaces to indent each line.\n",
    "        ignore_keys (list): A list of keys to bypass so they are not printed.\n",
    "\n",
    "    Returns:\n",
    "        str: A string representation of the dictionary, with nested structures formatted appropriately.\n",
    "    \"\"\"\n",
    "    out = ''\n",
    "    indent_str = ' ' * indent\n",
    "    for n, key in enumerate(d):\n",
    "        if key not in ignore_keys:\n",
    "            value = d[key]\n",
    "            out += indent_str + key + ': '\n",
    "            if isinstance(value, dict):\n",
    "                out += '\\n' + dict_to_pretty_string(value, indent=indent + 1, ignore_keys=ignore_keys)\n",
    "            elif isinstance(value, list):\n",
    "                out += '\\n' + list_to_pretty_string(value, indent=indent + 1)\n",
    "            else:\n",
    "                end = '\\n' if n < len(d) - 1 else ''\n",
    "                out += str(value) + end\n",
    "    return out\n",
    "\n",
    "def world_state_to_string(world_state: dict, ignore_keys: list = []) -> str:\n",
    "    \"\"\"\n",
    "    Convert a world state dictionary into a nicely formatted string.\n",
    "\n",
    "    Args:\n",
    "        world_state (dict): The world state dictionary to format.\n",
    "        ignore_keys (list): A list of keys to bypass so they are not printed.\n",
    "\n",
    "    Returns:\n",
    "        str: A string representation of the world state dictionary.\n",
    "    \"\"\"\n",
    "    out = dict_to_pretty_string(world_state, ignore_keys=ignore_keys)\n",
    "    return out"
   ]
  },
  {
   "cell_type": "markdown",
   "metadata": {
    "id": "YX-FFPAlgGFU"
   },
   "source": [
    "Code for rendering a map of the environment."
   ]
  },
  {
   "cell_type": "code",
   "execution_count": 47,
   "metadata": {
    "executionInfo": {
     "elapsed": 9,
     "status": "ok",
     "timestamp": 1727280331295,
     "user": {
      "displayName": "Sanskriti Gupta",
      "userId": "14423739044698282671"
     },
     "user_tz": 240
    },
    "id": "AA8gD2UdEfHd"
   },
   "outputs": [],
   "source": [
    "def render_map(world_map: list[tuple], world_map_observations: dict, coordinates: dict) -> Image:\n",
    "    \"\"\"\n",
    "    Render a map of the environment using Graphviz.\n",
    "\n",
    "    This function creates a directed graph representing the world map, where nodes correspond to locations\n",
    "    and edges represent connections between those locations. The graph is constructed based on the provided\n",
    "    world map and observations, and it is displayed directly in the notebook.\n",
    "\n",
    "    Args:\n",
    "        world_map (list): A list of arcs representing the connections in the world map.\n",
    "        world_map_observations (dict): A dictionary mapping locations to their observations.\n",
    "        coordinates (dict): A dictionary mapping locations to their coordinates.\n",
    "\n",
    "    Returns:\n",
    "        Image: An image object representing the rendered map.\n",
    "    \"\"\"\n",
    "    dot = graphviz.Digraph()\n",
    "    names = []  # These are the locations we have added to the graph\n",
    "    for arc in world_map:\n",
    "        if arc[0] not in names:\n",
    "            dot.node(name=str(arc[0]), label=obs_location(world_map_observations[arc[0]]) + ' ' + str(coordinates[arc[0]]))\n",
    "            names.append(arc[0])\n",
    "        if arc[2] not in names:\n",
    "            dot.node(name=str(arc[2]), label=obs_location(world_map_observations[arc[2]]) + ' ' + str(coordinates[arc[2]]))\n",
    "            names.append(arc[2])\n",
    "        dot.edge(str(arc[0]), str(arc[2]), label=arc[1].split(' ')[1])\n",
    "    \n",
    "    # Renders the graph in the notebook\n",
    "    return Image(dot.pipe(format='png'))"
   ]
  },
  {
   "cell_type": "markdown",
   "metadata": {
    "id": "HwZEc4trgKYY"
   },
   "source": [
    "Code to render the state space."
   ]
  },
  {
   "cell_type": "code",
   "execution_count": 48,
   "metadata": {
    "executionInfo": {
     "elapsed": 8,
     "status": "ok",
     "timestamp": 1727280331295,
     "user": {
      "displayName": "Sanskriti Gupta",
      "userId": "14423739044698282671"
     },
     "user_tz": 240
    },
    "id": "ZHWoR-VFF35G"
   },
   "outputs": [],
   "source": [
    "def render_state_space(graph: list[tuple[str, str, str]], world_state_hash: dict, ignore_keys: list = [], filename: str = 'space') -> Image:\n",
    "    \"\"\"\n",
    "    Render the state space as a directed graph using Graphviz.\n",
    "\n",
    "    This function creates a directed graph representing the state space, where nodes correspond to states\n",
    "    and edges represent actions leading from one state to another. The graph is constructed based on the \n",
    "    provided graph structure and world state hash, and it is displayed directly in the notebook.\n",
    "\n",
    "    Args:\n",
    "        graph (list[tuple]): A list of arcs representing the connections in the state space, where each arc is a tuple (parent, child, action).\n",
    "        world_state_hash (dict): A dictionary mapping states to their representations.\n",
    "        ignore_keys (list): A list of keys to ignore when converting states to strings.\n",
    "        filename (str): The base filename for the rendered graph (not used for direct rendering).\n",
    "\n",
    "    Returns:\n",
    "        Image: An image object representing the rendered state space.\n",
    "    \"\"\"\n",
    "    # Create graphviz root container\n",
    "    dot = graphviz.Digraph()\n",
    "    nodes = []\n",
    "    edges = []\n",
    "    for arc in graph:\n",
    "        parent, child, act = arc\n",
    "        parent_name = parent\n",
    "        child_name = child\n",
    "        if child not in nodes:\n",
    "            dot.node(name=child_name, label=world_state_to_string(world_state_hash[child], ignore_keys=ignore_keys))\n",
    "            nodes.append(child)\n",
    "        if parent not in nodes:\n",
    "            dot.node(name=parent_name, label=world_state_to_string(world_state_hash[parent], ignore_keys=ignore_keys))\n",
    "            nodes.append(parent)\n",
    "        if (parent, child, act) not in edges:\n",
    "            dot.edge(parent_name, child_name, label=act)\n",
    "            edges.append((parent, child, act))\n",
    "    \n",
    "    dot.render(filename + '.gv', view=False)\n",
    "    (graph,) = pydot.graph_from_dot_file(filename + '.gv')\n",
    "    graph.write_png(filename + '.png')\n",
    "    # Renders directly in the notebook\n",
    "    return Image(dot.pipe(format='png'))"
   ]
  },
  {
   "cell_type": "markdown",
   "metadata": {
    "id": "sGA_Rxt7EQOR"
   },
   "source": [
    "## Render the Map and State Space"
   ]
  },
  {
   "cell_type": "code",
   "execution_count": 49,
   "metadata": {
    "colab": {
     "base_uri": "https://localhost:8080/",
     "height": 540
    },
    "executionInfo": {
     "elapsed": 1142,
     "status": "ok",
     "timestamp": 1727280332430,
     "user": {
      "displayName": "Sanskriti Gupta",
      "userId": "14423739044698282671"
     },
     "user_tz": 240
    },
    "id": "__S1MG5SEBQP",
    "outputId": "beb14578-277a-4d3c-cabc-1441b451b38a"
   },
   "outputs": [
    {
     "data": {
      "image/png": "[encoded data removed]",
      "text/plain": [
       "<IPython.core.display.Image object>"
      ]
     },
     "execution_count": 49,
     "metadata": {},
     "output_type": "execute_result"
    }
   ],
   "source": [
    "render_map(WORLD_MAP, WORLD_MAP_OBSERVATIONS, COORDINATES)"
   ]
  },
  {
   "cell_type": "markdown",
   "metadata": {
    "id": "FVNKJy8ajdir"
   },
   "source": [
    "This state space is rendered in the cell below - as this can sometimes take a long time to render, we've added a boolean flag that you can set to `False` to disable rendering the state space graph. The state space is also generally gigantic, so we also export it to a file for you to view. This is just for your viewing pleasure, and you do not need to view this rendering to complete the assignment."
   ]
  },
  {
   "cell_type": "code",
   "execution_count": 50,
   "metadata": {
    "executionInfo": {
     "elapsed": 59,
     "status": "ok",
     "timestamp": 1727280332431,
     "user": {
      "displayName": "Sanskriti Gupta",
      "userId": "14423739044698282671"
     },
     "user_tz": 240
    },
    "id": "IxkrWAjnFvxL"
   },
   "outputs": [],
   "source": [
    "render = False\n",
    "if render:\n",
    "    render_state_space(GRAPH, WORLD_STATE_HASH)"
   ]
  },
  {
   "cell_type": "markdown",
   "metadata": {
    "id": "9idDEzGTV-PQ"
   },
   "source": [
    "## State Space Search Helper Functions"
   ]
  },
  {
   "cell_type": "markdown",
   "metadata": {
    "id": "kD5zzIrcMP8N"
   },
   "source": [
    "You may find these functions useful when implementing your search algorithms in the TextWorld environment, but they are not necessary to use. \n",
    "\n",
    "`make_world_state()` takes a text observation and inventory information and constructs a state dictionary. `update_world_state()` takes a state dictionary and new observation text and new inventory text and returns an updated state dictionary."
   ]
  },
  {
   "cell_type": "code",
   "execution_count": 51,
   "metadata": {
    "executionInfo": {
     "elapsed": 54,
     "status": "ok",
     "timestamp": 1727280332431,
     "user": {
      "displayName": "Sanskriti Gupta",
      "userId": "14423739044698282671"
     },
     "user_tz": 240
    },
    "id": "LzMLcbJwMJhx"
   },
   "outputs": [],
   "source": [
    "def update_world_state(old_world_state: dict, new_observation: str, new_inventory: list) -> dict:\n",
    "    \"\"\"\n",
    "    Update an existing state dictionary with new observation and inventory data.\n",
    "\n",
    "    This function assumes that nothing changes other than with the new observation\n",
    "    and inventory. It retrieves the new location from the observation, makes a deep\n",
    "    copy of the old state dictionary, updates the location and inventory, parses the\n",
    "    current room, and updates the door information based on the new observation.\n",
    "\n",
    "    Args:\n",
    "        old_world_state (dict): The existing state dictionary to be updated.\n",
    "        new_observation (str): The new observation text from the environment.\n",
    "        new_inventory (list): The new inventory list from the environment.\n",
    "\n",
    "    Returns:\n",
    "        dict: The updated state dictionary reflecting the new observation and inventory.\n",
    "    \"\"\"\n",
    "    new_location = obs_location(new_observation)\n",
    "    new_world_state = copy.deepcopy(old_world_state)\n",
    "    new_world_state['location'] = new_location\n",
    "    new_world_state['inventory'] = new_inventory\n",
    "    new_world_state['rooms'][new_location] = parse_room(new_observation)\n",
    "    doors = parse_doors(new_observation, new_location)\n",
    "    for door, status in doors:\n",
    "        new_world_state['doors'][door] = status\n",
    "    return new_world_state"
   ]
  },
  {
   "cell_type": "markdown",
   "metadata": {
    "id": "UUw9LxFmMj4x"
   },
   "source": [
    "The following are custom functions for resetting the environment and executing actions during state space search. **Use these instead of `ENV.step()` and `ENV.reset()`.**\n",
    "\n",
    "`do_action_state_search()` is a wrapper for `ENV.step()` that processes the output into a state dictionary. Pass in the string indicating the action (e.g., `'move north'`), and a reference to the environment object. This function returns a dictionary containing: state id, state observation, agent inventory, and list of valid actions.\n",
    "\n",
    "`reset_state_search()` is a wrapper for `ENV.reset()` that processes the output into a state dictionary. Pass in the environment object. This function returns\n",
    "a dictionary containing: state id, state observation, inventory, list of valid actions, and a state dictionary."
   ]
  },
  {
   "cell_type": "code",
   "execution_count": 52,
   "metadata": {
    "executionInfo": {
     "elapsed": 53,
     "status": "ok",
     "timestamp": 1727280332432,
     "user": {
      "displayName": "Sanskriti Gupta",
      "userId": "14423739044698282671"
     },
     "user_tz": 240
    },
    "id": "JcsmIZwmMFIw"
   },
   "outputs": [],
   "source": [
    "def do_action_state_search(action: str, env: TextWorldExpressEnv) -> dict:\n",
    "    \"\"\"\n",
    "    Execute the action for state space search.\n",
    "\n",
    "    This function returns the id of the new state, an observation, inventory,\n",
    "    and list of valid actions.\n",
    "\n",
    "    Args:\n",
    "        action (str): The action to be executed in the environment.\n",
    "        env (TextWorldExpressEnv): The environment instance from TextWorld.\n",
    "\n",
    "    Returns:\n",
    "        dict: A dictionary containing the new state id, observation, inventory,\n",
    "              and valid actions.\n",
    "    \"\"\"\n",
    "    _, _, _, infos = env.step(action)\n",
    "    inv = infos['inventory']\n",
    "    modified_obs = obs_with_inventory(infos['look'], inv)\n",
    "    valid_actions = infos['validActions']\n",
    "    valid_actions.remove('inventory')\n",
    "    valid_actions.remove('look around')\n",
    "    return {'id': hash_state(modified_obs),\n",
    "            'observation': modified_obs,\n",
    "            'inventory': parse_inventory(inv),\n",
    "            'valid actions': valid_actions}\n",
    "\n",
    "def state_dict_to_id(state: dict) -> str:\n",
    "    \"\"\"\n",
    "    Convert a state dictionary to an id.\n",
    "\n",
    "    Args:\n",
    "        state (dict): The state dictionary to convert.\n",
    "\n",
    "    Returns:\n",
    "        str: The id corresponding to the state dictionary.\n",
    "    \"\"\"\n",
    "    return list(WORLD_STATE_HASH.keys())[list(WORLD_STATE_HASH.values()).index(state)]\n",
    "\n",
    "def reset_state_search(env: TextWorldExpressEnv, world_map_observations: list) -> dict:\n",
    "    \"\"\"\n",
    "    Reset the environment for state space.\n",
    "\n",
    "    This function returns initial state information as a dictionary containing,\n",
    "    state id, observation, inventory, valid actions, and state dictionary.\n",
    "\n",
    "    Args:\n",
    "        env (TextWorldExpressEnv): The environment instance from TextWorld.\n",
    "        world_map_observations (list): Observations of the world map.\n",
    "\n",
    "    Returns:\n",
    "        dict: A dictionary containing the initial state id, observation,\n",
    "              inventory, valid actions, and state dictionary.\n",
    "    \"\"\"\n",
    "    # Reset environment\n",
    "    _, infos = env.reset(seed=SEED, gameFold=\"train\", generateGoldPath=True)\n",
    "    inv = infos['inventory']\n",
    "    modified_obs = obs_with_inventory(infos['look'], inv)\n",
    "    valid_actions = infos['validActions']\n",
    "    valid_actions.remove('inventory')\n",
    "    valid_actions.remove('look around')\n",
    "    init_world_state = make_world_state(modified_obs,\n",
    "                                        parse_inventory(inv),\n",
    "                                        world_map_observations)\n",
    "    id = state_dict_to_id(init_world_state)\n",
    "    return {'id': id,\n",
    "            'observation': modified_obs,\n",
    "            'inventory': parse_inventory(inv),\n",
    "            'valid actions': valid_actions,\n",
    "            'state': init_world_state}"
   ]
  },
  {
   "cell_type": "markdown",
   "metadata": {
    "id": "I8XP4yJiZLL-"
   },
   "source": [
    "# Goal State Functions"
   ]
  },
  {
   "cell_type": "markdown",
   "metadata": {
    "id": "Tr_ZcPtjH0qj"
   },
   "source": [
    "**TODO:** Implement the `is_goal()` function for the Coin Game and Map Reader games. The `is_goal()` functions take in a state, as a hash ID (a string). These methods are only going to be used in your own solution code below, and we will not be checking this function for correctness (though if it is incorrect it will cause your solutions to fail!).\n",
    "\n",
    "For the goal state functions, you are allowed to access the following global variables: `GRAPH, WORLD_STATE_HASH, WORLD_OBSERVATION_HASH, WORLD_MAP, WORLD_MAP_OBSERVATIONS, COORDINATES`.\n",
    "\n",
    "If you're unsure how to implement the `is_goal()` functions, you should look at the data structures and information provided above to understand how to access the relevant information you need, and you should play around with the environment to understand what the goal states look like!"
   ]
  },
  {
   "cell_type": "code",
   "execution_count": 53,
   "metadata": {
    "executionInfo": {
     "elapsed": 52,
     "status": "ok",
     "timestamp": 1727280332432,
     "user": {
      "displayName": "Sanskriti Gupta",
      "userId": "14423739044698282671"
     },
     "user_tz": 240
    },
    "id": "yPv380CLH9xZ"
   },
   "outputs": [],
   "source": [
    "# export - DO NOT MODIFY OR MOVE THIS LINE\n",
    "\n",
    "def is_goal_coin(state: str) -> bool:\n",
    "    is_goal = False\n",
    "    ### YOUR CODE BELOW HERE ###\n",
    "    uniqueStateDict = WORLD_STATE_HASH[state]\n",
    "    if uniqueStateDict['inventory'] == 'a coin':\n",
    "        is_goal = True\n",
    "    ### YOUR CODE ABOVE HERE ###\n",
    "    return is_goal"
   ]
  },
  {
   "cell_type": "code",
   "execution_count": 54,
   "metadata": {
    "executionInfo": {
     "elapsed": 50,
     "status": "ok",
     "timestamp": 1727280332433,
     "user": {
      "displayName": "Sanskriti Gupta",
      "userId": "14423739044698282671"
     },
     "user_tz": 240
    },
    "id": "3tlhrFh6H_R_"
   },
   "outputs": [],
   "source": [
    "# export - DO NOT MODIFY OR MOVE THIS LINE\n",
    "\n",
    "def is_goal_mapreader(state: str) -> bool:\n",
    "    is_goal = False\n",
    "    ### YOUR CODE BELOW HERE ###\n",
    "    uniqueStateDict = WORLD_STATE_HASH[state]\n",
    "    if COORDINATES[uniqueStateDict['location']] == [0, 0]:\n",
    "        for r in uniqueStateDict['rooms'][uniqueStateDict['location']]['things']:\n",
    "            if 'box' in r[0] and isinstance(r, list):\n",
    "                if 'coin' in r[1]:\n",
    "                    is_goal = True\n",
    "                    break\n",
    "    ### YOUR CODE ABOVE HERE ###\n",
    "    return is_goal"
   ]
  },
  {
   "cell_type": "markdown",
   "metadata": {
    "id": "yYUz6tStZQ64"
   },
   "source": [
    "# Successor Function"
   ]
  },
  {
   "cell_type": "markdown",
   "metadata": {
    "id": "Hfcklog6KCu9"
   },
   "source": [
    "**TODO:** Implement `get_successors()`. The function takes a state, as a hash ID (a string), and returns its successors and the action needed to reach the successor. You may store this information however you'd like, but the function should return a list. We will not directly test this function, but it will be used in your search algorithms below, so it must be implemented correctly!\n",
    "\n",
    "For this function, you are allowed to access the following global variables: `GRAPH, WORLD_STATE_HASH, WORLD_OBSERVATION_HASH, WORLD_MAP, WORLD_MAP_OBSERVATIONS, COORDINATES`."
   ]
  },
  {
   "cell_type": "code",
   "execution_count": 55,
   "metadata": {
    "executionInfo": {
     "elapsed": 49,
     "status": "ok",
     "timestamp": 1727280332433,
     "user": {
      "displayName": "Sanskriti Gupta",
      "userId": "14423739044698282671"
     },
     "user_tz": 240
    },
    "id": "HBS9iZtPKccQ"
   },
   "outputs": [],
   "source": [
    "# export - DO NOT MODIFY OR MOVE THIS LINE\n",
    "\n",
    "def get_successors(state: str) -> list:\n",
    "    successors = []\n",
    "    ### YOUR CODE BELOW HERE ###\n",
    "    for stateTransition in GRAPH:\n",
    "        if stateTransition[0] == state:\n",
    "            successors.append((stateTransition[1], stateTransition[2]))\n",
    "    ### YOUR CODE ABOVE HERE ###\n",
    "    return successors"
   ]
  },
  {
   "cell_type": "markdown",
   "metadata": {
    "id": "q88Q1uEbHlrd"
   },
   "source": [
    "# Breadth-First Search (BFS)"
   ]
  },
  {
   "cell_type": "markdown",
   "metadata": {
    "id": "9Zi0QiT3Oucs"
   },
   "source": [
    "**TODO:** Implement BFS. The function takes the following parameters:\n",
    "\n",
    "- `init_state_info`: the structure given by `reset_state_search()` containing state id, state dictionary, initial observation, initial inventory, and valid actions. This is provided by `reset_state_search()`, for example:\n",
    "    ```python\n",
    "    {'id': '1234567890',\n",
    "    'observation': 'You are by the lecture hall. You\\'re listening to the professor lecture (he\\'s droning on and on and on). You\\'d rather be implementing BFS right about now. You\\'re close to figuring out the correct implementation, but you\\'re not quite there yet. Maybe you are there. Who knows? Hopefully you!',\n",
    "    'inventory': 'a coin',\n",
    "    'valid actions': ['move north', 'move south'],\n",
    "    'state': {'location': 'kitchen',\n",
    "            'inventory': 'a coin',\n",
    "            'rooms': {'living room': {'things': ['a box']},\n",
    "                        'kitchen': {'things': []}}\n",
    "            }\n",
    "    }\n",
    "    ```\n",
    "- `graph`: a list of state transitions (i.e., `GRAPH`)\n",
    "- `world_state_hash`: a dictionary that maps world state ids to state dictionaries (i.e., `WORLD_STATE_HASH`)\n",
    "- `is_goal`: a function that takes a state and returns True or False whether that state is a goal state (i.e., `is_goal_coin_game` or `is_goal_map_reader`).\n",
    "\n",
    "The function returns the following:\n",
    "- `the_plan`: a list of actions, e.g. `[action_string_1, action_string_2, ..., action_string_n]`\n",
    "- `visited_states`: A list of all states visited during the search, e.g., `[state_1, state_2, ..., state_m]`. The states should be represented as state IDs (strings). Note that the length of `visited_states` might not necessarily be the same length as `the_plan`. \n",
    "\n",
    "**Important Notes:**\n",
    "- You should **only** use the parameters provided to the function to implement your solution. You are welcome to use the helper functions provided above to help you implement your solution. Your solution should be efficient in terms of time and space - you should not be storing excess information in your search, nor should you be visiting the same state multiple times.\n",
    "- For your implementation, you should **not** terminate if you find the goal state in the successor function when expanding the search. You should only terminate when you visit the goal state in the search algorithm. While many search algorithms can terminate upon finding a goal state when expanding successors, we are requiring that you expand all nodes in the search to ensure that all solutions return the same path when expanding successors. As such, you should only terminate when you visit the goal state in the search algorithm. "
   ]
  },
  {
   "cell_type": "code",
   "execution_count": 56,
   "metadata": {
    "executionInfo": {
     "elapsed": 49,
     "status": "ok",
     "timestamp": 1727280332434,
     "user": {
      "displayName": "Sanskriti Gupta",
      "userId": "14423739044698282671"
     },
     "user_tz": 240
    },
    "id": "qMySxLoRPMG_"
   },
   "outputs": [],
   "source": [
    "# export - DO NOT MODIFY OR MOVE THIS LINE\n",
    "\n",
    "def bfs(init_state_info: dict, graph: list[tuple[str, str, str]], world_state_hash: dict, is_goal: callable) -> tuple[list[str], list[str]]:\n",
    "    the_plan = []\n",
    "    visited_states = []\n",
    "    ### YOUR CODE BELOW HERE ###\n",
    "    queue = deque([(init_state_info['id'], [])])\n",
    "    while queue:\n",
    "        leftmostState, path_plan = queue.popleft()\n",
    "        if leftmostState in visited_states:\n",
    "            continue\n",
    "        visited_states.append(leftmostState)\n",
    "        if(is_goal(leftmostState)):\n",
    "            the_plan = path_plan\n",
    "            break\n",
    "        for succ, action in get_successors(leftmostState):\n",
    "            if succ not in visited_states:\n",
    "                queue.append((succ, path_plan + [action]))\n",
    "    ### YOUR CODE ABOVE HERE ###\n",
    "    return the_plan, visited_states"
   ]
  },
  {
   "cell_type": "markdown",
   "metadata": {
    "id": "dBmSiXy6PfHq"
   },
   "source": [
    "Test BFS using the game environment loaded in earlier in the notebook"
   ]
  },
  {
   "cell_type": "code",
   "execution_count": 57,
   "metadata": {
    "colab": {
     "base_uri": "https://localhost:8080/"
    },
    "executionInfo": {
     "elapsed": 42,
     "status": "ok",
     "timestamp": 1727280332434,
     "user": {
      "displayName": "Sanskriti Gupta",
      "userId": "14423739044698282671"
     },
     "user_tz": 240
    },
    "id": "Rkc9NTkJPgiz",
    "outputId": "abf79669-ee6a-4a35-f330-2f18d54d0887"
   },
   "outputs": [
    {
     "name": "stdout",
     "output_type": "stream",
     "text": [
      "The plan: ['open door to south', 'move south', 'open door to east', 'move east', 'take coin']\n",
      "Number of visited states: 30\n"
     ]
    }
   ],
   "source": [
    "init_state_info = reset_state_search(ENV, WORLD_MAP_OBSERVATIONS)\n",
    "plan, visited = bfs(init_state_info, GRAPH, WORLD_STATE_HASH, is_goal = is_goal_coin if GAME_TYPE==\"coin\" else is_goal_mapreader)\n",
    "print('The plan:', plan)\n",
    "print('Number of visited states:', len(visited))"
   ]
  },
  {
   "cell_type": "markdown",
   "metadata": {
    "id": "O3KtehrwXVOP"
   },
   "source": [
    "# Depth-First Search (DFS)"
   ]
  },
  {
   "cell_type": "markdown",
   "metadata": {
    "id": "MWgp_riYYf3j"
   },
   "source": [
    "**TODO:** Implement DFS. The function takes the following parameters:\n",
    "\n",
    "- `init_state_info`: the data structure given by `reset_state_search()` containing state id, state dictionary, initial observation, initial inventory, and valid actions.\n",
    "- `graph`: a list of state transitions (i.e., `GRAPH`)\n",
    "- `world_state_hash`: a dictionary that maps world state ids to state dictionaries (i.e., `WORLD_STATE_HASH`)\n",
    "- `is_goal`: a function that takes a state and returns True or False whether that state is a goal state (i.e., `is_goal_coin_game` or `is_goal_map_reader`).\n",
    "\n",
    "The function returns the following:\n",
    "- `the_plan`: a list of actions, e.g. `[action_string_1, action_string_2, ..., action_string_n]`\n",
    "- `visited_states`: A list of all states visited during the search, e.g., `[state_1, state_2, ..., state_m]`. The states should be represented as state IDs (strings). Note that the length of `visited_states` might not necessarily be the same length as `the_plan`. \n",
    "\n",
    "**Important Notes:** \n",
    "- You should **only** use the parameters provided to the function to implement your solution. You are welcome to use the helper functions provided above to help you implement your solution. Your solution should be efficient in terms of time and space - you should not be storing excess information in your search, nor should you be visiting the same state multiple times.\n",
    "- For your implementation, you should **not** terminate if you find the goal state in the successor function when expanding the search. You should only terminate when you visit the goal state in the search algorithm. While many search algorithms can terminate upon finding a goal state when expanding successors, we are requiring that you expand all nodes in the search to ensure that all solutions return the same path when expanding successors. As such, you should only terminate when you visit the goal state in the search algorithm. \n",
    "- When implementing DFS, please visit neighbors in the ***reverse*** order of the neighbors as they are presented in `GRAPH`. For example, if the neighbors of a vertex in `GRAPH` were `['A', 'B', 'C']`, please visit them as `C` -> `B` -> `A`. If you are using a ***stack*** in your implementation (i.e., you are implementing DFS iteratively), adding the neighbors in the given order to the stack will naturally have you visit them in reverse order, so you do not need to reverse the order manually (_this is a good exercise to think about_). "
   ]
  },
  {
   "cell_type": "code",
   "execution_count": 58,
   "metadata": {
    "executionInfo": {
     "elapsed": 40,
     "status": "ok",
     "timestamp": 1727280332434,
     "user": {
      "displayName": "Sanskriti Gupta",
      "userId": "14423739044698282671"
     },
     "user_tz": 240
    },
    "id": "Hj9olqJHVnfn"
   },
   "outputs": [],
   "source": [
    "# export - DO NOT MODIFY OR MOVE THIS LINE\n",
    "\n",
    "def dfs(init_state_info: dict, graph: list[tuple[str, str, str]], world_state_hash: dict, is_goal: callable) -> tuple[list[str], list[str]]:\n",
    "    the_plan = []\n",
    "    visited_states = []\n",
    "    ### YOUR CODE BELOW HERE ###\n",
    "    stack = [(init_state_info['id'], [])]\n",
    "    while stack:\n",
    "        leftmostState, path_plan = stack.pop()\n",
    "        if leftmostState in visited_states:\n",
    "            continue\n",
    "        visited_states.append(leftmostState)\n",
    "        if(is_goal(leftmostState)):\n",
    "            the_plan = path_plan\n",
    "            break\n",
    "        for succ, action in get_successors(leftmostState):\n",
    "            if succ not in visited_states:\n",
    "                stack.append((succ, path_plan + [action]))\n",
    "\n",
    "    ### YOUR CODE ABOVE HERE ###\n",
    "    return the_plan, visited_states"
   ]
  },
  {
   "cell_type": "markdown",
   "metadata": {
    "id": "q0Gfh7cjYpVA"
   },
   "source": [
    "Test DFS using the game environment loaded in earlier in the notebook:"
   ]
  },
  {
   "cell_type": "code",
   "execution_count": 59,
   "metadata": {
    "colab": {
     "base_uri": "https://localhost:8080/"
    },
    "executionInfo": {
     "elapsed": 36,
     "status": "ok",
     "timestamp": 1727280332434,
     "user": {
      "displayName": "Sanskriti Gupta",
      "userId": "14423739044698282671"
     },
     "user_tz": 240
    },
    "id": "g28s7mV3YzuE",
    "outputId": "865e4c8e-1bac-41a3-fdd7-21426532353b"
   },
   "outputs": [
    {
     "name": "stdout",
     "output_type": "stream",
     "text": [
      "The plan: ['open door to west', 'open door to south', 'close door to west', 'move south', 'open door to east', 'move north', 'open door to west', 'move south', 'close door to north', 'move east', 'take coin']\n",
      "Number of visited states: 12\n"
     ]
    }
   ],
   "source": [
    "init_state_info = reset_state_search(ENV, WORLD_MAP_OBSERVATIONS)\n",
    "plan, visited = dfs(init_state_info, GRAPH, WORLD_STATE_HASH, is_goal = is_goal_coin if GAME_TYPE==\"coin\" else is_goal_mapreader)\n",
    "print('The plan:', plan)\n",
    "print('Number of visited states:', len(visited))"
   ]
  },
  {
   "cell_type": "markdown",
   "metadata": {
    "id": "NgpVJSIJM9Fh"
   },
   "source": [
    "# Heuristic Functions"
   ]
  },
  {
   "cell_type": "markdown",
   "metadata": {},
   "source": [
    "Heuristics are functions that estimate the cost or distance from a given state to the goal state in search algorithms. They play a crucial role in informed search strategies, such as A* and greedy best-first search, by guiding the search process towards the most promising paths. The importance of heuristics lies in their ability to reduce the search space and improve efficiency. By providing an estimate of the remaining cost to reach the goal, heuristics help prioritize which nodes to explore first, potentially leading to faster solutions. \n",
    "\n",
    "A well-designed heuristic can significantly enhance the performance of an algorithm, making it more effective in finding optimal or near-optimal solutions. Conversely, a poor heuristic may lead to increased computation time and suboptimal paths. In the context of the Coin and Map Reader games, implementing effective heuristic functions can help the search algorithm navigate the environment more intelligently, ultimately resulting in quicker and more efficient gameplay."
   ]
  },
  {
   "cell_type": "markdown",
   "metadata": {
    "id": "afqBI3ofM_gj"
   },
   "source": [
    "**TODO:** Implement heuristic functions for the Coin and Map Reader games. The heuristic functions take a state as input (represented as a state ID, a string), and returns a floating point value, which is the estimated distance to the goal.\n",
    "\n",
    "For this function, you are allowed to access and use the following global variables: `GRAPH, WORLD_STATE_HASH, WORLD_OBSERVATION_HASH, WORLD_MAP, WORLD_MAP_OBSERVATIONS, COORDINATES`.\n",
    "\n",
    "**Tips:**\n",
    "- Think about what information tells you that you are at the goal state, and what the requirements for both games are.\n",
    "- What data structure can you use to determine the distance from the current state to the goal state?\n",
    "- There are many ways to implement a heuristic function, and the effectiveness of a heuristic can vary depending on the problem. You may need to experiment with different heuristics to find the most effective one for each game!"
   ]
  },
  {
   "cell_type": "code",
   "execution_count": 60,
   "metadata": {
    "executionInfo": {
     "elapsed": 27,
     "status": "ok",
     "timestamp": 1727280332434,
     "user": {
      "displayName": "Sanskriti Gupta",
      "userId": "14423739044698282671"
     },
     "user_tz": 240
    },
    "id": "E0O2E3JmNHth"
   },
   "outputs": [],
   "source": [
    "# export - DO NOT MODIFY OR MOVE THIS LINE\n",
    "\n",
    "def h_coin(state: str) -> float:\n",
    "    h_value = 0.0\n",
    "    ### YOUR CODE BELOW HERE ###\n",
    "    locCoin = None\n",
    "    coordX = COORDINATES[WORLD_STATE_HASH[state]['location']][0]\n",
    "    coordY = COORDINATES[WORLD_STATE_HASH[state]['location']][1]\n",
    "    if is_goal_coin(state):\n",
    "        return 0\n",
    "    for n, i in WORLD_STATE_HASH[state]['rooms'].items():\n",
    "        for t in i['things']:\n",
    "            if isinstance(t, str):\n",
    "                if 'coin' in t:\n",
    "                    locCoin = n\n",
    "            else:\n",
    "                for u in t:\n",
    "                    if 'coin' in u:\n",
    "                        locCoin = n\n",
    "            if locCoin:\n",
    "                break\n",
    "        if locCoin:\n",
    "            break\n",
    "    h_value = abs(COORDINATES[locCoin][0] - coordX) + abs(COORDINATES[locCoin][1] - coordY)\n",
    "    ### YOUR CODE ABOVE HERE ###\n",
    "    return h_value"
   ]
  },
  {
   "cell_type": "code",
   "execution_count": 61,
   "metadata": {
    "executionInfo": {
     "elapsed": 34,
     "status": "ok",
     "timestamp": 1727280332843,
     "user": {
      "displayName": "Sanskriti Gupta",
      "userId": "14423739044698282671"
     },
     "user_tz": 240
    },
    "id": "Brh8FsMINcdP"
   },
   "outputs": [],
   "source": [
    "# export - DO NOT MODIFY OR MOVE THIS LINE\n",
    "\n",
    "def h_mapreader(state: str) -> float:\n",
    "    h_value = 0.0\n",
    "    ### YOUR CODE BELOW HERE ###\n",
    "    if is_goal_mapreader(state):\n",
    "        return 0\n",
    "    coordX = COORDINATES[WORLD_STATE_HASH[state]['location']][0]\n",
    "    coordY = COORDINATES[WORLD_STATE_HASH[state]['location']][1]\n",
    "    if 'coin' in WORLD_STATE_HASH[state]['inventory']:\n",
    "        h_value = abs(coordX) + abs(coordY)\n",
    "    else:\n",
    "        locCoin = None\n",
    "        for n, i in WORLD_STATE_HASH[state]['rooms'].items():\n",
    "            for t in i['things']:\n",
    "                if isinstance(t, str):\n",
    "                    if 'coin' in t:\n",
    "                        locCoin = n\n",
    "                else:\n",
    "                    for u in t:\n",
    "                        if 'coin' in u:\n",
    "                            locCoin = n\n",
    "                if locCoin:\n",
    "                    break\n",
    "            if locCoin:\n",
    "                break        \n",
    "        h_value = abs(COORDINATES[locCoin][0] - coordX) + abs(COORDINATES[locCoin][1] - coordY) + abs(COORDINATES[locCoin][0]) + abs(COORDINATES[locCoin][1]) \n",
    "    ### YOUR CODE ABOVE HERE ###\n",
    "    return h_value"
   ]
  },
  {
   "cell_type": "markdown",
   "metadata": {
    "id": "10sPnXYbM3At"
   },
   "source": [
    "# A* Search"
   ]
  },
  {
   "cell_type": "markdown",
   "metadata": {
    "id": "9779kDIiM4tm"
   },
   "source": [
    "**TODO:** Implement A*. The function takes the following parameters:\n",
    "\n",
    "- `init_state_info`: the data structure given by `reset_state_search()` containing state id, state dictionary, initial observation, initial inventory, and valid actions.\n",
    "- `graph`: a list of state transitions (i.e., `GRAPH`)\n",
    "- `world_state_hash`: a dictionary that maps world state ids to state dictionaries (i.e., `WORLD_STATE_HASH`)\n",
    "- `is_goal`: a function that takes a state and returns True or False whether that state is a goal state (i.e., `is_goal_coin_game` or `is_goal_map_reader`).\n",
    "- `h_func`: the heuristic function, takes a state and returns the estimated distance to the goal state (i.e., `h_coin` or `h_mapreader`).\n",
    "\n",
    "The function returns the following:\n",
    "- `the_plan`: a list of actions, e.g. `[action_string_1, action_string_2, ..., action_string_n]`\n",
    "- `visited_states`: A list of all states visited during the search, e.g., `[state_1, state_2, ..., state_m]`. The states should be represented as state IDs (strings). Note that the length of `visited_states` might not necessarily be the same length as `the_plan`. \n",
    "\n",
    "**Important Notes:**\n",
    "- The coin and mapreader graphs have uniform edge costs, so the cost of moving from one state to another is always some constant value. For your implementation purposes, you can assume that the cost of moving from one state to another is 1.\n",
    "- You should **only** use the parameters provided to the function to implement your solution. You are welcome to use the helper functions provided above to help you implement your solution. Your solution should be efficient in terms of time and space - you should not be storing excess information in your search, nor should you be visiting the same state multiple times.\n",
    "- For your implementation, you should **not** terminate if you find the goal state in the successor function when expanding the search. You should only terminate when you visit the goal state in the search algorithm. While many search algorithms can terminate upon finding a goal state when expanding successors, we are requiring that you expand all nodes in the search to ensure that all solutions return the same path when expanding successors. As such, you should only terminate when you visit the goal state in the search algorithm. "
   ]
  },
  {
   "cell_type": "code",
   "execution_count": 62,
   "metadata": {
    "executionInfo": {
     "elapsed": 32,
     "status": "ok",
     "timestamp": 1727280332844,
     "user": {
      "displayName": "Sanskriti Gupta",
      "userId": "14423739044698282671"
     },
     "user_tz": 240
    },
    "id": "tiascYj8OA5b"
   },
   "outputs": [],
   "source": [
    "# export - DO NOT MODIFY OR MOVE THIS LINE\n",
    "\n",
    "def a_star(init_state_info: dict, graph: list[tuple[str, str, str]], world_state_hash: dict, is_goal: callable, h_func: callable) -> tuple[list[str], list[str]]:\n",
    "    the_plan = []\n",
    "    visited_states = []\n",
    "\n",
    "    ### YOUR CODE BELOW HERE ###\n",
    "    heap = []\n",
    "    heapq.heappush(heap, (h_func(init_state_info['id']), init_state_info['id'], 0.0, []))\n",
    "    while heap:\n",
    "        __, b, c, d = heapq.heappop(heap)\n",
    "        if b in visited_states:\n",
    "            continue\n",
    "        visited_states.append(b)\n",
    "        if is_goal(b):\n",
    "            the_plan = d\n",
    "            break\n",
    "        for succ, action in get_successors(b):\n",
    "            if succ not in visited_states:\n",
    "                heapq.heappush(heap, (c + h_func(succ) + 1.0, succ, c + 1.0, d + [action]))\n",
    "\n",
    "    ### YOUR CODE ABOVE HERE ###\n",
    "    return the_plan, visited_states"
   ]
  },
  {
   "cell_type": "markdown",
   "metadata": {
    "id": "we6F6racPv5-"
   },
   "source": [
    "Test A*"
   ]
  },
  {
   "cell_type": "code",
   "execution_count": 63,
   "metadata": {
    "colab": {
     "base_uri": "https://localhost:8080/"
    },
    "executionInfo": {
     "elapsed": 27,
     "status": "ok",
     "timestamp": 1727280332844,
     "user": {
      "displayName": "Sanskriti Gupta",
      "userId": "14423739044698282671"
     },
     "user_tz": 240
    },
    "id": "oPrBZRFpPxE8",
    "outputId": "fdac4530-45ee-4bdd-dc08-e5f35c515a67"
   },
   "outputs": [
    {
     "name": "stdout",
     "output_type": "stream",
     "text": [
      "The plan: ['open door to south', 'move south', 'open door to east', 'move east', 'take coin']\n",
      "Number of visited states: 14\n"
     ]
    }
   ],
   "source": [
    "init_state_info = reset_state_search(ENV, WORLD_MAP_OBSERVATIONS)\n",
    "plan, visited = a_star(init_state_info, GRAPH, WORLD_STATE_HASH,\n",
    "                       h_func = h_coin if GAME_TYPE == \"coin\" else h_mapreader,\n",
    "                       is_goal = is_goal_coin if GAME_TYPE == \"coin\" else is_goal_mapreader)\n",
    "print('The plan:', plan)\n",
    "print('Number of visited states:', len(visited))"
   ]
  },
  {
   "cell_type": "markdown",
   "metadata": {
    "id": "G7RUu9yKQJ7J"
   },
   "source": [
    "# Testing"
   ]
  },
  {
   "cell_type": "markdown",
   "metadata": {
    "id": "j-1eh2TASPcF"
   },
   "source": [
    "## Generating Outputs For Each Search Algorithm "
   ]
  },
  {
   "cell_type": "markdown",
   "metadata": {
    "id": "JjbIEzCV8-e7"
   },
   "source": [
    "Run all the environments that are in files in the file system. This produces a dictionary that relates game configuration (game type, game parameters, seed) to a tuple containing the plan and the visited states.\n",
    "\n",
    "You should remove all print statements from your code before running the below cells, as it will make the output difficult to read."
   ]
  },
  {
   "cell_type": "code",
   "execution_count": 64,
   "metadata": {
    "executionInfo": {
     "elapsed": 18,
     "status": "ok",
     "timestamp": 1727280332845,
     "user": {
      "displayName": "Sanskriti Gupta",
      "userId": "14423739044698282671"
     },
     "user_tz": 240
    },
    "id": "YtY39XsCdS1t"
   },
   "outputs": [],
   "source": [
    "def run_all_environments(algorithm: callable) -> dict:\n",
    "    global GAME_TYPE, GAME_PARAMS, SEED\n",
    "    global GRAPH, WORLD_STATE_HASH, WORLD_OBSERVATION_HASH, WORLD_MAP, WORLD_MAP_OBSERVATIONS, COORDINATES\n",
    "    files = os.listdir('environment_files/')\n",
    "    results = {}\n",
    "    for file in files:\n",
    "        m = re.search(r'([a-z]+)\\+([a-zA-Z0-9,=]+)\\+seed\\=([0-9]+).json', file)\n",
    "        if m is not None and m.lastindex >= 3:\n",
    "            GAME_TYPE = m[1]\n",
    "            GAME_PARAMS = m[2]\n",
    "            SEED = int(m[3])\n",
    "            print(f'============ game={GAME_TYPE} params={GAME_PARAMS} seed={SEED} ============')\n",
    "            GRAPH, WORLD_STATE_HASH, WORLD_OBSERVATION_HASH, WORLD_MAP, WORLD_MAP_OBSERVATIONS, COORDINATES = read_environment_file(GAME_TYPE, GAME_PARAMS, SEED)\n",
    "            ENV.load(gameName=GAME_TYPE, gameParams=GAME_PARAMS)\n",
    "            init_state_info = reset_state_search(ENV, WORLD_MAP_OBSERVATIONS)\n",
    "            if algorithm.__name__ == 'a_star':\n",
    "                plan, visited = algorithm(init_state_info, GRAPH, WORLD_STATE_HASH,\n",
    "                                            is_goal = eval('is_goal_' + GAME_TYPE),\n",
    "                                            h_func = eval('h_' + GAME_TYPE))\n",
    "            else:\n",
    "                plan, visited = algorithm(init_state_info, GRAPH, WORLD_STATE_HASH,\n",
    "                            is_goal = eval('is_goal_' + GAME_TYPE))\n",
    "        results[(GAME_TYPE, GAME_PARAMS, SEED)] = (plan, visited)\n",
    "    for setting in results.keys():\n",
    "        plan, visited = results[setting]\n",
    "        if plan is None or visited is None or len(plan) == 0 or len(visited) == 0:\n",
    "            print(f\"{algorithm.__name__} did not produce a valid result for {setting}\")\n",
    "    return results"
   ]
  },
  {
   "cell_type": "code",
   "execution_count": 65,
   "metadata": {
    "colab": {
     "base_uri": "https://localhost:8080/"
    },
    "executionInfo": {
     "elapsed": 172833,
     "status": "ok",
     "timestamp": 1727280505662,
     "user": {
      "displayName": "Sanskriti Gupta",
      "userId": "14423739044698282671"
     },
     "user_tz": 240
    },
    "id": "swShiLP2dcMl",
    "outputId": "2af158e7-fb63-48bc-eb35-9b09e0c16c08"
   },
   "outputs": [
    {
     "name": "stdout",
     "output_type": "stream",
     "text": [
      "============ game=coin params=numLocations=7,includeDoors=1,numDistractorItems=0 seed=1 ============\n",
      "============ game=mapreader params=numLocations=8,maxDistanceApart=4,includeDoors=0,maxDistractorItemsPerLocation=0 seed=4 ============\n",
      "============ game=coin params=numLocations=6,includeDoors=1,numDistractorItems=0 seed=0 ============\n",
      "============ game=mapreader params=numLocations=11,maxDistanceApart=5,includeDoors=0,maxDistractorItemsPerLocation=0 seed=2 ============\n",
      "============ game=mapreader params=numLocations=5,maxDistanceApart=3,includeDoors=0,maxDistractorItemsPerLocation=0 seed=1 ============\n",
      "============ game=mapreader params=numLocations=15,maxDistanceApart=8,includeDoors=0,maxDistractorItemsPerLocation=0 seed=1 ============\n",
      "============ game=coin params=numLocations=10,includeDoors=1,numDistractorItems=0 seed=0 ============\n",
      "============ game=coin params=numLocations=10,includeDoors=1,numDistractorItems=0 seed=1 ============\n",
      "============ game=mapreader params=numLocations=15,maxDistanceApart=8,includeDoors=0,maxDistractorItemsPerLocation=0 seed=0 ============\n",
      "============ game=mapreader params=numLocations=11,maxDistanceApart=5,includeDoors=0,maxDistractorItemsPerLocation=0 seed=3 ============\n",
      "============ game=mapreader params=numLocations=5,maxDistanceApart=3,includeDoors=0,maxDistractorItemsPerLocation=0 seed=0 ============\n",
      "============ game=coin params=numLocations=6,includeDoors=1,numDistractorItems=0 seed=1 ============\n",
      "============ game=coin params=numLocations=7,includeDoors=1,numDistractorItems=0 seed=0 ============\n",
      "============ game=mapreader params=numLocations=11,maxDistanceApart=5,includeDoors=0,maxDistractorItemsPerLocation=0 seed=4 ============\n",
      "============ game=mapreader params=numLocations=8,maxDistanceApart=4,includeDoors=0,maxDistractorItemsPerLocation=0 seed=2 ============\n",
      "============ game=coin params=numLocations=5,includeDoors=1,numDistractorItems=0 seed=1 ============\n",
      "============ game=coin params=numLocations=5,includeDoors=1,numDistractorItems=0 seed=0 ============\n",
      "============ game=mapreader params=numLocations=8,maxDistanceApart=4,includeDoors=0,maxDistractorItemsPerLocation=0 seed=3 ============\n",
      "============ game=coin params=numLocations=10,includeDoors=1,numDistractorItems=0 seed=4 ============\n",
      "============ game=coin params=numLocations=6,includeDoors=1,numDistractorItems=0 seed=4 ============\n",
      "============ game=coin params=numLocations=5,includeDoors=1,numDistractorItems=0 seed=3 ============\n",
      "============ game=mapreader params=numLocations=8,maxDistanceApart=4,includeDoors=0,maxDistractorItemsPerLocation=0 seed=0 ============\n",
      "============ game=coin params=numLocations=7,includeDoors=1,numDistractorItems=0 seed=4 ============\n",
      "============ game=mapreader params=numLocations=8,maxDistanceApart=4,includeDoors=0,maxDistractorItemsPerLocation=0 seed=1 ============\n",
      "============ game=coin params=numLocations=5,includeDoors=1,numDistractorItems=0 seed=2 ============\n",
      "============ game=mapreader params=numLocations=5,maxDistanceApart=3,includeDoors=0,maxDistractorItemsPerLocation=0 seed=4 ============\n",
      "============ game=mapreader params=numLocations=15,maxDistanceApart=8,includeDoors=0,maxDistractorItemsPerLocation=0 seed=4 ============\n",
      "============ game=coin params=numLocations=7,includeDoors=1,numDistractorItems=0 seed=3 ============\n",
      "============ game=coin params=numLocations=10,includeDoors=1,numDistractorItems=0 seed=2 ============\n",
      "============ game=mapreader params=numLocations=15,maxDistanceApart=8,includeDoors=0,maxDistractorItemsPerLocation=0 seed=3 ============\n",
      "============ game=mapreader params=numLocations=5,maxDistanceApart=3,includeDoors=0,maxDistractorItemsPerLocation=0 seed=3 ============\n",
      "============ game=mapreader params=numLocations=11,maxDistanceApart=5,includeDoors=0,maxDistractorItemsPerLocation=0 seed=0 ============\n",
      "============ game=coin params=numLocations=6,includeDoors=1,numDistractorItems=0 seed=2 ============\n",
      "============ game=coin params=numLocations=6,includeDoors=1,numDistractorItems=0 seed=3 ============\n",
      "============ game=mapreader params=numLocations=5,maxDistanceApart=3,includeDoors=0,maxDistractorItemsPerLocation=0 seed=2 ============\n",
      "============ game=mapreader params=numLocations=11,maxDistanceApart=5,includeDoors=0,maxDistractorItemsPerLocation=0 seed=1 ============\n",
      "============ game=mapreader params=numLocations=15,maxDistanceApart=8,includeDoors=0,maxDistractorItemsPerLocation=0 seed=2 ============\n",
      "============ game=coin params=numLocations=10,includeDoors=1,numDistractorItems=0 seed=3 ============\n",
      "============ game=coin params=numLocations=7,includeDoors=1,numDistractorItems=0 seed=2 ============\n",
      "============ game=coin params=numLocations=5,includeDoors=1,numDistractorItems=0 seed=4 ============\n",
      "{('coin', 'numLocations=7,includeDoors=1,numDistractorItems=0', 1): (['open door to east', 'move east', 'open door to east', 'move east', 'open door to east', 'move east', 'take coin'], ['2336219411370922783', '4018514625166792552', '9150871540445843349', '6720114916317139470', '4206579761007702290', '8534598962957089432', '786180501610524912', '5601342691946405069', '1813977158818292198', '7312181530175649488', '7733516892034913844', '1850524844196231866', '918894777692946163', '3452283175311814211', '8401228597697843066', '1816762546687345998', '340831774502923497', '9035377230689064519', '8850837696236783949', '1519166580878314425', '1525455206895247166', '6941220856964643145', '3170212382454994525', '9038682004659509798', '928244381705725831', '8868692312374341039', '7701308308575979682', '7174233499481394003', '3701546263116358804', '7445625001611669352', '349367261655406981', '608546647049201259', '2386706402513999316', '6196031239071936809', '4306240836847670211', '9157533317973869840', '2129405538024455143', '7225596402180468199', '3930455278829621370', '3178369338506012241', '7467259081919299541', '6445179608949901526', '7893016071481384684', '3761237210367001492', '5860032592949778171', '11553636600017345', '2570152311401827472', '231718915967809441', '3928535332786150034', '3631252692563110125', '2880710427969854376', '4318583922945589268', '6743206781627183605', '381050666739666712', '5616199248753149019', '6216695994431316323', '1001170843885313447', '3760407089569438935', '2380469221429172910', '503446277438610380', '3563603630001277168', '2454421861901599452', '1035760832393530001', '8255719035635862732', '1941956715917255235', '6079530759060208227', '1495286142372037828', '6967730544642567226', '4653127996677984339', '8328841753979677910', '5586400855248330393', '3281967754148379484', '5328096311560666616', '956842221583528772', '1977641882126755047', '4116162258664350744', '8651858175573939020', '115120755453020524', '4469491745036008419', '1377595183581225676', '5199206899408824029', '1406304995350189385', '2494283602048365213', '4491675737997712580', '2589937294192195590', '4119515972077992624', '4239029561264474039', '4203203251336667054', '2171195774651211665', '3438978774009977482', '2566634627270958843', '3162164773551867349', '4168031693762426066', '2460207380703846188', '2814421725820572930', '3825244261914144964', '4835387761338355812', '2161173857825653384', '7273558427119052810', '5375201442390327253', '8480184064795841712', '4373334403939268672', '3518694040298666898', '1733863454316173248', '7178280677029760664', '2755633062022401749', '8050033876729948438', '4281824336666906408', '306541961262919548', '8813239339543446687', '4185322871820505240', '8481824985427576380', '1102872459418109686', '5422818429721433310', '6572195063814126546', '1923010794977670161', '4368015699456407524', '2577320136595839617', '5881848980864000307', '6435643051921234307', '2538930797536366661', '7984820596405920246', '3118677097924318125', '2506695231078661922', '8644439371567698323', '1615439620588930615', '7565177787102483128', '7668012982921880450', '8427252546990360352', '8949424784424757818', '8384234910512436023', '5246326761745642856', '6847359368359592243', '2658463328162274928', '4902397365046910896', '5386552728938377987', '5865728575191039583', '6134581704168264676', '7634716941016772957', '1878285123064631465', '4667386227034146931', '3179790382216068197', '1482833320292568732', '5993007075991378256', '5168180615412690263', '9075269061476511631', '3002573406438919279', '8375437332281285180', '4440129497743332329', '6111865214367998267', '2578877898433789205', '6480221309188097820', '1485088873091919573', '6736900411113608090', '6151979343083559547', '5330093542146080817', '5782649300899625545', '1277685097867183606', '7656931708967476161', '7325011324164988689', '2885618597998714372', '1531351789468394649', '6785645414536635242', '3665559439709510240', '3158440929696352098', '2821228146546865258', '6056154253376218559', '8729294044808837163', '2522008281159437032', '7346482770888217263', '2282972945088573184', '5280234538864790861', '5714696371707347350', '2086874119868252223', '1589273620790175806', '2222522624156111213', '416791054878648164', '2820326971620600436', '8619536777540478932', '9128630355819198019', '7274750909004709052', '6663200857387355696', '9123443839508072858', '385703690554983425', '3602436686803746612', '3616745635059309774', '6649065135438206150', '423049210948331567', '8960673915141260348', '5918276744260918174', '1785453367056452091', '7828944801451036910', '5888132531288666381', '778615517146547334', '8143474804051868108', '1648312455447187872', '1006271182743251993', '6177853961676084458', '4083870178592384612', '2893689730728660022', '813423738350208081', '6878805679580397541', '3282852213910850732', '6274216724053554445', '5908250079457111868', '1843543129781917827', '5372110332998949042', '5157413292376421243', '7036060855117503202', '137496956935907142', '2005805992972303545', '8847911529521972293', '1623136526965606827', '2793510026020834673', '488665938463791275', '8472159366619969328', '2862158013404893711', '8384614263440508851', '8874824546567927135', '8063530265109596390', '4567221176679892544', '9016187419948617830', '1570284429335067053', '7073510056373056329', '5076146853925608972', '6665449120148913106', '3007952129226271811', '8522324424729390387', '498170693491109124', '1329123948252730906', '5271825442700028003', '5111381774615424300', '1042087898216033739', '2482835105071007160', '8995129410674182547', '2783132137102900767', '982976543459844316', '8820134197289877203', '176715025146710419', '263953014689537009', '4593073981721033311', '4846451993269149693', '5391426242655977732', '9098016996052908375', '4848553352317596640', '7086067628771385843', '233114913238863849', '7426722719861490438', '1793023449509234206', '2376825666426303523', '1491205087795051729', '5151496074426364911', '4303506792281766672', '1506111012173990934', '5204931985086739236', '6982544127331253625', '6323031586311381814', '1745804648126430819', '4636471082424520757', '1417977141372517611', '7593710277227348228', '3302470406393686759', '2047564989673968325', '4927643435684890401', '2023747524283893523', '8843812273918005921', '387037731281468439', '3900554379723887768', '7289044377351955501', '2587181432994876647', '7178934964544878417', '5672452352570410934', '4571200454205625515', '8288612304306064141', '4389708681371264402', '2460505046904515542', '7928668636676534520', '5839517351378008819', '3737732329228235478', '2554683662938806770', '3882141371796509691', '1782045129821155748', '3073586655631318158', '1554220062380503360', '7180578346650497794', '3147928421629847582', '5259164292343573915', '2128501387761896516', '2452763558251903322', '6667694980412893022', '7380721112986688329', '9002020459520839747', '6562528833641149125', '4862548513393730256', '7951578005655093494', '6308250462295466325', '1065894944226012659', '7431555262959668632', '127932165407053159', '6515605081310254092', '2278665141902385053', '1439837622973043160', '7714254166710288790', '5650976146172822086', '2991738734434730653', '2196703554979162470', '5171240687961186006', '1330422634203280965', '8713674137877275391', '1341313675270383974', '8048965714125693115', '7550064665642669380', '1374181151980340825', '875251072638536399', '6072087158706873079', '5207048598223200405', '7061108132463265606', '2119675436721132030', '5338864336174013153', '1742449930864330422', '885559730388910296', '1879875755613786467', '5589592704952430624', '4647677393410415260', '6524728096414066371', '7344398492438303899', '7431257067576607883', '5514234881988438304', '8277624904354668796', '8449432464020052237', '1910863756066074002', '4600893135045383734', '8721670792383253016', '8752679731760277095', '5025878678125724328', '3733856568225415422', '2759889271335950287', '1889584625659839453', '6410332586132511307', '2349421997479804047', '5208586978790531674', '522880090564708372', '6739515507374224802', '6214247759788894765', '2096589574747305972', '3674619986654703602', '8307555472005508078', '3250494042767025672', '1092975758674879746', '3691890553163794623', '7364574776085812808', '8223683300422813602', '1929950442737452235', '3846054744638197306', '5927830204411921340', '1195105037419345257', '5531164326511510082', '4998625333427298477', '4977700323595314895', '1801146843394132799', '2484034189901653157', '9107978171305925868', '5298686894722620382', '6671451706406296652', '2535106979962506641', '7439798549449728619', '8017751416841870627', '8941357357819404617', '577039196406663351', '4539174895083650361', '210361415499865904', '1291708160423622798', '4983745258718456587', '8597981629368490563', '1690989974469348994', '3812015101767784971', '334523277240548866', '359342698514911393', '5651637753066624331', '4111264985383216912', '2784793317692295284', '3963832901936571344', '3683089200152806087', '8690261584834090116', '3919056285999997218', '612358322408349898', '1512560442954200680', '8522288916876956394', '7683470067046411142', '3393533401196092374', '4583541748918745694', '5685430641893951351', '4815111203890716924', '7157697762918943105', '1068569326809380189', '4579624189672637130', '8536438272788411178', '7913179644511984166', '9159706277333394970', '3513672647772748931', '2980898044930632859', '1764631877119784768', '6945296565793865669', '7284520554309702058', '5365131291010449962', '4621186408528775993', '2722551781810014039', '4793508665273419281', '7665693975436580653', '1371512469103416246', '497511733789743505', '8679061052575763038', '301931277672257940', '4288347513965073257', '103165533565091446', '3463697206865392113', '3890312010186932684', '4133481430610888030', '4759108368507682445', '7859034608529833872', '5741290769026906422', '853059755031341077', '5841970062461937266']), ('mapreader', 'numLocations=8,maxDistanceApart=4,includeDoors=0,maxDistractorItemsPerLocation=0', 4): (['move north', 'move north', 'take coin', 'move south', 'move south', 'put coin in box'], ['6330437387040063650', '4014523661817372109', '5650315074059384212', '3802542029623454021', '1483336528524158034', '5438387367670309690', '8755940850001303934', '4586351188912673051', '885309929812044260', '4552572119267923149', '1893975232963349225', '2631070350129869081', '3350017601492821901', '8207940080122520008', '4998651578600577924', '5160652938835295823', '6858049138363930847', '7348220499018599783', '6220884125696736276', '2019290939177581970', '3361930102143876202', '5456278657366317184', '8379701004595745725', '8754062679252758355', '756355717067418116', '2972247280855044470', '7251979955985071349', '8688975570213929838']), ('coin', 'numLocations=6,includeDoors=1,numDistractorItems=0', 0): (['move east', 'open door to north', 'move north', 'take coin'], ['1756350467653046980', '7326157470637146059', '2804036219695271453', '4375049857362498870', '9212662723674412018', '890239292847782719', '1437794958267909866', '6767637264565556661', '1989594934930849599', '8129394309296632502', '1353989425094889894', '111727931834126643', '2312574598429231932', '1237915592705588074', '5240051109130979280', '1652814773628039998', '6471087356217263643', '1688828931632313966', '4546075199191381439', '62138984505855711', '4096551943357673858', '7359364946696074719', '12613854523496709', '68338035706658473', '9116191371925328105', '8183245525925622429', '5643696992648598910', '2721453173403460186', '7428903791177739429', '5991373871984803677', '4072493068476149603', '5691921507186014488', '6208917159851476222', '1616841850996372032', '2690373630735905288', '7184208810117313517', '6802381039441606409', '8118521804546762070', '3407019581612724004', '5604513857116927872', '3720200688236777749', '3562548382186720938']), ('mapreader', 'numLocations=11,maxDistanceApart=5,includeDoors=0,maxDistractorItemsPerLocation=0', 2): (['move south', 'move east', 'move south', 'take coin', 'move north', 'move west', 'move north', 'put coin in box'], ['5246161896569605335', '389052852463852503', '4300105984501397184', '6081428046832638433', '4352884037465458480', '4545176357165620465', '6803683381006669277', '6736409126139167182', '9047387626297389087', '3834878996531835497', '3080162405753612889', '3781535739787571704', '8944276451899154363', '4199945302276327791', '3442478404124674415', '7810418987331473006', '397013811736838788', '4974192004597171248', '4057257238439427771', '9023730646970959437', '3468692893596660256', '4248676320339974991', '1585865053359356054', '9213253075563858741', '1543506816093435532', '1872248329517924800', '8061175717392156128', '8815698033526728240', '2666040169438051244', '1311656654505829891', '2521041028269103606', '1293756723492018650', '3695111725825632467', '4470309062148665640', '5192406498804226507', '2863398517567496924', '3655458847878646683', '4289194475478938400', '8242750742064202884', '2335459758643825952']), ('mapreader', 'numLocations=5,maxDistanceApart=3,includeDoors=0,maxDistractorItemsPerLocation=0', 1): (['move west', 'take coin', 'move east', 'put coin in box'], ['6831875721688174626', '7515067575976413309', '9081151164032257644', '8981425136003338963', '7311549184039489284', '4822647157043620344', '3923815140881465669', '130278743639423446', '9119755409564644607', '6861848932333366365', '2270774025221918178', '2753098209044784996', '3263246152073513619', '7301579144284342510', '7814456638747122223', '2346950840465993710', '7474410437331240354', '8811254309857783942', '1661463313635765443', '4354383365104397559']), ('mapreader', 'numLocations=15,maxDistanceApart=8,includeDoors=0,maxDistractorItemsPerLocation=0', 1): (['move east', 'move north', 'take coin', 'move south', 'move west', 'put coin in box'], ['7374954482965657201', '1388812868198022109', '3046057235091270410', '5211633261363764529', '1915937383143490786', '7058326748244673569', '3406275826053135860', '4531889542971284245', '156442284713071850', '8543113562722184279', '4651695930618394318', '227631350928480884', '6631971008978542677', '7736600214237121562', '7343046071855768559', '2012030204372274026', '2975217668544255821', '7966272267005491795', '2178500146851554632', '7043130109347166183', '3758716785140695785', '6199958224129522607', '6630643375647096563', '6769737870680245660', '392328492660164889', '2689719861227511381', '3486441569119572187', '1331321749192377841', '2161328664160287706', '5104343787523431525', '1084989808955395410', '1279482158815407438', '8026823959054262553', '3260136875269052257', '5245869361599742016', '1397983096054575393', '1644531820697054065']), ('coin', 'numLocations=10,includeDoors=1,numDistractorItems=0', 0): (['take coin'], ['511960801990812166', '8042424871671443745', '4271547922315215726']), ('coin', 'numLocations=10,includeDoors=1,numDistractorItems=0', 1): (['open door to west', 'move west', 'move north', 'take coin'], ['4999697483417826871', '8658734401061414289', '1424871225918285550', '1214611949107278150', '7166489614367810064', '141661861404033997', '518827420968105838', '1791223996758606408', '8064573103539890075', '218098926513037630', '5397440688078991035', '3138712906461882352', '5017821166990428280', '903377527915802744', '4311335525420676384', '5399431111999449080', '6531604270107550711', '839367050114372404', '8370079001587193786', '6522339039632931295', '8720676987548609491', '405748958617322608', '6498011375204215106', '1007153649125394757']), ('mapreader', 'numLocations=15,maxDistanceApart=8,includeDoors=0,maxDistractorItemsPerLocation=0', 0): (['move west', 'move north', 'move north', 'move north', 'move east', 'move south', 'take coin', 'move north', 'move west', 'move south', 'move south', 'move south', 'move east', 'put coin in box'], ['9004503552217107212', '4880642094611986765', '3969999098434308214', '8818989698493869096', '6026785637580717459', '7867861784900442797', '3585581491515516552', '1903625876902645885', '970918309846500825', '911634385752118147', '3384227634304564987', '5932048649560054330', '6736458962769788158', '4233164816747257698', '6635741583688590813', '5940058619557557980', '3769752764058931707', '7572922898631810749', '8083284236451662702', '2029965441757381458', '4872336461641722364', '3768570332332225350', '8019479815555968910', '2438241596318555984', '5436910705743038010', '7418722778426398373', '2548793306261251137', '2348189431519113425', '4919522715521005576', '1405591597718712084', '3536089400867086470', '6746282317060807488', '2100199345062843126', '7664203246607024273', '5350574808542846914', '9091769264204103872', '4628810214493844140', '1650404820680301993', '6959428464350837320', '6484833913706336350', '2873606760455849980', '6407391791826950527', '1901297052329162566', '5163189144959173796', '885141646392504056', '7864680120686473420', '1637614146236178996', '338062295102721536', '4049779216197382320', '969485290116062231', '2406601417721220403', '3832180405475198695', '1626090407658250097', '5975810540870513379', '5531682685053666772', '337025515236358605', '7484405295625866770', '827927684808600648', '7754264786595801844', '6366289320075234603']), ('mapreader', 'numLocations=11,maxDistanceApart=5,includeDoors=0,maxDistractorItemsPerLocation=0', 3): (['move west', 'move west', 'take coin', 'move east', 'move east', 'put coin in box'], ['3947951627410761762', '5337096801662248204', '283258660380061568', '937215495643447085', '1870450303387860925', '4406280868945430732', '2807704358314194131', '3458217771120616688', '869798667628221987', '7873990995007954082', '7851398252746560776', '64392273012557900', '8132287577747493749', '3509527924199187612', '6760118879401073222', '4385547795299249538', '169387173883389945', '763330614606897764', '1582903965599590963', '866618347460149632', '5132790381113774419', '254405368851644263', '5100945035763052478', '6630773305387832450', '1762758663205129066', '1078839849409482055', '7320367087422023151', '9167853748150538789', '3759806509484024088', '8519110059565048163', '3285688049336157315', '7316869967057656354', '32843386248996301', '6742899559353148576', '2983469410483413346', '5790121170323666336', '1228795544223846163', '4573104764851766051', '8999329116136277398', '6454591727206129747', '739641706348750493', '3855089996158721807', '4106595325283218562', '5317312953131909753', '48112497134389501']), ('mapreader', 'numLocations=5,maxDistanceApart=3,includeDoors=0,maxDistractorItemsPerLocation=0', 0): (['move west', 'move north', 'take coin', 'move south', 'move east', 'put coin in box'], ['3993110345962715057', '7019181788849222169', '8498134786215554578', '604778734950823965', '6009422220421610623', '7374777413847616632', '3617056796340325798', '8215171918554460944', '4878597192573963320', '4417321839042803632', '1481155452609740949', '4704679516445111157', '8124098398288934599', '3424655280557279941', '1626198231316360355', '5053263717686584828', '7749075478725991294', '8768863613096325466', '1446904190557143923']), ('coin', 'numLocations=6,includeDoors=1,numDistractorItems=0', 1): (['open door to west', 'move west', 'take coin'], ['4488270507863952860', '7442023454092564895', '3792376998939647166', '8146060266367508465', '2976290950003757756', '8190727880057998525', '1971387785865085283', '3973936630716995008', '1826034585396945753', '7186671517286270124', '7831558281069151707', '1156450267001115673', '5769927385269808943', '7259105301577883245']), ('coin', 'numLocations=7,includeDoors=1,numDistractorItems=0', 0): (['move west', 'open door to west', 'move west', 'open door to south', 'move south', 'take coin'], ['6436371718880574326', '8567348354045412010', '2478324085405020782', '5532041441882267210', '1003090522012218692', '2851380926716753221', '6121365612638739512', '5060193202145548918', '5156930051120484905', '333902417294274196', '3927072734123608874', '461418084325942944', '3130055553989292668', '7181898993808801729', '9106455474260501763', '5731734738118298807', '8404356667536121442', '5892981943936353920', '447653647866717221', '8870790118802755702', '2394041082637327764', '2710555847679985096', '3143345616438783048', '172857686487542786', '2639963455411308384', '1927404609777111731', '4466903912084896275', '7770499287965470983', '1476058042834572582', '8823654284649083364', '3774831364581040199', '6438719075042046622', '4926295546294240867', '8602907962244206141', '6684354895463553767', '7246569227002105903', '6270782509021789744', '6001619770454696704', '8976250326483086395', '3879769033981192445', '7710491158128592407', '429767776305986950', '4708945411411951433', '3512252056102886546', '6668060809169415901', '141825006998335780', '2482055483681868639', '241952094040529317', '2175066756037554813', '3470833295844402483', '7547420217926047623', '6954387277718147543', '3398265468056299340', '3229907004390065930', '6211569140695069382', '103801395723468924', '5531927103571652987', '4175315162776931694', '330966204380961443', '5117366262198207925', '5671362563462747569', '1316860673030683311', '4486258458813245746', '3882624967692676670', '7769764937952990012', '8905229630940863215', '6949900650416039618', '6452493490963593548', '3448181462653329804', '1246872510737923909', '1376314240362856118', '3980874592183052159', '6878093000669531866', '8582711177999498288', '9073073221060313422', '5267550565414039395', '3112217447538956524', '1273879603472312378', '1361861555394444149', '6458285523228742493', '989915339437221990', '2331009242437155978', '5048491013196258476', '1312753431074203855', '5817536625367321141', '7568202223233013252', '3632250949418653536', '5418140371504237717', '4394579693138358866', '1208607428533695355', '1126404708173809518', '4116731901736000653', '2681558563869011121', '4556940335498897', '6419677958571572205', '8922484984833781962', '2996138107899575755', '281038644434883585', '3398938213665242165', '7050895567146900904', '6291352886902480608', '2848451814480339413', '2469547126558956647', '5517144133670017425', '7468142323832059187', '2191861837226501256', '792007591889505539', '1623038329662810919', '4319813687905566786', '8746451220720645170', '5945320336694030064', '4444868883437440910', '7231960815870146886', '4539807090061840733', '930305641116760973', '109175780760265213', '1243005342400999200', '1047753113981421310', '7865453792052211308', '6596990425493886088', '5548617882099312779', '3303051188394171389', '8467726322576038635', '5258806048494884153', '3436582887382178780', '8380043331928259351', '194836492719967068', '5065204446828323967', '2283249243109680238', '40392406731446637', '5465390864204519927', '7006142166532742870', '5781912023220786100', '5531123597803369657', '5362869767962359963', '7631701347997328478', '7949276084184512383', '5361036182986236344', '6777207473925540029', '7718211590304313476', '5726138626390714328', '2421874304732595420', '8112058188723241692', '7910848250017462895', '3475482456123241786', '6670249140186229150', '3806687996522473126', '8473797978197113989', '7644369327548309155', '5679011472663281126', '997404088535876397', '3381846370378866327', '930198896405470156', '2531883323422428510', '3901937310583021421', '1023725769513893207', '4679114747143027627', '1489524271244479499', '8551881241813364574', '9033880203698165298', '523342772231181309', '609302609389955335', '6632462591971288724', '2197090228370363675', '7593749469372534915', '784471351043991393', '1382886907965219260', '2216765522261557072', '3450436139998797965', '1472345307307479986', '6627362931961416705', '507702907673443526', '8834415908981213919', '6360796762691054717', '1915436921240488401', '8823306158201486634', '7457121978201322014', '1668947602449464901', '4910573834045819259', '6033428541046032851', '3376850699047761838', '3466658623424241872', '8409478455150970851', '5563624595379927953', '70233589705332870', '482789959150505204', '629025555781779870', '8223097176781013035', '7072340975525265642']), ('mapreader', 'numLocations=11,maxDistanceApart=5,includeDoors=0,maxDistractorItemsPerLocation=0', 4): (['move east', 'move south', 'move south', 'move south', 'move east', 'take coin', 'move north', 'move west', 'move north', 'move north', 'move west', 'put coin in box'], ['2325640757823652968', '6705462352864075113', '4561261164594613914', '193687068916193699', '5053230632212049343', '2620471461396606496', '8676639811497650040', '5662350710635500702', '1431261542010921820', '1624437210852695917', '450323075260245412', '3900632170047744556', '7865177601121848379', '1615272188488958286', '3084833071643889290', '2121026828060737944', '8598773568789413275', '5161489413953261453', '2140885345155545255', '8439435076672980817', '11244925143715833', '2576628823632539510', '1077847098369510204', '1491061355128642261', '3381591282995596934', '1585550751401491022', '6667527464298395836', '2772456629043579036', '5810540838936246512', '8005044229876885329', '6688267249530747625', '4904271190368438992', '2382142451081906406', '7694369149765403622', '7684986089495907371', '2375713460706919909', '2719233484483316656', '3984509253017390596', '212599918589561178', '6489716551914778826', '9168725432190784404', '8133491230195441913', '7377480348671821891']), ('mapreader', 'numLocations=8,maxDistanceApart=4,includeDoors=0,maxDistractorItemsPerLocation=0', 2): (['move east', 'move south', 'take coin', 'move north', 'move west', 'put coin in box'], ['1358125965252101180', '2320265917205356562', '677155480681490509', '7186340297217174516', '2293002559795552131', '6572675763189597532', '6148708150921045319', '5053576855114635379', '7964666370897455317', '262731433900420506', '6240065752985432301', '5380323824915413489', '1620440061201947695', '528575330122488617', '5768372333123251736', '6879070853676067963', '6733973516029760986', '6183267299150961539', '6996240383553244248', '5779509980652830157', '6307563651494234484', '5306646691483687438', '5871231518184718645', '8827690401924576386', '198021161797556127', '2080150816640248763', '3115204180319395792', '8046609293570181544', '2101525717849924827']), ('coin', 'numLocations=5,includeDoors=1,numDistractorItems=0', 1): (['open door to west', 'move west', 'take coin'], ['4217935318454807278', '2091434847216547580', '3447556117120536113', '7140936819516099107', '4892531284877061233', '6663456584361128097', '7938545241281982424', '5389839544370146895', '651309570856817512', '7445298358367609216', '7831790230530624814', '3709367735687215328', '604819640815445073', '1842277941924157537']), ('coin', 'numLocations=5,includeDoors=1,numDistractorItems=0', 0): (['take coin'], ['545289667275045926', '6655982133432072625', '2769398708246803122']), ('mapreader', 'numLocations=8,maxDistanceApart=4,includeDoors=0,maxDistractorItemsPerLocation=0', 3): (['move north', 'take coin', 'move south', 'put coin in box'], ['7974385339077285693', '267503076704330953', '6208734424417356221', '7457909613495750504', '2278313318470398853', '9092374138114382173', '2840585449518846690', '4635487828595464894', '834732052707351498', '8096369258616444636', '1956184427077922493', '1376047273784744828', '7762456534228870966', '3657721748936283542', '5627575060534321456', '5071102070415182699', '5202412340575178355', '673038525739713290', '8917727709063275552', '3270294665512223534', '2300957953108830103', '4821734240073058129', '2900415936105239112']), ('coin', 'numLocations=10,includeDoors=1,numDistractorItems=0', 4): (['take coin'], ['7849996161579834707', '7869750847425208646', '8546236038776759989']), ('coin', 'numLocations=6,includeDoors=1,numDistractorItems=0', 4): (['move west', 'open door to south', 'move south', 'open door to west', 'move west', 'take coin'], ['4249627454250543069', '7172897285776149034', '5598137737641270894', '2455286158837617889', '6173029464351113031', '3159718884424692154', '5488473673741166549', '2089357815098849448', '7140283018986073047', '3700080675178061037', '7714350827235444571', '6066706871490430232', '7208428236862773858', '8593971765464343125', '1786390974040277498', '8468314687648812529', '1246531995175450600', '2678139628756246832', '6992340339647171643', '6987508529043892155', '5302448107788487615', '7134274361941844301', '6603558457328084647', '257111150184100666', '8278409773259695467', '8390984137239901124', '3316486142631963946', '8130968129264684525', '6380834638974763747', '8588814965095052850', '5970462329300260098', '2549093054019995191', '8838245992892918793', '8414657239481645251', '5431765428846113245', '1132855665474483017', '2437326007734152922', '501544597158980521', '9161861633000083502', '2722175490547317903', '8896914943354519125', '591496690203121182', '7362886737322872924', '4334111391084174884', '8878082199776349268', '8333903550537007312', '5890924025219738075', '2735839540088471856', '623912932138827234', '3197306717005990748', '8292929741384123419', '1104882513610840128', '811964640543117340', '2491713173824278159', '629441264423049188', '5627935852231974183', '186112279686960842', '6102960935333575248', '4804576066994771532', '6293510096079377735', '8763132637194976301', '5076055029651545842', '42524497218610076', '3369853188235971013', '128776050522414600', '4175658921949997580', '2681053319911454169', '4978679658555432236', '8086174039944223411', '6316672376002518989', '5249341552506721856', '5540335388647806759', '5165884612226195789', '1858110756910106230', '6608517354209563784', '995177426741722057', '1217960269447741562', '4485224083511281942', '7236820012909925623', '2811750899936065643', '7570572881821853774', '5185370215316937691', '4794891769545016769', '4653405148202643623', '132358992419822804', '3419909539183037385', '9213333386648112311', '6565705602644552911', '5256943742264450051']), ('coin', 'numLocations=5,includeDoors=1,numDistractorItems=0', 3): (['open door to south', 'move south', 'open door to east', 'move east', 'take coin'], ['5808350833824999155', '6105920337188136448', '5547838923142795104', '5616303299581023191', '7170804246628967398', '6975853516117242607', '3774536010951891995', '3235702998548932833', '1455680123783426836', '5059793004304373333', '8310291748091778740', '6948565944955367426', '4065543480910611917', '8041407992104003850', '4715396203108194270', '2352922174040480841', '596888877665257512', '313243878345470226', '249453566920198257', '4144218494422858860', '6534340852245189423', '2713701173506749576', '2711000777891574345', '5138739062493486118', '521821010795851590', '7582360014708480480', '347903560466792327', '2758784565980051553', '857187692693391787', '5320977637620551497']), ('mapreader', 'numLocations=8,maxDistanceApart=4,includeDoors=0,maxDistractorItemsPerLocation=0', 0): (['move north', 'move north', 'take coin', 'move south', 'move south', 'put coin in box'], ['4774940442955690918', '1797414131082699211', '283321435416122077', '2007833411765958213', '7360902161492913835', '3368546518253677987', '8603829738636046312', '9018843682833339887', '8755290623312628289', '5928868508060353013', '9104625842329046643', '1981873186192726034', '6057883004237479288', '6287224744216440024', '7528847056037302349', '3517016094505479272', '607007825263988506', '3842637338390189039', '1385787190637793400', '6453091702947995120', '2156108473400358399', '5409310684643253935', '2552414146652070305', '3266128589576817267', '2786743022195425285', '1369027890086925956', '2925441830628233707', '6965628449335386299', '3425682204374362691', '8846913485116679061', '7380655735631143635', '4942593192947523131', '5284449386807676498']), ('coin', 'numLocations=7,includeDoors=1,numDistractorItems=0', 4): (['move west', 'open door to west', 'move west', 'take coin'], ['7046142475583137087', '988296666535493742', '7827583415387306033', '3813541779326046951', '5413971694013111156', '503773367884516012', '578451030584020353', '3347214727998506316', '3267099812267832902', '7344906302064668309', '6565471606499824256', '5442734123738009861', '3602499002863093176', '6024842759586783556', '6004545089447296790', '6848022362976201951', '1228636423567019201', '2761573530366872427', '6261066820004156107', '1678164004245657658', '2862051885225400091', '2701431614680011378', '4243363461901096966', '8930965145363578122', '7208402462989993619', '7601262245096706637', '4857809593326670956', '6870307347617157828', '246736229055053309', '4519225342481514528', '8756851683427499576', '1865588207962732233']), ('mapreader', 'numLocations=8,maxDistanceApart=4,includeDoors=0,maxDistractorItemsPerLocation=0', 1): (['move north', 'move north', 'take coin', 'move south', 'move south', 'put coin in box'], ['2300390463139896192', '1436897636203879172', '7955857781098764885', '1748503148065633658', '9110994589277255069', '5670251730925265497', '3520443083568273438', '8180506144040256219', '1203272383915492029', '56380095409037467', '5282350450482236448', '2654479043766249433', '3468858287266957069', '436330116226897773', '8100697082357789536', '9035004766647782051', '4289792297317259129', '4040908562945794762', '160418373462868965', '7856278845321126414', '8562346048110907381', '5265468972362413253', '6718896232779173059', '2464289901443190902', '8469005786665916161', '4492432124027040313', '2818137547002506350']), ('coin', 'numLocations=5,includeDoors=1,numDistractorItems=0', 2): (['take coin'], ['7725085277310925896', '2260259017518904108', '4905237855422059635']), ('mapreader', 'numLocations=5,maxDistanceApart=3,includeDoors=0,maxDistractorItemsPerLocation=0', 4): (['move south', 'move east', 'take coin', 'move west', 'move north', 'put coin in box'], ['7394175437046721655', '3025906588830093420', '6182681077981154212', '5534583521146078797', '4848144088839052674', '9038775284765148190', '1253949387433840920', '3874452917476652184', '3414087963800175533', '4941932853623095245', '995788656715082651', '7393003809811285045', '2965008463764830233', '3401172454744681933', '547014505498516109', '7771485746884567721', '7116966484602659774']), ('mapreader', 'numLocations=15,maxDistanceApart=8,includeDoors=0,maxDistractorItemsPerLocation=0', 4): (['move east', 'move south', 'move south', 'move east', 'move north', 'take coin', 'move south', 'move west', 'move north', 'move north', 'move west', 'put coin in box'], ['724378826266626036', '2215441480664390900', '3718248393255533594', '5149984107900725349', '1172242707236816796', '6461047267236439305', '5676606589825466905', '4989722234117314404', '471876025454286631', '8288766822345817477', '5063058690347100843', '466727898263273931', '2585240025716309308', '5100588855646476283', '6856456369213731256', '5588786951047506536', '82324354854951090', '1148647797638790130', '4800538423481141949', '7300224367469049877', '2654533668341930498', '7509221620059763333', '6754847983108028979', '3779348778442429296', '6760843862136544948', '7323819885775313674', '2851954529596257534', '2668857468961209015', '4163436161962793065', '3340740045828977535', '1751260711578635872', '461178011940225456', '4919467989520119505', '6304452558307241622', '7972033225250125593', '98885246951250226', '3039263945108625973', '7261886855694551382', '2923765910546253144', '1459559310773271004', '7441703231789286571', '7600540498849005130', '8931309171963853406', '2909039323116350835', '5075102621029352121']), ('coin', 'numLocations=7,includeDoors=1,numDistractorItems=0', 3): (['open door to east', 'move east', 'take coin'], ['1445226758200096324', '5404887995195605648', '8724161856204698394', '8175254086992094860', '8969253101153659873', '389533342959685149', '816284066084240559', '2022838762523145353', '3050334498204599317', '5890109784957852659', '7106552524351651316']), ('coin', 'numLocations=10,includeDoors=1,numDistractorItems=0', 2): (['move north', 'open door to west', 'move west', 'take coin'], ['6220905860443164791', '8775833842263174725', '4324223770852947421', '8199608712654010351', '3313178522978409000', '503827251304163067', '3968045064662668605', '718602374896348491', '7862982988791612116', '487458225500928597', '6030228583801944315', '5242355841489856029', '6919225616833599678', '6818446437395447487', '9060971905734024966', '3861602602890218481', '998255151453932358', '6882611914043311280', '7623556101867595380', '4357946120957470095', '4646815617125637920', '3038590141846199873', '1172915215478922361', '1877028963344301264', '6943297085591048352', '5801895584567528781', '267452991977237993', '6436779938833922744', '6266733952133923635', '7822903075366087875', '3517449538019194219', '6020725654633523940', '1582789391901054523', '4932525605513555389', '5495780315887547041', '8241984233175834132', '9173235641607889836', '87418661865720004', '5786704982850555238', '513566323931324184', '273574749909190684', '5518979813860774570']), ('mapreader', 'numLocations=15,maxDistanceApart=8,includeDoors=0,maxDistractorItemsPerLocation=0', 3): (['move east', 'move east', 'move south', 'move south', 'move east', 'move south', 'move south', 'take coin', 'move north', 'move west', 'move north', 'move north', 'move north', 'move west', 'move west', 'put coin in box'], ['819663206536857864', '6754812126898388634', '1146383608818077983', '2184892914021524301', '8438200732882954433', '4557670489068756535', '403131949952693770', '3465713432421798564', '2633286692263361029', '1451454898128784696', '627039475406023269', '259835115148217151', '296398524366795574', '2280698665407494440', '9203768191395654316', '6064765903207906065', '4873332534215165801', '7436410688974358279', '1975592626355762098', '876694328742900894', '2691208887885975545', '3040932474966437350', '898283986327979646', '5383424906529327408', '2176647149184150555', '7018777917438471643', '4911421197733660481', '7867159334532696320', '1628243972488163045', '2221226458205759385', '7898126990015831593', '5115276561681210697', '138023732270812317', '8164898490314869421', '4988848441135568186', '4951751358524721155', '1012372654637527184', '389630356121722202', '5792917843263760746', '6406204146385845377', '5129669070228814738', '5147912130525295984', '5466589447429297371', '7643410266288259059', '1791008117051089708', '4565727666854834044', '3417976630679560860', '337556194670370094', '4783772733905471196', '3589860539969635775', '2662357044107510244', '8976788300579920272', '5323276696790665815', '5552736822423905758', '6523186786961344658', '1628136351284691994', '4979986384628257966', '2576457061943377326', '5620008032820424041', '2621147801560688583', '1339290168992367712']), ('mapreader', 'numLocations=5,maxDistanceApart=3,includeDoors=0,maxDistractorItemsPerLocation=0', 3): (['move north', 'move west', 'take coin', 'move east', 'move south', 'put coin in box'], ['1948860466081925177', '1969584766237223774', '2859938741037583739', '29799242559409425', '6003548262469528704', '48801935744853897', '3534804650226580036', '7724779375227097791', '353704899677997045', '8174360647110884919', '3035653154158520626', '3942683389636152777', '4672550783414671508', '2903304731066909315', '9204102920221071681', '2515507126382396269', '3420719305768589563', '3452851728980635869', '1851978561628052211']), ('mapreader', 'numLocations=11,maxDistanceApart=5,includeDoors=0,maxDistractorItemsPerLocation=0', 0): (['move north', 'move east', 'move north', 'move east', 'take coin', 'move west', 'move south', 'move south', 'move west', 'put coin in box'], ['6821676220897427723', '5586722893650462818', '4495860564327045436', '2195340934917942193', '3888654777882044373', '7172017158380144961', '1694519766816182526', '7960374798304838594', '1268379969863351204', '7188218148991069082', '219835089746634443', '779680243360067850', '4420742745605769470', '4562287485207079269', '8614677683673505960', '7478374865448865702', '5109044380783059105', '6448532099631836728', '8209794527915757105', '1438904299906728031', '4540267311066750128', '3432065747522509343', '4332408267091441723', '2499990341869926102', '6659556477628391932', '4016200452527123198', '8846129839161144991', '8192118149537121719', '5132548040533224453', '340768920267239449', '8203178727293978273', '7154713618403638184', '2035562371112831244', '5544703140413893911', '3419950246580184156', '6357437744623219462', '8656714633969279235', '5517060085829861882', '7408392316919194545']), ('coin', 'numLocations=6,includeDoors=1,numDistractorItems=0', 2): (['move east', 'open door to south', 'move south', 'take coin'], ['7741356493555517856', '5157288636930264176', '1435190397129730664', '8657776161387303120', '7020207181936879237', '8075465150940553355', '8178031179769344560', '2175164078380953713', '1323992827477452784', '4582279808949384915', '7164088525047181058', '8675722006825911310', '2067579430681003719', '6243723453566017385', '8472444270145539580', '5486435567346559826', '1601189108377771012', '3353654181968516322', '8141191511347022394', '2330372675312007866', '6277738789041595957', '3109095658215166547', '152520544872040923']), ('coin', 'numLocations=6,includeDoors=1,numDistractorItems=0', 3): (['move east', 'open door to north', 'move north', 'open door to north', 'move north', 'take coin'], ['5524961797667140739', '4682715151068415563', '5730806173443308148', '1008435392882367244', '7709700675465376526', '1846907985332795066', '4617348404066411374', '5144539962663232660', '1300837490093793978', '6841193285504081342', '4424135198731559968', '3203381135605982730', '385873714475303582', '8679309400152779216', '4999273163180031973', '1976246772018611576', '3283689920464072285', '2175199319756681523', '8207153578367348396', '3482861718213968034', '2502823067534835164', '8555858929185972275', '7094925406172288254', '6252283301175964504', '4525002418113857874', '1798565223791059415', '3544978018731913216', '4659213290788626565', '5972984364249129624', '4597585479829829512', '4819218470739024949', '3660573299542185097', '7555881164225949533', '3926384746074966869', '4525799521706195772', '1100649017238526638', '4808931842320948252', '2480772405956743632', '7705618034297966515', '8955978514745593188', '3728974624121537487', '8193647366282130855', '6728261988035001232', '4286095504653033939', '1300065977660485451', '7272170711188548971', '6692468719053253399', '977881774324535658', '8031195992850261345', '1635411651235231745', '2195180967247145478', '344687261361172697', '783756718990902348', '6848877985428071739', '6201947200249690705', '9172928470023337034', '3162646465762778011', '4214721467601551744', '5688651683596103402', '5984863476496344951', '3275810656352189613', '1587003424258898270', '5436964551189290919', '5642672620252936257', '5740300263820241345', '904995680885621775', '1380856565296631493', '7384267661774094972', '3748056393045800688', '458270323625181853', '8382300710425764486', '1625049195562929405', '8696549927554984095', '7587655643260331429', '568796930413137339', '6920361879095193022', '2138098928000494976', '2183766395731126020', '1109930906515140256', '7610156021412573059', '1677511626990732215', '2693482389675421712']), ('mapreader', 'numLocations=5,maxDistanceApart=3,includeDoors=0,maxDistractorItemsPerLocation=0', 2): (['move east', 'move south', 'take coin', 'move north', 'move west', 'put coin in box'], ['2226750544973865832', '5665000903192909555', '1331031310421356435', '297781355585197295', '6548122274355955329', '546264571176620237', '1738025236558332628', '1018122779180782647', '8167804014757816364', '7102825634114360212', '3564110435760299339', '6357664941140922543', '1802871359280789253', '7381554576754370092', '8794859398154593455', '4493673259475312309', '7042797657340534509', '70763346956629673']), ('mapreader', 'numLocations=11,maxDistanceApart=5,includeDoors=0,maxDistractorItemsPerLocation=0', 1): (['move east', 'move north', 'take coin', 'move south', 'move west', 'put coin in box'], ['8515956654747878962', '240594592337913255', '5968628803059075242', '4727373302907562591', '6203804937177222683', '8802836192546929673', '353695269065136310', '2316336188605886581', '1201646265740469544', '80973395005310866', '7203864386277642028', '3298244697333463544', '8493982014825182556', '8006552230434415469', '3682276985952165427', '2565035648938771843', '3005764361332488848', '5594035162934782007', '5749796608237222669', '8408497124764085484', '4058707544537729860', '3343534018459378406', '6215845793268859286', '1799564689050669230', '3650943832602972514', '151658521939631722', '2489294929732455660', '2861977060295191285', '7697423992771556235', '601183035905295775', '6578809239208793413', '1586979818743914669', '5402555025410929055', '4240333693696321702']), ('mapreader', 'numLocations=15,maxDistanceApart=8,includeDoors=0,maxDistractorItemsPerLocation=0', 2): (['move west', 'move west', 'move north', 'move north', 'move north', 'take coin', 'move south', 'move south', 'move east', 'move south', 'move east', 'put coin in box'], ['74412142839715489', '5039314035607475588', '3271177246458484285', '8432122457692616202', '55653822220690724', '170731482205687004', '7602818509613682426', '1625098766089363017', '8905109565102489706', '8470191683047078064', '3083779422476788176', '4902688818282991222', '5781954226856138013', '5648268116837891174', '4336818555134761667', '4758408862944528951', '2947131244389951305', '6542928875527416279', '3772693459634179403', '2497383244371494502', '1374641635580237918', '56383673268921249', '2421166442468839951', '5987762949041187184', '3060006969901461211', '8159898460082418166', '8738679703417837480', '506251069488926228', '4306137285896232287', '264647459594374040', '9039744023198510883', '2083922395767847378', '3599435492528322901', '8673172123307410235', '3181562086360125232', '8783747948189739657', '55376750161643867', '2237682344006532137', '1427799094963335066', '2259269294240956114', '7210161322851315558', '2108757182704501619', '7410895243706692134', '4097019163083972896', '764383971123898751', '967077954657793458', '5340284615370002572', '3975097966449764188', '2009954841543512983']), ('coin', 'numLocations=10,includeDoors=1,numDistractorItems=0', 3): (['move east', 'open door to south', 'move south', 'take coin'], ['8925781481976834312', '5985989278529498702', '4101440613668391206', '760109494005608227', '1610818691976098274', '6589059415200283215', '3646460704545442535', '1232912514431698298', '5935509231660725498', '509860493748998602', '5314269116912899075', '2029492058130994078', '4280514432731518843', '8762287545465049068', '953857677857259239', '7568003379945691828', '7260270801363744794', '5613809214556534855', '1682966632960301800', '5261918221301384026', '5628082403579479510', '4884217167907316680', '456653669935566018', '6755163192693373355', '641299156019773327', '1597854030961484698', '9074821776055150725', '7650021526131426637', '7726778347663006742', '982191344287946769', '3635161002357911160', '2459118112037329470', '7025078698319340526', '5782871701842007291', '2475027480677497008', '1085788413472385252', '7469773269539299992', '585878973876431337', '3634874865812236382', '6083148320166777160', '8716425476099300719', '6093513050936150509', '2550427446138775034', '4772330166951347652', '1808179834813014436', '7781339306017963061', '4126176592109611611', '4320073733986842452', '6660792296467483642', '9204747967101782316', '2731533018867153217', '4003242569384363012', '1232055526621420509', '3309147331261937255', '438070362238021588', '7608690579722090839', '7791584462669130087', '3692626132426084696', '4739719904581230790', '7636504229784591977', '9176663435244087690', '6477062622023992386', '7990524943108239318', '6936340096565690981', '3084643214286865128', '8892888861355221942', '6507865912269934325', '3390599016654477318', '7043716814580705638', '648708437412454901', '4494259022132194545', '5554008231572825717', '2687518890078408435', '9086377179289970093', '8198506457505201199', '5806388461960987471', '7406187520618291737', '2063741069793301132', '7802254846414603747', '3544271914623219359', '8985604160466409253', '7574496611984119490', '3667665501204414552', '2323226410584509660']), ('coin', 'numLocations=7,includeDoors=1,numDistractorItems=0', 2): (['move east', 'open door to north', 'move north', 'take coin'], ['1804606779407353578', '7085556704749116452', '5059916096075957520', '3551692859573628913', '4052191059652869754', '2844223101387191873', '3881188631169826232', '7762820975668473901', '6960805944623091845', '8303378810350311228', '2102368285498536156', '4746623447904923086', '5716222819261481133', '5237640856615850978', '163480414086176693', '7067995223371488982', '8440497600227561314', '6788737788667914749', '3318830031234739138', '3784386703841113406', '4884240170767342958', '7109495440299390281', '312042247829826966', '4117549480125792704', '4941389198329368328', '7851593261991835995', '71890838208733060', '7278230808217429618', '3848290295852639209', '6290309872087797619', '8079933562178847859', '7539268580540998884']), ('coin', 'numLocations=5,includeDoors=1,numDistractorItems=0', 4): (['move north', 'open door to west', 'move west', 'take coin'], ['2555304362369424509', '8102675200927611660', '8600120527378475873', '5417982985073605877', '305597268574540295', '1182215608419487962', '7512399964629160422', '4995704740713739011', '7021784029531834395', '116994845595236170', '3019360821828718943', '8417124795973646603', '5381024931955750427', '6548065384236172355', '2273015182075548132', '2467405612477399349', '962069406864335048', '644082825169491516', '6770356710947880501', '5832608788708322165', '7366285411764165153', '5128999148767337214', '8960642429512928207', '5192577864044725626', '2729656034009382883', '2215694443087445524', '3613458204039819812', '4466543856635620110', '1638397349085682361', '2340636643337799456', '8160696098388705485', '631695658088883718', '907290285102771681', '8462927589877285549'])}\n"
     ]
    }
   ],
   "source": [
    "# BFS results\n",
    "output_dir = 'student_outputs'\n",
    "os.makedirs(output_dir, exist_ok=True)\n",
    "\n",
    "results = run_all_environments(algorithm=bfs)\n",
    "print(results)\n",
    "with open(os.path.join(output_dir, 'bfs.txt'), 'w') as f:\n",
    "    f.write(str(results))"
   ]
  },
  {
   "cell_type": "code",
   "execution_count": 66,
   "metadata": {
    "colab": {
     "base_uri": "https://localhost:8080/"
    },
    "executionInfo": {
     "elapsed": 120717,
     "status": "ok",
     "timestamp": 1727280626341,
     "user": {
      "displayName": "Sanskriti Gupta",
      "userId": "14423739044698282671"
     },
     "user_tz": 240
    },
    "id": "YYSKFsqzeOsN",
    "outputId": "74954977-dc3a-4132-8ad4-c4eac055871c"
   },
   "outputs": [
    {
     "name": "stdout",
     "output_type": "stream",
     "text": [
      "============ game=coin params=numLocations=7,includeDoors=1,numDistractorItems=0 seed=1 ============\n",
      "============ game=mapreader params=numLocations=8,maxDistanceApart=4,includeDoors=0,maxDistractorItemsPerLocation=0 seed=4 ============\n",
      "============ game=coin params=numLocations=6,includeDoors=1,numDistractorItems=0 seed=0 ============\n",
      "============ game=mapreader params=numLocations=11,maxDistanceApart=5,includeDoors=0,maxDistractorItemsPerLocation=0 seed=2 ============\n",
      "============ game=mapreader params=numLocations=5,maxDistanceApart=3,includeDoors=0,maxDistractorItemsPerLocation=0 seed=1 ============\n",
      "============ game=mapreader params=numLocations=15,maxDistanceApart=8,includeDoors=0,maxDistractorItemsPerLocation=0 seed=1 ============\n",
      "============ game=coin params=numLocations=10,includeDoors=1,numDistractorItems=0 seed=0 ============\n",
      "============ game=coin params=numLocations=10,includeDoors=1,numDistractorItems=0 seed=1 ============\n",
      "============ game=mapreader params=numLocations=15,maxDistanceApart=8,includeDoors=0,maxDistractorItemsPerLocation=0 seed=0 ============\n",
      "============ game=mapreader params=numLocations=11,maxDistanceApart=5,includeDoors=0,maxDistractorItemsPerLocation=0 seed=3 ============\n",
      "============ game=mapreader params=numLocations=5,maxDistanceApart=3,includeDoors=0,maxDistractorItemsPerLocation=0 seed=0 ============\n",
      "============ game=coin params=numLocations=6,includeDoors=1,numDistractorItems=0 seed=1 ============\n",
      "============ game=coin params=numLocations=7,includeDoors=1,numDistractorItems=0 seed=0 ============\n",
      "============ game=mapreader params=numLocations=11,maxDistanceApart=5,includeDoors=0,maxDistractorItemsPerLocation=0 seed=4 ============\n",
      "============ game=mapreader params=numLocations=8,maxDistanceApart=4,includeDoors=0,maxDistractorItemsPerLocation=0 seed=2 ============\n",
      "============ game=coin params=numLocations=5,includeDoors=1,numDistractorItems=0 seed=1 ============\n",
      "============ game=coin params=numLocations=5,includeDoors=1,numDistractorItems=0 seed=0 ============\n",
      "============ game=mapreader params=numLocations=8,maxDistanceApart=4,includeDoors=0,maxDistractorItemsPerLocation=0 seed=3 ============\n",
      "============ game=coin params=numLocations=10,includeDoors=1,numDistractorItems=0 seed=4 ============\n",
      "============ game=coin params=numLocations=6,includeDoors=1,numDistractorItems=0 seed=4 ============\n",
      "============ game=coin params=numLocations=5,includeDoors=1,numDistractorItems=0 seed=3 ============\n",
      "============ game=mapreader params=numLocations=8,maxDistanceApart=4,includeDoors=0,maxDistractorItemsPerLocation=0 seed=0 ============\n",
      "============ game=coin params=numLocations=7,includeDoors=1,numDistractorItems=0 seed=4 ============\n",
      "============ game=mapreader params=numLocations=8,maxDistanceApart=4,includeDoors=0,maxDistractorItemsPerLocation=0 seed=1 ============\n",
      "============ game=coin params=numLocations=5,includeDoors=1,numDistractorItems=0 seed=2 ============\n",
      "============ game=mapreader params=numLocations=5,maxDistanceApart=3,includeDoors=0,maxDistractorItemsPerLocation=0 seed=4 ============\n",
      "============ game=mapreader params=numLocations=15,maxDistanceApart=8,includeDoors=0,maxDistractorItemsPerLocation=0 seed=4 ============\n",
      "============ game=coin params=numLocations=7,includeDoors=1,numDistractorItems=0 seed=3 ============\n",
      "============ game=coin params=numLocations=10,includeDoors=1,numDistractorItems=0 seed=2 ============\n",
      "============ game=mapreader params=numLocations=15,maxDistanceApart=8,includeDoors=0,maxDistractorItemsPerLocation=0 seed=3 ============\n",
      "============ game=mapreader params=numLocations=5,maxDistanceApart=3,includeDoors=0,maxDistractorItemsPerLocation=0 seed=3 ============\n",
      "============ game=mapreader params=numLocations=11,maxDistanceApart=5,includeDoors=0,maxDistractorItemsPerLocation=0 seed=0 ============\n",
      "============ game=coin params=numLocations=6,includeDoors=1,numDistractorItems=0 seed=2 ============\n",
      "============ game=coin params=numLocations=6,includeDoors=1,numDistractorItems=0 seed=3 ============\n",
      "============ game=mapreader params=numLocations=5,maxDistanceApart=3,includeDoors=0,maxDistractorItemsPerLocation=0 seed=2 ============\n",
      "============ game=mapreader params=numLocations=11,maxDistanceApart=5,includeDoors=0,maxDistractorItemsPerLocation=0 seed=1 ============\n",
      "============ game=mapreader params=numLocations=15,maxDistanceApart=8,includeDoors=0,maxDistractorItemsPerLocation=0 seed=2 ============\n",
      "============ game=coin params=numLocations=10,includeDoors=1,numDistractorItems=0 seed=3 ============\n",
      "============ game=coin params=numLocations=7,includeDoors=1,numDistractorItems=0 seed=2 ============\n",
      "============ game=coin params=numLocations=5,includeDoors=1,numDistractorItems=0 seed=4 ============\n",
      "{('coin', 'numLocations=7,includeDoors=1,numDistractorItems=0', 1): (['open door to west', 'open door to east', 'close door to west', 'open door to south', 'close door to east', 'move south', 'move north', 'close door to south', 'open door to east', 'open door to west', 'move east', 'close door to west', 'open door to south', 'open door to east', 'move south', 'move north', 'close door to south', 'close door to east', 'open door to west', 'open door to east', 'move east', 'open door to east', 'move east', 'close door to west', 'take coin'], ['2336219411370922783', '6720114916317139470', '1813977158818292198', '9150871540445843349', '8534598962957089432', '4018514625166792552', '786180501610524912', '9035377230689064519', '5860032592949778171', '2171195774651211665', '1878285123064631465', '3073586655631318158', '8278259837186697390', '5583581363455555330', '129625895882063694', '1284087864312881774', '3303046386492256209', '3466039633467468673', '2938493385299479932', '5603539148943115530', '1135322102056196905', '2655222678313874019', '105298836271434651', '6596219489457385738', '9082108044614438494', '8590060190724822484']), ('mapreader', 'numLocations=8,maxDistanceApart=4,includeDoors=0,maxDistractorItemsPerLocation=0', 4): (['put map in box', 'move north', 'move north', 'take coin', 'move south', 'move south', 'take map', 'put coin in box'], ['6330437387040063650', '3802542029623454021', '4586351188912673051', '3350017601492821901', '6220884125696736276', '8754062679252758355', '2631070350129869081', '7348220499018599783', '6858049138363930847', '8379701004595745725', '5456278657366317184', '7251979955985071349', '5242428732507264349', '6512812833620736205', '1724877921692603238', '4541856944411231657', '4322566627172638046', '5268686231535909973', '7821536424165457112', '1631723929700197549', '8688975570213929838']), ('coin', 'numLocations=6,includeDoors=1,numDistractorItems=0', 0): (['move east', 'open door to north', 'move west', 'open door to north', 'open door to south', 'close door to north', 'move east', 'move north', 'close door to south', 'take coin'], ['1756350467653046980', '4375049857362498870', '1353989425094889894', '9116191371925328105', '6802381039441606409', '9035151974182196646', '8183245525925622429', '111727931834126643', '2721453173403460186', '5643696992648598910', '905334268114710452', '325534045349418603']), ('mapreader', 'numLocations=11,maxDistanceApart=5,includeDoors=0,maxDistractorItemsPerLocation=0', 2): (['put map in box', 'move south', 'move east', 'move south', 'take coin', 'move north', 'move west', 'move north', 'take map', 'put coin in box'], ['5246161896569605335', '4352884037465458480', '6081428046832638433', '9047387626297389087', '3781535739787571704', '7810418987331473006', '3442478404124674415', '3468692893596660256', '2666040169438051244', '3655458847878646683', '7583012051713317291', '3426529649000328567', '8815698033526728240', '2863398517567496924', '5192406498804226507', '8242750742064202884', '6396046590758714342', '6139301777955098305', '5518717345291301750', '3356117848406750026', '5307716266595915990', '4467196495535347962', '5181841329337453213', '7394452822487111686', '363776388810517353', '3846940293979171120', '4290918192786637176', '2335459758643825952']), ('mapreader', 'numLocations=5,maxDistanceApart=3,includeDoors=0,maxDistractorItemsPerLocation=0', 1): (['move west', 'take coin', 'move east', 'put coin in box'], ['6831875721688174626', '9081151164032257644', '3923815140881465669', '4822647157043620344', '7301579144284342510', '7311549184039489284', '3263246152073513619', '4354383365104397559']), ('mapreader', 'numLocations=15,maxDistanceApart=8,includeDoors=0,maxDistractorItemsPerLocation=0', 1): (['put map in box', 'move south', 'move east', 'move east', 'move east', 'move north', 'move west', 'move north', 'move north', 'move west', 'move south', 'take coin', 'move north', 'move east', 'move south', 'move south', 'move east', 'move south', 'move west', 'move west', 'move west', 'move north', 'put coin in box'], ['7374954482965657201', '5211633261363764529', '156442284713071850', '2012030204372274026', '7343046071855768559', '392328492660164889', '3260136875269052257', '1024853022418692492', '8026823959054262553', '5032618234729585444', '5104343787523431525', '6199958224129522607', '7736600214237121562', '4531889542971284245', '6630643375647096563', '1279482158815407438', '5106533373482565218', '5627530274520485745', '2376628918559811838', '964188183821244801', '1012340304962215441', '1372133580998842841', '813337303240381307', '984550666877189532', '5658198186457058250', '8102669911967814708', '3895711067114584026', '1084989808955395410', '697339514615816202']), ('coin', 'numLocations=10,includeDoors=1,numDistractorItems=0', 0): (['move west', 'open door to north', 'open door to south', 'move west', 'move south', 'move east', 'close door to north', 'open door to south', 'move west', 'move north', 'move east', 'open door to south', 'close door to north', 'move west', 'move south', 'move east', 'close door to south', 'move west', 'move north', 'move east', 'move east', 'open door to east', 'move west', 'move west', 'move south', 'move east', 'close door to north', 'open door to south', 'move south', 'move north', 'open door to north', 'close door to south', 'move north', 'open door to north', 'move south', 'open door to south', 'move west', 'move north', 'move east', 'close door to north', 'move east', 'open door to south', 'open door to north', 'move south', 'move north', 'take coin'], ['511960801990812166', '2498499538812713118', '1490241038856015290', '3693261163811765677', '463551194526520600', '2305504411882846342', '7729955504249534643', '6045919246084729838', '1621292188293735266', '2656729171208310713', '4684552898754137771', '2350703028989746815', '6092124505324886442', '3171868463102838326', '3187284276759086880', '5978044322030367439', '6574084258230316531', '6244240672755698632', '1835180144533045522', '7338601201169509742', '5715000472285749191', '6263190423250017490', '5395057983280249888', '1267206957067630606', '5015571777591371646', '785045710384757583', '5933940870466734728', '4817750607598858309', '3046087473139674950', '5893739511498573798', '1912481410190660858', '9175529880104194803', '1614889008638389111', '1969758558225960273', '4628859658858392712', '3230160302693774390', '6985294647433597880', '2037357510495421520', '5281018142511391981', '1106519854345675342', '7712087536214456823', '2283843944142084080', '1084190197813747668', '3284287353786838917', '2453396561896784495', '1635659287889753050', '1152129290756415298', '9083159465653739037', '1082691003525562720', '8466519792790899487']), ('coin', 'numLocations=10,includeDoors=1,numDistractorItems=0', 1): (['open door to west', 'open door to south', 'close door to west', 'move south', 'move north', 'open door to west', 'close door to south', 'move west', 'move north', 'take coin'], ['4999697483417826871', '1424871225918285550', '7166489614367810064', '8658734401061414289', '1214611949107278150', '1791223996758606408', '518827420968105838', '6531604270107550711', '1583812597970962553', '5399431111999449080', '1118547512398834972', '2549496948111323213', '7895736575424698237']), ('mapreader', 'numLocations=15,maxDistanceApart=8,includeDoors=0,maxDistractorItemsPerLocation=0', 0): (['move west', 'move west', 'move north', 'move north', 'move east', 'move north', 'move east', 'move south', 'take coin', 'move north', 'move west', 'move south', 'move west', 'move south', 'move south', 'move east', 'move east', 'put map in box', 'take map', 'put coin in box'], ['9004503552217107212', '3969999098434308214', '7867861784900442797', '911634385752118147', '3769752764058931707', '5940058619557557980', '970918309846500825', '6026785637580717459', '6635741583688590813', '3768570332332225350', '5436910705743038010', '4919522715521005576', '2348189431519113425', '5350574808542846914', '7664203246607024273', '2100199345062843126', '6959428464350837320', '6407391791826950527', '885141646392504056', '4049779216197382320', '5975810540870513379', '7754264786595801844', '969485290116062231', '7864680120686473420', '5531682685053666772', '827927684808600648', '6483679311820752077', '8311329349829630052', '318445655029253810', '1930847835076031571', '6303991051341468917', '3235070950422682685', '8012311200898076027', '2615440711137166363', '8821655897327102970', '7663234041388187815', '2799473071577967979', '5231628339986143682', '5656866039447331322', '7833968614504281624', '2105110619969695918', '6366289320075234603']), ('mapreader', 'numLocations=11,maxDistanceApart=5,includeDoors=0,maxDistractorItemsPerLocation=0', 3): (['move west', 'move west', 'take coin', 'move east', 'move east', 'put map in box', 'put coin in box'], ['3947951627410761762', '283258660380061568', '1870450303387860925', '7873990995007954082', '254405368851644263', '869798667628221987', '866618347460149632', '3458217771120616688', '5132790381113774419', '1582903965599590963', '5100945035763052478', '2807704358314194131', '763330614606897764', '4573104764851766051', '5790121170323666336', '169387173883389945', '6742899559353148576', '4385547795299249538', '2983469410483413346', '1228795544223846163', '6760118879401073222', '32843386248996301', '8999329116136277398', '3053829036812436394']), ('mapreader', 'numLocations=5,maxDistanceApart=3,includeDoors=0,maxDistractorItemsPerLocation=0', 0): (['move west', 'move north', 'take coin', 'move south', 'move east', 'put map in box', 'take map', 'put coin in box'], ['3993110345962715057', '6009422220421610623', '4878597192573963320', '1481155452609740949', '8124098398288934599', '1626198231316360355', '5053263717686584828', '6192086958075453998', '6760946725013381291', '296483452017820127', '7817289426439414607', '1446904190557143923']), ('coin', 'numLocations=6,includeDoors=1,numDistractorItems=0', 1): (['open door to west', 'open door to south', 'close door to west', 'move south', 'move north', 'open door to west', 'close door to south', 'move west', 'close door to east', 'open door to north', 'move north', 'close door to south', 'open door to north', 'move north', 'open door to north', 'close door to south', 'move north', 'move south', 'close door to north', 'open door to south', 'open door to north', 'move south', 'close door to north', 'open door to south', 'open door to north', 'move south', 'open door to east', 'move east', 'open door to south', 'move west', 'move north', 'move north', 'close door to south', 'close door to north', 'open door to south', 'move south', 'close door to north', 'move south', 'close door to east', 'take coin'], ['4488270507863952860', '3792376998939647166', '2976290950003757756', '7442023454092564895', '8146060266367508465', '3973936630716995008', '1971387785865085283', '8050568883218633738', '3251594102665588702', '1052603167256360540', '19621031480702257', '1246820252657910364', '8394323270479745571', '6422309681629215206', '8883938033643841733', '7764670040398185553', '6785918537784942423', '490858242600636728', '6418952502797906301', '5885256213050069511', '4028589319965057875', '7205493576765789141', '1044614305724554075', '7059087667183509463', '3072109462695825562', '5587323754043825004', '2252709603340779232', '5753909593051118541', '6549279956614531258', '5397223318070596498', '2509832144066566023', '4208392250415878911', '7548813370937121740', '5688249543011833772', '2912338536397805466', '1189779910204724811', '8908601797348670342', '3455895064900109365', '338350037646635890', '9140596502240973802', '3589737412148520973', '5752449791318972435', '8876875571946748956', '6579115141981763138', '1106400209782582528', '2047585918690642077']), ('coin', 'numLocations=7,includeDoors=1,numDistractorItems=0', 0): (['move west', 'open door to north', 'move east', 'open door to north', 'move north', 'move south', 'move west', 'close door to north', 'open door to south', 'move south', 'close door to north', 'open door to west', 'move west', 'close door to east', 'take coin'], ['6436371718880574326', '2478324085405020782', '5060193202145548918', '2710555847679985096', '4926295546294240867', '5267550565414039395', '1489524271244479499', '5945320336694030064', '6954387277718147543', '3143345616438783048', '3229907004390065930', '1243005342400999200', '8177875046778162627', '235925421069172809', '6050920123444433495', '1910766114940014448', '4959977945131164623']), ('mapreader', 'numLocations=11,maxDistanceApart=5,includeDoors=0,maxDistractorItemsPerLocation=0', 4): (['put map in box', 'move east', 'move south', 'move south', 'move south', 'move east', 'take coin', 'move west', 'move north', 'move east', 'move north', 'move west', 'move north', 'move west', 'take map', 'put coin in box'], ['2325640757823652968', '193687068916193699', '8676639811497650040', '1624437210852695917', '3084833071643889290', '8439435076672980817', '1077847098369510204', '2576628823632539510', '1585550751401491022', '6688267249530747625', '7694369149765403622', '8005044229876885329', '7684986089495907371', '212599918589561178', '3984509253017390596', '9168725432190784404', '2052513965771747406', '4296387886684567894', '1406246410634689071', '2800410545897903004', '4568095342687402047', '6100546169427956199', '6990092294330601791', '8786186102400128201', '4827522367074608361', '638118506028930253', '2640183039255651458', '290221234183795166', '7187469175381069270', '7377480348671821891']), ('mapreader', 'numLocations=8,maxDistanceApart=4,includeDoors=0,maxDistractorItemsPerLocation=0', 2): (['put map in box', 'move east', 'move south', 'take coin', 'move north', 'move west', 'take map', 'put coin in box'], ['1358125965252101180', '2293002559795552131', '262731433900420506', '7186340297217174516', '7964666370897455317', '5053576855114635379', '5768372333123251736', '6307563651494234484', '5779509980652830157', '198021161797556127', '8827690401924576386', '5871231518184718645', '3115204180319395792', '3462550955789114633', '5334436551702741891', '4396312024607681016', '7004001674575406030', '7753943538018178002', '8714082983580577165', '778232761718093071', '3812388707258023870', '2101525717849924827']), ('coin', 'numLocations=5,includeDoors=1,numDistractorItems=0', 1): (['open door to west', 'open door to south', 'close door to west', 'move south', 'move north', 'open door to west', 'close door to south', 'move west', 'close door to east', 'open door to north', 'move north', 'close door to south', 'open door to north', 'move north', 'move south', 'open door to south', 'close door to north', 'move south', 'open door to east', 'move east', 'close door to west', 'open door to south', 'open door to west', 'move west', 'close door to east', 'take coin'], ['4217935318454807278', '3447556117120536113', '4892531284877061233', '2091434847216547580', '7140936819516099107', '5389839544370146895', '7938545241281982424', '113880296713578619', '4564327334273947663', '1580649781217725284', '8157856988320670470', '7840366121632848776', '5998394829157766748', '3951321217842606414', '6352938106525118035', '1735475464157150267', '1623413999078439006', '3609671248114085467', '7078283936904364834', '8851333981317347691', '333490221292675060', '6453333275557215365', '8150076366309729669', '3561220887727964373', '3702100157088919089', '7329236703101074720', '6851496181058174427', '5481645546130699923', '164215212231478506', '6079269682690095184', '6781125756537994120', '2283814356552308892']), ('coin', 'numLocations=5,includeDoors=1,numDistractorItems=0', 0): (['open door to south', 'move west', 'open door to west', 'move east', 'close door to south', 'move west', 'move west', 'move east', 'close door to west', 'move east', 'open door to south', 'open door to north', 'close door to south', 'move north', 'move south', 'close door to north', 'move west', 'open door to west', 'move east', 'open door to south', 'take coin'], ['545289667275045926', '8233152276948599743', '980570304238816303', '485040174777515363', '2516563796218684120', '7752380341698033827', '1117871110061422378', '6655982133432072625', '3816751025289885033', '3249236291588214468', '5552154922870489354', '8133330971896228949', '4450224214104333543', '8684405367807721330', '4083270600541282711', '1592143919886688756', '6427366040571378623', '7123656960488073237', '5095223991365114507', '7983908315928633880', '8963077705180948582', '8770046077523733860', '1925798102159466931', '8800721083197243480', '2677137629335140214', '2920429755680644978']), ('mapreader', 'numLocations=8,maxDistanceApart=4,includeDoors=0,maxDistractorItemsPerLocation=0', 3): (['move north', 'take coin', 'move south', 'put coin in box'], ['7974385339077285693', '6208734424417356221', '2840585449518846690', '3657721748936283542', '5012394794012663310', '5291368647383941123', '9092374138114382173', '5627575060534321456', '2278313318470398853', '7762456534228870966', '2900415936105239112']), ('coin', 'numLocations=10,includeDoors=1,numDistractorItems=0', 4): (['open door to east', 'open door to west', 'take coin'], ['7849996161579834707', '1611621057412890540', '4509052392393140066', '3580493117711845351']), ('coin', 'numLocations=6,includeDoors=1,numDistractorItems=0', 4): (['move west', 'open door to west', 'move west', 'move east', 'close door to west', 'move east', 'open door to east', 'move east', 'move west', 'move west', 'open door to west', 'move east', 'close door to east', 'move west', 'move west', 'close door to east', 'open door to south', 'move south', 'close door to north', 'take coin'], ['4249627454250543069', '5598137737641270894', '5488473673741166549', '8468314687648812529', '2549093054019995191', '5076055029651545842', '5874380499501738740', '5437145438912035131', '7839932803816291190', '7916247461916876749', '5147122155218275093', '3520048278819225928', '1563162364574651636', '2536211288397437433', '4036266099212364484', '7712193849983072524', '5694225012063473717', '7473396727159484386', '7906336961559608891', '8636986141711860035', '5978650820519244428', '4873396383995197142', '7903648252010085583']), ('coin', 'numLocations=5,includeDoors=1,numDistractorItems=0', 3): (['open door to west', 'open door to south', 'close door to west', 'move south', 'open door to east', 'move north', 'open door to west', 'move south', 'close door to north', 'move east', 'take coin'], ['5808350833824999155', '5547838923142795104', '7170804246628967398', '6105920337188136448', '5616303299581023191', '1455680123783426836', '313243878345470226', '2795430108607075864', '249453566920198257', '6857823182008056456', '1313380194810578191', '5409313521016815030']), ('mapreader', 'numLocations=8,maxDistanceApart=4,includeDoors=0,maxDistractorItemsPerLocation=0', 0): (['move north', 'move north', 'take coin', 'move south', 'move south', 'put map in box', 'put coin in box'], ['4774940442955690918', '283321435416122077', '3368546518253677987', '7360902161492913835', '9104625842329046643', '1385787190637793400', '6965628449335386299', '3842637338390189039', '2925441830628233707', '607007825263988506', '1369027890086925956', '7380655735631143635', '7200757642248625825']), ('coin', 'numLocations=7,includeDoors=1,numDistractorItems=0', 4): (['open door to south', 'move south', 'move north', 'close door to south', 'move west', 'open door to south', 'move south', 'move north', 'close door to south', 'open door to west', 'move west', 'take coin'], ['7046142475583137087', '3813541779326046951', '7344906302064668309', '8930965145363578122', '1796347894806839520', '6430201817267814326', '9001432330812698284', '5503792842562185651', '4561277639764806664', '1737297123606769248', '6768706903332635741', '1849353895322237135', '3169074886787346727', '2216979487654288925', '889777055918383142', '7844343652127314701']), ('mapreader', 'numLocations=8,maxDistanceApart=4,includeDoors=0,maxDistractorItemsPerLocation=0', 1): (['move north', 'move north', 'take coin', 'move south', 'move south', 'put coin in box'], ['2300390463139896192', '7955857781098764885', '3520443083568273438', '2654479043766249433', '9035004766647782051', '5265468972362413253', '5895453716093822067', '4575264358263059106', '698743883379138719', '8562346048110907381', '2818137547002506350']), ('coin', 'numLocations=5,includeDoors=1,numDistractorItems=0', 2): (['open door to east', 'take coin'], ['7725085277310925896', '3663654359325209131', '3327961562966631293']), ('mapreader', 'numLocations=5,maxDistanceApart=3,includeDoors=0,maxDistractorItemsPerLocation=0', 4): (['put map in box', 'move south', 'move east', 'take coin', 'move west', 'move north', 'take map', 'put coin in box'], ['7394175437046721655', '4848144088839052674', '5534583521146078797', '3414087963800175533', '995788656715082651', '2965008463764830233', '547014505498516109', '5599425678773508099', '5747623052329200142', '443388691902343506', '7776826699934745131', '4673096140906898263', '3238711363733626588', '7378602408844768514', '7116966484602659774']), ('mapreader', 'numLocations=15,maxDistanceApart=8,includeDoors=0,maxDistractorItemsPerLocation=0', 4): (['move east', 'move south', 'move south', 'move east', 'move north', 'take coin', 'move south', 'move west', 'move north', 'move north', 'move west', 'put coin in box'], ['724378826266626036', '3718248393255533594', '6461047267236439305', '5063058690347100843', '1148647797638790130', '7323819885775313674', '1751260711578635872', '4919467989520119505', '7972033225250125593', '3039263945108625973', '2923765910546253144', '7600540498849005130', '1752024422430268350', '4436873599106413165', '8936265007317573764', '3169976114395513357', '2785574854557254782', '5241597179713621807', '7597414773265293011', '36848433578269989', '7441703231789286571', '5075102621029352121']), ('coin', 'numLocations=7,includeDoors=1,numDistractorItems=0', 3): (['open door to west', 'open door to east', 'close door to west', 'move east', 'take coin'], ['1445226758200096324', '8724161856204698394', '8969253101153659873', '5404887995195605648', '8175254086992094860', '7106552524351651316']), ('coin', 'numLocations=10,includeDoors=1,numDistractorItems=0', 2): (['move north', 'open door to west', 'move west', 'take coin'], ['6220905860443164791', '4324223770852947421', '718602374896348491', '4357946120957470095', '5518979813860774570']), ('mapreader', 'numLocations=15,maxDistanceApart=8,includeDoors=0,maxDistractorItemsPerLocation=0', 3): (['move east', 'move east', 'move south', 'move west', 'move south', 'move east', 'move south', 'move east', 'move south', 'take coin', 'move north', 'move north', 'move west', 'move north', 'move north', 'move west', 'move west', 'put coin in box'], ['819663206536857864', '1146383608818077983', '8438200732882954433', '3465713432421798564', '403131949952693770', '296398524366795574', '259835115148217151', '4873332534215165801', '898283986327979646', '627039475406023269', '1975592626355762098', '5383424906529327408', '7436410688974358279', '7867159334532696320', '4911421197733660481', '7898126990015831593', '138023732270812317', '1012372654637527184', '5129669070228814738', '7643410266288259059', '3589860539969635775', '337556194670370094', '5466589447429297371', '3417976630679560860', '4783772733905471196', '1628136351284691994', '6523186786961344658', '5620008032820424041', '1339290168992367712']), ('mapreader', 'numLocations=5,maxDistanceApart=3,includeDoors=0,maxDistractorItemsPerLocation=0', 3): (['put map in box', 'move north', 'move west', 'take coin', 'move south', 'move east', 'put coin in box'], ['1948860466081925177', '29799242559409425', '7724779375227097791', '3035653154158520626', '3534804650226580036', '8174360647110884919', '2903304731066909315', '3452851728980635869', '5511098983687928705', '5100622517241679369', '3338104652733998464']), ('mapreader', 'numLocations=11,maxDistanceApart=5,includeDoors=0,maxDistractorItemsPerLocation=0', 0): (['put map in box', 'move north', 'move east', 'move north', 'move east', 'take coin', 'move west', 'move south', 'move west', 'move south', 'put coin in box'], ['6821676220897427723', '2195340934917942193', '219835089746634443', '8614677683673505960', '1438904299906728031', '4332408267091441723', '6659556477628391932', '8846129839161144991', '340768920267239449', '8656714633969279235', '9043492700548742541', '8526144863250170231', '9082955272841211563', '5517060085829861882', '4251561956824263826']), ('coin', 'numLocations=6,includeDoors=1,numDistractorItems=0', 2): (['open door to west', 'move south', 'open door to west', 'move west', 'move east', 'open door to east', 'move north', 'close door to west', 'move east', 'open door to south', 'move south', 'take coin'], ['7741356493555517856', '8657776161387303120', '4582279808949384915', '3109095658215166547', '6233306173979075986', '2586455636535920941', '8072661938886206770', '1141684258706979480', '9115984389012320412', '5077128907292290076', '2202969582866211253', '1309847154066831172', '2776827730769445620']), ('coin', 'numLocations=6,includeDoors=1,numDistractorItems=0', 3): (['move east', 'open door to east', 'move west', 'open door to north', 'move east', 'open door to north', 'move north', 'move south', 'move east', 'move west', 'close door to east', 'close door to north', 'open door to east', 'move west', 'move north', 'move south', 'move east', 'open door to north', 'close door to east', 'move north', 'close door to south', 'open door to north', 'move north', 'move south', 'open door to south', 'move south', 'open door to east', 'close door to north', 'close door to east', 'move west', 'close door to north', 'move east', 'open door to north', 'move north', 'move north', 'close door to south', 'take coin'], ['5524961797667140739', '5730806173443308148', '4617348404066411374', '1976246772018611576', '3482861718213968034', '6841193285504081342', '2502823067534835164', '8955978514745593188', '1625049195562929405', '7685789590822101706', '9106179892666257246', '7234959416162955559', '7457987813340997269', '4268907671335163818', '4182950359349511360', '3811656297478584820', '1365189572279625476', '6223784151115386506', '5940286326910762250', '1793328438802722180', '6059091320788921430', '5469634817223348329', '5541237600144691287', '8795349098791847405', '6150827557447342057', '4622706943558863653', '5355846690229117538', '2463782662726148758', '1465666434294690372', '1725439980001069144', '1179970085908428310', '6833970629548838341', '8994210159104526031', '1837926757676912893', '6440302915557168589', '3185911302914619566', '1414423790006192937', '7313225901324027562']), ('mapreader', 'numLocations=5,maxDistanceApart=3,includeDoors=0,maxDistractorItemsPerLocation=0', 2): (['put map in box', 'move east', 'move south', 'take coin', 'move north', 'move west', 'put coin in box'], ['2226750544973865832', '297781355585197295', '1018122779180782647', '3564110435760299339', '7102825634114360212', '1802871359280789253', '4493673259475312309', '2897644906301842216', '2445564244142130226', '6336061939079685627']), ('mapreader', 'numLocations=11,maxDistanceApart=5,includeDoors=0,maxDistractorItemsPerLocation=0', 1): (['put map in box', 'move south', 'move east', 'move north', 'move north', 'take coin', 'move south', 'move east', 'move south', 'move west', 'move west', 'move north', 'put coin in box'], ['8515956654747878962', '6203804937177222683', '3298244697333463544', '8408497124764085484', '4727373302907562591', '7203864386277642028', '5594035162934782007', '80973395005310866', '5749796608237222669', '151658521939631722', '3005764361332488848', '3650943832602972514', '1799564689050669230', '6578809239208793413', '7631480467593353102', '7406911629083464131', '4875378159852775515', '6290733456458148785', '61233055463333064', '2391029394694213995']), ('mapreader', 'numLocations=15,maxDistanceApart=8,includeDoors=0,maxDistractorItemsPerLocation=0', 2): (['put map in box', 'move south', 'move west', 'move north', 'move west', 'move north', 'move north', 'move north', 'take coin', 'move south', 'move south', 'move east', 'move south', 'move west', 'move south', 'move east', 'move east', 'move north', 'take map', 'put coin in box'], ['74412142839715489', '8432122457692616202', '3083779422476788176', '3772693459634179403', '4336818555134761667', '8470191683047078064', '2947131244389951305', '2421166442468839951', '506251069488926228', '9039744023198510883', '3599435492528322901', '3181562086360125232', '2237682344006532137', '2108757182704501619', '967077954657793458', '7210161322851315558', '5340284615370002572', '3187880993262158624', '1953212122125614631', '4228019823934409412', '8485360204276360003', '743955393911728902', '4347517483631921496', '2376090714798431788', '2532604792774809551', '3600901239272970211', '1292483568362617060', '8433782931553256244', '7138091367188865048', '5771145980441147872', '747523245906190118', '1922347164326440945', '1899026321396986243', '5873078128060380250', '2167953107863207304', '6150087212950006764', '2009954841543512983']), ('coin', 'numLocations=10,includeDoors=1,numDistractorItems=0', 3): (['move east', 'open door to south', 'open door to east', 'move west', 'open door to south', 'move south', 'move north', 'open door to north', 'close door to south', 'close door to north', 'move east', 'move south', 'move north', 'open door to north', 'move south', 'close door to north', 'take coin'], ['8925781481976834312', '760109494005608227', '2029492058130994078', '2459118112037329470', '8985604160466409253', '5429954174502630883', '9184892221812232278', '6023016067470922909', '8784566538220186223', '2252408537045682646', '8110933157568835360', '870701501339790032', '6549867118604393725', '5497958564140131425', '2329768032626456320', '416482807577466713', '5882272239261824746', '8647495801306601875']), ('coin', 'numLocations=7,includeDoors=1,numDistractorItems=0', 2): (['move south', 'open door to south', 'move south', 'move north', 'close door to south', 'move north', 'open door to west', 'move west', 'move east', 'open door to north', 'move east', 'open door to north', 'move west', 'close door to west', 'move south', 'open door to south', 'move north', 'open door to west', 'close door to north', 'move south', 'close door to south', 'move north', 'close door to west', 'move south', 'open door to south', 'move north', 'move east', 'close door to north', 'move west', 'open door to west', 'move east', 'open door to north', 'move north', 'move south', 'move west', 'close door to west', 'open door to north', 'move north', 'move south', 'open door to west', 'move south', 'close door to south', 'move north', 'close door to north', 'move south', 'open door to south', 'move north', 'close door to west', 'move east', 'move north', 'close door to south', 'take coin'], ['1804606779407353578', '4052191059652869754', '5237640856615850978', '6290309872087797619', '5858859917628657093', '7002029837022606377', '7798525528124833397', '4282620917189744925', '7858737259795901795', '1011606662513311045', '3438713713160847129', '6400787755715367569', '8441425137150362202', '3461095179211231004', '8805805840063387371', '8751998517819606609', '5575909298120556642', '7606403000460208266', '3646638876901803251', '1178063597293407308', '1931778497040680147', '1973301153249700395', '2767056256023918230', '7261353200719836785', '4729914873602846294', '1785231981239268519', '5148926115247894273', '4193081405216567977', '817043003603617161', '2104342891605555706', '6551044093642921748', '123130894241479709', '9098842592410414986', '424180859513833373', '1709603240125410059', '4695736362576693081', '4304364067320167453', '4297405376927590763', '1864030864738092063', '80102621246374723', '4650667561888469133', '8871284407339101516', '6233075840628928926', '696021253334687531', '261015573775516632', '2244267321634496614', '6733669068560336719', '3061457313010419594', '8173706963906546003', '2225678218029153256', '6863438893373015515', '7552683335577817226', '240759361051750943', '6456570095089941492', '5260373678246014603', '6936475360319641305', '7250763521984482302', '2905406924929283645', '2591268864060935996', '5280388287194113562', '1281203057219804887', '1468249233911353772', '7342499314332090149', '6823457028047902525', '8082350174401240677', '9060987022919520536', '4160198408526775860', '4706150103867130684', '446069708148762319', '6552946154172906177', '6349809996542284705', '7453281445131853574', '8172591172395939037', '8469190502737947743', '6583852293549622546', '3411864036920661450']), ('coin', 'numLocations=5,includeDoors=1,numDistractorItems=0', 4): (['open door to south', 'move south', 'move north', 'move north', 'open door to west', 'move south', 'open door to east', 'move east', 'move west', 'close door to south', 'move north', 'close door to west', 'move south', 'close door to east', 'move north', 'open door to west', 'move west', 'move east', 'move south', 'open door to south', 'open door to east', 'move north', 'move west', 'take coin'], ['2555304362369424509', '5417982985073605877', '116994845595236170', '7366285411764165153', '5832608788708322165', '1518811561358960316', '5477420781767656907', '4994494389256418354', '3124716611681356265', '399104899099351840', '1049644055134007797', '9023689419383646776', '230058015679996522', '4802699482305721492', '194280886301343644', '7754055666820703871', '3921995689007239241', '8706261015901435095', '6110060829028620017', '5039798701722264744', '9174934054499018214', '1136043971114064616', '399568940460307270', '5120949881178794484', '4902639128321119489', '4490880410991607107', '6696413970588720767', '6708149032752607655'])}\n"
     ]
    }
   ],
   "source": [
    "# DFS results\n",
    "output_dir = 'student_outputs'\n",
    "os.makedirs(output_dir, exist_ok=True)\n",
    "\n",
    "results = run_all_environments(algorithm=dfs)\n",
    "print(results)\n",
    "with open('student_outputs/dfs.txt', 'w') as f:\n",
    "    f.write(str(results))"
   ]
  },
  {
   "cell_type": "code",
   "execution_count": 67,
   "metadata": {
    "colab": {
     "base_uri": "https://localhost:8080/"
    },
    "executionInfo": {
     "elapsed": 118293,
     "status": "ok",
     "timestamp": 1727280744618,
     "user": {
      "displayName": "Sanskriti Gupta",
      "userId": "14423739044698282671"
     },
     "user_tz": 240
    },
    "id": "FdE5BOv8eV5n",
    "outputId": "68e182c3-69e1-46b3-ecb3-ef235bf56f3a"
   },
   "outputs": [
    {
     "name": "stdout",
     "output_type": "stream",
     "text": [
      "============ game=coin params=numLocations=7,includeDoors=1,numDistractorItems=0 seed=1 ============\n",
      "============ game=mapreader params=numLocations=8,maxDistanceApart=4,includeDoors=0,maxDistractorItemsPerLocation=0 seed=4 ============\n",
      "============ game=coin params=numLocations=6,includeDoors=1,numDistractorItems=0 seed=0 ============\n",
      "============ game=mapreader params=numLocations=11,maxDistanceApart=5,includeDoors=0,maxDistractorItemsPerLocation=0 seed=2 ============\n",
      "============ game=mapreader params=numLocations=5,maxDistanceApart=3,includeDoors=0,maxDistractorItemsPerLocation=0 seed=1 ============\n",
      "============ game=mapreader params=numLocations=15,maxDistanceApart=8,includeDoors=0,maxDistractorItemsPerLocation=0 seed=1 ============\n",
      "============ game=coin params=numLocations=10,includeDoors=1,numDistractorItems=0 seed=0 ============\n",
      "============ game=coin params=numLocations=10,includeDoors=1,numDistractorItems=0 seed=1 ============\n",
      "============ game=mapreader params=numLocations=15,maxDistanceApart=8,includeDoors=0,maxDistractorItemsPerLocation=0 seed=0 ============\n",
      "============ game=mapreader params=numLocations=11,maxDistanceApart=5,includeDoors=0,maxDistractorItemsPerLocation=0 seed=3 ============\n",
      "============ game=mapreader params=numLocations=5,maxDistanceApart=3,includeDoors=0,maxDistractorItemsPerLocation=0 seed=0 ============\n",
      "============ game=coin params=numLocations=6,includeDoors=1,numDistractorItems=0 seed=1 ============\n",
      "============ game=coin params=numLocations=7,includeDoors=1,numDistractorItems=0 seed=0 ============\n",
      "============ game=mapreader params=numLocations=11,maxDistanceApart=5,includeDoors=0,maxDistractorItemsPerLocation=0 seed=4 ============\n",
      "============ game=mapreader params=numLocations=8,maxDistanceApart=4,includeDoors=0,maxDistractorItemsPerLocation=0 seed=2 ============\n",
      "============ game=coin params=numLocations=5,includeDoors=1,numDistractorItems=0 seed=1 ============\n",
      "============ game=coin params=numLocations=5,includeDoors=1,numDistractorItems=0 seed=0 ============\n",
      "============ game=mapreader params=numLocations=8,maxDistanceApart=4,includeDoors=0,maxDistractorItemsPerLocation=0 seed=3 ============\n",
      "============ game=coin params=numLocations=10,includeDoors=1,numDistractorItems=0 seed=4 ============\n",
      "============ game=coin params=numLocations=6,includeDoors=1,numDistractorItems=0 seed=4 ============\n",
      "============ game=coin params=numLocations=5,includeDoors=1,numDistractorItems=0 seed=3 ============\n",
      "============ game=mapreader params=numLocations=8,maxDistanceApart=4,includeDoors=0,maxDistractorItemsPerLocation=0 seed=0 ============\n",
      "============ game=coin params=numLocations=7,includeDoors=1,numDistractorItems=0 seed=4 ============\n",
      "============ game=mapreader params=numLocations=8,maxDistanceApart=4,includeDoors=0,maxDistractorItemsPerLocation=0 seed=1 ============\n",
      "============ game=coin params=numLocations=5,includeDoors=1,numDistractorItems=0 seed=2 ============\n",
      "============ game=mapreader params=numLocations=5,maxDistanceApart=3,includeDoors=0,maxDistractorItemsPerLocation=0 seed=4 ============\n",
      "============ game=mapreader params=numLocations=15,maxDistanceApart=8,includeDoors=0,maxDistractorItemsPerLocation=0 seed=4 ============\n",
      "============ game=coin params=numLocations=7,includeDoors=1,numDistractorItems=0 seed=3 ============\n",
      "============ game=coin params=numLocations=10,includeDoors=1,numDistractorItems=0 seed=2 ============\n",
      "============ game=mapreader params=numLocations=15,maxDistanceApart=8,includeDoors=0,maxDistractorItemsPerLocation=0 seed=3 ============\n",
      "============ game=mapreader params=numLocations=5,maxDistanceApart=3,includeDoors=0,maxDistractorItemsPerLocation=0 seed=3 ============\n",
      "============ game=mapreader params=numLocations=11,maxDistanceApart=5,includeDoors=0,maxDistractorItemsPerLocation=0 seed=0 ============\n",
      "============ game=coin params=numLocations=6,includeDoors=1,numDistractorItems=0 seed=2 ============\n",
      "============ game=coin params=numLocations=6,includeDoors=1,numDistractorItems=0 seed=3 ============\n",
      "============ game=mapreader params=numLocations=5,maxDistanceApart=3,includeDoors=0,maxDistractorItemsPerLocation=0 seed=2 ============\n",
      "============ game=mapreader params=numLocations=11,maxDistanceApart=5,includeDoors=0,maxDistractorItemsPerLocation=0 seed=1 ============\n",
      "============ game=mapreader params=numLocations=15,maxDistanceApart=8,includeDoors=0,maxDistractorItemsPerLocation=0 seed=2 ============\n",
      "============ game=coin params=numLocations=10,includeDoors=1,numDistractorItems=0 seed=3 ============\n",
      "============ game=coin params=numLocations=7,includeDoors=1,numDistractorItems=0 seed=2 ============\n",
      "============ game=coin params=numLocations=5,includeDoors=1,numDistractorItems=0 seed=4 ============\n",
      "{('coin', 'numLocations=7,includeDoors=1,numDistractorItems=0', 1): (['open door to east', 'move east', 'open door to east', 'move east', 'open door to east', 'move east', 'take coin'], ['2336219411370922783', '4018514625166792552', '6720114916317139470', '9150871540445843349', '5601342691946405069', '1525455206895247166', '1813977158818292198', '3170212382454994525', '4206579761007702290', '4318583922945589268', '6941220856964643145', '8534598962957089432', '3452283175311814211', '8850837696236783949', '1001170843885313447', '11553636600017345', '1519166580878314425', '1850524844196231866', '2570152311401827472', '306541961262919548', '2862158013404893711', '3701546263116358804', '4306240836847670211', '5375201442390327253', '5616199248753149019', '6216695994431316323', '1923010794977670161', '6743206781627183605', '4185322871820505240', '7225596402180468199', '7312181530175649488', '786180501610524912', '8813239339543446687', '8868692312374341039', '9035377230689064519', '9157533317973869840', '1377595183581225676', '115120755453020524', '1495286142372037828', '1816762546687345998', '1941956715917255235', '2129405538024455143', '231718915967809441', '2380469221429172910', '2386706402513999316', '2880710427969854376', '2893689730728660022', '3178369338506012241', '340831774502923497', '3438978774009977482', '3631252692563110125', '3761237210367001492', '381050666739666712', '3928535332786150034', '3518694040298666898', '4281824336666906408', '4368015699456407524', '1329123948252730906', '4579624189672637130', '4835387761338355812', '503446277438610380', '5199206899408824029', '2885618597998714372', '5246326761745642856', '5422818429721433310', '1570284429335067053', '5782649300899625545', '5207048598223200405', '5841970062461937266']), ('mapreader', 'numLocations=8,maxDistanceApart=4,includeDoors=0,maxDistractorItemsPerLocation=0', 4): (['move north', 'move north', 'take coin', 'move south', 'move south', 'put coin in box'], ['6330437387040063650', '4014523661817372109', '5438387367670309690', '3802542029623454021', '4552572119267923149', '4586351188912673051', '2631070350129869081', '5160652938835295823', '3361930102143876202', '1483336528524158034', '1893975232963349225', '5650315074059384212', '6858049138363930847', '5456278657366317184', '7251979955985071349', '8688975570213929838']), ('coin', 'numLocations=6,includeDoors=1,numDistractorItems=0', 0): (['move east', 'open door to north', 'move north', 'take coin'], ['1756350467653046980', '4375049857362498870', '1353989425094889894', '2804036219695271453', '1989594934930849599', '6767637264565556661', '68338035706658473', '7326157470637146059', '9212662723674412018', '111727931834126643', '1437794958267909866', '1688828931632313966', '3562548382186720938']), ('mapreader', 'numLocations=11,maxDistanceApart=5,includeDoors=0,maxDistractorItemsPerLocation=0', 2): (['move east', 'move south', 'move south', 'take coin', 'move north', 'move west', 'move north', 'put coin in box'], ['5246161896569605335', '389052852463852503', '4300105984501397184', '4545176357165620465', '3834878996531835497', '6081428046832638433', '6736409126139167182', '3781535739787571704', '3442478404124674415', '8944276451899154363', '397013811736838788', '4248676320339974991', '1311656654505829891', '4974192004597171248', '9047387626297389087', '9213253075563858741', '2335459758643825952']), ('mapreader', 'numLocations=5,maxDistanceApart=3,includeDoors=0,maxDistractorItemsPerLocation=0', 1): (['move west', 'take coin', 'move east', 'put coin in box'], ['6831875721688174626', '9081151164032257644', '7311549184039489284', '3263246152073513619', '7515067575976413309', '8981425136003338963', '3923815140881465669', '4354383365104397559']), ('mapreader', 'numLocations=15,maxDistanceApart=8,includeDoors=0,maxDistractorItemsPerLocation=0', 1): (['move east', 'move north', 'take coin', 'move south', 'move west', 'put coin in box'], ['7374954482965657201', '3046057235091270410', '3406275826053135860', '5211633261363764529', '4531889542971284245', '6631971008978542677', '7043130109347166183', '1331321749192377841', '7736600214237121562', '1388812868198022109', '1644531820697054065']), ('coin', 'numLocations=10,includeDoors=1,numDistractorItems=0', 0): (['take coin'], ['511960801990812166', '3471293822146554141', '4271547922315215726']), ('coin', 'numLocations=10,includeDoors=1,numDistractorItems=0', 1): (['open door to west', 'move west', 'move north', 'take coin'], ['4999697483417826871', '1424871225918285550', '141661861404033997', '3138712906461882352', '8658734401061414289', '1007153649125394757']), ('mapreader', 'numLocations=15,maxDistanceApart=8,includeDoors=0,maxDistractorItemsPerLocation=0', 0): (['move west', 'move north', 'move north', 'move north', 'move east', 'move south', 'take coin', 'move north', 'move west', 'move south', 'move south', 'move south', 'move east', 'put coin in box'], ['9004503552217107212', '4880642094611986765', '3969999098434308214', '6026785637580717459', '970918309846500825', '8818989698493869096', '3585581491515516552', '5932048649560054330', '5940058619557557980', '6635741583688590813', '3768570332332225350', '5436910705743038010', '7867861784900442797', '911634385752118147', '1903625876902645885', '2348189431519113425', '6736458962769788158', '7572922898631810749', '7664203246607024273', '8083284236451662702', '2438241596318555984', '7418722778426398373', '1405591597718712084', '2548793306261251137', '3384227634304564987', '3769752764058931707', '4872336461641722364', '4919522715521005576', '9091769264204103872', '2029965441757381458', '2100199345062843126', '3536089400867086470', '4233164816747257698', '5350574808542846914', '6746282317060807488', '8019479815555968910', '1650404820680301993', '4628810214493844140', '6959428464350837320', '6407391791826950527', '7864680120686473420', '969485290116062231', '5531682685053666772', '6366289320075234603']), ('mapreader', 'numLocations=11,maxDistanceApart=5,includeDoors=0,maxDistractorItemsPerLocation=0', 3): (['move west', 'move west', 'take coin', 'move east', 'move east', 'put coin in box'], ['3947951627410761762', '283258660380061568', '1870450303387860925', '2807704358314194131', '5337096801662248204', '6760118879401073222', '32843386248996301', '937215495643447085', '4406280868945430732', '3458217771120616688', '48112497134389501']), ('mapreader', 'numLocations=5,maxDistanceApart=3,includeDoors=0,maxDistractorItemsPerLocation=0', 0): (['move west', 'move north', 'take coin', 'move south', 'move east', 'put coin in box'], ['3993110345962715057', '6009422220421610623', '4878597192573963320', '1481155452609740949', '604778734950823965', '7374777413847616632', '4417321839042803632', '8124098398288934599', '1626198231316360355', '1446904190557143923']), ('coin', 'numLocations=6,includeDoors=1,numDistractorItems=0', 1): (['open door to west', 'move west', 'take coin'], ['4488270507863952860', '3792376998939647166', '7442023454092564895', '8190727880057998525', '2976290950003757756', '5769927385269808943', '7186671517286270124', '7259105301577883245']), ('coin', 'numLocations=7,includeDoors=1,numDistractorItems=0', 0): (['move west', 'open door to south', 'move south', 'open door to west', 'move west', 'take coin'], ['6436371718880574326', '2478324085405020782', '2851380926716753221', '5060193202145548918', '5731734738118298807', '6121365612638739512', '447653647866717221', '8567348354045412010', '1003090522012218692', '241952094040529317', '2482055483681868639', '2469547126558956647', '3130055553989292668', '3927072734123608874', '2639963455411308384', '461418084325942944', '3774831364581040199', '4708945411411951433', '5892981943936353920', '141825006998335780', '7181898993808801729', '7710491158128592407', '4116731901736000653', '8602907962244206141', '9106455474260501763', '3879769033981192445', '6001619770454696704', '103801395723468924', '1126404708173809518', '1361861555394444149', '2175066756037554813', '2394041082637327764', '2681558563869011121', '2710555847679985096', '3112217447538956524', '3398938213665242165', '3980874592183052159', '4281385793275578518']), ('mapreader', 'numLocations=11,maxDistanceApart=5,includeDoors=0,maxDistractorItemsPerLocation=0', 4): (['move east', 'move south', 'move east', 'move south', 'move south', 'take coin', 'move north', 'move north', 'move west', 'move north', 'move west', 'put coin in box'], ['2325640757823652968', '6705462352864075113', '5053230632212049343', '1431261542010921820', '3900632170047744556', '2121026828060737944', '5662350710635500702', '450323075260245412', '11244925143715833', '1491061355128642261', '193687068916193699', '2772456629043579036', '3381591282995596934', '4904271190368438992', '2719233484483316656', '6489716551914778826', '6667527464298395836', '8676639811497650040', '1624437210852695917', '1615272188488958286', '2140885345155545255', '2576628823632539510', '3084833071643889290', '8439435076672980817', '1585550751401491022', '2052513965771747406', '4561261164594613914', '6688267249530747625', '7377480348671821891']), ('mapreader', 'numLocations=8,maxDistanceApart=4,includeDoors=0,maxDistractorItemsPerLocation=0', 2): (['move east', 'move south', 'take coin', 'move north', 'move west', 'put coin in box'], ['1358125965252101180', '677155480681490509', '6572675763189597532', '6240065752985432301', '6183267299150961539', '5306646691483687438', '6879070853676067963', '7186340297217174516', '5053576855114635379', '5768372333123251736', '1620440061201947695', '2101525717849924827']), ('coin', 'numLocations=5,includeDoors=1,numDistractorItems=0', 1): (['open door to west', 'move west', 'take coin'], ['4217935318454807278', '2091434847216547580', '3447556117120536113', '6663456584361128097', '1842277941924157537']), ('coin', 'numLocations=5,includeDoors=1,numDistractorItems=0', 0): (['take coin'], ['545289667275045926', '2769398708246803122']), ('mapreader', 'numLocations=8,maxDistanceApart=4,includeDoors=0,maxDistractorItemsPerLocation=0', 3): (['move north', 'take coin', 'move south', 'put coin in box'], ['7974385339077285693', '6208734424417356221', '2278313318470398853', '267503076704330953', '7457909613495750504', '7762456534228870966', '2840585449518846690', '2900415936105239112']), ('coin', 'numLocations=10,includeDoors=1,numDistractorItems=0', 4): (['take coin'], ['7849996161579834707', '1611621057412890540', '2421733031457111612', '7869750847425208646', '8546236038776759989']), ('coin', 'numLocations=6,includeDoors=1,numDistractorItems=0', 4): (['move west', 'open door to west', 'move west', 'open door to south', 'move south', 'take coin'], ['4249627454250543069', '5598137737641270894', '3159718884424692154', '5488473673741166549', '6066706871490430232', '7172897285776149034', '6173029464351113031', '8468314687648812529', '257111150184100666', '3700080675178061037', '5890924025219738075', '5970462329300260098', '6987508529043892155', '7714350827235444571', '6603558457328084647', '8278409773259695467', '8588814965095052850', '4804576066994771532', '8593971765464343125', '6380834638974763747', '8130968129264684525', '1786390974040277498', '186112279686960842', '2194144512592957192', '2437326007734152922', '2455286158837617889', '2491713173824278159', '2549093054019995191', '3621603020794358191', '4071081947727354209', '4334111391084174884', '4653405148202643623', '4808519432266631329']), ('coin', 'numLocations=5,includeDoors=1,numDistractorItems=0', 3): (['open door to south', 'move south', 'open door to east', 'move east', 'take coin'], ['5808350833824999155', '5547838923142795104', '6105920337188136448', '5616303299581023191', '1455680123783426836', '3774536010951891995', '596888877665257512', '7170804246628967398', '5059793004304373333', '249453566920198257', '2758784565980051553', '3235702998548932833', '4144218494422858860', '5320977637620551497']), ('mapreader', 'numLocations=8,maxDistanceApart=4,includeDoors=0,maxDistractorItemsPerLocation=0', 0): (['move north', 'move north', 'take coin', 'move south', 'move south', 'put coin in box'], ['4774940442955690918', '283321435416122077', '7360902161492913835', '1797414131082699211', '2007833411765958213', '8603829738636046312', '9104625842329046643', '607007825263988506', '1369027890086925956', '3368546518253677987', '5284449386807676498']), ('coin', 'numLocations=7,includeDoors=1,numDistractorItems=0', 4): (['move west', 'open door to west', 'move west', 'take coin'], ['7046142475583137087', '7827583415387306033', '3813541779326046951', '3347214727998506316', '503773367884516012', '5413971694013111156', '3602499002863093176', '578451030584020353', '1678164004245657658', '1865588207962732233']), ('mapreader', 'numLocations=8,maxDistanceApart=4,includeDoors=0,maxDistractorItemsPerLocation=0', 1): (['move north', 'move north', 'take coin', 'move south', 'move south', 'put coin in box'], ['2300390463139896192', '7955857781098764885', '3520443083568273438', '1436897636203879172', '1748503148065633658', '2654479043766249433', '8180506144040256219', '9035004766647782051', '8562346048110907381', '2464289901443190902', '2818137547002506350']), ('coin', 'numLocations=5,includeDoors=1,numDistractorItems=0', 2): (['take coin'], ['7725085277310925896', '2260259017518904108', '3663654359325209131', '4905237855422059635']), ('mapreader', 'numLocations=5,maxDistanceApart=3,includeDoors=0,maxDistractorItemsPerLocation=0', 4): (['move south', 'move east', 'take coin', 'move west', 'move north', 'put coin in box'], ['7394175437046721655', '3025906588830093420', '6182681077981154212', '9038775284765148190', '4941932853623095245', '5534583521146078797', '3414087963800175533', '3874452917476652184', '7393003809811285045', '3401172454744681933', '995788656715082651', '2965008463764830233', '4848144088839052674', '547014505498516109', '5599425678773508099', '7116966484602659774']), ('mapreader', 'numLocations=15,maxDistanceApart=8,includeDoors=0,maxDistractorItemsPerLocation=0', 4): (['move east', 'move south', 'move south', 'move east', 'move north', 'take coin', 'move south', 'move west', 'move north', 'move north', 'move west', 'put coin in box'], ['724378826266626036', '3718248393255533594', '1172242707236816796', '6461047267236439305', '2215441480664390900', '5149984107900725349', '4989722234117314404', '5676606589825466905', '471876025454286631', '5063058690347100843', '1148647797638790130', '6856456369213731256', '7323819885775313674', '8288766822345817477', '1751260711578635872', '2585240025716309308', '466727898263273931', '4800538423481141949', '2851954529596257534', '5100588855646476283', '7509221620059763333', '461178011940225456', '5588786951047506536', '6754847983108028979', '82324354854951090', '2654533668341930498', '3340740045828977535', '4919467989520119505', '7300224367469049877', '7972033225250125593', '3039263945108625973', '2923765910546253144', '7441703231789286571', '3779348778442429296', '5075102621029352121']), ('coin', 'numLocations=7,includeDoors=1,numDistractorItems=0', 3): (['open door to east', 'move east', 'take coin'], ['1445226758200096324', '5404887995195605648', '8175254086992094860', '8724161856204698394', '2022838762523145353', '3050334498204599317', '7106552524351651316']), ('coin', 'numLocations=10,includeDoors=1,numDistractorItems=0', 2): (['move north', 'open door to west', 'move west', 'take coin'], ['6220905860443164791', '4324223770852947421', '3968045064662668605', '718602374896348491', '4357946120957470095', '8775833842263174725', '8199608712654010351', '273574749909190684', '503827251304163067', '513566323931324184', '5518979813860774570']), ('mapreader', 'numLocations=15,maxDistanceApart=8,includeDoors=0,maxDistractorItemsPerLocation=0', 3): (['move east', 'move east', 'move south', 'move south', 'move south', 'move east', 'move south', 'take coin', 'move north', 'move north', 'move west', 'move north', 'move north', 'move west', 'move west', 'put coin in box'], ['819663206536857864', '1146383608818077983', '8438200732882954433', '403131949952693770', '296398524366795574', '627039475406023269', '1975592626355762098', '5383424906529327408', '4911421197733660481', '7436410688974358279', '6754812126898388634', '2184892914021524301', '4557670489068756535', '1451454898128784696', '2280698665407494440', '2691208887885975545', '3040932474966437350', '7018777917438471643', '2221226458205759385', '7898126990015831593', '138023732270812317', '1012372654637527184', '4951751358524721155', '5129669070228814738', '5466589447429297371', '337556194670370094', '3417976630679560860', '7643410266288259059', '4783772733905471196', '6523186786961344658', '5620008032820424041', '9203768191395654316', '1339290168992367712']), ('mapreader', 'numLocations=5,maxDistanceApart=3,includeDoors=0,maxDistractorItemsPerLocation=0', 3): (['move north', 'move west', 'take coin', 'move east', 'move south', 'put coin in box'], ['1948860466081925177', '1969584766237223774', '2859938741037583739', '6003548262469528704', '29799242559409425', '3534804650226580036', '3035653154158520626', '353704899677997045', '3942683389636152777', '4672550783414671508', '7724779375227097791', '9204102920221071681', '1851978561628052211']), ('mapreader', 'numLocations=11,maxDistanceApart=5,includeDoors=0,maxDistractorItemsPerLocation=0', 0): (['move east', 'move north', 'move north', 'move east', 'take coin', 'move west', 'move south', 'move south', 'move west', 'put coin in box'], ['6821676220897427723', '4495860564327045436', '3888654777882044373', '5586722893650462818', '1694519766816182526', '779680243360067850', '7960374798304838594', '8209794527915757105', '2195340934917942193', '219835089746634443', '3432065747522509343', '2499990341869926102', '4016200452527123198', '5109044380783059105', '5132548040533224453', '7188218148991069082', '7478374865448865702', '8192118149537121719', '8203178727293978273', '8614677683673505960', '1438904299906728031', '4332408267091441723', '1268379969863351204', '4420742745605769470', '5517060085829861882', '6659556477628391932', '7172017158380144961', '7408392316919194545']), ('coin', 'numLocations=6,includeDoors=1,numDistractorItems=0', 2): (['move east', 'open door to south', 'move south', 'take coin'], ['7741356493555517856', '1435190397129730664', '5157288636930264176', '7020207181936879237', '7164088525047181058', '8075465150940553355', '8178031179769344560', '1601189108377771012', '8657776161387303120', '1323992827477452784', '4582279808949384915', '152520544872040923']), ('coin', 'numLocations=6,includeDoors=1,numDistractorItems=0', 3): (['move east', 'open door to north', 'move north', 'open door to north', 'move north', 'take coin'], ['5524961797667140739', '5730806173443308148', '1846907985332795066', '3203381135605982730', '4617348404066411374', '4682715151068415563', '1008435392882367244', '7709700675465376526', '4424135198731559968', '4525002418113857874', '5144539962663232660', '6252283301175964504', '6841193285504081342', '7272170711188548971', '8555858929185972275', '8679309400152779216', '4659213290788626565', '1300837490093793978', '1798565223791059415', '1976246772018611576', '2502823067534835164', '2693482389675421712']), ('mapreader', 'numLocations=5,maxDistanceApart=3,includeDoors=0,maxDistractorItemsPerLocation=0', 2): (['move east', 'move south', 'take coin', 'move north', 'move west', 'put coin in box'], ['2226750544973865832', '5665000903192909555', '6548122274355955329', '297781355585197295', '1018122779180782647', '7102825634114360212', '8167804014757816364', '6357664941140922543', '7381554576754370092', '1331031310421356435', '1802871359280789253', '2897644906301842216', '4493673259475312309', '546264571176620237', '70763346956629673']), ('mapreader', 'numLocations=11,maxDistanceApart=5,includeDoors=0,maxDistractorItemsPerLocation=0', 1): (['move east', 'move north', 'take coin', 'move south', 'move west', 'put coin in box'], ['8515956654747878962', '5968628803059075242', '353695269065136310', '3682276985952165427', '4058707544537729860', '2861977060295191285', '4727373302907562591', '80973395005310866', '3005764361332488848', '1799564689050669230', '2316336188605886581', '240594592337913255', '4240333693696321702']), ('mapreader', 'numLocations=15,maxDistanceApart=8,includeDoors=0,maxDistractorItemsPerLocation=0', 2): (['move west', 'move west', 'move north', 'move north', 'move north', 'take coin', 'move south', 'move south', 'move south', 'move east', 'move east', 'put coin in box'], ['74412142839715489', '3271177246458484285', '1625098766089363017', '5648268116837891174', '1374641635580237918', '8159898460082418166', '8905109565102489706', '4306137285896232287', '2083922395767847378', '8432122457692616202', '8470191683047078064', '2947131244389951305', '2421166442468839951', '4758408862944528951', '506251069488926228', '8673172123307410235', '55376750161643867', '1427799094963335066', '4097019163083972896', '8783747948189739657', '9039744023198510883', '170731482205687004', '2009954841543512983']), ('coin', 'numLocations=10,includeDoors=1,numDistractorItems=0', 3): (['move east', 'open door to south', 'move south', 'take coin'], ['8925781481976834312', '760109494005608227', '2029492058130994078', '4101440613668391206', '1232912514431698298', '509860493748998602', '5314269116912899075', '5782871701842007291', '5985989278529498702', '1610818691976098274', '6589059415200283215', '2323226410584509660']), ('coin', 'numLocations=7,includeDoors=1,numDistractorItems=0', 2): (['move east', 'open door to north', 'move north', 'take coin'], ['1804606779407353578', '7085556704749116452', '2844223101387191873', '163480414086176693', '3551692859573628913', '4746623447904923086', '5059916096075957520', '5716222819261481133', '8303378810350311228', '4052191059652869754', '4117549480125792704', '2178311219473899943', '71890838208733060', '7278230808217429618', '3914578884654144765', '7539268580540998884']), ('coin', 'numLocations=5,includeDoors=1,numDistractorItems=0', 4): (['move north', 'open door to west', 'move west', 'take coin'], ['2555304362369424509', '8600120527378475873', '4995704740713739011', '5417982985073605877', '644082825169491516', '7021784029531834395', '8102675200927611660', '1182215608419487962', '5381024931955750427', '2729656034009382883', '6770356710947880501', '7512399964629160422', '2273015182075548132', '7718222202088541360', '8462927589877285549'])}\n"
     ]
    }
   ],
   "source": [
    "# A* results\n",
    "output_dir = 'student_outputs'\n",
    "os.makedirs(output_dir, exist_ok=True)\n",
    "\n",
    "results = run_all_environments(algorithm=a_star)\n",
    "print(results)\n",
    "with open('student_outputs/a_star.txt', 'w') as f:\n",
    "    f.write(str(results))"
   ]
  },
  {
   "cell_type": "markdown",
   "metadata": {},
   "source": [
    "## Comparing Generated Results to Expected Outputs"
   ]
  },
  {
   "cell_type": "markdown",
   "metadata": {},
   "source": [
    "The [expected outputs](expected_outputs/) directory contains the expected outputs for each search algorithm for each game configuration. We will compare the generated outputs from your `run_all_environments()` functions (now stored in the [student outputs](student_outputs/) directory) to the expected outputs to determine if your implementations meet our benchmarks.\n",
    "\n",
    "We will be doing the same comparisons here as we will in the autograder (though we will be doing it in a more automated fashion, and test your code with more environments). This is a good litmus test for you to see how your code will perform in the autograder (since most of the environments we will test with are provided)."
   ]
  },
  {
   "cell_type": "code",
   "execution_count": 68,
   "metadata": {},
   "outputs": [],
   "source": [
    "def evaluate_student_outputs(algorithm: str) -> None:\n",
    "    with open(f'student_outputs/{algorithm}.txt', 'r') as f:\n",
    "        student_solution = eval(f.read())\n",
    "\n",
    "    with open(f'expected_outputs/{algorithm}.txt', 'r') as f:\n",
    "        expected_solution = eval(f.read())\n",
    "\n",
    "    failed_configs = set()\n",
    "    for config in student_solution:\n",
    "\n",
    "        student_path = student_solution[config][0]\n",
    "        expected_path = expected_solution[config][0]\n",
    "        student_visited_size = len(set(student_solution[config][1]))\n",
    "        expected_visited_size = len(set(expected_solution[config][1]))\n",
    "\n",
    "        path_incorrect = False\n",
    "        vs_incorrect = False\n",
    "\n",
    "        if student_visited_size > expected_visited_size:\n",
    "            vs_incorrect = True\n",
    "            failed_configs.add(config)\n",
    "            print(\"Visited set sizes differed for \" + str(config))\n",
    "            print(\"\\tstudent visited set size: \" + str(student_visited_size))\n",
    "            print(\"\\texpected visited set size: \" + str(expected_visited_size))\n",
    "\n",
    "        if len(student_path) != len(expected_path):\n",
    "            path_incorrect = True\n",
    "\n",
    "        if not path_incorrect and not vs_incorrect:\n",
    "            for i in range(len(student_path)):\n",
    "                if student_path[i] != expected_path[i] and expected_path[i] in [\n",
    "                    \"take coin\",\n",
    "                    \"put coin in box\",\n",
    "                ]:\n",
    "                    path_incorrect = True\n",
    "                    break\n",
    "\n",
    "        if path_incorrect:\n",
    "            print(f\"Incorrect path for {config}\")\n",
    "            print(f\"student path: {student_path}\")\n",
    "            print(f\"expected path: {expected_path}\")\n",
    "            failed_configs.add(config)\n",
    "\n",
    "    if len(failed_configs) == 0:\n",
    "        print(f\"Student implementation of {algorithm} succeeded for all provided configurations!\")\n",
    "        return \n",
    "    \n",
    "    for config in student_solution:\n",
    "        if config not in failed_configs:\n",
    "            print(f\"Student implementation of {algorithm} succeeded for {config}\")"
   ]
  },
  {
   "cell_type": "markdown",
   "metadata": {},
   "source": [
    "Modify the variable `ALGORITHM` below to test each of your search algorithms for all of the provided Coin Game and Map Reader Game configurations."
   ]
  },
  {
   "cell_type": "code",
   "execution_count": 69,
   "metadata": {},
   "outputs": [
    {
     "name": "stdout",
     "output_type": "stream",
     "text": [
      "Student implementation of a_star succeeded for all provided configurations!\n"
     ]
    }
   ],
   "source": [
    "# set ALGORITHM TO \"bfs\", \"dfs\", or \"a_star\" to evaluate the your implementation\n",
    "ALGORITHM = \"a_star\"\n",
    "evaluate_student_outputs(ALGORITHM)"
   ]
  },
  {
   "cell_type": "markdown",
   "metadata": {
    "id": "JwvC07GOV3b-"
   },
   "source": [
    "## Heuristic Admissibility & Consistency Checks"
   ]
  },
  {
   "cell_type": "markdown",
   "metadata": {},
   "source": [
    "### Heuristic Admissibility Check"
   ]
  },
  {
   "cell_type": "markdown",
   "metadata": {
    "id": "Mi7kBmAeWLkQ"
   },
   "source": [
    "The following function evaluates whether your heuristic function is admissible. To do this, you will pass in your heuristic function. The function will return a boolean value indicating whether your heuristic is admissible. An admissible heuristic is one that never overestimates the cost to reach the goal. If your heuristic is admissible, the function will return `True`. If your heuristic is inadmissible, the function will return `False`.\n"
   ]
  },
  {
   "cell_type": "code",
   "execution_count": 70,
   "metadata": {
    "executionInfo": {
     "elapsed": 21,
     "status": "ok",
     "timestamp": 1727280744618,
     "user": {
      "displayName": "Sanskriti Gupta",
      "userId": "14423739044698282671"
     },
     "user_tz": 240
    },
    "id": "sN8LsfbaPnCf"
   },
   "outputs": [],
   "source": [
    "def heuristic_admissibility_check(h_func: callable, is_goal: callable, key: callable = lambda state: state) -> bool:\n",
    "    \"\"\"\n",
    "    Evaluates whether the provided heuristic function is admissible.\n",
    "\n",
    "    An admissible heuristic is one that never overestimates the cost to reach the goal.\n",
    "    This function checks the heuristic against all states in the environment and returns\n",
    "    True if the heuristic is admissible, or False if it is inadmissible.\n",
    "\n",
    "    Parameters:\n",
    "    h_func (callable): The heuristic function to evaluate.\n",
    "    is_goal (callable): A function that checks if a given state is a goal state.\n",
    "    key (callable, optional): A function to transform the state representation. Defaults to the identity function.\n",
    "\n",
    "    Returns:\n",
    "    bool: True if the heuristic is admissible, False otherwise.\n",
    "    \"\"\"\n",
    "    G = nx.DiGraph()\n",
    "    for edge in GRAPH:\n",
    "        G.add_edge(edge[0], edge[1], weight=1)\n",
    "    \n",
    "    goals = [node for node in G.nodes if is_goal(key(node))]\n",
    "    \n",
    "    if not goals:\n",
    "        raise ValueError(\"No goal states found in the graph.\")\n",
    "    \n",
    "    reverse_G = G.reverse()\n",
    "    \n",
    "    shortest_to_goal = nx.multi_source_dijkstra_path_length(reverse_G, sources=goals, weight=\"weight\")\n",
    "    \n",
    "    for node in G.nodes:\n",
    "        h_value = h_func(key(node))\n",
    "        h_star = shortest_to_goal.get(node, float('inf'))\n",
    "        if h_value > h_star:\n",
    "            print(\"Inadmissible heuristic\")\n",
    "            print(\"State:\", key(node))\n",
    "            print(\"Heuristic value:\", h_value, \"Shortest path to goal:\", h_star)\n",
    "            return False\n",
    "    \n",
    "    return True"
   ]
  },
  {
   "cell_type": "code",
   "execution_count": 71,
   "metadata": {
    "colab": {
     "base_uri": "https://localhost:8080/"
    },
    "id": "GBJOiziiTJ-s",
    "outputId": "3f02ce38-0bc6-455f-f676-18789e5fc939"
   },
   "outputs": [
    {
     "name": "stdout",
     "output_type": "stream",
     "text": [
      "Coin Game Heuristic Admissibility: True\n"
     ]
    }
   ],
   "source": [
    "if GAME_TYPE == \"coin\":\n",
    "    coin_admissibility = heuristic_admissibility_check(h_func=h_coin, is_goal=is_goal_coin)\n",
    "    print(f\"Coin Game Heuristic Admissibility: {coin_admissibility}\")\n",
    "else:\n",
    "    mapreader_admissibility = heuristic_admissibility_check(h_func=h_mapreader, is_goal=is_goal_mapreader)\n",
    "    print(f\"Mapreader Game Headuristic Admissibility: {mapreader_admissibility}\")"
   ]
  },
  {
   "cell_type": "markdown",
   "metadata": {
    "id": "vRtuVAKjs1wR"
   },
   "source": [
    "### Heuristic Consistency Check"
   ]
  },
  {
   "cell_type": "markdown",
   "metadata": {
    "id": "FONQrYdLLtgf"
   },
   "source": [
    "The following function evaluates whether your heuristic function is consistent. To do this, you will pass in your heuristic function. The function will return a boolean value indicating whether your heuristic is consistent. A consistent heuristic is one that satisfies the triangle inequality. If your heuristic is consistent, the function will return `True`. If your heuristic is inconsistent, the function will return `False`."
   ]
  },
  {
   "cell_type": "code",
   "execution_count": 72,
   "metadata": {
    "id": "QIsRzvENKe5K"
   },
   "outputs": [],
   "source": [
    "def heuristic_consistency_check(h_func: callable, is_goal: callable, key: callable = lambda state: state) -> bool:\n",
    "    \"\"\"\n",
    "    Evaluates whether the given heuristic function is consistent. A consistent heuristic satisfies the triangle inequality.\n",
    "\n",
    "    Parameters:\n",
    "    h_func (callable): The heuristic function to evaluate.\n",
    "    is_goal (callable): A function that checks if a given state is a goal state.\n",
    "    key (callable, optional): A function to transform the state representation. Defaults to the identity function.\n",
    "\n",
    "    Returns:\n",
    "    bool: True if the heuristic is consistent, False otherwise.\n",
    "    \"\"\"\n",
    "    G = nx.DiGraph()\n",
    "    for edge in GRAPH:\n",
    "        G.add_edge(edge[0], edge[1], weight=1)\n",
    "\n",
    "    goals = [node for node in G.nodes if is_goal(key(node))]\n",
    "    \n",
    "    if not goals:\n",
    "        raise ValueError(\"No goal states found in the graph.\")\n",
    "\n",
    "    if any([h_func(key(node)) != 0 for node in goals]):\n",
    "        print(\"Inconsistent heuristic: Goal states must have heuristic value of 0.\")\n",
    "        return False\n",
    "\n",
    "    for u, v, data in G.edges(data=True):\n",
    "        weight = data[\"weight\"]\n",
    "        h_u = h_func(key(u))\n",
    "        h_v = h_func(key(v))\n",
    "        \n",
    "        if h_u > h_v + weight:\n",
    "            print(\"Inconsistent heuristic\")\n",
    "            print(f\"State {key(u)} (h: {h_u}) and State {key(v)} (h: {h_v})\")\n",
    "            print(f\"Edge weight: {weight}\")\n",
    "            return False\n",
    "\n",
    "    return True"
   ]
  },
  {
   "cell_type": "code",
   "execution_count": 73,
   "metadata": {
    "id": "I1PoRGOQJDVB"
   },
   "outputs": [
    {
     "name": "stdout",
     "output_type": "stream",
     "text": [
      "Coin Game Consistency: True\n"
     ]
    }
   ],
   "source": [
    "if GAME_TYPE == \"coin\":\n",
    "    coin_consistency = heuristic_consistency_check(h_func=h_coin, is_goal=is_goal_coin)\n",
    "    print(f\"Coin Game Consistency: {coin_consistency}\")\n",
    "else:\n",
    "    mapreader_consistency = heuristic_consistency_check(h_func=h_mapreader, is_goal=is_goal_mapreader)\n",
    "    print(f\"Mapreader Game Consistency: {mapreader_consistency}\")"
   ]
  },
  {
   "cell_type": "markdown",
   "metadata": {
    "id": "z_r4dx6gdNIh"
   },
   "source": [
    "# Grading"
   ]
  },
  {
   "cell_type": "markdown",
   "metadata": {
    "id": "MrFB5KLUdO71"
   },
   "source": [
    "Grading will consist of testing all provided game configurations on BFS, DFS, and A*. We will _also_ test your algorithms on hidden configurations of coin game and map reader game. Rest assured, these configurations do **NOT** have any invalid game settings or edge cases that you must consider (i.e., there will ALWAYS be a path to the goal, there will always be a start state, etc.). We are simply testing your code further to ensure that no cases are hardcoded. \n",
    "\n",
    "Your heuristics will be tested for admissibility and consistency as well. Your heuristic must be admissible and consistent for each environment, for each game type (no partial credit will be awarded).\n",
    "\n",
    "## Rubric\n",
    "- 0.5 point for each correct plan in the _provided_ game configurations, per algorithm, based on the provided instructions (60 points).\n",
    "- 0.5 point for each correct plan in the _hidden_ game configurations, per algorithm, based on the provided instructions (30 points).\n",
    "- 2.5 points for admissible heuristic for each of the two game types (5 points).\n",
    "- 2.5 points for consistency heuristic for each of the two game types (5 points).\n",
    "- -0.1 point deduction for each 10% difference between the number of visited states and the set threshold of expected visited states.\n",
    "\n",
    "**Maximum total points: 100**\n",
    "\n",
    "## Important Details\n",
    "Grading will be conducted by comparing your plans and number of visited states to our rubric. We will add cells to your notebook at grading time to load and test our hidden world configuration files. \n",
    "\n",
    "The autograder will display \"sanity check\" results to help you verify that your code behaves the same in the autograder as it does locally. These tests are a subset of the full autograder, and will test the some of the same configurations that we have provided. It is your responsibility to test your code and verify its correctness, and you should use the provided resources to do so. \n",
    "\n",
    "We will also inspect the entire notebook to check if your algorithm implementations include details that are inconsistent with the assignment (e.g., hard-coding values or actions to pass tests) and to make sure no cells were altered to provide unearned grading results. Doing so will result in a grade of 0 for the entire assignment, and may be reported to the Office of Student Integrity.\n",
    "\n",
    "Your submissions are also subject to plagiarism checks - as a reminder, all code must be written by yourself, and no one else (classmates, excessive internet resources, LLMs, etc.). You are permitted to use course resources to help you complete the assignment. Any violations of this will receive a 0 and may be reported to the Office of Student Integrity for further investigation. "
   ]
  },
  {
   "cell_type": "markdown",
   "metadata": {
    "id": "rpRa0E6ogYL6"
   },
   "source": [
    "# Submission Instructions"
   ]
  },
  {
   "cell_type": "markdown",
   "metadata": {
    "id": "_JgYFNFdgal8"
   },
   "source": [
    "Upload this notebook with the name `submission.ipynb` file to Gradescope. The autograder will **only** run successfully if your file is named this way. You must ensure that you have removed all print statements from **your** code, or the autograder may fail to run. Excessive print statements will also result in muddled test case outputs, which makes it more difficult to interpret your score. \n",
    "\n",
    "We've added appropriate comments to the top of certain cells for the autograder to export (`# export`). You do NOT have to do anything (e.g. remove print statements) to cells we have provided - anything related to those have been handled for you. You are responsible for ensuring your own code has no syntax errors or unnecessary print statements. You ***CANNOT*** modify the export comments at the top of the cells, or the autograder will fail to run on your submission.\n",
    "\n",
    "You should ***not*** add any cells that your code requires to the notebook when submitting. You're welcome to add any code as you need to extra cells when testing, but they will not be graded. Only the provided cells will be graded. As mentioned in the top of the notebook, **any helper functions that you add should be nested within the function that uses them.**\n",
    "\n",
    "If you encounter any issues with the autograder, please feel free to make a post on Ed Discussion. We highly recommend making a public post to clarify any questions, as it's likely that other students have the same questions as you! If you have a question that needs to be private, please make a private post."
   ]
  }
 ],
 "metadata": {
  "colab": {
   "collapsed_sections": [
    "NMJadvTO-O7z",
    "f0GaE8xE-T6A",
    "aG_y6anfARuO",
    "nz8w9KV0FtMX",
    "9idDEzGTV-PQ",
    "yYUz6tStZQ64",
    "q88Q1uEbHlrd"
   ],
   "provenance": [
    {
     "file_id": "1i30BLucrj-norWf5r3JmsypZoJW6YFfK",
     "timestamp": 1724733693075
    },
    {
     "file_id": "1kE2QZIEY2rpthTeVif1PPrwDlAUmoHt8",
     "timestamp": 1724273845744
    }
   ]
  },
  "kernelspec": {
   "display_name": "CS-3600",
   "language": "python",
   "name": "python3"
  },
  "language_info": {
   "codemirror_mode": {
    "name": "ipython",
    "version": 3
   },
   "file_extension": ".py",
   "mimetype": "text/x-python",
   "name": "python",
   "nbconvert_exporter": "python",
   "pygments_lexer": "ipython3",
   "version": "3.10.16"
  }
 },
 "nbformat": 4,
 "nbformat_minor": 4
}
