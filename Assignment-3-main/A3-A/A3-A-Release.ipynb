{
 "cells": [
  {
   "cell_type": "markdown",
   "metadata": {},
   "source": [
    "# Introduction to Bayesian Networks - Lab Safety"
   ]
  },
  {
   "cell_type": "markdown",
   "metadata": {},
   "source": [
    "In this part of the assignment, to get familiar with Bayesian Inference, you will model a lab safety investigation scenario using Bayesian networks. Your goal is to build a probabilistic model that explains the likelihood of an accident and the severity of damage in a research laboratory. You will use the [pgmpy](https://pgmpy.org) library to represent your network and to compute various probabilities via inference."
   ]
  },
  {
   "cell_type": "markdown",
   "metadata": {},
   "source": [
    "## Installations"
   ]
  },
  {
   "cell_type": "code",
   "execution_count": 1,
   "metadata": {},
   "outputs": [
    {
     "name": "stdout",
     "output_type": "stream",
     "text": [
      "Requirement already satisfied: pgmpy in /opt/homebrew/Caskroom/miniconda/base/envs/CS-3600/lib/python3.10/site-packages (0.1.26)\n",
      "Requirement already satisfied: networkx in /opt/homebrew/Caskroom/miniconda/base/envs/CS-3600/lib/python3.10/site-packages (from pgmpy) (3.4.2)\n",
      "Requirement already satisfied: numpy in /opt/homebrew/Caskroom/miniconda/base/envs/CS-3600/lib/python3.10/site-packages (from pgmpy) (2.2.4)\n",
      "Requirement already satisfied: scipy in /opt/homebrew/Caskroom/miniconda/base/envs/CS-3600/lib/python3.10/site-packages (from pgmpy) (1.15.2)\n",
      "Requirement already satisfied: scikit-learn in /opt/homebrew/Caskroom/miniconda/base/envs/CS-3600/lib/python3.10/site-packages (from pgmpy) (1.6.1)\n",
      "Requirement already satisfied: pandas in /opt/homebrew/Caskroom/miniconda/base/envs/CS-3600/lib/python3.10/site-packages (from pgmpy) (2.2.3)\n",
      "Requirement already satisfied: pyparsing in /opt/homebrew/Caskroom/miniconda/base/envs/CS-3600/lib/python3.10/site-packages (from pgmpy) (3.2.3)\n",
      "Requirement already satisfied: torch in /opt/homebrew/Caskroom/miniconda/base/envs/CS-3600/lib/python3.10/site-packages (from pgmpy) (2.6.0)\n",
      "Requirement already satisfied: statsmodels in /opt/homebrew/Caskroom/miniconda/base/envs/CS-3600/lib/python3.10/site-packages (from pgmpy) (0.14.4)\n",
      "Requirement already satisfied: tqdm in /opt/homebrew/Caskroom/miniconda/base/envs/CS-3600/lib/python3.10/site-packages (from pgmpy) (4.67.1)\n",
      "Requirement already satisfied: joblib in /opt/homebrew/Caskroom/miniconda/base/envs/CS-3600/lib/python3.10/site-packages (from pgmpy) (1.4.2)\n",
      "Requirement already satisfied: opt-einsum in /opt/homebrew/Caskroom/miniconda/base/envs/CS-3600/lib/python3.10/site-packages (from pgmpy) (3.4.0)\n",
      "Requirement already satisfied: xgboost in /opt/homebrew/Caskroom/miniconda/base/envs/CS-3600/lib/python3.10/site-packages (from pgmpy) (3.0.0)\n",
      "Requirement already satisfied: google-generativeai in /opt/homebrew/Caskroom/miniconda/base/envs/CS-3600/lib/python3.10/site-packages (from pgmpy) (0.8.4)\n",
      "Requirement already satisfied: google-ai-generativelanguage==0.6.15 in /opt/homebrew/Caskroom/miniconda/base/envs/CS-3600/lib/python3.10/site-packages (from google-generativeai->pgmpy) (0.6.15)\n",
      "Requirement already satisfied: google-api-core in /opt/homebrew/Caskroom/miniconda/base/envs/CS-3600/lib/python3.10/site-packages (from google-generativeai->pgmpy) (2.24.2)\n",
      "Requirement already satisfied: google-api-python-client in /opt/homebrew/Caskroom/miniconda/base/envs/CS-3600/lib/python3.10/site-packages (from google-generativeai->pgmpy) (2.166.0)\n",
      "Requirement already satisfied: google-auth>=2.15.0 in /opt/homebrew/Caskroom/miniconda/base/envs/CS-3600/lib/python3.10/site-packages (from google-generativeai->pgmpy) (2.38.0)\n",
      "Requirement already satisfied: protobuf in /opt/homebrew/Caskroom/miniconda/base/envs/CS-3600/lib/python3.10/site-packages (from google-generativeai->pgmpy) (5.29.4)\n",
      "Requirement already satisfied: pydantic in /opt/homebrew/Caskroom/miniconda/base/envs/CS-3600/lib/python3.10/site-packages (from google-generativeai->pgmpy) (2.11.1)\n",
      "Requirement already satisfied: typing-extensions in /opt/homebrew/Caskroom/miniconda/base/envs/CS-3600/lib/python3.10/site-packages (from google-generativeai->pgmpy) (4.13.0)\n",
      "Requirement already satisfied: proto-plus<2.0.0dev,>=1.22.3 in /opt/homebrew/Caskroom/miniconda/base/envs/CS-3600/lib/python3.10/site-packages (from google-ai-generativelanguage==0.6.15->google-generativeai->pgmpy) (1.26.1)\n",
      "Requirement already satisfied: python-dateutil>=2.8.2 in /opt/homebrew/Caskroom/miniconda/base/envs/CS-3600/lib/python3.10/site-packages (from pandas->pgmpy) (2.9.0.post0)\n",
      "Requirement already satisfied: pytz>=2020.1 in /opt/homebrew/Caskroom/miniconda/base/envs/CS-3600/lib/python3.10/site-packages (from pandas->pgmpy) (2025.2)\n",
      "Requirement already satisfied: tzdata>=2022.7 in /opt/homebrew/Caskroom/miniconda/base/envs/CS-3600/lib/python3.10/site-packages (from pandas->pgmpy) (2025.2)\n",
      "Requirement already satisfied: threadpoolctl>=3.1.0 in /opt/homebrew/Caskroom/miniconda/base/envs/CS-3600/lib/python3.10/site-packages (from scikit-learn->pgmpy) (3.6.0)\n",
      "Requirement already satisfied: patsy>=0.5.6 in /opt/homebrew/Caskroom/miniconda/base/envs/CS-3600/lib/python3.10/site-packages (from statsmodels->pgmpy) (1.0.1)\n",
      "Requirement already satisfied: packaging>=21.3 in /opt/homebrew/Caskroom/miniconda/base/envs/CS-3600/lib/python3.10/site-packages (from statsmodels->pgmpy) (24.2)\n",
      "Requirement already satisfied: filelock in /opt/homebrew/Caskroom/miniconda/base/envs/CS-3600/lib/python3.10/site-packages (from torch->pgmpy) (3.18.0)\n",
      "Requirement already satisfied: jinja2 in /opt/homebrew/Caskroom/miniconda/base/envs/CS-3600/lib/python3.10/site-packages (from torch->pgmpy) (3.1.6)\n",
      "Requirement already satisfied: fsspec in /opt/homebrew/Caskroom/miniconda/base/envs/CS-3600/lib/python3.10/site-packages (from torch->pgmpy) (2025.3.0)\n",
      "Requirement already satisfied: sympy==1.13.1 in /opt/homebrew/Caskroom/miniconda/base/envs/CS-3600/lib/python3.10/site-packages (from torch->pgmpy) (1.13.1)\n",
      "Requirement already satisfied: mpmath<1.4,>=1.1.0 in /opt/homebrew/Caskroom/miniconda/base/envs/CS-3600/lib/python3.10/site-packages (from sympy==1.13.1->torch->pgmpy) (1.3.0)\n",
      "Requirement already satisfied: googleapis-common-protos<2.0.0,>=1.56.2 in /opt/homebrew/Caskroom/miniconda/base/envs/CS-3600/lib/python3.10/site-packages (from google-api-core->google-generativeai->pgmpy) (1.69.2)\n",
      "Requirement already satisfied: requests<3.0.0,>=2.18.0 in /opt/homebrew/Caskroom/miniconda/base/envs/CS-3600/lib/python3.10/site-packages (from google-api-core->google-generativeai->pgmpy) (2.32.3)\n",
      "Requirement already satisfied: cachetools<6.0,>=2.0.0 in /opt/homebrew/Caskroom/miniconda/base/envs/CS-3600/lib/python3.10/site-packages (from google-auth>=2.15.0->google-generativeai->pgmpy) (5.5.2)\n",
      "Requirement already satisfied: pyasn1-modules>=0.2.1 in /opt/homebrew/Caskroom/miniconda/base/envs/CS-3600/lib/python3.10/site-packages (from google-auth>=2.15.0->google-generativeai->pgmpy) (0.4.2)\n",
      "Requirement already satisfied: rsa<5,>=3.1.4 in /opt/homebrew/Caskroom/miniconda/base/envs/CS-3600/lib/python3.10/site-packages (from google-auth>=2.15.0->google-generativeai->pgmpy) (4.9)\n",
      "Requirement already satisfied: six>=1.5 in /opt/homebrew/Caskroom/miniconda/base/envs/CS-3600/lib/python3.10/site-packages (from python-dateutil>=2.8.2->pandas->pgmpy) (1.17.0)\n",
      "Requirement already satisfied: httplib2<1.0.0,>=0.19.0 in /opt/homebrew/Caskroom/miniconda/base/envs/CS-3600/lib/python3.10/site-packages (from google-api-python-client->google-generativeai->pgmpy) (0.22.0)\n",
      "Requirement already satisfied: google-auth-httplib2<1.0.0,>=0.2.0 in /opt/homebrew/Caskroom/miniconda/base/envs/CS-3600/lib/python3.10/site-packages (from google-api-python-client->google-generativeai->pgmpy) (0.2.0)\n",
      "Requirement already satisfied: uritemplate<5,>=3.0.1 in /opt/homebrew/Caskroom/miniconda/base/envs/CS-3600/lib/python3.10/site-packages (from google-api-python-client->google-generativeai->pgmpy) (4.1.1)\n",
      "Requirement already satisfied: MarkupSafe>=2.0 in /opt/homebrew/Caskroom/miniconda/base/envs/CS-3600/lib/python3.10/site-packages (from jinja2->torch->pgmpy) (3.0.2)\n",
      "Requirement already satisfied: annotated-types>=0.6.0 in /opt/homebrew/Caskroom/miniconda/base/envs/CS-3600/lib/python3.10/site-packages (from pydantic->google-generativeai->pgmpy) (0.7.0)\n",
      "Requirement already satisfied: pydantic-core==2.33.0 in /opt/homebrew/Caskroom/miniconda/base/envs/CS-3600/lib/python3.10/site-packages (from pydantic->google-generativeai->pgmpy) (2.33.0)\n",
      "Requirement already satisfied: typing-inspection>=0.4.0 in /opt/homebrew/Caskroom/miniconda/base/envs/CS-3600/lib/python3.10/site-packages (from pydantic->google-generativeai->pgmpy) (0.4.0)\n",
      "Requirement already satisfied: grpcio<2.0dev,>=1.33.2 in /opt/homebrew/Caskroom/miniconda/base/envs/CS-3600/lib/python3.10/site-packages (from google-api-core[grpc]!=2.0.*,!=2.1.*,!=2.10.*,!=2.2.*,!=2.3.*,!=2.4.*,!=2.5.*,!=2.6.*,!=2.7.*,!=2.8.*,!=2.9.*,<3.0.0dev,>=1.34.1->google-ai-generativelanguage==0.6.15->google-generativeai->pgmpy) (1.71.0)\n",
      "Requirement already satisfied: grpcio-status<2.0.dev0,>=1.33.2 in /opt/homebrew/Caskroom/miniconda/base/envs/CS-3600/lib/python3.10/site-packages (from google-api-core[grpc]!=2.0.*,!=2.1.*,!=2.10.*,!=2.2.*,!=2.3.*,!=2.4.*,!=2.5.*,!=2.6.*,!=2.7.*,!=2.8.*,!=2.9.*,<3.0.0dev,>=1.34.1->google-ai-generativelanguage==0.6.15->google-generativeai->pgmpy) (1.71.0)\n",
      "Requirement already satisfied: pyasn1<0.7.0,>=0.6.1 in /opt/homebrew/Caskroom/miniconda/base/envs/CS-3600/lib/python3.10/site-packages (from pyasn1-modules>=0.2.1->google-auth>=2.15.0->google-generativeai->pgmpy) (0.6.1)\n",
      "Requirement already satisfied: charset-normalizer<4,>=2 in /opt/homebrew/Caskroom/miniconda/base/envs/CS-3600/lib/python3.10/site-packages (from requests<3.0.0,>=2.18.0->google-api-core->google-generativeai->pgmpy) (3.4.1)\n",
      "Requirement already satisfied: idna<4,>=2.5 in /opt/homebrew/Caskroom/miniconda/base/envs/CS-3600/lib/python3.10/site-packages (from requests<3.0.0,>=2.18.0->google-api-core->google-generativeai->pgmpy) (3.10)\n",
      "Requirement already satisfied: urllib3<3,>=1.21.1 in /opt/homebrew/Caskroom/miniconda/base/envs/CS-3600/lib/python3.10/site-packages (from requests<3.0.0,>=2.18.0->google-api-core->google-generativeai->pgmpy) (2.3.0)\n",
      "Requirement already satisfied: certifi>=2017.4.17 in /opt/homebrew/Caskroom/miniconda/base/envs/CS-3600/lib/python3.10/site-packages (from requests<3.0.0,>=2.18.0->google-api-core->google-generativeai->pgmpy) (2025.1.31)\n",
      "Note: you may need to restart the kernel to use updated packages.\n",
      "Requirement already satisfied: tqdm in /opt/homebrew/Caskroom/miniconda/base/envs/CS-3600/lib/python3.10/site-packages (4.67.1)\n",
      "Note: you may need to restart the kernel to use updated packages.\n",
      "Requirement already satisfied: pygraphviz in /opt/homebrew/Caskroom/miniconda/base/envs/CS-3600/lib/python3.10/site-packages (1.14)\n",
      "Note: you may need to restart the kernel to use updated packages.\n",
      "Requirement already satisfied: graphviz in /opt/homebrew/Caskroom/miniconda/base/envs/CS-3600/lib/python3.10/site-packages (0.20.3)\n",
      "Note: you may need to restart the kernel to use updated packages.\n",
      "Requirement already satisfied: gymnasium in /opt/homebrew/Caskroom/miniconda/base/envs/CS-3600/lib/python3.10/site-packages (1.1.1)\n",
      "Requirement already satisfied: numpy>=1.21.0 in /opt/homebrew/Caskroom/miniconda/base/envs/CS-3600/lib/python3.10/site-packages (from gymnasium) (2.2.4)\n",
      "Requirement already satisfied: cloudpickle>=1.2.0 in /opt/homebrew/Caskroom/miniconda/base/envs/CS-3600/lib/python3.10/site-packages (from gymnasium) (3.1.1)\n",
      "Requirement already satisfied: typing-extensions>=4.3.0 in /opt/homebrew/Caskroom/miniconda/base/envs/CS-3600/lib/python3.10/site-packages (from gymnasium) (4.13.0)\n",
      "Requirement already satisfied: farama-notifications>=0.0.1 in /opt/homebrew/Caskroom/miniconda/base/envs/CS-3600/lib/python3.10/site-packages (from gymnasium) (0.0.4)\n",
      "Note: you may need to restart the kernel to use updated packages.\n",
      "Requirement already satisfied: textworld-express in /opt/homebrew/Caskroom/miniconda/base/envs/CS-3600/lib/python3.10/site-packages (1.0.5)\n",
      "Requirement already satisfied: py4j in /opt/homebrew/Caskroom/miniconda/base/envs/CS-3600/lib/python3.10/site-packages (from textworld-express) (0.10.9.9)\n",
      "Requirement already satisfied: orjson in /opt/homebrew/Caskroom/miniconda/base/envs/CS-3600/lib/python3.10/site-packages (from textworld-express) (3.10.16)\n",
      "Requirement already satisfied: prompt-toolkit in /opt/homebrew/Caskroom/miniconda/base/envs/CS-3600/lib/python3.10/site-packages (from textworld-express) (3.0.50)\n",
      "Requirement already satisfied: wcwidth in /opt/homebrew/Caskroom/miniconda/base/envs/CS-3600/lib/python3.10/site-packages (from prompt-toolkit->textworld-express) (0.2.13)\n",
      "Note: you may need to restart the kernel to use updated packages.\n",
      "Requirement already satisfied: numpy in /opt/homebrew/Caskroom/miniconda/base/envs/CS-3600/lib/python3.10/site-packages (2.2.4)\n",
      "Note: you may need to restart the kernel to use updated packages.\n"
     ]
    }
   ],
   "source": [
    "%pip install pgmpy\n",
    "%pip install tqdm\n",
    "%pip install pygraphviz\n",
    "%pip install graphviz\n",
    "%pip install gymnasium\n",
    "%pip install textworld-express\n",
    "%pip install numpy"
   ]
  },
  {
   "cell_type": "markdown",
   "metadata": {},
   "source": [
    "## Imports"
   ]
  },
  {
   "cell_type": "markdown",
   "metadata": {},
   "source": [
    "We've provided you with all the necessary imports to complete this part of the assignment, but if for whatever reason you'd like to import additional libraries, you may add any imports to the marked cell below, provided that they are from the Python Standard library only. "
   ]
  },
  {
   "cell_type": "code",
   "execution_count": 2,
   "metadata": {},
   "outputs": [
    {
     "name": "stderr",
     "output_type": "stream",
     "text": [
      "/opt/homebrew/Caskroom/miniconda/base/envs/CS-3600/lib/python3.10/site-packages/tqdm/auto.py:21: TqdmWarning: IProgress not found. Please update jupyter and ipywidgets. See https://ipywidgets.readthedocs.io/en/stable/user_install.html\n",
      "  from .autonotebook import tqdm as notebook_tqdm\n"
     ]
    }
   ],
   "source": [
    "# export - DO NOT MODIFY THIS CELL\n",
    "from pgmpy.models import BayesianNetwork\n",
    "from pgmpy.factors.discrete import TabularCPD\n",
    "from pgmpy.inference import VariableElimination"
   ]
  },
  {
   "cell_type": "code",
   "execution_count": 3,
   "metadata": {},
   "outputs": [],
   "source": [
    "# export - DO NOT MODIFY OR MOVE THIS LINE\n",
    "# add any additional imports here (from the Python Standard Library only!)"
   ]
  },
  {
   "cell_type": "markdown",
   "metadata": {},
   "source": [
    "## The Scenario"
   ]
  },
  {
   "cell_type": "markdown",
   "metadata": {},
   "source": [
    "For this part of the assignment, we'll be considering a scenario revolving around lab safety. For more details, please view the [scenario file](./scenario.md), which contains the details of the key scenario events and their probabilities. **You will need to read this file closely** to understand the scenario, the connectedness of the events, and the probabilities associated with each event to effectively model the scenario as a Bayesian network."
   ]
  },
  {
   "cell_type": "markdown",
   "metadata": {},
   "source": [
    "## Task 1 - Building the Bayesian Network"
   ]
  },
  {
   "cell_type": "markdown",
   "metadata": {},
   "source": [
    "Your first task is to use the description of the scenario to design a Bayesian network of the events. To do this, we'll use `pgmpy`. The `pgmpy` package is used to represent nodes and conditional probability arcs connecting nodes. Don't worry about the probabilities for now. Use the functions below to create the net - feel free to assign whatever names you'd like to each of the nodes, but make sure the structure of the network matches the scenario.\n",
    "\n",
    "Fill in the below function, `build_lab_safety_model`, to create the Bayesian Network. The function should return the model. You may find the following commands useful. \n",
    "\n",
    "```py\n",
    "bayes_net = BayesianNetwork() # Creates a Bayesian Network\n",
    "bayes_net.add_node(\"node_name_here\") # adds a node\n",
    "bayes_net.add_edge(\"parent_node\", \"child_node\") # adds an edge from the parent to the child\n",
    "```\n",
    "\n",
    "For reference, you can find the documentation for the BayesianNetwork class [here](https://pgmpy.org/models/bayesiannetwork.html)."
   ]
  },
  {
   "cell_type": "code",
   "execution_count": 4,
   "metadata": {},
   "outputs": [],
   "source": [
    "# export - DO NOT MODIFY OR MOVE THIS LINE\n",
    "def build_lab_safety_model() -> BayesianNetwork:\n",
    "    ### YOUR CODE BELOW HERE ###\n",
    "    bayes_net = BayesianNetwork()\n",
    "    bayes_net.add_edge(\"Training\", \"Adherence\")\n",
    "    bayes_net.add_edge(\"Inspection\", \"Adherence\")\n",
    "    bayes_net.add_edge(\"FailureEquipment\", \"Accident\")\n",
    "    bayes_net.add_edge(\"ResponseReadiness\", \"Accident\")\n",
    "    bayes_net.add_edge(\"Accident\", \"Severity\")\n",
    "    bayes_net.add_edge(\"Adherence\", \"Severity\")\n",
    "    return bayes_net\n",
    "    ### YOUR CODE ABOVE HERE ###"
   ]
  },
  {
   "cell_type": "markdown",
   "metadata": {},
   "source": [
    "### Visualizing and Verifying the Network"
   ]
  },
  {
   "cell_type": "markdown",
   "metadata": {},
   "source": [
    "Now that you've built the network, we can visualize it and verify that it's correct. We've provided you with some basic code to visualize your network. We've also given a basic check to ensure that your network contains the correct number of nodes and edges. Use the visualization and this test to ensure that your network correctly depicts the relationships between the events in the scenario. _Note:_ This visualization has a `pygraphviz` dependency. You must have this installed to visualize the network. You _may_ need to run `!apt install libgraphviz-dev` (in order for this to work) in another cell. If you can't get it installed, you can skip the visualization - it is not necessary to complete the assignment."
   ]
  },
  {
   "cell_type": "code",
   "execution_count": 5,
   "metadata": {},
   "outputs": [
    {
     "data": {
      "image/png": "[encoded data removed]",
      "text/plain": [
       "<IPython.core.display.Image object>"
      ]
     },
     "metadata": {},
     "output_type": "display_data"
    }
   ],
   "source": [
    "from helpers import visualize_bayesian_network\n",
    "\n",
    "lab_safety_model = build_lab_safety_model()\n",
    "visualize_bayesian_network(model=lab_safety_model)"
   ]
  },
  {
   "cell_type": "code",
   "execution_count": 6,
   "metadata": {},
   "outputs": [
    {
     "name": "stderr",
     "output_type": "stream",
     "text": [
      "INFO:py4j.java_gateway:Callback Server Starting\n",
      "INFO:py4j.java_gateway:Socket listening on ('127.0.0.1', 54926)\n"
     ]
    },
    {
     "name": "stdout",
     "output_type": "stream",
     "text": [
      "Your Bayesian Network has the expected number of nodes and edges!\n"
     ]
    }
   ],
   "source": [
    "from tests import test_lab_safety_network_nodes_and_edges\n",
    "\n",
    "test_lab_safety_network_nodes_and_edges(lab_safety_model=lab_safety_model)"
   ]
  },
  {
   "cell_type": "markdown",
   "metadata": {},
   "source": [
    "## Task 2 - Assigning Probabilities"
   ]
  },
  {
   "cell_type": "markdown",
   "metadata": {},
   "source": [
    "Now that you've built the Bayesian network, you need to set the conditional probabilities for the variables in the network, and return the updated model. Let's fill in the function `assign_lab_safety_probabilities` below. To do so, we'll use the [`TabularCPD`](https://pgmpy.org/factors/discrete.html#pgmpy.factors.discrete.CPD.TabularCPD) class from `pgmpy`. \n",
    "\n",
    "If you wanted to set the distribution for some arbitrary node `A` to have P(A = True) = 0.8 and P(A = False) = 0.2, you would use the following code:\n",
    "\n",
    "```py\n",
    "cpd = TabularCPD(variable=\"A\", variable_card=2, values=[[0.2], [0.8]])\n",
    "```\n",
    "\n",
    "Notice how the `False` value is listed first. This is because the `pgmpy` uses index 0 to represent `False` and index 1 to represent `True`. Be very careful about this when setting up your CPDs. The `variable_card` argument simply denotes the number of possible values the variable can take on (in this case, it's 2 because there's only `True` and `False` - for more complex distributions that don't just involve binary values, you would set this to the number of possible values the variable can take on, e.g. 3 for P(A = low), P(A = medium), P(A = high)). \n",
    "\n",
    "If you wanted to set up a conditional probability distribution for a variable `G` given another variable `A`, where the probabilities are as follows:\n",
    "\n",
    "|  A  | P(G=true given A) |\n",
    "| --- | ----------------- |\n",
    "|  T  | 0.75              |\n",
    "|  F  | 0.85              | \n",
    "\n",
    "you would invoke:\n",
    "\n",
    "```py\n",
    "cpd = TabularCPD(variable='G', variable_card=2, values=[[0.15, 0.25], [0.85, 0.75]], evidence=['A'], evidence_card=[2])\n",
    "```\n",
    "\n",
    "Notice again how the `False` table is listed first. 0.15 corresponds to P(G = False | A = False), 0.25 corresponds to P(G = False | A = True), and so on. If we wanted to represent this using binary binary values, it follows the same pattern (`00`, `01`, `10`, `11`). This is why the `values` array is structured as it is, and why the `evidence_card` is set to `[2]`. \n",
    "\n",
    "Let's now see how we would set up a CPD for another variable, T, which is dependent on both A and G. We would do the following: \n",
    "\n",
    "| A   |  G  |P(T=true given A and G)|\n",
    "| --- | --- |:---------------------:|\n",
    "|T|T|0.15|\n",
    "|T|F|0.6|\n",
    "|F|T|0.2|\n",
    "|F|F|0.1|\n",
    "\n",
    "```py\n",
    "cpd = TabularCPD(variable=\"T\", variable_card=2, values=[[0.9, 0.8, 0.4, 0.85], [0.1, 0.2, 0.6, 0.15]], evidence=['A', 'G'], evidence_card=[2, 2])\n",
    "```\n",
    "\n",
    "Again, the key here is to remember that the first list of values (a list of lists) corresponds to P(T = False). You can also reorder the evidence variables in the `evidence` list to reorder the columns in the CPD, and you will still yield the same result.\n",
    "\n",
    "Once you've constructed your CPDs, you can add them to your Bayesian network by calling [`add_cpds`](https://pgmpy.org/models/bayesiannetwork.html#pgmpy.models.BayesianNetwork.BayesianNetwork.add_cpds) on your model, which will take in `*args` of the CPDs you've created. If you want to verify the CPD's you've added, you can `print()` them (`pgmpy` will render them nicely for you). Your function should return the model with the CPDs added."
   ]
  },
  {
   "cell_type": "code",
   "execution_count": 7,
   "metadata": {},
   "outputs": [],
   "source": [
    "# export - DO NOT MODIFY OR MOVE THIS LINE\n",
    "def assign_lab_safety_probabilities(model: BayesianNetwork) -> BayesianNetwork:\n",
    "    ### YOUR CODE BELOW HERE ###\n",
    "    cpd_training = TabularCPD(variable=\"Training\", variable_card=2, values=[[0.2], [0.8]])\n",
    "    cpd_inspection = TabularCPD(variable=\"Inspection\", variable_card=2, values=[[0.3], [0.7]])\n",
    "    cpd_failure_equipment = TabularCPD(variable=\"FailureEquipment\", variable_card=2, values=[[0.8], [0.2]])\n",
    "    cpd_response_readiness = TabularCPD(variable=\"ResponseReadiness\", variable_card=2, values=[[0.5], [0.5]])\n",
    "    cpd_adherence = TabularCPD(variable=\"Adherence\", variable_card=2,\n",
    "                              values=[[0.9, 0.5, 0.25, 0.05], [0.1, 0.5, 0.75, 0.95]],\n",
    "                              evidence=[\"Training\", \"Inspection\"],\n",
    "                              evidence_card=[2, 2])\n",
    "    cpd_accident = TabularCPD(variable=\"Accident\", variable_card=2,\n",
    "                             values=[[0.8, 0.9, 0.2, 0.6], [0.2, 0.1, 0.8, 0.4]],\n",
    "                             evidence=[\"FailureEquipment\", \"ResponseReadiness\"],\n",
    "                             evidence_card=[2, 2])\n",
    "    cpd_severity = TabularCPD(variable=\"Severity\", variable_card=2,\n",
    "                            values=[[0.9, 0.95, 0.05, 0.6], [0.1, 0.05, 0.95, 0.4]],\n",
    "                            evidence=[\"Accident\", \"Adherence\"],\n",
    "                            evidence_card=[2, 2])\n",
    "    model.add_cpds(cpd_training, cpd_inspection, cpd_failure_equipment,\n",
    "                   cpd_response_readiness, cpd_adherence, cpd_accident, cpd_severity)\n",
    "    assert model.check_model()\n",
    "    return model\n",
    "    ### YOUR CODE BELOW HERE ###"
   ]
  },
  {
   "cell_type": "markdown",
   "metadata": {},
   "source": [
    "### Verifying the Consistency of the CPD With Your Network"
   ]
  },
  {
   "cell_type": "markdown",
   "metadata": {},
   "source": [
    "Now, we're going to run another basic check on the CPDs that you've created. We'll verify that the CPDs are consistent with the structure of your network, and that the probabilities all sum to 1. We've provided you with a basic function to do this. You should verify the correctness of each value in each CPD by closely reading the scenario file."
   ]
  },
  {
   "cell_type": "code",
   "execution_count": 8,
   "metadata": {},
   "outputs": [
    {
     "name": "stdout",
     "output_type": "stream",
     "text": [
      "Your Bayesian Network has all probabilities summing to 1, and the CPDs are consistent with your defined model structure!\n"
     ]
    }
   ],
   "source": [
    "from tests import check_lab_safety_model\n",
    "\n",
    "lab_safety_model = build_lab_safety_model()\n",
    "lab_safety_model = assign_lab_safety_probabilities(model=lab_safety_model)\n",
    "check_lab_safety_model(lab_safety_model=lab_safety_model)"
   ]
  },
  {
   "cell_type": "markdown",
   "metadata": {},
   "source": [
    "## Task 3 - Inference"
   ]
  },
  {
   "cell_type": "markdown",
   "metadata": {},
   "source": [
    "Now that you've built your Bayesian network and assigned probabilities to all the important variables based on the information that the helpful (but snack-happy) lab staff has provided, you can now perform inference on the network to gain some insights. \n",
    "\n",
    "Let's calculate the following probabilities: \n",
    "* The marginal probability of severe damage. \n",
    "* The probability of severe damage given that the response team is ready. \n",
    "* The probability of severe damage given that the lab staff are well-trained and the lab has passed inspection. \n",
    "\n",
    "To do this, you can use the [`VariableElimination`](https://pgmpy.org/exact_infer/ve.html) class from `pgmpy`. Let's say we wanted to do inference for the marginal probability of the node \"A\" being True on some Bayesian network `bayes_net`. We would do the following: \n",
    "\n",
    "```py\n",
    "v_e = VariableElimination(bayes_net)\n",
    "marginal_probability = v_e.query(variables=[\"A\"], joint=False)\n",
    "mpt = marginal_probability[\"A\"].values\n",
    "```\n",
    "\n",
    "Notice that we access the values of the marginal probability by accessing the \"A\" key in the dictionary returned by the `query` method. This is because the query method returns a list of two probabilities that correspond to [False, True] _in that order_. You must index in and obtain the value that you are interested in. \n",
    "\n",
    "Let's try computing a conditional probability. Let's say we wanted to calculate P(A = True | B = True, C = False) on some Bayesian network `bayes_net`. We would do the following: \n",
    "\n",
    "```py\n",
    "v_e = VariableElimination(bayes_net)\n",
    "conditional_probability = v_e.query(variables=[\"A\"], evidence={\"B\": 1, \"C\": 0}, joint=False)\n",
    "cpt = conditional_probability[\"A\"].values\n",
    "```\n",
    "\n",
    "To do a quick spot check on your inference, you can run inference on a basic probability that you know the answer to. For example, running inference on P(T = True) from the given scenario should return 0.80. Due to some imprecision in machines, you may see something like 0.7999999999999999, but this is close enough to 0.80 for our purposes (we will account for this in grading). **Do NOT perform any rounding on your probabilities.**"
   ]
  },
  {
   "cell_type": "code",
   "execution_count": 9,
   "metadata": {},
   "outputs": [],
   "source": [
    "# export - DO NOT MODIFY OR MOVE THIS LINE\n",
    "def get_marginal_probability_damage(model: BayesianNetwork) -> float:\n",
    "    ### YOUR CODE BELOW HERE ###\n",
    "    v_e = VariableElimination(model)\n",
    "    marginal_probability = v_e.query(variables=[\"Severity\"], joint=False)\n",
    "    mpt = marginal_probability[\"Severity\"].values[1]\n",
    "    return float(mpt)\n",
    "    ### YOUR CODE ABOVE HERE ###"
   ]
  },
  {
   "cell_type": "code",
   "execution_count": 10,
   "metadata": {},
   "outputs": [],
   "source": [
    "# export - DO NOT MODIFY OR MOVE THIS LINE\n",
    "def get_conditional_probability_damage_given_response(model: BayesianNetwork) -> float:\n",
    "    ### YOUR CODE BELOW HERE ###\n",
    "    v_e = VariableElimination(model)\n",
    "    conditional_probability = v_e.query(variables=[\"Severity\"], evidence={\"ResponseReadiness\": 1}, joint=False)\n",
    "    cpt = conditional_probability[\"Severity\"].values[1]\n",
    "    return float(cpt)\n",
    "    ### YOUR CODE ABOVE HERE ###"
   ]
  },
  {
   "cell_type": "code",
   "execution_count": 11,
   "metadata": {},
   "outputs": [],
   "source": [
    "# export - DO NOT MODIFY OR MOVE THIS LINE\n",
    "def get_conditional_probability_damage_given_training_inspection(model: BayesianNetwork) -> float:\n",
    "    ### YOUR CODE BELOW HERE ###\n",
    "    v_e = VariableElimination(model)\n",
    "    conditional_probability = v_e.query(variables=[\"Severity\"], evidence={\"Training\": 1, \"Inspection\": 1}, joint=False)\n",
    "    cpt = conditional_probability[\"Severity\"].values[1]\n",
    "    return float(cpt)\n",
    "    ### YOUR CODE ABOVE HERE ###"
   ]
  },
  {
   "cell_type": "markdown",
   "metadata": {},
   "source": [
    "### Verifying Your Inference"
   ]
  },
  {
   "cell_type": "markdown",
   "metadata": {},
   "source": [
    "To test your inference, we recommend performing the calculations by hand to ensure that your network, probability distributions, and code for the marginal & conditional probabilities are correct. We will not directly provide you with the answers for each of the inference probabilities. We have given you basic tests to ensure that your Bayesian network has the right number of nodes and edges, and that your CPDs sum to 1 and align with your network structure. However, when submitting to Gradescope, you will be able to see the correctness of your inference probabilities. That is, there are **no hidden tests** for this part of the assignment. You will be able to see your results after submission. \n",
    "\n",
    "The below cell contains the code for defining the network, setting the probabilities, and then performing inference. You can run the below cell to see the results of all the code you've written thus far!"
   ]
  },
  {
   "cell_type": "code",
   "execution_count": 12,
   "metadata": {},
   "outputs": [
    {
     "name": "stdout",
     "output_type": "stream",
     "text": [
      "Marginal probability of damage: 0.17004000000000002\n",
      "Conditional probability of damage given response: 0.13356\n",
      "Conditional probability of damage given training and inspection: 0.14250000000000004\n"
     ]
    }
   ],
   "source": [
    "lab_safety_model = build_lab_safety_model()\n",
    "\n",
    "lab_safety_model = assign_lab_safety_probabilities(model=lab_safety_model)\n",
    "marginal_prob = get_marginal_probability_damage(model=lab_safety_model)\n",
    "conditional_prob = get_conditional_probability_damage_given_response(model=lab_safety_model)\n",
    "conditional_prob2 = get_conditional_probability_damage_given_training_inspection(model=lab_safety_model)\n",
    "\n",
    "print(f\"Marginal probability of damage: {marginal_prob}\")\n",
    "print(f\"Conditional probability of damage given response: {conditional_prob}\")\n",
    "print(f\"Conditional probability of damage given training and inspection: {conditional_prob2}\")"
   ]
  },
  {
   "cell_type": "markdown",
   "metadata": {},
   "source": [
    "Great work! The researchers at GTRI are very impressed with your work. They're excited to apply this model to enhance their lab safety protocols (and also, unfortunately, cut back on their snack budget). \n",
    "\n",
    "The results of our investigation have demonstrated how Bayesian Networks offer a great framework for modeling uncertainty in complex systems. By capturing and quantifying the probabilistic relationships among different variables, Bayes nets enable us to predict outcomes and potentially assess risks. This can be applicable to countless domains like healthcare, finance, autonomous systems, and more. \n",
    "\n",
    "`pgmpy` is a great library for working with Bayesian networks in Python, as it provides an intuitive interface for defining networks, specifying CPDs, and performing inference. Even with a relatively small model, we were able to compute meaningful probabilities that can provide useful insights. The interface provided by `pgmpy` makes it easy for users to build and analyze complex probabilistic models quickly at scale, making it a great tool in various contexts. \n",
    "\n",
    "Now that you have more familiarity with Bayesian networks and how they work with the help of `pgmpy`, we'll move onto the next part of the assignment, where you'll be implementing some Bayesian inference yourself, **without the assistance of this library.** This will give you a deeper understanding of inference and how it works under the hood."
   ]
  },
  {
   "cell_type": "markdown",
   "metadata": {
    "id": "gKTBPBJy-MIp"
   },
   "source": [
    "# Applying Bayesian Learning to Ghost Hunting in TextWorld"
   ]
  },
  {
   "cell_type": "markdown",
   "metadata": {},
   "source": [
    "*Text Adventure Games* are games in which the player interacts with a rich world only through text. Text adventure games predate computers with graphics. However, in many ways they are more complex than conventional video games because they can involve complicated interactions (e.g., \"build a rope bridge\") that require a fair amount of imagination. Indeed, text adventure games are used as [research testbeds](https://arxiv.org/abs/1909.05398) for natural language processing agents. The canonical text adventure game is [Zork](https://en.wikipedia.org/wiki/Zork), in which the player discover an abandoned underworld realm full of treasure. You can find online playable versions.\n",
    "\n",
    "A text game is made up of individual locations--also called \"rooms\", though they need not be indoor enclosed spaces as the term might imply. The agent can move between rooms and interact with objects by typing in short commands like \"move north\" and \"take lamp\". We will use [TextWorld-Express](https://github.com/cognitiveailab/TextWorldExpress). Textworld-Express simplifies text worlds in a few ways: it uses a reduced set of text commands, and rooms laid out in a grid. TextWorld-Express also implements a few different game objectives, such as cooking, and searching for coins. TextWorld-Express generates world configurations, so we will need to implement algorithms that are able to complete different game objectives in different world configurations.\n",
    "\n",
    "In this assignment, our agents will play a custom game wherein the agent must locate a ghost that cannot be directly observed based on noises that can be perceived with some probabilistic uncertainty. **We will be implementing and using Bayesian Networks to achieve this.**\n",
    "\n",
    "## Important Notes and Guidelines\n",
    "- You are **only** allowed to use a restricted set of libraries for this part of the assignment. All packages that come with the default Python installation are permitted. You may not use any other libraries. If you attempt to use other libraries, the autograder will not be able to run your code.\n",
    "- TextWorldExpress requires Java 1.8 or higher to be installed on your system. For more information, see the [TextWorld-Express README](https://github.com/cognitiveailab/TextWorldExpress).\n",
    "- Do not modify any function signatures or the global variables provided in the notebook. You may add additional helper functions as needed - do not add them to separate cells, as they will not be exported in the autograder. **Any helper functions should be nested within the function that uses them.**\n",
    "- **Do not use `pgmpy` for this part of the assignment.** We used it to introduce the concept of Bayes nets. Integrating it with TextWorld-Express is challenging - you will find it far easier to implement your agent without it. Now, you will implement your own approach to Bayesian inference to locate the ghost!\n",
    "\n",
    "## Misc. Tips\n",
    "- If you break execution of a cell running the game engine, you might have put TextWorld-Express in an un-recoverable state. If this happens, you will need to reset your kernel/runtime.\n",
    "- You **can** use the map information to help your agent. For example, you will find it useful to find all possible \"open door\" actions from the possible valid actions and take them (i.e., call `env.step` on that action) to help the agent explore better. "
   ]
  },
  {
   "cell_type": "markdown",
   "metadata": {
    "id": "f0GaE8xE-T6A"
   },
   "source": [
    "## Imports"
   ]
  },
  {
   "cell_type": "markdown",
   "metadata": {},
   "source": [
    "Like with the `pgmpy` Bayes Nets primer, we've provided you with all the necessary imports to complete this part of the assignment too, but if for whatever reason you'd like to import additional libraries, you may add any imports to the marked cell below, provided that they are from the Python Standard library only. "
   ]
  },
  {
   "cell_type": "code",
   "execution_count": 13,
   "metadata": {
    "executionInfo": {
     "elapsed": 1166,
     "status": "ok",
     "timestamp": 1730925748535,
     "user": {
      "displayName": "Jenn Reddig",
      "userId": "04841805230183086144"
     },
     "user_tz": 300
    },
    "id": "_ScAIKmf-Vmm"
   },
   "outputs": [],
   "source": [
    "# export - DO NOT MODIFY THIS CELL\n",
    "import gymnasium\n",
    "import numpy as np\n",
    "from helpers import GhostTextWorldExpressEnv"
   ]
  },
  {
   "cell_type": "code",
   "execution_count": 14,
   "metadata": {},
   "outputs": [],
   "source": [
    "# export - DO NOT MODIFY OR MOVE THIS LINE\n",
    "# add any additional imports here (from the Python Standard Library only!)"
   ]
  },
  {
   "cell_type": "markdown",
   "metadata": {
    "id": "0cBfmUDG1XHk"
   },
   "source": [
    "## Ghost Hunting Overview"
   ]
  },
  {
   "cell_type": "markdown",
   "metadata": {
    "id": "3aRVODRKppN1"
   },
   "source": [
    "This environment features a ghost that cannot be seen and might be inside a room or inside the walls (not in a room). However, you can \"hear\" the ghost make noise. Whenever an action is taken in the world, the agent will also receive information about how far away the ghost sounds. Unfortunately, this perceived distance is noisy and sometimes it will sound farther away than it actually is, and sometimes it will sound closer than it actually is.\n",
    "\n",
    "**Luckily, we also have another tool in our ghost hunting toolbelt**: We are given a special sensor that can give us a distribution of the horizonal (X coordinate) distance of the ghost from the origin of our grid.\n",
    "\n",
    "The agent's goal is to locate where the ghost is.\n",
    "\n",
    "The `infos` returned by the `env.step()` action returns many useful pieces of information, including the following:\n",
    "- `infos['ghost']` holds a distance (Manhattan distance) to the ghost. This is a \"noisy\" distance--it may not be the actual distance to the ghost.\n",
    "- `infos['distribution']` holds a distribution over possible noisy distance values, as a numpy array where the index is the number of units away (Manhattan distance). For example, if `infos['ghost'] = 6` then the distribution will tell you the probability that that value is accurate. If the distribution is:\n",
    "```\n",
    "[0.         0.0106383  0.0212766  0.04255319 0.08510638 0.17021277 0.34042553 0.17021277 0.08510638 0.04255319 0.0212766 ]\n",
    "```\n",
    "then there is ~34% probability that the ghost is actually 6 units away, but there is ~17% probability that the ghost is actually 5 units away.\n",
    "- `infos['x_dist_distribution']` holds the distribution of the noisy x distance of the ghost from the origin, as a numpy array where the index is the number of units away (Manhattan distance). This operates the same way as the distribution explained above, but for x distance rather than manhattan distance.\n",
    "- `infos['player']` holds the `(x, y)` position of the player/agent.\n",
    "- `infos['validActions']` holds the list of valid actions that can be taken from the current state.\n",
    "\n",
    "Feel free to print out `infos` to see what all the information looks like. \n",
    "\n",
    "The agent must guess the `(x, y)` position of the ghost. Once it has a reliable guess, it can perform a special action, `'report'`, which is followed by two numbers separated by spaces that indicate the ghost's x and y position (e.g., `'report 3 4'` would indicate that the agent thought the ghost was in position x=3, y=4). If the guess is correct, the observation returned will be `'True'` and if it is wrong, the observation returned will be `'False'`. **Once a report is made, the agent cannot perform any further actions.**"
   ]
  },
  {
   "cell_type": "markdown",
   "metadata": {},
   "source": [
    "## Environment Setup"
   ]
  },
  {
   "cell_type": "markdown",
   "metadata": {
    "id": "lKV4lUC1agso"
   },
   "source": [
    "New environments must be registered through the Gymnasium API."
   ]
  },
  {
   "cell_type": "code",
   "execution_count": 15,
   "metadata": {
    "executionInfo": {
     "elapsed": 2,
     "status": "ok",
     "timestamp": 1730925750442,
     "user": {
      "displayName": "Jenn Reddig",
      "userId": "04841805230183086144"
     },
     "user_tz": 300
    },
    "id": "OFWWPDS35bMn"
   },
   "outputs": [],
   "source": [
    "gymnasium.register(id='TextWorldExpress-GhostTextWorldExpressEnv-v0', entry_point='__main__:GhostTextWorldExpressEnv')"
   ]
  },
  {
   "cell_type": "markdown",
   "metadata": {},
   "source": [
    "Set the game type and game parameters, and load the environment information into global variables (described below). \n",
    "\n",
    "**Note:** We have provided samples for the `GAME_PARAMS` variables. While we do provide a function to test your search algorithms with each of these environments automatically, to closely and thoroughly test and verify the correctness of your implementations, we recommend loading other environemnts and testing your code with then. "
   ]
  },
  {
   "cell_type": "code",
   "execution_count": 16,
   "metadata": {},
   "outputs": [
    {
     "name": "stderr",
     "output_type": "stream",
     "text": [
      "INFO:py4j.java_gateway:Callback Server Starting\n",
      "INFO:py4j.java_gateway:Socket listening on ('127.0.0.1', 54929)\n"
     ]
    }
   ],
   "source": [
    "# set the seed and create the environment\n",
    "SEED = 3\n",
    "ENV = GhostTextWorldExpressEnv(envStepLimit=100)\n",
    "\n",
    "# set the game type and parameters\n",
    "# change the game type and parameters here to test different environments\n",
    "GAME_TYPE = \"coin\"\n",
    "GAME_PARAMS = \"numLocations=5,includeDoors=1,numDistractorItems=0\"\n",
    "# GAME_TYPE=\"mapreader\"\n",
    "# GAME_PARAMS=\"numLocations=5,maxDistanceApart=3,includeDoors=0,maxDistractorItemsPerLocation=0\"\n",
    "\n",
    "# load the evironment\n",
    "ENV.load(gameName=GAME_TYPE, gameParams=GAME_PARAMS)"
   ]
  },
  {
   "cell_type": "markdown",
   "metadata": {
    "id": "CmdycTPAataX"
   },
   "source": [
    "Reset the environment (same as before)."
   ]
  },
  {
   "cell_type": "code",
   "execution_count": 17,
   "metadata": {
    "colab": {
     "base_uri": "https://localhost:8080/"
    },
    "executionInfo": {
     "elapsed": 384,
     "status": "ok",
     "timestamp": 1730925752978,
     "user": {
      "displayName": "Jenn Reddig",
      "userId": "04841805230183086144"
     },
     "user_tz": 300
    },
    "id": "hwt58q1_7OZ3",
    "outputId": "60bd288b-8aa4-4271-8c3c-c6a1f5c01c24"
   },
   "outputs": [
    {
     "name": "stdout",
     "output_type": "stream",
     "text": [
      "self.__ghost:  (-5, -5)\n",
      "You are in the kitchen. In one part of the room you see a stove. There is also an oven. You also see a fridge that is closed. In another part of the room you see a counter, that has nothing on it. In one part of the room you see a kitchen cupboard that is closed. There is also a cutlery drawer that is closed. You also see a trash can that is closed. In another part of the room you see a dishwasher that is closed. In one part of the room you see a dining chair, that has nothing on it. \n",
      "To the South you see a closed sliding patio door. To the West you see a closed frosted-glass door. \n",
      "You hear a ghost 13.00 rooms away.\n",
      "player: (0, 0)\n",
      "ghost noisy distance: 13\n",
      "distribution: [0.         0.         0.         0.         0.         0.\n",
      " 0.         0.         0.0106383  0.0212766  0.04255319 0.08510638\n",
      " 0.17021277 0.34042553 0.17021277 0.08510638 0.04255319 0.0212766\n",
      " 0.0106383  0.         0.        ]\n",
      "distribution: [0.0212766  0.04255319 0.08510638 0.17021277 0.34042553 0.17021277\n",
      " 0.08510638 0.04255319 0.0212766  0.0106383  0.         0.\n",
      " 0.         0.         0.         0.         0.         0.\n",
      " 0.         0.         0.        ]\n"
     ]
    }
   ],
   "source": [
    "obs, infos = ENV.reset(seed=SEED, gameFold=\"train\", generateGoldPath=True)\n",
    "print(obs)\n",
    "print('player:', infos['player'])\n",
    "print('ghost noisy distance:', infos['ghost'])\n",
    "print('distribution:', infos['distribution'])\n",
    "print('distribution:', infos['x_dist_distribution'])"
   ]
  },
  {
   "cell_type": "markdown",
   "metadata": {
    "id": "M-4ZrEcXawLI"
   },
   "source": [
    "## Demo - Executing a Step"
   ]
  },
  {
   "cell_type": "code",
   "execution_count": 18,
   "metadata": {
    "colab": {
     "base_uri": "https://localhost:8080/"
    },
    "executionInfo": {
     "elapsed": 7,
     "status": "ok",
     "timestamp": 1730925752978,
     "user": {
      "displayName": "Jenn Reddig",
      "userId": "04841805230183086144"
     },
     "user_tz": 300
    },
    "id": "dmVfoF3MI5vB",
    "outputId": "99c77cdc-7ba1-44f2-b7b4-f385dfd1852e"
   },
   "outputs": [
    {
     "name": "stdout",
     "output_type": "stream",
     "text": [
      "Unknown action: I'm not sure what you mean.\n",
      "player: (0, 0)\n",
      "ghost noisy distance: 11\n",
      "distribution: [0.         0.         0.         0.         0.         0.\n",
      " 0.0106383  0.0212766  0.04255319 0.08510638 0.17021277 0.34042553\n",
      " 0.17021277 0.08510638 0.04255319 0.0212766  0.0106383  0.\n",
      " 0.         0.         0.        ]\n",
      "distribution: [0.0106383  0.0212766  0.04255319 0.08510638 0.17021277 0.34042553\n",
      " 0.17021277 0.08510638 0.04255319 0.0212766  0.0106383  0.\n",
      " 0.         0.         0.         0.         0.         0.\n",
      " 0.         0.         0.        ]\n"
     ]
    }
   ],
   "source": [
    "obs, reward, done, infos = ENV.step('move north')\n",
    "print(obs)\n",
    "print('player:', infos['player'])\n",
    "print('ghost noisy distance:', infos['ghost'])\n",
    "print('distribution:', infos['distribution'])\n",
    "print('distribution:', infos['x_dist_distribution'])"
   ]
  },
  {
   "cell_type": "markdown",
   "metadata": {
    "id": "OrDSuBpWvMyF"
   },
   "source": [
    "Report a guess (this will be wrong). "
   ]
  },
  {
   "cell_type": "code",
   "execution_count": 19,
   "metadata": {
    "colab": {
     "base_uri": "https://localhost:8080/"
    },
    "executionInfo": {
     "elapsed": 4,
     "status": "ok",
     "timestamp": 1730925752978,
     "user": {
      "displayName": "Jenn Reddig",
      "userId": "04841805230183086144"
     },
     "user_tz": 300
    },
    "id": "hnhDURcGXeaV",
    "outputId": "d5d787c0-534b-4459-aac7-4a5a5c91030e"
   },
   "outputs": [
    {
     "name": "stdout",
     "output_type": "stream",
     "text": [
      "False <class 'str'>\n",
      "-1.0\n",
      "True\n",
      "{} <class 'dict'>\n"
     ]
    }
   ],
   "source": [
    "obs, reward, done, infos = ENV.step('report -2 -1')\n",
    "print(obs, type(obs))\n",
    "print(reward)\n",
    "print(done)\n",
    "print(infos, type(infos))"
   ]
  },
  {
   "cell_type": "markdown",
   "metadata": {
    "id": "k2jnNPTRwPzm"
   },
   "source": [
    "## Task - Building Your Agent"
   ]
  },
  {
   "cell_type": "markdown",
   "metadata": {
    "id": "_nZ5uuFIwR3V"
   },
   "source": [
    "Your task now is to implement your agent in the `run_agent()` function. The agent takes in an the environment `env` and an alpha value `alpha`. It returns a guess of the ghost's location, which should be the `(x, y)` location where x and y are integers. You will want to report when you have a confidence of at least `alpha`.\n",
    "\n",
    "The ghost will be located in the box (including the border) defined by the coordinates: `(d, d)`, `(-d, d)`, `(-d, -d)`, `(d, -d)`. `d` is the max_dist of the environment, which can be retrieved by calling `env.get_max_dist()`.\n",
    "\n",
    "Use the `env.step()` function to execute actions.\n",
    "\n",
    "**Do not read private data from the ENV variable, this will result in a 0.**\n",
    "\n",
    "Interact using only with calling the `env.step()` and `env.get_max_dist()` methods and the results returned from these method calls.\n",
    "\n",
    "Also, do not call `env.reset()`, as this will change the ghost's location to a new, random location.\n",
    "\n",
    "You **can** use the map information to help your agent. For example, you will find it useful to find all possible \"open door\" actions from the possible valid actions and take them (i.e., call `env.step` on that action) to help the agent explore better. "
   ]
  },
  {
   "cell_type": "code",
   "execution_count": 20,
   "metadata": {
    "executionInfo": {
     "elapsed": 144,
     "status": "ok",
     "timestamp": 1730926181969,
     "user": {
      "displayName": "Jenn Reddig",
      "userId": "04841805230183086144"
     },
     "user_tz": 300
    },
    "id": "V5C9wSZZvRdh"
   },
   "outputs": [],
   "source": [
    "# export - DO NOT MODIFY OR MOVE THIS LINE\n",
    "def run_agent(env: GhostTextWorldExpressEnv, obs: str, infos: dict, alpha: float=0.5) -> tuple[int, int]:\n",
    "    guess_x, guess_y = None, None\n",
    "    ### YOUR CODE BELOW HERE\n",
    "    distance = env.get_max_dist()\n",
    "    s = 2*distance+1\n",
    "    bel = np.ones((s, s))/(s * s)\n",
    "    t = infos['player']\n",
    "    v = {t}\n",
    "    while True:\n",
    "        distribution = infos['distribution']\n",
    "        x_dist_distribution = infos['x_dist_distribution']       \n",
    "        for i in range(-distance, distance+1):\n",
    "            for j in range(-distance, distance+1):\n",
    "                if abs(t[0] - i) + abs(t[1] - j) < len(distribution):\n",
    "                   dl = distribution[abs(t[0] - i) + abs(t[1] - j)]\n",
    "                else:\n",
    "                   dl = 0.0\n",
    "                if abs(i) < len(x_dist_distribution):\n",
    "                   xl = x_dist_distribution[abs(i)]\n",
    "                else:\n",
    "                   xl = 0.0\n",
    "                bel[i + distance, j + distance] *= dl * xl\n",
    "            summ = np.sum(bel)\n",
    "        if summ > 0:\n",
    "            bel = bel / summ\n",
    "        else:\n",
    "            bel = np.ones((s, s)) / (s * s)\n",
    "        pr = np.max(bel)\n",
    "        if pr > alpha:\n",
    "            guess_x, guess_y = np.unravel_index(np.argmax(bel), bel.shape)\n",
    "            return guess_x - distance, guess_y - distance\n",
    "        moves = []\n",
    "        for action in infos['validActions']:\n",
    "            if action.startswith('open door') or action.startswith('move'):\n",
    "                moves.append(action)\n",
    "        if not moves:\n",
    "            break\n",
    "        act = None\n",
    "        mv= float(\"inf\")\n",
    "        pos = t\n",
    "        for action in moves:\n",
    "            p1 = pos[0]\n",
    "            p2 = pos[1]\n",
    "            if action == \"move north\":\n",
    "                c = (p1, p2 + 1)\n",
    "            elif action == \"move east\":\n",
    "                c = (p1 + 1, p2)\n",
    "            elif action == \"move south\":\n",
    "                c = (p1, p2 - 1)\n",
    "            elif action == \"move west\":\n",
    "                c = (p1 - 1, p2)\n",
    "            else:\n",
    "                c = pos\n",
    "        v1 = 0\n",
    "        for p in v:\n",
    "            if (abs(p[0] - c[0]) <= 1 and abs(p[1] - c[1]) <= 1):\n",
    "                v1 = v1 + 1\n",
    "        if v1 < mv:\n",
    "            mv = v1\n",
    "            act = action\n",
    "        if act is None:\n",
    "            break\n",
    "        obs, reward, done, infos = env.step(act)\n",
    "        t= infos['player']\n",
    "        v.add(t)\n",
    "        guess_x, guess_y = np.unravel_index(np.argmax(bel), bel.shape)\n",
    "        guess_x -= distance\n",
    "        guess_y -= distance\n",
    "    ## YOUR CODE ABOVE HERE\n",
    "    return guess_x, guess_y\n"
   ]
  },
  {
   "cell_type": "markdown",
   "metadata": {
    "id": "RY8kxQbH4dah"
   },
   "source": [
    "## Testing Your Agent"
   ]
  },
  {
   "cell_type": "markdown",
   "metadata": {},
   "source": [
    "When we test your solution, we will execute your `run_agent()` method on a variety of game environments. Your agent should locate the ghost on average `alpha` percent of the time. Below is a sample for one environment. `self.__ghost` location should match the `(x,y)` returned from your agent at least alpha percent of the time."
   ]
  },
  {
   "cell_type": "code",
   "execution_count": 21,
   "metadata": {
    "colab": {
     "base_uri": "https://localhost:8080/"
    },
    "executionInfo": {
     "elapsed": 363,
     "status": "ok",
     "timestamp": 1730925848141,
     "user": {
      "displayName": "Jenn Reddig",
      "userId": "04841805230183086144"
     },
     "user_tz": 300
    },
    "id": "piyMwKmPohta",
    "outputId": "65410f67-fc76-4a21-ef72-d2b9f6beaa2d"
   },
   "outputs": [
    {
     "name": "stdout",
     "output_type": "stream",
     "text": [
      "self.__ghost:  (3, 4)\n",
      "3 4\n"
     ]
    }
   ],
   "source": [
    "# change the game type and parameters here to test different environments\n",
    "GAME_TYPE = \"coin\"\n",
    "GAME_PARAMS = \"numLocations=5,includeDoors=1,numDistractorItems=0\"\n",
    "# GAME_TYPE=\"mapreader\"\n",
    "# GAME_PARAMS=\"numLocations=5,maxDistanceApart=3,includeDoors=0,maxDistractorItemsPerLocation=0\"\n",
    "\n",
    "ENV.load(gameName=GAME_TYPE, gameParams=GAME_PARAMS)\n",
    "\n",
    "# Run agent and see if it locates the ghost\n",
    "obs, infos = ENV.reset(0)\n",
    "x, y = run_agent(ENV, obs, infos, alpha = 0.9)\n",
    "print(x, y)"
   ]
  },
  {
   "cell_type": "markdown",
   "metadata": {},
   "source": [
    "Testing the agent on all provided configurations."
   ]
  },
  {
   "cell_type": "code",
   "execution_count": 22,
   "metadata": {
    "colab": {
     "base_uri": "https://localhost:8080/"
    },
    "executionInfo": {
     "elapsed": 35856,
     "status": "ok",
     "timestamp": 1730926226143,
     "user": {
      "displayName": "Jenn Reddig",
      "userId": "04841805230183086144"
     },
     "user_tz": 300
    },
    "id": "85haJBTT4jPp",
    "outputId": "1ed2b4c9-3298-4f62-96a6-2bc782a3c318"
   },
   "outputs": [
    {
     "name": "stdout",
     "output_type": "stream",
     "text": [
      "coin numLocations=5,includeDoors=1,numDistractorItems=0 0\n",
      "self.__ghost:  (5, 0)\n",
      "Guess: ( 5 ,  0 )\n",
      "coin numLocations=5,includeDoors=1,numDistractorItems=0 1\n",
      "self.__ghost:  (-4, 5)\n",
      "Guess: ( -4 ,  5 )\n",
      "coin numLocations=5,includeDoors=1,numDistractorItems=0 2\n",
      "self.__ghost:  (2, 2)\n",
      "Guess: ( 2 ,  2 )\n",
      "coin numLocations=5,includeDoors=1,numDistractorItems=0 3\n",
      "self.__ghost:  (3, -4)\n",
      "Guess: ( 3 ,  -4 )\n",
      "coin numLocations=5,includeDoors=1,numDistractorItems=0 4\n",
      "self.__ghost:  (0, 2)\n",
      "Guess: ( 0 ,  2 )\n",
      "coin numLocations=5,includeDoors=1,numDistractorItems=0 5\n",
      "self.__ghost:  (0, -2)\n",
      "Guess: ( 0 ,  -2 )\n",
      "coin numLocations=5,includeDoors=1,numDistractorItems=0 6\n",
      "self.__ghost:  (-4, 0)\n",
      "Guess: ( -4 ,  0 )\n",
      "coin numLocations=5,includeDoors=1,numDistractorItems=0 7\n",
      "self.__ghost:  (-1, 4)\n",
      "Guess: ( -1 ,  -4 )\n",
      "coin numLocations=5,includeDoors=1,numDistractorItems=0 8\n",
      "self.__ghost:  (-1, -1)\n",
      "Guess: ( -1 ,  -1 )\n",
      "coin numLocations=5,includeDoors=1,numDistractorItems=0 9\n",
      "self.__ghost:  (-1, 1)\n",
      "Guess: ( -1 ,  1 )\n",
      "coin numLocations=5,includeDoors=1,numDistractorItems=0 10\n",
      "self.__ghost:  (-4, 3)\n",
      "Guess: ( -4 ,  3 )\n",
      "coin numLocations=5,includeDoors=1,numDistractorItems=0 11\n",
      "self.__ghost:  (-3, 1)\n",
      "Guess: ( -3 ,  1 )\n",
      "coin numLocations=5,includeDoors=1,numDistractorItems=0 12\n",
      "self.__ghost:  (-5, 0)\n",
      "Guess: ( -5 ,  0 )\n",
      "coin numLocations=5,includeDoors=1,numDistractorItems=0 13\n",
      "self.__ghost:  (0, 5)\n",
      "Guess: ( 0 ,  5 )\n",
      "coin numLocations=5,includeDoors=1,numDistractorItems=0 14\n",
      "self.__ghost:  (-4, 2)\n",
      "Guess: ( -4 ,  2 )\n",
      "coin numLocations=5,includeDoors=1,numDistractorItems=0 15\n",
      "self.__ghost:  (0, 4)\n",
      "Guess: ( 0 ,  4 )\n",
      "coin numLocations=5,includeDoors=1,numDistractorItems=0 16\n",
      "self.__ghost:  (-2, 0)\n",
      "Guess: ( -2 ,  0 )\n",
      "coin numLocations=5,includeDoors=1,numDistractorItems=0 17\n",
      "self.__ghost:  (-2, 0)\n",
      "Guess: ( -2 ,  0 )\n",
      "coin numLocations=5,includeDoors=1,numDistractorItems=0 18\n",
      "self.__ghost:  (-2, -3)\n",
      "Guess: ( -2 ,  -3 )\n",
      "coin numLocations=5,includeDoors=1,numDistractorItems=0 19\n",
      "self.__ghost:  (-1, -2)\n",
      "Guess: ( -1 ,  -2 )\n",
      "coin numLocations=6,includeDoors=1,numDistractorItems=0 0\n",
      "self.__ghost:  (4, -2)\n",
      "Guess: ( 4 ,  -2 )\n",
      "coin numLocations=6,includeDoors=1,numDistractorItems=0 1\n",
      "self.__ghost:  (5, 4)\n",
      "Guess: ( 5 ,  4 )\n",
      "coin numLocations=6,includeDoors=1,numDistractorItems=0 2\n",
      "self.__ghost:  (-2, -4)\n",
      "Guess: ( -2 ,  -4 )\n",
      "coin numLocations=6,includeDoors=1,numDistractorItems=0 3\n",
      "self.__ghost:  (-6, 0)\n",
      "Guess: ( -6 ,  0 )\n",
      "coin numLocations=6,includeDoors=1,numDistractorItems=0 4\n",
      "self.__ghost:  (-4, 5)\n",
      "Guess: ( -4 ,  5 )\n",
      "coin numLocations=6,includeDoors=1,numDistractorItems=0 5\n",
      "self.__ghost:  (-4, -5)\n",
      "Guess: ( -4 ,  -5 )\n",
      "coin numLocations=6,includeDoors=1,numDistractorItems=0 6\n",
      "self.__ghost:  (-4, -2)\n",
      "Guess: ( -4 ,  -1 )\n",
      "coin numLocations=6,includeDoors=1,numDistractorItems=0 7\n",
      "self.__ghost:  (-5, 0)\n",
      "Guess: ( -5 ,  0 )\n",
      "coin numLocations=6,includeDoors=1,numDistractorItems=0 8\n",
      "self.__ghost:  (-4, 5)\n",
      "Guess: ( -4 ,  5 )\n",
      "coin numLocations=6,includeDoors=1,numDistractorItems=0 9\n",
      "self.__ghost:  (1, -2)\n",
      "Guess: ( 1 ,  -2 )\n",
      "coin numLocations=6,includeDoors=1,numDistractorItems=0 10\n",
      "self.__ghost:  (7, 5)\n",
      "Guess: ( 7 ,  5 )\n",
      "coin numLocations=6,includeDoors=1,numDistractorItems=0 11\n",
      "self.__ghost:  (7, -3)\n",
      "Guess: ( 7 ,  -3 )\n",
      "coin numLocations=6,includeDoors=1,numDistractorItems=0 12\n",
      "self.__ghost:  (4, 0)\n",
      "Guess: ( 4 ,  0 )\n",
      "coin numLocations=6,includeDoors=1,numDistractorItems=0 13\n",
      "self.__ghost:  (-4, -1)\n",
      "Guess: ( -4 ,  -1 )\n",
      "coin numLocations=6,includeDoors=1,numDistractorItems=0 14\n",
      "self.__ghost:  (4, 3)\n",
      "Guess: ( 4 ,  4 )\n",
      "coin numLocations=6,includeDoors=1,numDistractorItems=0 15\n",
      "self.__ghost:  (7, 0)\n",
      "Guess: ( 7 ,  0 )\n",
      "coin numLocations=6,includeDoors=1,numDistractorItems=0 16\n",
      "self.__ghost:  (0, 3)\n",
      "Guess: ( 0 ,  3 )\n",
      "coin numLocations=6,includeDoors=1,numDistractorItems=0 17\n",
      "self.__ghost:  (0, -4)\n",
      "Guess: ( 0 ,  -4 )\n",
      "coin numLocations=6,includeDoors=1,numDistractorItems=0 18\n",
      "self.__ghost:  (-2, -3)\n",
      "Guess: ( -2 ,  -3 )\n",
      "coin numLocations=6,includeDoors=1,numDistractorItems=0 19\n",
      "self.__ghost:  (-7, 2)\n",
      "Guess: ( -7 ,  3 )\n",
      "coin numLocations=7,includeDoors=1,numDistractorItems=0 0\n",
      "self.__ghost:  (5, 0)\n",
      "Guess: ( 5 ,  0 )\n",
      "coin numLocations=7,includeDoors=1,numDistractorItems=0 1\n",
      "self.__ghost:  (-4, -4)\n",
      "Guess: ( -4 ,  -4 )\n",
      "coin numLocations=7,includeDoors=1,numDistractorItems=0 2\n",
      "self.__ghost:  (0, -4)\n",
      "Guess: ( 0 ,  -4 )\n",
      "coin numLocations=7,includeDoors=1,numDistractorItems=0 3\n",
      "self.__ghost:  (5, -1)\n",
      "Guess: ( 5 ,  -1 )\n",
      "coin numLocations=7,includeDoors=1,numDistractorItems=0 4\n",
      "self.__ghost:  (-5, -6)\n",
      "Guess: ( -5 ,  -6 )\n",
      "coin numLocations=7,includeDoors=1,numDistractorItems=0 5\n",
      "self.__ghost:  (-3, 6)\n",
      "Guess: ( -3 ,  6 )\n",
      "coin numLocations=7,includeDoors=1,numDistractorItems=0 6\n",
      "self.__ghost:  (1, -4)\n",
      "Guess: ( 1 ,  -4 )\n",
      "coin numLocations=7,includeDoors=1,numDistractorItems=0 7\n",
      "self.__ghost:  (-2, -3)\n",
      "Guess: ( -2 ,  -3 )\n",
      "coin numLocations=7,includeDoors=1,numDistractorItems=0 8\n",
      "self.__ghost:  (-1, -4)\n",
      "Guess: ( -1 ,  -4 )\n",
      "coin numLocations=7,includeDoors=1,numDistractorItems=0 9\n",
      "self.__ghost:  (1, 5)\n",
      "Guess: ( 1 ,  5 )\n",
      "coin numLocations=7,includeDoors=1,numDistractorItems=0 10\n",
      "self.__ghost:  (1, 1)\n",
      "Guess: ( 1 ,  1 )\n",
      "coin numLocations=7,includeDoors=1,numDistractorItems=0 11\n",
      "self.__ghost:  (1, 7)\n",
      "Guess: ( 1 ,  7 )\n",
      "coin numLocations=7,includeDoors=1,numDistractorItems=0 12\n",
      "self.__ghost:  (-7, -1)\n",
      "Guess: ( -7 ,  -1 )\n",
      "coin numLocations=7,includeDoors=1,numDistractorItems=0 13\n",
      "self.__ghost:  (-2, 5)\n",
      "Guess: ( -2 ,  5 )\n",
      "coin numLocations=7,includeDoors=1,numDistractorItems=0 14\n",
      "self.__ghost:  (-1, 2)\n",
      "Guess: ( -1 ,  2 )\n",
      "coin numLocations=7,includeDoors=1,numDistractorItems=0 15\n",
      "self.__ghost:  (-6, 7)\n",
      "Guess: ( -6 ,  7 )\n",
      "coin numLocations=7,includeDoors=1,numDistractorItems=0 16\n",
      "self.__ghost:  (4, 2)\n",
      "Guess: ( 4 ,  2 )\n",
      "coin numLocations=7,includeDoors=1,numDistractorItems=0 17\n",
      "self.__ghost:  (-1, 3)\n",
      "Guess: ( -1 ,  3 )\n",
      "coin numLocations=7,includeDoors=1,numDistractorItems=0 18\n",
      "self.__ghost:  (-5, -7)\n",
      "Guess: ( -5 ,  -7 )\n",
      "coin numLocations=7,includeDoors=1,numDistractorItems=0 19\n",
      "self.__ghost:  (-7, 0)\n",
      "Guess: ( -7 ,  0 )\n",
      "coin numLocations=10,includeDoors=1,numDistractorItems=0 0\n",
      "self.__ghost:  (-5, -10)\n",
      "Guess: ( -5 ,  -10 )\n",
      "coin numLocations=10,includeDoors=1,numDistractorItems=0 1\n",
      "self.__ghost:  (5, 5)\n",
      "Guess: ( 5 ,  5 )\n",
      "coin numLocations=10,includeDoors=1,numDistractorItems=0 2\n",
      "self.__ghost:  (6, 9)\n",
      "Guess: ( 6 ,  9 )\n",
      "coin numLocations=10,includeDoors=1,numDistractorItems=0 3\n",
      "self.__ghost:  (-8, -5)\n",
      "Guess: ( -8 ,  -5 )\n",
      "coin numLocations=10,includeDoors=1,numDistractorItems=0 4\n",
      "self.__ghost:  (10, 6)\n",
      "Guess: ( 10 ,  6 )\n",
      "coin numLocations=10,includeDoors=1,numDistractorItems=0 5\n",
      "self.__ghost:  (2, -5)\n",
      "Guess: ( 2 ,  -5 )\n",
      "coin numLocations=10,includeDoors=1,numDistractorItems=0 6\n",
      "self.__ghost:  (-5, -1)\n",
      "Guess: ( -5 ,  -1 )\n",
      "coin numLocations=10,includeDoors=1,numDistractorItems=0 7\n",
      "self.__ghost:  (-6, -6)\n",
      "Guess: ( -6 ,  -6 )\n",
      "coin numLocations=10,includeDoors=1,numDistractorItems=0 8\n",
      "self.__ghost:  (5, -9)\n",
      "Guess: ( 5 ,  -9 )\n",
      "coin numLocations=10,includeDoors=1,numDistractorItems=0 9\n",
      "self.__ghost:  (11, 3)\n",
      "Guess: ( 11 ,  3 )\n",
      "coin numLocations=10,includeDoors=1,numDistractorItems=0 10\n",
      "self.__ghost:  (-3, -8)\n",
      "Guess: ( -3 ,  -8 )\n",
      "coin numLocations=10,includeDoors=1,numDistractorItems=0 11\n",
      "self.__ghost:  (-2, -3)\n",
      "Guess: ( -2 ,  -3 )\n",
      "coin numLocations=10,includeDoors=1,numDistractorItems=0 12\n",
      "self.__ghost:  (-8, -5)\n",
      "Guess: ( -8 ,  -5 )\n",
      "coin numLocations=10,includeDoors=1,numDistractorItems=0 13\n",
      "self.__ghost:  (-10, -6)\n",
      "Guess: ( -10 ,  -6 )\n",
      "coin numLocations=10,includeDoors=1,numDistractorItems=0 14\n",
      "self.__ghost:  (-2, -7)\n",
      "Guess: ( -2 ,  -7 )\n",
      "coin numLocations=10,includeDoors=1,numDistractorItems=0 15\n",
      "self.__ghost:  (-11, 0)\n",
      "Guess: ( -11 ,  0 )\n",
      "coin numLocations=10,includeDoors=1,numDistractorItems=0 16\n",
      "self.__ghost:  (-11, 1)\n",
      "Guess: ( -11 ,  1 )\n",
      "coin numLocations=10,includeDoors=1,numDistractorItems=0 17\n",
      "self.__ghost:  (-11, 5)\n",
      "Guess: ( -11 ,  5 )\n",
      "coin numLocations=10,includeDoors=1,numDistractorItems=0 18\n",
      "self.__ghost:  (-4, 7)\n",
      "Guess: ( -4 ,  7 )\n",
      "coin numLocations=10,includeDoors=1,numDistractorItems=0 19\n",
      "self.__ghost:  (4, 6)\n",
      "Guess: ( 4 ,  6 )\n",
      "coin numLocations=11,includeDoors=1,numDistractorItems=0 0\n",
      "self.__ghost:  (-7, -5)\n",
      "Guess: ( -7 ,  -5 )\n",
      "coin numLocations=11,includeDoors=1,numDistractorItems=0 1\n",
      "self.__ghost:  (7, 3)\n",
      "Guess: ( 7 ,  3 )\n",
      "coin numLocations=11,includeDoors=1,numDistractorItems=0 2\n",
      "self.__ghost:  (4, 0)\n",
      "Guess: ( 4 ,  0 )\n",
      "coin numLocations=11,includeDoors=1,numDistractorItems=0 3\n",
      "self.__ghost:  (4, 11)\n",
      "Guess: ( 4 ,  11 )\n",
      "coin numLocations=11,includeDoors=1,numDistractorItems=0 4\n",
      "self.__ghost:  (8, -3)\n",
      "Guess: ( 8 ,  -3 )\n",
      "coin numLocations=11,includeDoors=1,numDistractorItems=0 5\n",
      "self.__ghost:  (-8, -10)\n",
      "Guess: ( -8 ,  -10 )\n",
      "coin numLocations=11,includeDoors=1,numDistractorItems=0 6\n",
      "self.__ghost:  (10, 10)\n",
      "Guess: ( 10 ,  10 )\n",
      "coin numLocations=11,includeDoors=1,numDistractorItems=0 7\n",
      "self.__ghost:  (10, -6)\n",
      "Guess: ( 10 ,  -6 )\n",
      "coin numLocations=11,includeDoors=1,numDistractorItems=0 8\n",
      "self.__ghost:  (-6, -4)\n",
      "Guess: ( -6 ,  -4 )\n",
      "coin numLocations=11,includeDoors=1,numDistractorItems=0 9\n",
      "self.__ghost:  (3, 3)\n",
      "Guess: ( 3 ,  3 )\n",
      "coin numLocations=11,includeDoors=1,numDistractorItems=0 10\n",
      "self.__ghost:  (3, -3)\n",
      "Guess: ( 3 ,  -3 )\n",
      "coin numLocations=11,includeDoors=1,numDistractorItems=0 11\n",
      "self.__ghost:  (2, -5)\n",
      "Guess: ( 2 ,  -5 )\n",
      "coin numLocations=11,includeDoors=1,numDistractorItems=0 12\n",
      "self.__ghost:  (-9, -9)\n",
      "Guess: ( -9 ,  -9 )\n",
      "coin numLocations=11,includeDoors=1,numDistractorItems=0 13\n",
      "self.__ghost:  (6, 7)\n",
      "Guess: ( 6 ,  7 )\n",
      "coin numLocations=11,includeDoors=1,numDistractorItems=0 14\n",
      "self.__ghost:  (8, 5)\n",
      "Guess: ( 8 ,  5 )\n",
      "coin numLocations=11,includeDoors=1,numDistractorItems=0 15\n",
      "self.__ghost:  (-10, -5)\n",
      "Guess: ( -10 ,  -5 )\n",
      "coin numLocations=11,includeDoors=1,numDistractorItems=0 16\n",
      "self.__ghost:  (0, -10)\n",
      "Guess: ( 0 ,  -10 )\n",
      "coin numLocations=11,includeDoors=1,numDistractorItems=0 17\n",
      "self.__ghost:  (-7, 10)\n",
      "Guess: ( 7 ,  10 )\n",
      "coin numLocations=11,includeDoors=1,numDistractorItems=0 18\n",
      "self.__ghost:  (-2, 10)\n",
      "Guess: ( -2 ,  10 )\n",
      "coin numLocations=11,includeDoors=1,numDistractorItems=0 19\n",
      "self.__ghost:  (8, 6)\n",
      "Guess: ( 8 ,  6 )\n",
      "mapreader numLocations=5,maxDistanceApart=3,includeDoors=0,maxDistractorItemsPerLocation=0 0\n",
      "self.__ghost:  (4, 0)\n",
      "Guess: ( 4 ,  0 )\n",
      "mapreader numLocations=5,maxDistanceApart=3,includeDoors=0,maxDistractorItemsPerLocation=0 1\n",
      "self.__ghost:  (-5, -3)\n",
      "Guess: ( -5 ,  -3 )\n",
      "mapreader numLocations=5,maxDistanceApart=3,includeDoors=0,maxDistractorItemsPerLocation=0 2\n",
      "self.__ghost:  (3, 2)\n",
      "Guess: ( 3 ,  2 )\n",
      "mapreader numLocations=5,maxDistanceApart=3,includeDoors=0,maxDistractorItemsPerLocation=0 3\n",
      "self.__ghost:  (5, 1)\n",
      "Guess: ( 5 ,  1 )\n",
      "mapreader numLocations=5,maxDistanceApart=3,includeDoors=0,maxDistractorItemsPerLocation=0 4\n",
      "self.__ghost:  (3, 5)\n",
      "Guess: ( 3 ,  5 )\n",
      "mapreader numLocations=5,maxDistanceApart=3,includeDoors=0,maxDistractorItemsPerLocation=0 5\n",
      "Skipping <class 'helpers.GhostTextWorldExpressEnv'> 5 numLocations=5,maxDistanceApart=3,includeDoors=0,maxDistractorItemsPerLocation=0 mapreader\n",
      "mapreader numLocations=5,maxDistanceApart=3,includeDoors=0,maxDistractorItemsPerLocation=0 6\n",
      "self.__ghost:  (-1, -4)\n",
      "Guess: ( -1 ,  -4 )\n",
      "mapreader numLocations=5,maxDistanceApart=3,includeDoors=0,maxDistractorItemsPerLocation=0 7\n",
      "Skipping <class 'helpers.GhostTextWorldExpressEnv'> 7 numLocations=5,maxDistanceApart=3,includeDoors=0,maxDistractorItemsPerLocation=0 mapreader\n",
      "mapreader numLocations=5,maxDistanceApart=3,includeDoors=0,maxDistractorItemsPerLocation=0 8\n",
      "self.__ghost:  (1, -3)\n",
      "Guess: ( 1 ,  -3 )\n",
      "mapreader numLocations=5,maxDistanceApart=3,includeDoors=0,maxDistractorItemsPerLocation=0 9\n",
      "self.__ghost:  (1, -3)\n",
      "Guess: ( 1 ,  -3 )\n",
      "mapreader numLocations=5,maxDistanceApart=3,includeDoors=0,maxDistractorItemsPerLocation=0 10\n",
      "self.__ghost:  (-3, -4)\n",
      "Guess: ( -3 ,  -4 )\n",
      "mapreader numLocations=5,maxDistanceApart=3,includeDoors=0,maxDistractorItemsPerLocation=0 11\n",
      "self.__ghost:  (1, -2)\n",
      "Guess: ( 1 ,  -1 )\n",
      "mapreader numLocations=5,maxDistanceApart=3,includeDoors=0,maxDistractorItemsPerLocation=0 12\n",
      "self.__ghost:  (-2, 5)\n",
      "Guess: ( -2 ,  5 )\n",
      "mapreader numLocations=5,maxDistanceApart=3,includeDoors=0,maxDistractorItemsPerLocation=0 13\n",
      "self.__ghost:  (3, 1)\n",
      "Guess: ( 3 ,  1 )\n",
      "mapreader numLocations=5,maxDistanceApart=3,includeDoors=0,maxDistractorItemsPerLocation=0 14\n",
      "self.__ghost:  (5, 4)\n",
      "Guess: ( 5 ,  4 )\n",
      "mapreader numLocations=5,maxDistanceApart=3,includeDoors=0,maxDistractorItemsPerLocation=0 15\n",
      "self.__ghost:  (-5, -2)\n",
      "Guess: ( -5 ,  -2 )\n",
      "mapreader numLocations=5,maxDistanceApart=3,includeDoors=0,maxDistractorItemsPerLocation=0 16\n",
      "self.__ghost:  (4, -2)\n",
      "Guess: ( 4 ,  -2 )\n",
      "mapreader numLocations=5,maxDistanceApart=3,includeDoors=0,maxDistractorItemsPerLocation=0 17\n",
      "self.__ghost:  (2, -3)\n",
      "Guess: ( 2 ,  -3 )\n",
      "mapreader numLocations=5,maxDistanceApart=3,includeDoors=0,maxDistractorItemsPerLocation=0 18\n",
      "self.__ghost:  (-1, 5)\n",
      "Guess: ( -1 ,  5 )\n",
      "mapreader numLocations=5,maxDistanceApart=3,includeDoors=0,maxDistractorItemsPerLocation=0 19\n",
      "self.__ghost:  (3, 2)\n",
      "Guess: ( 3 ,  2 )\n",
      "mapreader numLocations=8,maxDistanceApart=4,includeDoors=0,maxDistractorItemsPerLocation=0 0\n",
      "self.__ghost:  (6, -3)\n",
      "Guess: ( 6 ,  -3 )\n",
      "mapreader numLocations=8,maxDistanceApart=4,includeDoors=0,maxDistractorItemsPerLocation=0 1\n",
      "self.__ghost:  (1, 5)\n",
      "Guess: ( 1 ,  5 )\n",
      "mapreader numLocations=8,maxDistanceApart=4,includeDoors=0,maxDistractorItemsPerLocation=0 2\n",
      "self.__ghost:  (-1, -2)\n",
      "Guess: ( -1 ,  -2 )\n",
      "mapreader numLocations=8,maxDistanceApart=4,includeDoors=0,maxDistractorItemsPerLocation=0 3\n",
      "self.__ghost:  (7, -2)\n",
      "Guess: ( 7 ,  -2 )\n",
      "mapreader numLocations=8,maxDistanceApart=4,includeDoors=0,maxDistractorItemsPerLocation=0 4\n",
      "self.__ghost:  (9, -3)\n",
      "Guess: ( 9 ,  -3 )\n",
      "mapreader numLocations=8,maxDistanceApart=4,includeDoors=0,maxDistractorItemsPerLocation=0 5\n",
      "self.__ghost:  (8, -4)\n",
      "Guess: ( 8 ,  -4 )\n",
      "mapreader numLocations=8,maxDistanceApart=4,includeDoors=0,maxDistractorItemsPerLocation=0 6\n",
      "self.__ghost:  (7, -8)\n",
      "Guess: ( 7 ,  -8 )\n",
      "mapreader numLocations=8,maxDistanceApart=4,includeDoors=0,maxDistractorItemsPerLocation=0 7\n",
      "self.__ghost:  (4, 2)\n",
      "Guess: ( 4 ,  2 )\n",
      "mapreader numLocations=8,maxDistanceApart=4,includeDoors=0,maxDistractorItemsPerLocation=0 8\n",
      "self.__ghost:  (-7, -1)\n",
      "Guess: ( -7 ,  -1 )\n",
      "mapreader numLocations=8,maxDistanceApart=4,includeDoors=0,maxDistractorItemsPerLocation=0 9\n",
      "self.__ghost:  (8, -6)\n",
      "Guess: ( 8 ,  -6 )\n",
      "mapreader numLocations=8,maxDistanceApart=4,includeDoors=0,maxDistractorItemsPerLocation=0 10\n",
      "self.__ghost:  (-8, -9)\n",
      "Guess: ( -8 ,  -9 )\n",
      "mapreader numLocations=8,maxDistanceApart=4,includeDoors=0,maxDistractorItemsPerLocation=0 11\n",
      "self.__ghost:  (-5, -4)\n",
      "Guess: ( -5 ,  -4 )\n",
      "mapreader numLocations=8,maxDistanceApart=4,includeDoors=0,maxDistractorItemsPerLocation=0 12\n",
      "self.__ghost:  (-9, 2)\n",
      "Guess: ( -9 ,  2 )\n",
      "mapreader numLocations=8,maxDistanceApart=4,includeDoors=0,maxDistractorItemsPerLocation=0 13\n",
      "self.__ghost:  (7, -1)\n",
      "Guess: ( 7 ,  -1 )\n",
      "mapreader numLocations=8,maxDistanceApart=4,includeDoors=0,maxDistractorItemsPerLocation=0 14\n",
      "self.__ghost:  (2, 1)\n",
      "Guess: ( 2 ,  1 )\n",
      "mapreader numLocations=8,maxDistanceApart=4,includeDoors=0,maxDistractorItemsPerLocation=0 15\n",
      "self.__ghost:  (2, 0)\n",
      "Guess: ( 2 ,  0 )\n",
      "mapreader numLocations=8,maxDistanceApart=4,includeDoors=0,maxDistractorItemsPerLocation=0 16\n",
      "self.__ghost:  (-9, -1)\n",
      "Guess: ( -9 ,  -1 )\n",
      "mapreader numLocations=8,maxDistanceApart=4,includeDoors=0,maxDistractorItemsPerLocation=0 17\n",
      "self.__ghost:  (-7, -6)\n",
      "Guess: ( -7 ,  -6 )\n",
      "mapreader numLocations=8,maxDistanceApart=4,includeDoors=0,maxDistractorItemsPerLocation=0 18\n",
      "self.__ghost:  (3, 0)\n",
      "Guess: ( 3 ,  0 )\n",
      "mapreader numLocations=8,maxDistanceApart=4,includeDoors=0,maxDistractorItemsPerLocation=0 19\n",
      "self.__ghost:  (-8, -9)\n",
      "Guess: ( -8 ,  -9 )\n",
      "mapreader numLocations=11,maxDistanceApart=5,includeDoors=0,maxDistractorItemsPerLocation=0 0\n",
      "self.__ghost:  (2, -7)\n",
      "Guess: ( 2 ,  -7 )\n",
      "mapreader numLocations=11,maxDistanceApart=5,includeDoors=0,maxDistractorItemsPerLocation=0 1\n",
      "self.__ghost:  (2, -10)\n",
      "Guess: ( 2 ,  -11 )\n",
      "mapreader numLocations=11,maxDistanceApart=5,includeDoors=0,maxDistractorItemsPerLocation=0 2\n",
      "self.__ghost:  (0, -7)\n",
      "Guess: ( 0 ,  -7 )\n",
      "mapreader numLocations=11,maxDistanceApart=5,includeDoors=0,maxDistractorItemsPerLocation=0 3\n",
      "self.__ghost:  (-10, -5)\n",
      "Guess: ( -10 ,  -5 )\n",
      "mapreader numLocations=11,maxDistanceApart=5,includeDoors=0,maxDistractorItemsPerLocation=0 4\n",
      "self.__ghost:  (2, 7)\n",
      "Guess: ( 2 ,  7 )\n",
      "mapreader numLocations=11,maxDistanceApart=5,includeDoors=0,maxDistractorItemsPerLocation=0 5\n",
      "self.__ghost:  (9, -1)\n",
      "Guess: ( 9 ,  -1 )\n",
      "mapreader numLocations=11,maxDistanceApart=5,includeDoors=0,maxDistractorItemsPerLocation=0 6\n",
      "self.__ghost:  (4, -5)\n",
      "Guess: ( 4 ,  -5 )\n",
      "mapreader numLocations=11,maxDistanceApart=5,includeDoors=0,maxDistractorItemsPerLocation=0 7\n",
      "self.__ghost:  (-2, 5)\n",
      "Guess: ( -2 ,  5 )\n",
      "mapreader numLocations=11,maxDistanceApart=5,includeDoors=0,maxDistractorItemsPerLocation=0 8\n",
      "self.__ghost:  (2, -8)\n",
      "Guess: ( 2 ,  -8 )\n",
      "mapreader numLocations=11,maxDistanceApart=5,includeDoors=0,maxDistractorItemsPerLocation=0 9\n",
      "self.__ghost:  (-2, 1)\n",
      "Guess: ( -2 ,  1 )\n",
      "mapreader numLocations=11,maxDistanceApart=5,includeDoors=0,maxDistractorItemsPerLocation=0 10\n",
      "self.__ghost:  (-10, 2)\n",
      "Guess: ( -10 ,  2 )\n",
      "mapreader numLocations=11,maxDistanceApart=5,includeDoors=0,maxDistractorItemsPerLocation=0 11\n",
      "self.__ghost:  (1, -3)\n",
      "Guess: ( 1 ,  -3 )\n",
      "mapreader numLocations=11,maxDistanceApart=5,includeDoors=0,maxDistractorItemsPerLocation=0 12\n",
      "self.__ghost:  (-10, 4)\n",
      "Guess: ( -10 ,  4 )\n",
      "mapreader numLocations=11,maxDistanceApart=5,includeDoors=0,maxDistractorItemsPerLocation=0 13\n",
      "self.__ghost:  (-7, -10)\n",
      "Guess: ( -7 ,  -10 )\n",
      "mapreader numLocations=11,maxDistanceApart=5,includeDoors=0,maxDistractorItemsPerLocation=0 14\n",
      "self.__ghost:  (-1, -4)\n",
      "Guess: ( -1 ,  -4 )\n",
      "mapreader numLocations=11,maxDistanceApart=5,includeDoors=0,maxDistractorItemsPerLocation=0 15\n",
      "self.__ghost:  (1, 5)\n",
      "Guess: ( 1 ,  5 )\n",
      "mapreader numLocations=11,maxDistanceApart=5,includeDoors=0,maxDistractorItemsPerLocation=0 16\n",
      "self.__ghost:  (7, -6)\n",
      "Guess: ( 7 ,  -6 )\n",
      "mapreader numLocations=11,maxDistanceApart=5,includeDoors=0,maxDistractorItemsPerLocation=0 17\n",
      "self.__ghost:  (-8, -3)\n",
      "Guess: ( -8 ,  -3 )\n",
      "mapreader numLocations=11,maxDistanceApart=5,includeDoors=0,maxDistractorItemsPerLocation=0 18\n",
      "self.__ghost:  (8, 4)\n",
      "Guess: ( 8 ,  4 )\n",
      "mapreader numLocations=11,maxDistanceApart=5,includeDoors=0,maxDistractorItemsPerLocation=0 19\n",
      "self.__ghost:  (-2, -8)\n",
      "Guess: ( -2 ,  -8 )\n",
      "mapreader numLocations=15,maxDistanceApart=8,includeDoors=0,maxDistractorItemsPerLocation=0 0\n",
      "self.__ghost:  (13, 12)\n",
      "Guess: ( 13 ,  12 )\n",
      "mapreader numLocations=15,maxDistanceApart=8,includeDoors=0,maxDistractorItemsPerLocation=0 1\n",
      "self.__ghost:  (-14, 3)\n",
      "Guess: ( -14 ,  3 )\n",
      "mapreader numLocations=15,maxDistanceApart=8,includeDoors=0,maxDistractorItemsPerLocation=0 2\n",
      "self.__ghost:  (-10, -5)\n",
      "Guess: ( -10 ,  -5 )\n",
      "mapreader numLocations=15,maxDistanceApart=8,includeDoors=0,maxDistractorItemsPerLocation=0 3\n",
      "self.__ghost:  (4, -6)\n",
      "Guess: ( 4 ,  -6 )\n",
      "mapreader numLocations=15,maxDistanceApart=8,includeDoors=0,maxDistractorItemsPerLocation=0 4\n",
      "self.__ghost:  (-8, -8)\n",
      "Guess: ( -8 ,  -8 )\n",
      "mapreader numLocations=15,maxDistanceApart=8,includeDoors=0,maxDistractorItemsPerLocation=0 5\n",
      "self.__ghost:  (0, 2)\n",
      "Guess: ( 0 ,  2 )\n",
      "mapreader numLocations=15,maxDistanceApart=8,includeDoors=0,maxDistractorItemsPerLocation=0 6\n",
      "Skipping <class 'helpers.GhostTextWorldExpressEnv'> 6 numLocations=15,maxDistanceApart=8,includeDoors=0,maxDistractorItemsPerLocation=0 mapreader\n",
      "mapreader numLocations=15,maxDistanceApart=8,includeDoors=0,maxDistractorItemsPerLocation=0 7\n",
      "self.__ghost:  (-4, 2)\n",
      "Guess: ( -4 ,  2 )\n",
      "mapreader numLocations=15,maxDistanceApart=8,includeDoors=0,maxDistractorItemsPerLocation=0 8\n",
      "Skipping <class 'helpers.GhostTextWorldExpressEnv'> 8 numLocations=15,maxDistanceApart=8,includeDoors=0,maxDistractorItemsPerLocation=0 mapreader\n",
      "mapreader numLocations=15,maxDistanceApart=8,includeDoors=0,maxDistractorItemsPerLocation=0 9\n",
      "self.__ghost:  (10, -7)\n",
      "Guess: ( 10 ,  -7 )\n",
      "mapreader numLocations=15,maxDistanceApart=8,includeDoors=0,maxDistractorItemsPerLocation=0 10\n",
      "self.__ghost:  (11, -14)\n",
      "Guess: ( 11 ,  -14 )\n",
      "mapreader numLocations=15,maxDistanceApart=8,includeDoors=0,maxDistractorItemsPerLocation=0 11\n",
      "self.__ghost:  (3, 13)\n",
      "Guess: ( 3 ,  13 )\n",
      "mapreader numLocations=15,maxDistanceApart=8,includeDoors=0,maxDistractorItemsPerLocation=0 12\n",
      "self.__ghost:  (-6, 11)\n",
      "Guess: ( -6 ,  11 )\n",
      "mapreader numLocations=15,maxDistanceApart=8,includeDoors=0,maxDistractorItemsPerLocation=0 13\n",
      "Skipping <class 'helpers.GhostTextWorldExpressEnv'> 13 numLocations=15,maxDistanceApart=8,includeDoors=0,maxDistractorItemsPerLocation=0 mapreader\n",
      "mapreader numLocations=15,maxDistanceApart=8,includeDoors=0,maxDistractorItemsPerLocation=0 14\n",
      "self.__ghost:  (14, -15)\n",
      "Guess: ( 14 ,  -15 )\n",
      "mapreader numLocations=15,maxDistanceApart=8,includeDoors=0,maxDistractorItemsPerLocation=0 15\n",
      "self.__ghost:  (-14, -4)\n",
      "Guess: ( -14 ,  -4 )\n",
      "mapreader numLocations=15,maxDistanceApart=8,includeDoors=0,maxDistractorItemsPerLocation=0 16\n",
      "self.__ghost:  (-8, 1)\n",
      "Guess: ( -8 ,  1 )\n",
      "mapreader numLocations=15,maxDistanceApart=8,includeDoors=0,maxDistractorItemsPerLocation=0 17\n",
      "self.__ghost:  (13, -13)\n",
      "Guess: ( 13 ,  -13 )\n",
      "mapreader numLocations=15,maxDistanceApart=8,includeDoors=0,maxDistractorItemsPerLocation=0 18\n",
      "self.__ghost:  (3, -2)\n",
      "Guess: ( 3 ,  -2 )\n",
      "mapreader numLocations=15,maxDistanceApart=8,includeDoors=0,maxDistractorItemsPerLocation=0 19\n",
      "self.__ghost:  (5, -9)\n",
      "Guess: ( 5 ,  -9 )\n",
      "mapreader numLocations=20,maxDistanceApart=8,includeDoors=0,maxDistractorItemsPerLocation=0 0\n",
      "self.__ghost:  (2, 15)\n",
      "Guess: ( 2 ,  15 )\n",
      "mapreader numLocations=20,maxDistanceApart=8,includeDoors=0,maxDistractorItemsPerLocation=0 1\n",
      "self.__ghost:  (13, 11)\n",
      "Guess: ( 13 ,  11 )\n",
      "mapreader numLocations=20,maxDistanceApart=8,includeDoors=0,maxDistractorItemsPerLocation=0 2\n",
      "self.__ghost:  (-5, -11)\n",
      "Guess: ( -5 ,  -11 )\n",
      "mapreader numLocations=20,maxDistanceApart=8,includeDoors=0,maxDistractorItemsPerLocation=0 3\n",
      "self.__ghost:  (4, 10)\n",
      "Guess: ( 4 ,  10 )\n",
      "mapreader numLocations=20,maxDistanceApart=8,includeDoors=0,maxDistractorItemsPerLocation=0 4\n",
      "Skipping <class 'helpers.GhostTextWorldExpressEnv'> 4 numLocations=20,maxDistanceApart=8,includeDoors=0,maxDistractorItemsPerLocation=0 mapreader\n",
      "mapreader numLocations=20,maxDistanceApart=8,includeDoors=0,maxDistractorItemsPerLocation=0 5\n",
      "self.__ghost:  (-18, -4)\n",
      "Guess: ( -17 ,  -5 )\n",
      "mapreader numLocations=20,maxDistanceApart=8,includeDoors=0,maxDistractorItemsPerLocation=0 6\n",
      "self.__ghost:  (-5, -1)\n",
      "Guess: ( -5 ,  -1 )\n",
      "mapreader numLocations=20,maxDistanceApart=8,includeDoors=0,maxDistractorItemsPerLocation=0 7\n",
      "self.__ghost:  (-19, 16)\n",
      "Guess: ( -19 ,  16 )\n",
      "mapreader numLocations=20,maxDistanceApart=8,includeDoors=0,maxDistractorItemsPerLocation=0 8\n",
      "self.__ghost:  (5, -19)\n",
      "Guess: ( 5 ,  -19 )\n",
      "mapreader numLocations=20,maxDistanceApart=8,includeDoors=0,maxDistractorItemsPerLocation=0 9\n",
      "self.__ghost:  (-18, -7)\n",
      "Guess: ( -18 ,  -7 )\n",
      "mapreader numLocations=20,maxDistanceApart=8,includeDoors=0,maxDistractorItemsPerLocation=0 10\n",
      "self.__ghost:  (-1, 17)\n",
      "Guess: ( -1 ,  17 )\n",
      "mapreader numLocations=20,maxDistanceApart=8,includeDoors=0,maxDistractorItemsPerLocation=0 11\n",
      "self.__ghost:  (7, 5)\n",
      "Guess: ( 7 ,  5 )\n",
      "mapreader numLocations=20,maxDistanceApart=8,includeDoors=0,maxDistractorItemsPerLocation=0 12\n",
      "self.__ghost:  (-17, 5)\n",
      "Guess: ( -17 ,  5 )\n",
      "mapreader numLocations=20,maxDistanceApart=8,includeDoors=0,maxDistractorItemsPerLocation=0 13\n",
      "self.__ghost:  (-10, 9)\n",
      "Guess: ( -10 ,  8 )\n",
      "mapreader numLocations=20,maxDistanceApart=8,includeDoors=0,maxDistractorItemsPerLocation=0 14\n",
      "self.__ghost:  (19, 16)\n",
      "Guess: ( 19 ,  16 )\n",
      "mapreader numLocations=20,maxDistanceApart=8,includeDoors=0,maxDistractorItemsPerLocation=0 15\n",
      "self.__ghost:  (20, 18)\n",
      "Guess: ( 20 ,  18 )\n",
      "mapreader numLocations=20,maxDistanceApart=8,includeDoors=0,maxDistractorItemsPerLocation=0 16\n",
      "self.__ghost:  (11, 3)\n",
      "Guess: ( 11 ,  3 )\n",
      "mapreader numLocations=20,maxDistanceApart=8,includeDoors=0,maxDistractorItemsPerLocation=0 17\n",
      "self.__ghost:  (9, -14)\n",
      "Guess: ( 9 ,  -14 )\n",
      "mapreader numLocations=20,maxDistanceApart=8,includeDoors=0,maxDistractorItemsPerLocation=0 18\n",
      "self.__ghost:  (-21, -14)\n",
      "Guess: ( -21 ,  -14 )\n",
      "mapreader numLocations=20,maxDistanceApart=8,includeDoors=0,maxDistractorItemsPerLocation=0 19\n",
      "self.__ghost:  (5, -20)\n",
      "Guess: ( 5 ,  -20 )\n",
      "Agent accuracy:  0.9536082474226805\n",
      "Passed! Accuracy greater than  0.95\n"
     ]
    }
   ],
   "source": [
    "from tests import test_all_configs\n",
    "\n",
    "test_all_configs(run_agent=run_agent, alpha_param=0.95)"
   ]
  },
  {
   "cell_type": "markdown",
   "metadata": {
    "id": "uHmhWpvpE6W8"
   },
   "source": [
    "Your agent should get the correct answer on average **at least** `alpha` percent of the runs. So if alpha is 0.9, your agent should be getting the report correct (written as True in the dictionary `final_results`) on average 90% of the time. This can be used to verify your solution is working as intended."
   ]
  },
  {
   "cell_type": "markdown",
   "metadata": {},
   "source": [
    "# Grading"
   ]
  },
  {
   "cell_type": "markdown",
   "metadata": {},
   "source": [
    "Your score for this part of the assignment will be out of **50 points**. \n",
    "\n",
    "15 points will be awarded for correctly completing the Bayesian inference scenario with the lab safety investigation. The unit tests provided in this part of the assignment are identical to the ones that we will use to grade your solution. There are **no hidden tests** for this part of the assignment. If you pass the tests in Gradescope, you will receive full credit for this part of the assignment.\n",
    "* 3 points for correctly building the Bayesian network.\n",
    "* 3 points for building the CPDs such that all their values sum to 1 and are consistent with the network structure.\n",
    "* 3 points each (9 points total) for correctly calculating the marginal and conditional probabilities specified. \n",
    "\n",
    "\n",
    "35 points will be awarded for the ghosting hunting scenario. We will base your grading based on the ability on your implemention to correctly identify the ghost based on the alpha parameters. We will test your code on hidden seeds and environments with various alpha values, and average your code over multiple different trials to ensure fairness.\n",
    "\n",
    "Additionally, there will be a generous \"fudge\" built into the autograder to account for the randomness inherent in the environment. This ensures that a correct solution should not be penalized for randomness.\n",
    "\n",
    "Your final score on the hidden environments will be shown on Gradescope when grades are officially published. We will provide sanity checks on a different set of environments/seeds to allow you to verify that your code works as expected in the autograder - ***the sanity checks do not guarantee your code's performance on the hidden tests.*** You have the ability to load any environment you want to test your code on, and we recommend you do so to ensure your code is working as expected. Any bad environments (i.e., environments that TextWorld cannot load properly) will be skipped and will not count towards your grade. \n",
    "\n",
    "**We will have checks in place to prevent any shortcuts taken to circumvent the autograder. Being flagged by these checks will lead to further review and a potential 0 on the assignment.**"
   ]
  },
  {
   "cell_type": "markdown",
   "metadata": {},
   "source": [
    "# Submission Instructions\n",
    "\n",
    "Upload this notebook with the name `submission.ipynb` file to Gradescope. The autograder will **only** run successfully if your file is named this way. You must ensure that you have removed all print statements from **your** code, or the autograder may fail to run. Excessive print statements will also result in muddled test case outputs, which makes it more difficult to interpret your score. \n",
    "\n",
    "We've added appropriate comments to the top of certain cells for the autograder to export (`# export`). You do NOT have to do anything (e.g. remove print statements) to cells we have provided - anything related to those have been handled for you. You are responsible for ensuring your own code has no syntax errors or unnecessary print statements. You ***CANNOT*** modify the export comments at the top of the cells, or the autograder will fail to run on your submission.\n",
    "\n",
    "You should ***not*** add any cells that your code requires to the notebook when submitting. You're welcome to add any code as you need to extra cells when testing, but they will not be graded. Only the provided cells will be graded. As mentioned in the top of the notebook, **any helper functions that you add should be nested within the function that uses them.**\n",
    "\n",
    "If you encounter any issues with the autograder, please feel free to make a post on Ed Discussion. We highly recommend making a public post to clarify any questions, as it's likely that other students have the same questions as you! If you have a question that needs to be private, please make a private post."
   ]
  }
 ],
 "metadata": {
  "colab": {
   "collapsed_sections": [
    "NMJadvTO-O7z",
    "f0GaE8xE-T6A",
    "7U9ElZek-y5I"
   ],
   "provenance": [
    {
     "file_id": "1xTUOUsUgvsPWJhJu-y2b__epl_AnL3ma",
     "timestamp": 1729452137578
    },
    {
     "file_id": "1KYHGx208TbLjkXponUOBSaDu9pVpQcxz",
     "timestamp": 1728424770036
    },
    {
     "file_id": "1u8X3aqsHNLu2jzDPzmjfiR7nOWgP1ogq",
     "timestamp": 1728343144937
    },
    {
     "file_id": "1QuNvdFQvJOj1fQARGqxU9ihZFnSxUIVt",
     "timestamp": 1727719917114
    },
    {
     "file_id": "1eVDhKIZsrNewtmF94zvqG899YbvJEne4",
     "timestamp": 1722952505791
    }
   ]
  },
  "kernelspec": {
   "display_name": "CS-3600",
   "language": "python",
   "name": "python3"
  },
  "language_info": {
   "codemirror_mode": {
    "name": "ipython",
    "version": 3
   },
   "file_extension": ".py",
   "mimetype": "text/x-python",
   "name": "python",
   "nbconvert_exporter": "python",
   "pygments_lexer": "ipython3",
   "version": "3.10.16"
  }
 },
 "nbformat": 4,
 "nbformat_minor": 0
}
