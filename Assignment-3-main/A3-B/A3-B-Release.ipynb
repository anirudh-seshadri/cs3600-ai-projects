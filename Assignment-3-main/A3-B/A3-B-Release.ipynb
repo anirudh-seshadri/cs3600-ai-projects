{
 "cells": [
  {
   "cell_type": "markdown",
   "metadata": {
    "id": "gKTBPBJy-MIp"
   },
   "source": [
    "# Instructions\n",
    "\n",
    "The second half of Assignment 3 will be different from previous assignments in this class. You will **not** be interacting with TextWorld or TextWorld-Express for this assignment.\n",
    "\n",
    "Your task for this assignment is to create a simple language model based off of unigrams, bigrams, and trigrams. This language model can then be used to generate text that is similar to the text the model is trained on. We will test your solution on hidden test data that will be used to evaluate the accuracy of your implementation. You will be implementing code to build and generate text from all three the models (Unigrams, Bigrams, Trigrams)\n",
    "\n",
    "For this part of the assignment, you will be using NumPy extensively, so please familiarize yourself with the NumPy API (see https://numpy.org/doc/stable/reference/index.html). You are **only** allowed to use a restricted set of libraries for this assignment. All packages that come with the default Python installation are permitted, as well as any imports we have already provided for you. You may not use any other libraries than the ones we have provided. If you attempt to use other libraries, the autograder will not be able to run your code."
   ]
  },
  {
   "cell_type": "markdown",
   "metadata": {
    "id": "kVlJ_OMK-GeR"
   },
   "source": [
    "# Installs and Imports"
   ]
  },
  {
   "cell_type": "code",
   "execution_count": 263,
   "metadata": {},
   "outputs": [
    {
     "name": "stdout",
     "output_type": "stream",
     "text": [
      "Requirement already satisfied: numpy in /opt/homebrew/Caskroom/miniconda/base/envs/CS-3600/lib/python3.10/site-packages (2.2.4)\n",
      "Note: you may need to restart the kernel to use updated packages.\n"
     ]
    }
   ],
   "source": [
    "%pip install numpy"
   ]
  },
  {
   "cell_type": "markdown",
   "metadata": {
    "id": "f0GaE8xE-T6A"
   },
   "source": [
    "## Imports"
   ]
  },
  {
   "cell_type": "code",
   "execution_count": 264,
   "metadata": {
    "id": "_ScAIKmf-Vmm"
   },
   "outputs": [],
   "source": [
    "# export - DO NOT MODIFY THIS CELL\n",
    "import numpy as np\n",
    "import random\n",
    "from helpers import (\n",
    "    EOS,\n",
    "    EOS_token,\n",
    "    SOS,\n",
    "    SOS_token,\n",
    "    Vocab,\n",
    "    normalize_string,\n",
    "    make_vocab,\n",
    "    insert_eos_sos,\n",
    ")"
   ]
  },
  {
   "cell_type": "code",
   "execution_count": 265,
   "metadata": {},
   "outputs": [],
   "source": [
    "# export - DO NOT MODIFY OR MOVE THIS LINE\n",
    "# add any additional imports here (from the Python Standard Library only!)\n",
    "from collections import defaultdict"
   ]
  },
  {
   "cell_type": "code",
   "execution_count": 266,
   "metadata": {},
   "outputs": [],
   "source": [
    "# DO NOT MODIFY THIS CELL\n",
    "np.random.seed(42)\n",
    "random.seed(42)"
   ]
  },
  {
   "cell_type": "markdown",
   "metadata": {
    "id": "s9XyOLyr0oUW"
   },
   "source": [
    "# Language Models Setup"
   ]
  },
  {
   "cell_type": "markdown",
   "metadata": {
    "id": "z8Piu2tra_Iz"
   },
   "source": [
    "## Vocabularies for Language Models"
   ]
  },
  {
   "cell_type": "markdown",
   "metadata": {
    "id": "U_v7WA-E8-UI"
   },
   "source": [
    "A *language model* models the probability of a word to the appearance of prior tokens.\n",
    "\n",
    "A bigram language model relates the probability of a word to the most recent previous word (for a total of two words modeled): $p(w_n | w_{n-1})$.\n",
    "\n",
    "A trigram language model relates the probability of a word to the most recent two previous words (for a total of three words modeled): $p(w_n | w_{n-1}, w_{n-2})$."
   ]
  },
  {
   "cell_type": "markdown",
   "metadata": {
    "id": "NJHGfza5-nPL"
   },
   "source": [
    "We will construct a probability matrix for a bigram language model. The probability table will be a 2D table where dimension 0 is the word in position $n-1$ and dimension 1 is the word in position $n$ and dimension 2 is the probability that $w_n$ occurs directly after $w_{n-1}$. Thus, ideally, if our probability matrix is `p` then `p['you', 'are'] = 0.0089`.\n",
    "\n",
    "But where do we know where each word should go in the matrix? We will assign an unique number to each word, from 0 to $|W|$, the total number of words in our corpus. This number will be referred to as a \"token\", but it is also the \"index\" in an arbitrary list of words. Thus is the token for \"you\" is 2 and the token for \"are\" is 3, then `p[2, 3] = 0.0089`.\n",
    "\n",
    "The following creates a \"vocabulary\" object, which maps the words in a corpus to tokens and vice versa. The vocabulary will have two special tokens, `SOS_token` and `EOS_token`, to indicate the start of a sequence and end of a sequence, respectively. These tokens can be used to demarkate the beginnings and ends of things, which will be useful for generation later."
   ]
  },
  {
   "cell_type": "markdown",
   "metadata": {
    "id": "Uysi4jNk_5N9"
   },
   "source": [
    "## Make a Vocabulary"
   ]
  },
  {
   "cell_type": "code",
   "execution_count": 267,
   "metadata": {},
   "outputs": [
    {
     "name": "stdout",
     "output_type": "stream",
     "text": [
      "SOS you are in the kitchen  EOS SOS in one part of the room you see a stove  EOS SOS there is also an oven  EOS SOS you also see a fridge that is closed  EOS SOS in another part of the room you see a counter that has nothing on it  EOS SOS in one part of the room you see a kitchen cupboard that is closed  EOS SOS there is also a cutlery drawer that is closed  EOS SOS you also see a trash can that is closed  EOS SOS in another part of the room you see a dishwasher that is closed  EOS SOS in one part of the room you see a dining chair that has nothing on it  EOS SOS to the north you see a closed wood door  EOS SOS to the south you see a closed plain door  EOS SOS to the east you see the corridor  EOS SOS inventory maximum capacity is 2 items    your inventory is currently empty  EOS SOS you are in the kitchen  EOS SOS in one part of the room you see a stove  EOS SOS there is also an oven  EOS SOS you also see a fridge that is closed  EOS SOS in another part of the room you see a counter that has nothing on it  EOS SOS in one part of the room you see a kitchen cupboard that is closed  EOS SOS there is also a cutlery drawer that is closed  EOS SOS you also see a trash can that is closed  EOS SOS in another part of the room you see a dishwasher that is closed  EOS SOS in one part of the room you see a dining chair that has nothing on it  EOS SOS to the north you see a closed wood door  EOS SOS through an open plain door to the south you see the pantry  EOS SOS to the east you see the corridor  EOS SOS inventory maximum capacity is 2 items    your inventory is currently empty  EOS SOS you are in the kitchen  EOS SOS in one part of the room you see a stove  EOS SOS there is also an oven  EOS SOS you also see a fridge that is closed  EOS SOS in another part of the room you see a counter that has nothing on it  EOS SOS in one part of the room you see a kitchen cupboard that is closed  EOS SOS there is also a cutlery drawer that is closed  EOS SOS you also see a trash can that is closed  EOS SOS in another part of the room you see a dishwasher that is closed  EOS SOS in one part of the room you see a dining chair that has nothing on it  EOS SOS through an open wood door to the north you see the laundry room  EOS SOS to the south you see a closed plain door  EOS SOS to the east you see the corridor  EOS SOS inventory maximum capacity is 2 items    your inventory is currently empty  EOS SOS you are in the corridor  EOS SOS in one part of the room you see a key holder that has nothing on it  EOS SOS there is also a shoe cabinet that is closed  EOS SOS you also see a umbrella stand that has nothing on it  EOS SOS in another part of the room you see a hat rack that has nothing on it  EOS SOS in one part of the room you see a coat hanger that has nothing on it  EOS SOS to the north you see a closed wood door  EOS SOS to the south you see a closed wood door  EOS SOS to the east you see a closed sliding patio door  EOS SOS to the west you see the kitchen  EOS SOS inventory maximum capacity is 2 items    your inventory is currently empty  EOS SOS you are in the corridor  EOS SOS in one part of the room you see a key holder that has nothing on it  EOS SOS there is also a shoe cabinet that is closed  EOS SOS you also see a umbrella stand that has nothing on it  EOS SOS in another part of the room you see a hat rack that has nothing on it  EOS SOS in one part of the room you see a coat hanger that has nothing on it  EOS SOS to the north you see a closed wood door  EOS SOS to the south you see a closed wood door  EOS SOS to the east you see a closed sliding patio door  EOS SOS to the west you see the kitchen  EOS SOS inventory maximum capacity is 2 items    your inventory is currently empty  EOS SOS you are in the pantry  EOS SOS in one part of the room you see a folding chair that has nothing on it  EOS SOS there is also a shelf that has nothing on it  EOS SOS through an open plain door to the north you see the kitchen  EOS SOS inventory maximum capacity is 2 items    your inventory is currently empty  EOS SOS you are in the kitchen  EOS SOS in one part of the room you see a stove  EOS SOS there is also an oven  EOS SOS you also see a fridge that is closed  EOS SOS in another part of the room you see a counter that has nothing on it  EOS SOS in one part of the room you see a kitchen cupboard that is closed  EOS SOS there is also a cutlery drawer that is closed  EOS SOS you also see a trash can that is closed  EOS SOS in another part of the room you see a dishwasher that is closed  EOS SOS in one part of the room you see a dining chair that has nothing on it  EOS SOS through an open wood door to the north you see the laundry room  EOS SOS through an open plain door to the south you see the pantry  EOS SOS to the east you see the corridor  EOS SOS inventory maximum capacity is 2 items    your inventory is currently empty  EOS SOS you are in the corridor  EOS SOS in one part of the room you see a key holder that has nothing on it  EOS SOS there is also a shoe cabinet that is closed  EOS SOS you also see a umbrella stand that has nothing on it  EOS SOS in another part of the room you see a hat rack that has nothing on it  EOS SOS in one part of the room you see a coat hanger that has nothing on it  EOS SOS to the north you see a closed wood door  EOS SOS to the south you see a closed wood door  EOS SOS to the east you see a closed sliding patio door  EOS SOS to the west you see the kitchen  EOS SOS inventory maximum capacity is 2 items    your inventory is currently empty  EOS SOS you are in the laundry room  EOS SOS in one part of the room you see a bench that has nothing on it  EOS SOS there is also a work table that has nothing on it  EOS SOS you also see a clothes drier that is closed  EOS SOS in another part of the room you see a laundry basket that has nothing on it  EOS SOS in one part of the room you see a washing machine that is closed  EOS SOS through an open wood door to the south you see the kitchen  EOS SOS inventory maximum capacity is 2 items    your inventory is currently empty  EOS SOS you are in the corridor  EOS SOS in one part of the room you see a key holder that has nothing on it  EOS SOS there is also a shoe cabinet that is closed  EOS SOS you also see a umbrella stand that has nothing on it  EOS SOS in another part of the room you see a hat rack that has nothing on it  EOS SOS in one part of the room you see a coat hanger that has nothing on it  EOS SOS through an open wood door to the north you see the bedroom  EOS SOS to the south you see a closed wood door  EOS SOS to the east you see a closed sliding patio door  EOS SOS to the west you see the kitchen  EOS SOS inventory maximum capacity is 2 items    your inventory is currently empty  EOS SOS you are in the corridor  EOS SOS in one part of the room you see a key holder that has nothing on it  EOS SOS there is also a shoe cabinet that is closed  EOS SOS you also see a umbrella stand that has nothing on it  EOS SOS in another part of the room you see a hat rack that has nothing on it  EOS SOS in one part of the room you see a coat hanger that has nothing on it  EOS SOS to the north you see a closed wood door  EOS SOS to the south you see a closed wood door  EOS SOS through an open sliding patio door to the east you see the backyard  EOS SOS to the west you see the kitchen  EOS SOS inventory maximum capacity is 2 items    your inventory is currently empty  EOS SOS you are in the corridor  EOS SOS in one part of the room you see a key holder that has nothing on it  EOS SOS there is also a shoe cabinet that is closed  EOS SOS you also see a umbrella stand that has nothing on it  EOS SOS in another part of the room you see a hat rack that has nothing on it  EOS SOS in one part of the room you see a coat hanger that has nothing on it  EOS SOS to the north you see a closed wood door  EOS SOS through an open wood door to the south you see the bathroom  EOS SOS to the east you see a closed sliding patio door  EOS SOS to the west you see the kitchen  EOS SOS inventory maximum capacity is 2 items    your inventory is currently empty  EOS SOS you are in the corridor  EOS SOS in one part of the room you see a key holder that has nothing on it  EOS SOS there is also a shoe cabinet that is closed  EOS SOS you also see a umbrella stand that has nothing on it  EOS SOS in another part of the room you see a hat rack that has nothing on it  EOS SOS in one part of the room you see a coat hanger that has nothing on it  EOS SOS through an open wood door to the north you see the bedroom  EOS SOS to the south you see a closed wood door  EOS SOS to the east you see a closed sliding patio door  EOS SOS to the west you see the kitchen  EOS SOS inventory maximum capacity is 2 items    your inventory is currently empty  EOS SOS you are in the corridor  EOS SOS in one part of the room you see a key holder that has nothing on it  EOS SOS there is also a shoe cabinet that is closed  EOS SOS you also see a umbrella stand that has nothing on it  EOS SOS in another part of the room you see a hat rack that has nothing on it  EOS SOS in one part of the room you see a coat hanger that has nothing on it  EOS SOS to the north you see a closed wood door  EOS SOS to the south you see a closed wood door  EOS SOS through an open sliding patio door to the east you see the backyard  EOS SOS to the west you see the kitchen  EOS SOS inventory maximum capacity is 2 items    your inventory is currently empty  EOS SOS you are in the corridor  EOS SOS in one part of the room you see a key holder that has nothing on it  EOS SOS there is also a shoe cabinet that is closed  EOS SOS you also see a umbrella stand that has nothing on it  EOS SOS in another part of the room you see a hat rack that has nothing on it  EOS SOS in one part of the room you see a coat hanger that has nothing on it  EOS SOS to the north you see a closed wood door  EOS SOS through an open wood door to the south you see the bathroom  EOS SOS to the east you see a closed sliding patio door  EOS SOS to the west you see the kitchen  EOS SOS inventory maximum capacity is 2 items    your inventory is currently empty  EOS SOS you are in the kitchen  EOS SOS in one part of the room you see a stove  EOS SOS there is also an oven  EOS SOS you also see a fridge that is closed  EOS SOS in another part of the room you see a counter that has nothing on it  EOS SOS in one part of the room you see a kitchen cupboard that is closed  EOS SOS there is also a cutlery drawer that is closed  EOS SOS you also see a trash can that is closed  EOS SOS in another part of the room you see a dishwasher that is closed  EOS SOS in one part of the room you see a dining chair that has nothing on it  EOS SOS to the north you see a closed wood door  EOS SOS through an open plain door to the south you see the pantry  EOS SOS to the east you see the corridor  EOS SOS inventory maximum capacity is 2 items    your inventory is currently empty  EOS SOS you are in the pantry  EOS SOS in one part of the room you see a folding chair that has nothing on it  EOS SOS there is also a shelf that has nothing on it  EOS SOS to the north you see a closed plain door  EOS SOS inventory maximum capacity is 2 items    your inventory is currently empty  EOS SOS you are in the pantry  EOS SOS in one part of the room you see a folding chair that has nothing on it  EOS SOS there is also a shelf that has nothing on it  EOS SOS through an open plain door to the north you see the kitchen  EOS SOS inventory maximum capacity is 2 items    your inventory is currently empty  EOS SOS you are in the laundry room  EOS SOS in one part of the room you see a bench that has nothing on it  EOS SOS there is also a work table that has nothing on it  EOS SOS you also see a clothes drier that is closed  EOS SOS in another part of the room you see a laundry basket that has nothing on it  EOS SOS in one part of the room you see a washing machine that is closed  EOS SOS through an open wood door to the south you see the kitchen  EOS SOS inventory maximum capacity is 2 items    your inventory is currently empty  EOS SOS you are in the corridor  EOS SOS in one part of the room you see a key holder that has nothing on it  EOS SOS there is also a shoe cabinet that is closed  EOS SOS you also see a umbrella stand that has nothing on it  EOS SOS in another part of the room you see a hat rack that has nothing on it  EOS SOS in one part of the room you see a coat hanger that has nothing on it  EOS SOS to the north you see a closed wood door  EOS SOS to the south you see a closed wood door  EOS SOS to the east you see a closed sliding patio door  EOS SOS to the west you see the kitchen  EOS SOS inventory maximum capacity is 2 items    your inventory is currently empty  EOS SOS you are in the corridor  EOS SOS in one part of the room you see a key holder that has nothing on it  EOS SOS there is also a shoe cabinet that is closed  EOS SOS you also see a umbrella stand that has nothing on it  EOS SOS in another part of the room you see a hat rack that has nothing on it  EOS SOS in one part of the room you see a coat hanger that has nothing on it  EOS SOS through an open wood door to the north you see the bedroom  EOS SOS to the south you see a closed wood door  EOS SOS to the east you see a closed sliding patio door  EOS SOS to the west you see the kitchen  EOS SOS inventory maximum capacity is 2 items    your inventory is currently empty  EOS SOS you are in the corridor  EOS SOS in one part of the room you see a key holder that has nothing on it  EOS SOS there is also a shoe cabinet that is closed  EOS SOS you also see a umbrella stand that has nothing on it  EOS SOS in another part of the room you see a hat rack that has nothing on it  EOS SOS in one part of the room you see a coat hanger that has nothing on it  EOS SOS to the north you see a closed wood door  EOS SOS to the south you see a closed wood door  EOS SOS through an open sliding patio door to the east you see the backyard  EOS SOS to the west you see the kitchen  EOS SOS inventory maximum capacity is 2 items    your inventory is currently empty  EOS SOS you are in the corridor  EOS SOS in one part of the room you see a key holder that has nothing on it  EOS SOS there is also a shoe cabinet that is closed  EOS SOS you also see a umbrella stand that has nothing on it  EOS SOS in another part of the room you see a hat rack that has nothing on it  EOS SOS in one part of the room you see a coat hanger that has nothing on it  EOS SOS to the north you see a closed wood door  EOS SOS through an open wood door to the south you see the bathroom  EOS SOS to the east you see a closed sliding patio door  EOS SOS to the west you see the kitchen  EOS SOS inventory maximum capacity is 2 items    your inventory is currently empty  EOS SOS you are in the kitchen  EOS SOS in one part of the room you see a stove  EOS SOS there is also an oven  EOS SOS you also see a fridge that is closed  EOS SOS in another part of the room you see a counter that has nothing on it  EOS SOS in one part of the room you see a kitchen cupboard that is closed  EOS SOS there is also a cutlery drawer that is closed  EOS SOS you also see a trash can that is closed  EOS SOS in another part of the room you see a dishwasher that is closed  EOS SOS in one part of the room you see a dining chair that has nothing on it  EOS SOS through an open wood door to the north you see the laundry room  EOS SOS to the south you see a closed plain door  EOS SOS to the east you see the corridor  EOS SOS inventory maximum capacity is 2 items    your inventory is currently empty  EOS SOS you are in the laundry room  EOS SOS in one part of the room you see a bench that has nothing on it  EOS SOS there is also a work table that has nothing on it  EOS SOS you also see a clothes drier that is closed  EOS SOS in another part of the room you see a laundry basket that has nothing on it  EOS SOS in one part of the room you see a washing machine that is closed  EOS SOS to the south you see a closed wood door  EOS SOS inventory maximum capacity is 2 items    your inventory is currently empty  EOS SOS you are in the kitchen  EOS SOS in one part of the room you see a stove  EOS SOS there is also an oven  EOS SOS you also see a fridge that is closed  EOS SOS in another part of the room you see a counter that has nothing on it  EOS SOS in one part of the room you see a kitchen cupboard that is closed  EOS SOS there is also a cutlery drawer that is closed  EOS SOS you also see a trash can that is closed  EOS SOS in another part of the room you see a dishwasher that is closed  EOS SOS in one part of the room you see a dining chair that has nothing on it  EOS SOS to the north you see a closed wood door  EOS SOS to the south you see a closed plain door  EOS SOS to the east you see the corridor  EOS SOS inventory maximum capacity is 2 items    your inventory is currently empty  EOS SOS you are in the bedroom  EOS SOS in one part of the room you see a dressing table that has nothing on it  EOS SOS there is also a desk chair that has nothing on it  EOS SOS you also see a desk that has nothing on it  EOS SOS in another part of the room you see a chest of drawers that is closed  EOS SOS in one part of the room you see a wardrobe that is closed  EOS SOS there is also a night stand that has nothing on it  EOS SOS you also see a bed that has nothing on it  EOS SOS through an open wood door to the south you see the corridor  EOS SOS to the east you see a closed wood door  EOS SOS inventory maximum capacity is 2 items    your inventory is currently empty  EOS SOS you are in the corridor  EOS SOS in one part of the room you see a key holder that has nothing on it  EOS SOS there is also a shoe cabinet that is closed  EOS SOS you also see a umbrella stand that has nothing on it  EOS SOS in another part of the room you see a hat rack that has nothing on it  EOS SOS in one part of the room you see a coat hanger that has nothing on it  EOS SOS through an open wood door to the north you see the bedroom  EOS SOS to the south you see a closed wood door  EOS SOS through an open sliding patio door to the east you see the backyard  EOS SOS to the west you see the kitchen  EOS SOS inventory maximum capacity is 2 items    your inventory is currently empty  EOS SOS you are in the corridor  EOS SOS in one part of the room you see a key holder that has nothing on it  EOS SOS there is also a shoe cabinet that is closed  EOS SOS you also see a umbrella stand that has nothing on it  EOS SOS in another part of the room you see a hat rack that has nothing on it  EOS SOS in one part of the room you see a coat hanger that has nothing on it  EOS SOS through an open wood door to the north you see the bedroom  EOS SOS through an open wood door to the south you see the bathroom  EOS SOS to the east you see a closed sliding patio door  EOS SOS to the west you see the kitchen  EOS SOS inventory maximum capacity is 2 items    your inventory is currently empty  EOS SOS you are in the kitchen  EOS SOS in one part of the room you see a stove  EOS SOS there is also an oven  EOS SOS you also see a fridge that is closed  EOS SOS in another part of the room you see a counter that has nothing on it  EOS SOS in one part of the room you see a kitchen cupboard that is closed  EOS SOS there is also a cutlery drawer that is closed  EOS SOS you also see a trash can that is closed  EOS SOS in another part of the room you see a dishwasher that is closed  EOS SOS in one part of the room you see a dining chair that has nothing on it  EOS SOS to the north you see a closed wood door  EOS SOS to the south you see a closed plain door  EOS SOS to the east you see the corridor  EOS SOS inventory maximum capacity is 2 items    your inventory is currently empty  EOS SOS you are in the backyard  EOS SOS in one part of the room you see a barbeque  EOS SOS there is also a workbench that has nothing on it  EOS SOS you also see a patio chair that has nothing on it  EOS SOS in another part of the room you see a patio table that has nothing on it  EOS SOS in one part of the room you see a clothes line that has nothing on it  EOS SOS there is also a garden that has nothing on it  EOS SOS to the north you see a closed screen door  EOS SOS to the south you see the street  EOS SOS to the east you see the driveway  EOS SOS through an open sliding patio door to the west you see the corridor  EOS SOS inventory maximum capacity is 2 items    your inventory is currently empty  EOS SOS you are in the corridor  EOS SOS in one part of the room you see a key holder that has nothing on it  EOS SOS there is also a shoe cabinet that is closed  EOS SOS you also see a umbrella stand that has nothing on it  EOS SOS in another part of the room you see a hat rack that has nothing on it  EOS SOS in one part of the room you see a coat hanger that has nothing on it  EOS SOS to the north you see a closed wood door  EOS SOS through an open wood door to the south you see the bathroom  EOS SOS through an open sliding patio door to the east you see the backyard  EOS SOS to the west you see the kitchen  EOS SOS inventory maximum capacity is 2 items    your inventory is currently empty  EOS SOS you are in the kitchen  EOS SOS in one part of the room you see a stove  EOS SOS there is also an oven  EOS SOS you also see a fridge that is closed  EOS SOS in another part of the room you see a counter that has nothing on it  EOS SOS in one part of the room you see a kitchen cupboard that is closed  EOS SOS there is also a cutlery drawer that is closed  EOS SOS you also see a trash can that is closed  EOS SOS in another part of the room you see a dishwasher that is closed  EOS SOS in one part of the room you see a dining chair that has nothing on it  EOS SOS to the north you see a closed wood door  EOS SOS to the south you see a closed plain door  EOS SOS to the east you see the corridor  EOS SOS inventory maximum capacity is 2 items    your inventory is currently empty  EOS SOS you are in the bathroom  EOS SOS in one part of the room you see a dressing table that has nothing on it  EOS SOS there is also a sink that has nothing on it  EOS SOS you also see a wall hook that has nothing on it  EOS SOS in another part of the room you see a bath mat  EOS SOS in one part of the room you see a toilet roll holder that has nothing on it  EOS SOS there is also a towel rack that has nothing on it  EOS SOS you also see a bath tub that has nothing on it  EOS SOS in another part of the room you see a shower that has nothing on it  EOS SOS in one part of the room you see a trash can that is closed  EOS SOS there is also a bathroom cabinet that is closed  EOS SOS you also see a toilet  EOS SOS in another part of the room you see a coin  EOS SOS through an open wood door to the north you see the corridor  EOS SOS inventory maximum capacity is 2 items    your inventory is currently empty  EOS SOS you are in the kitchen  EOS SOS in one part of the room you see a stove  EOS SOS there is also an oven  EOS SOS you also see a fridge that is closed  EOS SOS in another part of the room you see a counter that has nothing on it  EOS SOS in one part of the room you see a kitchen cupboard that is closed  EOS SOS there is also a cutlery drawer that is closed  EOS SOS you also see a trash can that is closed  EOS SOS in another part of the room you see a dishwasher that is closed  EOS SOS in one part of the room you see a dining chair that has nothing on it  EOS SOS to the north you see a closed wood door  EOS SOS through an open plain door to the south you see the pantry  EOS SOS to the east you see the corridor  EOS SOS inventory maximum capacity is 2 items    your inventory is currently empty  EOS SOS you are in the corridor  EOS SOS in one part of the room you see a key holder that has nothing on it  EOS SOS there is also a shoe cabinet that is closed  EOS SOS you also see a umbrella stand that has nothing on it  EOS SOS in another part of the room you see a hat rack that has nothing on it  EOS SOS in one part of the room you see a coat hanger that has nothing on it  EOS SOS through an open wood door to the north you see the bedroom  EOS SOS through an open wood door to the south you see the bathroom  EOS SOS to the east you see a closed sliding patio door  EOS SOS to the west you see the kitchen  EOS SOS inventory maximum capacity is 2 items    your inventory is currently empty  EOS SOS you are in the bedroom  EOS SOS in one part of the room you see a dressing table that has nothing on it  EOS SOS there is also a desk chair that has nothing on it  EOS SOS you also see a desk that has nothing on it  EOS SOS in another part of the room you see a chest of drawers that is closed  EOS SOS in one part of the room you see a wardrobe that is closed  EOS SOS there is also a night stand that has nothing on it  EOS SOS you also see a bed that has nothing on it  EOS SOS through an open wood door to the south you see the corridor  EOS SOS to the east you see a closed wood door  EOS SOS inventory maximum capacity is 2 items    your inventory is currently empty  EOS SOS you are in the corridor  EOS SOS in one part of the room you see a key holder that has nothing on it  EOS SOS there is also a shoe cabinet that is closed  EOS SOS you also see a umbrella stand that has nothing on it  EOS SOS in another part of the room you see a hat rack that has nothing on it  EOS SOS in one part of the room you see a coat hanger that has nothing on it  EOS SOS through an open wood door to the north you see the bedroom  EOS SOS to the south you see a closed wood door  EOS SOS through an open sliding patio door to the east you see the backyard  EOS SOS to the west you see the kitchen  EOS SOS inventory maximum capacity is 2 items    your inventory is currently empty  EOS SOS you are in the kitchen  EOS SOS in one part of the room you see a stove  EOS SOS there is also an oven  EOS SOS you also see a fridge that is closed  EOS SOS in another part of the room you see a counter that has nothing on it  EOS SOS in one part of the room you see a kitchen cupboard that is closed  EOS SOS there is also a cutlery drawer that is closed  EOS SOS you also see a trash can that is closed  EOS SOS in another part of the room you see a dishwasher that is closed  EOS SOS in one part of the room you see a dining chair that has nothing on it  EOS SOS to the north you see a closed wood door  EOS SOS through an open plain door to the south you see the pantry  EOS SOS to the east you see the corridor  EOS SOS inventory maximum capacity is 2 items    your inventory is currently empty  EOS SOS you are in the corridor  EOS SOS in one part of the room you see a key holder that has nothing on it  EOS SOS there is also a shoe cabinet that is closed  EOS SOS you also see a umbrella stand that has nothing on it  EOS SOS in another part of the room you see a hat rack that has nothing on it  EOS SOS in one part of the room you see a coat hanger that has nothing on it  EOS SOS to the north you see a closed wood door  EOS SOS through an open wood door to the south you see the bathroom  EOS SOS through an open sliding patio door to the east you see the backyard  EOS SOS to the west you see the kitchen  EOS SOS inventory maximum capacity is 2 items    your inventory is currently empty  EOS SOS you are in the backyard  EOS SOS in one part of the room you see a barbeque  EOS SOS there is also a workbench that has nothing on it  EOS SOS you also see a patio chair that has nothing on it  EOS SOS in another part of the room you see a patio table that has nothing on it  EOS SOS in one part of the room you see a clothes line that has nothing on it  EOS SOS there is also a garden that has nothing on it  EOS SOS to the north you see a closed screen door  EOS SOS to the south you see the street  EOS SOS to the east you see the driveway  EOS SOS through an open sliding patio door to the west you see the corridor  EOS SOS inventory maximum capacity is 2 items    your inventory is currently empty  EOS SOS you are in the kitchen  EOS SOS in one part of the room you see a stove  EOS SOS there is also an oven  EOS SOS you also see a fridge that is closed  EOS SOS in another part of the room you see a counter that has nothing on it  EOS SOS in one part of the room you see a kitchen cupboard that is closed  EOS SOS there is also a cutlery drawer that is closed  EOS SOS you also see a trash can that is closed  EOS SOS in another part of the room you see a dishwasher that is closed  EOS SOS in one part of the room you see a dining chair that has nothing on it  EOS SOS to the north you see a closed wood door  EOS SOS through an open plain door to the south you see the pantry  EOS SOS to the east you see the corridor  EOS SOS inventory maximum capacity is 2 items    your inventory is currently empty  EOS SOS you are in the bathroom  EOS SOS in one part of the room you see a dressing table that has nothing on it  EOS SOS there is also a sink that has nothing on it  EOS SOS you also see a wall hook that has nothing on it  EOS SOS in another part of the room you see a bath mat  EOS SOS in one part of the room you see a toilet roll holder that has nothing on it  EOS SOS there is also a towel rack that has nothing on it  EOS SOS you also see a bath tub that has nothing on it  EOS SOS in another part of the room you see a shower that has nothing on it  EOS SOS in one part of the room you see a trash can that is closed  EOS SOS there is also a bathroom cabinet that is closed  EOS SOS you also see a toilet  EOS SOS in another part of the room you see a coin  EOS SOS through an open wood door to the north you see the corridor  EOS SOS inventory maximum capacity is 2 items    your inventory is currently empty  EOS SOS you are in the kitchen  EOS SOS in one part of the room you see a stove  EOS SOS there is also an oven  EOS SOS you also see a fridge that is closed  EOS SOS in another part of the room you see a counter that has nothing on it  EOS SOS in one part of the room you see a kitchen cupboard that is closed  EOS SOS there is also a cutlery drawer that is closed  EOS SOS you also see a trash can that is closed  EOS SOS in another part of the room you see a dishwasher that is closed  EOS SOS in one part of the room you see a dining chair that has nothing on it  EOS SOS to the north you see a closed wood door  EOS SOS to the south you see a closed plain door  EOS SOS to the east you see the corridor  EOS SOS inventory maximum capacity is 2 items    your inventory is currently empty  EOS SOS you are in the kitchen  EOS SOS in one part of the room you see a stove  EOS SOS there is also an oven  EOS SOS you also see a fridge that is closed  EOS SOS in another part of the room you see a counter that has nothing on it  EOS SOS in one part of the room you see a kitchen cupboard that is closed  EOS SOS there is also a cutlery drawer that is closed  EOS SOS you also see a trash can that is closed  EOS SOS in another part of the room you see a dishwasher that is closed  EOS SOS in one part of the room you see a dining chair that has nothing on it  EOS SOS through an open wood door to the north you see the laundry room  EOS SOS through an open plain door to the south you see the pantry  EOS SOS to the east you see the corridor  EOS SOS inventory maximum capacity is 2 items    your inventory is currently empty  EOS SOS you are in the corridor  EOS SOS in one part of the room you see a key holder that has nothing on it  EOS SOS there is also a shoe cabinet that is closed  EOS SOS you also see a umbrella stand that has nothing on it  EOS SOS in another part of the room you see a hat rack that has nothing on it  EOS SOS in one part of the room you see a coat hanger that has nothing on it  EOS SOS to the north you see a closed wood door  EOS SOS to the south you see a closed wood door  EOS SOS to the east you see a closed sliding patio door  EOS SOS to the west you see the kitchen  EOS SOS inventory maximum capacity is 2 items    your inventory is currently empty  EOS SOS you are in the pantry  EOS SOS in one part of the room you see a folding chair that has nothing on it  EOS SOS there is also a shelf that has nothing on it  EOS SOS to the north you see a closed plain door  EOS SOS inventory maximum capacity is 2 items    your inventory is currently empty  EOS SOS you are in the laundry room  EOS SOS in one part of the room you see a bench that has nothing on it  EOS SOS there is also a work table that has nothing on it  EOS SOS you also see a clothes drier that is closed  EOS SOS in another part of the room you see a laundry basket that has nothing on it  EOS SOS in one part of the room you see a washing machine that is closed  EOS SOS to the south you see a closed wood door  EOS SOS inventory maximum capacity is 2 items    your inventory is currently empty  EOS SOS you are in the kitchen  EOS SOS in one part of the room you see a stove  EOS SOS there is also an oven  EOS SOS you also see a fridge that is closed  EOS SOS in another part of the room you see a counter that has nothing on it  EOS SOS in one part of the room you see a kitchen cupboard that is closed  EOS SOS there is also a cutlery drawer that is closed  EOS SOS you also see a trash can that is closed  EOS SOS in another part of the room you see a dishwasher that is closed  EOS SOS in one part of the room you see a dining chair that has nothing on it  EOS SOS through an open wood door to the north you see the laundry room  EOS SOS through an open plain door to the south you see the pantry  EOS SOS to the east you see the corridor  EOS SOS inventory maximum capacity is 2 items    your inventory is currently empty  EOS SOS you are in the corridor  EOS SOS in one part of the room you see a key holder that has nothing on it  EOS SOS there is also a shoe cabinet that is closed  EOS SOS you also see a umbrella stand that has nothing on it  EOS SOS in another part of the room you see a hat rack that has nothing on it  EOS SOS in one part of the room you see a coat hanger that has nothing on it  EOS SOS through an open wood door to the north you see the bedroom  EOS SOS to the south you see a closed wood door  EOS SOS to the east you see a closed sliding patio door  EOS SOS to the west you see the kitchen  EOS SOS inventory maximum capacity is 2 items    your inventory is currently empty  EOS SOS you are in the corridor  EOS SOS in one part of the room you see a key holder that has nothing on it  EOS SOS there is also a shoe cabinet that is closed  EOS SOS you also see a umbrella stand that has nothing on it  EOS SOS in another part of the room you see a hat rack that has nothing on it  EOS SOS in one part of the room you see a coat hanger that has nothing on it  EOS SOS to the north you see a closed wood door  EOS SOS to the south you see a closed wood door  EOS SOS through an open sliding patio door to the east you see the backyard  EOS SOS to the west you see the kitchen  EOS SOS inventory maximum capacity is 2 items    your inventory is currently empty  EOS SOS you are in the corridor  EOS SOS in one part of the room you see a key holder that has nothing on it  EOS SOS there is also a shoe cabinet that is closed  EOS SOS you also see a umbrella stand that has nothing on it  EOS SOS in another part of the room you see a hat rack that has nothing on it  EOS SOS in one part of the room you see a coat hanger that has nothing on it  EOS SOS to the north you see a closed wood door  EOS SOS through an open wood door to the south you see the bathroom  EOS SOS to the east you see a closed sliding patio door  EOS SOS to the west you see the kitchen  EOS SOS inventory maximum capacity is 2 items    your inventory is currently empty  EOS SOS you are in the kitchen  EOS SOS in one part of the room you see a stove  EOS SOS there is also an oven  EOS SOS you also see a fridge that is closed  EOS SOS in another part of the room you see a counter that has nothing on it  EOS SOS in one part of the room you see a kitchen cupboard that is closed  EOS SOS there is also a cutlery drawer that is closed  EOS SOS you also see a trash can that is closed  EOS SOS in another part of the room you see a dishwasher that is closed  EOS SOS in one part of the room you see a dining chair that has nothing on it  EOS SOS through an open wood door to the north you see the laundry room  EOS SOS to the south you see a closed plain door  EOS SOS to the east you see the corridor  EOS SOS inventory maximum capacity is 2 items    your inventory is currently empty  EOS SOS you are in the corridor  EOS SOS in one part of the room you see a key holder that has nothing on it  EOS SOS there is also a shoe cabinet that is closed  EOS SOS you also see a umbrella stand that has nothing on it  EOS SOS in another part of the room you see a hat rack that has nothing on it  EOS SOS in one part of the room you see a coat hanger that has nothing on it  EOS SOS through an open wood door to the north you see the bedroom  EOS SOS through an open wood door to the south you see the bathroom  EOS SOS to the east you see a closed sliding patio door  EOS SOS to the west you see the kitchen  EOS SOS inventory maximum capacity is 2 items    your inventory is currently empty  EOS SOS you are in the bedroom  EOS SOS in one part of the room you see a dressing table that has nothing on it  EOS SOS there is also a desk chair that has nothing on it  EOS SOS you also see a desk that has nothing on it  EOS SOS in another part of the room you see a chest of drawers that is closed  EOS SOS in one part of the room you see a wardrobe that is closed  EOS SOS there is also a night stand that has nothing on it  EOS SOS you also see a bed that has nothing on it  EOS SOS through an open wood door to the south you see the corridor  EOS SOS to the east you see a closed wood door  EOS SOS inventory maximum capacity is 2 items    your inventory is currently empty  EOS SOS you are in the corridor  EOS SOS in one part of the room you see a key holder that has nothing on it  EOS SOS there is also a shoe cabinet that is closed  EOS SOS you also see a umbrella stand that has nothing on it  EOS SOS in another part of the room you see a hat rack that has nothing on it  EOS SOS in one part of the room you see a coat hanger that has nothing on it  EOS SOS through an open wood door to the north you see the bedroom  EOS SOS to the south you see a closed wood door  EOS SOS through an open sliding patio door to the east you see the backyard  EOS SOS to the west you see the kitchen  EOS SOS inventory maximum capacity is 2 items    your inventory is currently empty  EOS SOS you are in the kitchen  EOS SOS in one part of the room you see a stove  EOS SOS there is also an oven  EOS SOS you also see a fridge that is closed  EOS SOS in another part of the room you see a counter that has nothing on it  EOS SOS in one part of the room you see a kitchen cupboard that is closed  EOS SOS there is also a cutlery drawer that is closed  EOS SOS you also see a trash can that is closed  EOS SOS in another part of the room you see a dishwasher that is closed  EOS SOS in one part of the room you see a dining chair that has nothing on it  EOS SOS through an open wood door to the north you see the laundry room  EOS SOS to the south you see a closed plain door  EOS SOS to the east you see the corridor  EOS SOS inventory maximum capacity is 2 items    your inventory is currently empty  EOS SOS you are in the corridor  EOS SOS in one part of the room you see a key holder that has nothing on it  EOS SOS there is also a shoe cabinet that is closed  EOS SOS you also see a umbrella stand that has nothing on it  EOS SOS in another part of the room you see a hat rack that has nothing on it  EOS SOS in one part of the room you see a coat hanger that has nothing on it  EOS SOS to the north you see a closed wood door  EOS SOS through an open wood door to the south you see the bathroom  EOS SOS through an open sliding patio door to the east you see the backyard  EOS SOS to the west you see the kitchen  EOS SOS inventory maximum capacity is 2 items    your inventory is currently empty  EOS SOS you are in the backyard  EOS SOS in one part of the room you see a barbeque  EOS SOS there is also a workbench that has nothing on it  EOS SOS you also see a patio chair that has nothing on it  EOS SOS in another part of the room you see a patio table that has nothing on it  EOS SOS in one part of the room you see a clothes line that has nothing on it  EOS SOS there is also a garden that has nothing on it  EOS SOS to the north you see a closed screen door  EOS SOS to the south you see the street  EOS SOS to the east you see the driveway  EOS SOS through an open sliding patio door to the west you see the corridor  EOS SOS inventory maximum capacity is 2 items    your inventory is currently empty  EOS SOS you are in the kitchen  EOS SOS in one part of the room you see a stove  EOS SOS there is also an oven  EOS SOS you also see a fridge that is closed  EOS SOS in another part of the room you see a counter that has nothing on it  EOS SOS in one part of the room you see a kitchen cupboard that is closed  EOS SOS there is also a cutlery drawer that is closed  EOS SOS you also see a trash can that is closed  EOS SOS in another part of the room you see a dishwasher that is closed  EOS SOS in one part of the room you see a dining chair that has nothing on it  EOS SOS through an open wood door to the north you see the laundry room  EOS SOS to the south you see a closed plain door  EOS SOS to the east you see the corridor  EOS SOS inventory maximum capacity is 2 items    your inventory is currently empty  EOS SOS you are in the bathroom  EOS SOS in one part of the room you see a dressing table that has nothing on it  EOS SOS there is also a sink that has nothing on it  EOS SOS you also see a wall hook that has nothing on it  EOS SOS in another part of the room you see a bath mat  EOS SOS in one part of the room you see a toilet roll holder that has nothing on it  EOS SOS there is also a towel rack that has nothing on it  EOS SOS you also see a bath tub that has nothing on it  EOS SOS in another part of the room you see a shower that has nothing on it  EOS SOS in one part of the room you see a trash can that is closed  EOS SOS there is also a bathroom cabinet that is closed  EOS SOS you also see a toilet  EOS SOS in another part of the room you see a coin  EOS SOS through an open wood door to the north you see the corridor  EOS SOS inventory maximum capacity is 2 items    your inventory is currently empty  EOS SOS you are in the kitchen  EOS SOS in one part of the room you see a stove  EOS SOS there is also an oven  EOS SOS you also see a fridge that is closed  EOS SOS in another part of the room you see a counter that has nothing on it  EOS SOS in one part of the room you see a kitchen cupboard that is closed  EOS SOS there is also a cutlery drawer that is closed  EOS SOS you also see a trash can that is closed  EOS SOS in another part of the room you see a dishwasher that is closed  EOS SOS in one part of the room you see a dining chair that has nothing on it  EOS SOS to the north you see a closed wood door  EOS SOS to the south you see a closed plain door  EOS SOS to the east you see the corridor  EOS SOS inventory maximum capacity is 2 items    your inventory is currently empty  EOS SOS you are in the corridor  EOS SOS in one part of the room you see a key holder that has nothing on it  EOS SOS there is also a shoe cabinet that is closed  EOS SOS you also see a umbrella stand that has nothing on it  EOS SOS in another part of the room you see a hat rack that has nothing on it  EOS SOS in one part of the room you see a coat hanger that has nothing on it  EOS SOS to the north you see a closed wood door  EOS SOS to the south you see a closed wood door  EOS SOS to the east you see a closed sliding patio door  EOS SOS to the west you see the kitchen  EOS SOS inventory maximum capacity is 2 items    your inventory is currently empty  EOS SOS you are in the bedroom  EOS SOS in one part of the room you see a dressing table that has nothing on it  EOS SOS there is also a desk chair that has nothing on it  EOS SOS you also see a desk that has nothing on it  EOS SOS in another part of the room you see a chest of drawers that is closed  EOS SOS in one part of the room you see a wardrobe that is closed  EOS SOS there is also a night stand that has nothing on it  EOS SOS you also see a bed that has nothing on it  EOS SOS through an open wood door to the south you see the corridor  EOS SOS through an open wood door to the east you see the living room  EOS SOS inventory maximum capacity is 2 items    your inventory is currently empty  EOS SOS you are in the corridor  EOS SOS in one part of the room you see a key holder that has nothing on it  EOS SOS there is also a shoe cabinet that is closed  EOS SOS you also see a umbrella stand that has nothing on it  EOS SOS in another part of the room you see a hat rack that has nothing on it  EOS SOS in one part of the room you see a coat hanger that has nothing on it  EOS SOS through an open wood door to the north you see the bedroom  EOS SOS to the south you see a closed wood door  EOS SOS to the east you see a closed sliding patio door  EOS SOS to the west you see the kitchen  EOS SOS inventory maximum capacity is 2 items    your inventory is currently empty  EOS SOS you are in the bedroom  EOS SOS in one part of the room you see a dressing table that has nothing on it  EOS SOS there is also a desk chair that has nothing on it  EOS SOS you also see a desk that has nothing on it  EOS SOS in another part of the room you see a chest of drawers that is closed  EOS SOS in one part of the room you see a wardrobe that is closed  EOS SOS there is also a night stand that has nothing on it  EOS SOS you also see a bed that has nothing on it  EOS SOS to the south you see a closed wood door  EOS SOS to the east you see a closed wood door  EOS SOS inventory maximum capacity is 2 items    your inventory is currently empty  EOS SOS you are in the corridor  EOS SOS in one part of the room you see a key holder that has nothing on it  EOS SOS there is also a shoe cabinet that is closed  EOS SOS you also see a umbrella stand that has nothing on it  EOS SOS in another part of the room you see a hat rack that has nothing on it  EOS SOS in one part of the room you see a coat hanger that has nothing on it  EOS SOS through an open wood door to the north you see the bedroom  EOS SOS through an open wood door to the south you see the bathroom  EOS SOS through an open sliding patio door to the east you see the backyard  EOS SOS to the west you see the kitchen  EOS SOS inventory maximum capacity is 2 items    your inventory is currently empty  EOS SOS you are in the backyard  EOS SOS in one part of the room you see a barbeque  EOS SOS there is also a workbench that has nothing on it  EOS SOS you also see a patio chair that has nothing on it  EOS SOS in another part of the room you see a patio table that has nothing on it  EOS SOS in one part of the room you see a clothes line that has nothing on it  EOS SOS there is also a garden that has nothing on it  EOS SOS to the north you see a closed screen door  EOS SOS to the south you see the street  EOS SOS to the east you see the driveway  EOS SOS through an open sliding patio door to the west you see the corridor  EOS SOS inventory maximum capacity is 2 items    your inventory is currently empty  EOS SOS you are in the bedroom  EOS SOS in one part of the room you see a dressing table that has nothing on it  EOS SOS there is also a desk chair that has nothing on it  EOS SOS you also see a desk that has nothing on it  EOS SOS in another part of the room you see a chest of drawers that is closed  EOS SOS in one part of the room you see a wardrobe that is closed  EOS SOS there is also a night stand that has nothing on it  EOS SOS you also see a bed that has nothing on it  EOS SOS through an open wood door to the south you see the corridor  EOS SOS to the east you see a closed wood door  EOS SOS inventory maximum capacity is 2 items    your inventory is currently empty  EOS SOS you are in the kitchen  EOS SOS in one part of the room you see a stove  EOS SOS there is also an oven  EOS SOS you also see a fridge that is closed  EOS SOS in another part of the room you see a counter that has nothing on it  EOS SOS in one part of the room you see a kitchen cupboard that is closed  EOS SOS there is also a cutlery drawer that is closed  EOS SOS you also see a trash can that is closed  EOS SOS in another part of the room you see a dishwasher that is closed  EOS SOS in one part of the room you see a dining chair that has nothing on it  EOS SOS to the north you see a closed wood door  EOS SOS to the south you see a closed plain door  EOS SOS to the east you see the corridor  EOS SOS inventory maximum capacity is 2 items    your inventory is currently empty  EOS SOS you are in the bathroom  EOS SOS in one part of the room you see a dressing table that has nothing on it  EOS SOS there is also a sink that has nothing on it  EOS SOS you also see a wall hook that has nothing on it  EOS SOS in another part of the room you see a bath mat  EOS SOS in one part of the room you see a toilet roll holder that has nothing on it  EOS SOS there is also a towel rack that has nothing on it  EOS SOS you also see a bath tub that has nothing on it  EOS SOS in another part of the room you see a shower that has nothing on it  EOS SOS in one part of the room you see a trash can that is closed  EOS SOS there is also a bathroom cabinet that is closed  EOS SOS you also see a toilet  EOS SOS in another part of the room you see a coin  EOS SOS through an open wood door to the north you see the corridor  EOS SOS inventory maximum capacity is 2 items    your inventory is currently empty  EOS SOS you are in the bedroom  EOS SOS in one part of the room you see a dressing table that has nothing on it  EOS SOS there is also a desk chair that has nothing on it  EOS SOS you also see a desk that has nothing on it  EOS SOS in another part of the room you see a chest of drawers that is closed  EOS SOS in one part of the room you see a wardrobe that is closed  EOS SOS there is also a night stand that has nothing on it  EOS SOS you also see a bed that has nothing on it  EOS SOS through an open wood door to the south you see the corridor  EOS SOS to the east you see a closed wood door  EOS SOS inventory maximum capacity is 2 items    your inventory is currently empty  EOS SOS you are in the kitchen  EOS SOS in one part of the room you see a stove  EOS SOS there is also an oven  EOS SOS you also see a fridge that is closed  EOS SOS in another part of the room you see a counter that has nothing on it  EOS SOS in one part of the room you see a kitchen cupboard that is closed  EOS SOS there is also a cutlery drawer that is closed  EOS SOS you also see a trash can that is closed  EOS SOS in another part of the room you see a dishwasher that is closed  EOS SOS in one part of the room you see a dining chair that has nothing on it  EOS SOS to the north you see a closed wood door  EOS SOS to the south you see a closed plain door  EOS SOS to the east you see the corridor  EOS SOS inventory maximum capacity is 2 items    your inventory is currently empty  EOS SOS you are in the backyard  EOS SOS in one part of the room you see a barbeque  EOS SOS there is also a workbench that has nothing on it  EOS SOS you also see a patio chair that has nothing on it  EOS SOS in another part of the room you see a patio table that has nothing on it  EOS SOS in one part of the room you see a clothes line that has nothing on it  EOS SOS there is also a garden that has nothing on it  EOS SOS through an open screen door to the north you see the living room  EOS SOS to the south you see the street  EOS SOS to the east you see the driveway  EOS SOS through an open sliding patio door to the west you see the corridor  EOS SOS inventory maximum capacity is 2 items    your inventory is currently empty  EOS SOS you are in the street  EOS SOS to the north you see the backyard  EOS SOS inventory maximum capacity is 2 items    your inventory is currently empty  EOS SOS you are in the driveway  EOS SOS to the west you see the backyard  EOS SOS inventory maximum capacity is 2 items    your inventory is currently empty  EOS SOS you are in the backyard  EOS SOS in one part of the room you see a barbeque  EOS SOS there is also a workbench that has nothing on it  EOS SOS you also see a patio chair that has nothing on it  EOS SOS in another part of the room you see a patio table that has nothing on it  EOS SOS in one part of the room you see a clothes line that has nothing on it  EOS SOS there is also a garden that has nothing on it  EOS SOS to the north you see a closed screen door  EOS SOS to the south you see the street  EOS SOS to the east you see the driveway  EOS SOS to the west you see a closed sliding patio door  EOS SOS inventory maximum capacity is 2 items    your inventory is currently empty  EOS SOS you are in the corridor  EOS SOS in one part of the room you see a key holder that has nothing on it  EOS SOS there is also a shoe cabinet that is closed  EOS SOS you also see a umbrella stand that has nothing on it  EOS SOS in another part of the room you see a hat rack that has nothing on it  EOS SOS in one part of the room you see a coat hanger that has nothing on it  EOS SOS to the north you see a closed wood door  EOS SOS to the south you see a closed wood door  EOS SOS through an open sliding patio door to the east you see the backyard  EOS SOS to the west you see the kitchen  EOS SOS inventory maximum capacity is 2 items    your inventory is currently empty  EOS SOS you are in the backyard  EOS SOS in one part of the room you see a barbeque  EOS SOS there is also a workbench that has nothing on it  EOS SOS you also see a patio chair that has nothing on it  EOS SOS in another part of the room you see a patio table that has nothing on it  EOS SOS in one part of the room you see a clothes line that has nothing on it  EOS SOS there is also a garden that has nothing on it  EOS SOS to the north you see a closed screen door  EOS SOS to the south you see the street  EOS SOS to the east you see the driveway  EOS SOS through an open sliding patio door to the west you see the corridor  EOS SOS inventory maximum capacity is 2 items    your inventory is currently empty  EOS SOS you are in the bathroom  EOS SOS in one part of the room you see a dressing table that has nothing on it  EOS SOS there is also a sink that has nothing on it  EOS SOS you also see a wall hook that has nothing on it  EOS SOS in another part of the room you see a bath mat  EOS SOS in one part of the room you see a toilet roll holder that has nothing on it  EOS SOS there is also a towel rack that has nothing on it  EOS SOS you also see a bath tub that has nothing on it  EOS SOS in another part of the room you see a shower that has nothing on it  EOS SOS in one part of the room you see a trash can that is closed  EOS SOS there is also a bathroom cabinet that is closed  EOS SOS you also see a toilet  EOS SOS in another part of the room you see a coin  EOS SOS through an open wood door to the north you see the corridor  EOS SOS inventory maximum capacity is 2 items    your inventory is currently empty  EOS SOS you are in the kitchen  EOS SOS in one part of the room you see a stove  EOS SOS there is also an oven  EOS SOS you also see a fridge that is closed  EOS SOS in another part of the room you see a counter that has nothing on it  EOS SOS in one part of the room you see a kitchen cupboard that is closed  EOS SOS there is also a cutlery drawer that is closed  EOS SOS you also see a trash can that is closed  EOS SOS in another part of the room you see a dishwasher that is closed  EOS SOS in one part of the room you see a dining chair that has nothing on it  EOS SOS to the north you see a closed wood door  EOS SOS to the south you see a closed plain door  EOS SOS to the east you see the corridor  EOS SOS inventory maximum capacity is 2 items    your inventory is currently empty  EOS SOS you are in the corridor  EOS SOS in one part of the room you see a key holder that has nothing on it  EOS SOS there is also a shoe cabinet that is closed  EOS SOS you also see a umbrella stand that has nothing on it  EOS SOS in another part of the room you see a hat rack that has nothing on it  EOS SOS in one part of the room you see a coat hanger that has nothing on it  EOS SOS to the north you see a closed wood door  EOS SOS through an open wood door to the south you see the bathroom  EOS SOS to the east you see a closed sliding patio door  EOS SOS to the west you see the kitchen  EOS SOS inventory maximum capacity is 2 items    your inventory is currently empty  EOS SOS you are in the bathroom  EOS SOS in one part of the room you see a dressing table that has nothing on it  EOS SOS there is also a sink that has nothing on it  EOS SOS you also see a wall hook that has nothing on it  EOS SOS in another part of the room you see a bath mat  EOS SOS in one part of the room you see a toilet roll holder that has nothing on it  EOS SOS there is also a towel rack that has nothing on it  EOS SOS you also see a bath tub that has nothing on it  EOS SOS in another part of the room you see a shower that has nothing on it  EOS SOS in one part of the room you see a trash can that is closed  EOS SOS there is also a bathroom cabinet that is closed  EOS SOS you also see a toilet  EOS SOS in another part of the room you see a coin  EOS SOS to the north you see a closed wood door  EOS SOS inventory maximum capacity is 2 items    your inventory is currently empty  EOS SOS you are in the bathroom  EOS SOS in one part of the room you see a dressing table that has nothing on it  EOS SOS there is also a sink that has nothing on it  EOS SOS you also see a wall hook that has nothing on it  EOS SOS in another part of the room you see a bath mat  EOS SOS in one part of the room you see a toilet roll holder that has nothing on it  EOS SOS there is also a towel rack that has nothing on it  EOS SOS you also see a bath tub that has nothing on it  EOS SOS in another part of the room you see a shower that has nothing on it  EOS SOS in one part of the room you see a trash can that is closed  EOS SOS there is also a bathroom cabinet that is closed  EOS SOS you also see a toilet  EOS SOS through an open wood door to the north you see the corridor  EOS SOS inventory maximum capacity is 2 items    a coin you are in the kitchen  EOS SOS in one part of the room you see a stove  EOS SOS there is also an oven  EOS SOS you also see a fridge that is closed  EOS SOS in another part of the room you see a counter that has nothing on it  EOS SOS in one part of the room you see a kitchen cupboard that is closed  EOS SOS there is also a cutlery drawer that is closed  EOS SOS you also see a trash can that is closed  EOS SOS in another part of the room you see a dishwasher that is closed  EOS SOS in one part of the room you see a dining chair that has nothing on it  EOS SOS through an open wood door to the north you see the laundry room  EOS SOS through an open plain door to the south you see the pantry  EOS SOS to the east you see the corridor  EOS SOS inventory maximum capacity is 2 items    your inventory is currently empty  EOS SOS you are in the pantry  EOS SOS in one part of the room you see a folding chair that has nothing on it  EOS SOS there is also a shelf that has nothing on it  EOS SOS through an open plain door to the north you see the kitchen  EOS SOS inventory maximum capacity is 2 items    your inventory is currently empty  EOS SOS you are in the kitchen  EOS SOS in one part of the room you see a stove  EOS SOS there is also an oven  EOS SOS you also see a fridge that is closed  EOS SOS in another part of the room you see a counter that has nothing on it  EOS SOS in one part of the room you see a kitchen cupboard that is closed  EOS SOS there is also a cutlery drawer that is closed  EOS SOS you also see a trash can that is closed  EOS SOS in another part of the room you see a dishwasher that is closed  EOS SOS in one part of the room you see a dining chair that has nothing on it  EOS SOS to the north you see a closed wood door  EOS SOS through an open plain door to the south you see the pantry  EOS SOS to the east you see the corridor  EOS SOS inventory maximum capacity is 2 items    your inventory is currently empty  EOS SOS you are in the bathroom  EOS SOS in one part of the room you see a dressing table that has nothing on it  EOS SOS there is also a sink that has nothing on it  EOS SOS you also see a wall hook that has nothing on it  EOS SOS in another part of the room you see a bath mat  EOS SOS in one part of the room you see a toilet roll holder that has nothing on it  EOS SOS there is also a towel rack that has nothing on it  EOS SOS you also see a bath tub that has nothing on it  EOS SOS in another part of the room you see a shower that has nothing on it  EOS SOS in one part of the room you see a trash can that is closed  EOS SOS there is also a bathroom cabinet that is closed  EOS SOS you also see a toilet  EOS SOS in another part of the room you see a coin  EOS SOS through an open wood door to the north you see the corridor  EOS SOS inventory maximum capacity is 2 items    your inventory is currently empty  EOS SOS you are in the bedroom  EOS SOS in one part of the room you see a dressing table that has nothing on it  EOS SOS there is also a desk chair that has nothing on it  EOS SOS you also see a desk that has nothing on it  EOS SOS in another part of the room you see a chest of drawers that is closed  EOS SOS in one part of the room you see a wardrobe that is closed  EOS SOS there is also a night stand that has nothing on it  EOS SOS you also see a bed that has nothing on it  EOS SOS through an open wood door to the south you see the corridor  EOS SOS to the east you see a closed wood door  EOS SOS inventory maximum capacity is 2 items    your inventory is currently empty  EOS SOS you are in the corridor  EOS SOS in one part of the room you see a key holder that has nothing on it  EOS SOS there is also a shoe cabinet that is closed  EOS SOS you also see a umbrella stand that has nothing on it  EOS SOS in another part of the room you see a hat rack that has nothing on it  EOS SOS in one part of the room you see a coat hanger that has nothing on it  EOS SOS through an open wood door to the north you see the bedroom  EOS SOS through an open wood door to the south you see the bathroom  EOS SOS through an open sliding patio door to the east you see the backyard  EOS SOS to the west you see the kitchen  EOS SOS inventory maximum capacity is 2 items    your inventory is currently empty  EOS SOS you are in the bedroom  EOS SOS in one part of the room you see a dressing table that has nothing on it  EOS SOS there is also a desk chair that has nothing on it  EOS SOS you also see a desk that has nothing on it  EOS SOS in another part of the room you see a chest of drawers that is closed  EOS SOS in one part of the room you see a wardrobe that is closed  EOS SOS there is also a night stand that has nothing on it  EOS SOS you also see a bed that has nothing on it  EOS SOS to the south you see a closed wood door  EOS SOS to the east you see a closed wood door  EOS SOS inventory maximum capacity is 2 items    your inventory is currently empty  EOS SOS you are in the corridor  EOS SOS in one part of the room you see a key holder that has nothing on it  EOS SOS there is also a shoe cabinet that is closed  EOS SOS you also see a umbrella stand that has nothing on it  EOS SOS in another part of the room you see a hat rack that has nothing on it  EOS SOS in one part of the room you see a coat hanger that has nothing on it  EOS SOS through an open wood door to the north you see the bedroom  EOS SOS to the south you see a closed wood door  EOS SOS to the east you see a closed sliding patio door  EOS SOS to the west you see the kitchen  EOS SOS inventory maximum capacity is 2 items    your inventory is currently empty  EOS SOS you are in the bedroom  EOS SOS in one part of the room you see a dressing table that has nothing on it  EOS SOS there is also a desk chair that has nothing on it  EOS SOS you also see a desk that has nothing on it  EOS SOS in another part of the room you see a chest of drawers that is closed  EOS SOS in one part of the room you see a wardrobe that is closed  EOS SOS there is also a night stand that has nothing on it  EOS SOS you also see a bed that has nothing on it  EOS SOS through an open wood door to the south you see the corridor  EOS SOS through an open wood door to the east you see the living room  EOS SOS inventory maximum capacity is 2 items    your inventory is currently empty  EOS SOS you are in the kitchen  EOS SOS in one part of the room you see a stove  EOS SOS there is also an oven  EOS SOS you also see a fridge that is closed  EOS SOS in another part of the room you see a counter that has nothing on it  EOS SOS in one part of the room you see a kitchen cupboard that is closed  EOS SOS there is also a cutlery drawer that is closed  EOS SOS you also see a trash can that is closed  EOS SOS in another part of the room you see a dishwasher that is closed  EOS SOS in one part of the room you see a dining chair that has nothing on it  EOS SOS to the north you see a closed wood door  EOS SOS through an open plain door to the south you see the pantry  EOS SOS to the east you see the corridor  EOS SOS inventory maximum capacity is 2 items    your inventory is currently empty  EOS SOS you are in the backyard  EOS SOS in one part of the room you see a barbeque  EOS SOS there is also a workbench that has nothing on it  EOS SOS you also see a patio chair that has nothing on it  EOS SOS in another part of the room you see a patio table that has nothing on it  EOS SOS in one part of the room you see a clothes line that has nothing on it  EOS SOS there is also a garden that has nothing on it  EOS SOS to the north you see a closed screen door  EOS SOS to the south you see the street  EOS SOS to the east you see the driveway  EOS SOS through an open sliding patio door to the west you see the corridor  EOS SOS inventory maximum capacity is 2 items    your inventory is currently empty  EOS SOS you are in the bedroom  EOS SOS in one part of the room you see a dressing table that has nothing on it  EOS SOS there is also a desk chair that has nothing on it  EOS SOS you also see a desk that has nothing on it  EOS SOS in another part of the room you see a chest of drawers that is closed  EOS SOS in one part of the room you see a wardrobe that is closed  EOS SOS there is also a night stand that has nothing on it  EOS SOS you also see a bed that has nothing on it  EOS SOS through an open wood door to the south you see the corridor  EOS SOS to the east you see a closed wood door  EOS SOS inventory maximum capacity is 2 items    your inventory is currently empty  EOS SOS you are in the kitchen  EOS SOS in one part of the room you see a stove  EOS SOS there is also an oven  EOS SOS you also see a fridge that is closed  EOS SOS in another part of the room you see a counter that has nothing on it  EOS SOS in one part of the room you see a kitchen cupboard that is closed  EOS SOS there is also a cutlery drawer that is closed  EOS SOS you also see a trash can that is closed  EOS SOS in another part of the room you see a dishwasher that is closed  EOS SOS in one part of the room you see a dining chair that has nothing on it  EOS SOS through an open wood door to the north you see the laundry room  EOS SOS through an open plain door to the south you see the pantry  EOS SOS to the east you see the corridor  EOS SOS inventory maximum capacity is 2 items    your inventory is currently empty  EOS SOS you are in the pantry  EOS SOS in one part of the room you see a folding chair that has nothing on it  EOS SOS there is also a shelf that has nothing on it  EOS SOS through an open plain door to the north you see the kitchen  EOS SOS inventory maximum capacity is 2 items    your inventory is currently empty  EOS SOS you are in the kitchen  EOS SOS in one part of the room you see a stove  EOS SOS there is also an oven  EOS SOS you also see a fridge that is closed  EOS SOS in another part of the room you see a counter that has nothing on it  EOS SOS in one part of the room you see a kitchen cupboard that is closed  EOS SOS there is also a cutlery drawer that is closed  EOS SOS you also see a trash can that is closed  EOS SOS in another part of the room you see a dishwasher that is closed  EOS SOS in one part of the room you see a dining chair that has nothing on it  EOS SOS to the north you see a closed wood door  EOS SOS through an open plain door to the south you see the pantry  EOS SOS to the east you see the corridor  EOS SOS inventory maximum capacity is 2 items    your inventory is currently empty  EOS SOS you are in the backyard  EOS SOS in one part of the room you see a barbeque  EOS SOS there is also a workbench that has nothing on it  EOS SOS you also see a patio chair that has nothing on it  EOS SOS in another part of the room you see a patio table that has nothing on it  EOS SOS in one part of the room you see a clothes line that has nothing on it  EOS SOS there is also a garden that has nothing on it  EOS SOS to the north you see a closed screen door  EOS SOS to the south you see the street  EOS SOS to the east you see the driveway  EOS SOS through an open sliding patio door to the west you see the corridor  EOS SOS inventory maximum capacity is 2 items    your inventory is currently empty  EOS SOS you are in the bathroom  EOS SOS in one part of the room you see a dressing table that has nothing on it  EOS SOS there is also a sink that has nothing on it  EOS SOS you also see a wall hook that has nothing on it  EOS SOS in another part of the room you see a bath mat  EOS SOS in one part of the room you see a toilet roll holder that has nothing on it  EOS SOS there is also a towel rack that has nothing on it  EOS SOS you also see a bath tub that has nothing on it  EOS SOS in another part of the room you see a shower that has nothing on it  EOS SOS in one part of the room you see a trash can that is closed  EOS SOS there is also a bathroom cabinet that is closed  EOS SOS you also see a toilet  EOS SOS in another part of the room you see a coin  EOS SOS through an open wood door to the north you see the corridor  EOS SOS inventory maximum capacity is 2 items    your inventory is currently empty  EOS SOS you are in the street  EOS SOS to the north you see the backyard  EOS SOS inventory maximum capacity is 2 items    your inventory is currently empty  EOS SOS you are in the driveway  EOS SOS to the west you see the backyard  EOS SOS inventory maximum capacity is 2 items    your inventory is currently empty  EOS SOS you are in the backyard  EOS SOS in one part of the room you see a barbeque  EOS SOS there is also a workbench that has nothing on it  EOS SOS you also see a patio chair that has nothing on it  EOS SOS in another part of the room you see a patio table that has nothing on it  EOS SOS in one part of the room you see a clothes line that has nothing on it  EOS SOS there is also a garden that has nothing on it  EOS SOS to the north you see a closed screen door  EOS SOS to the south you see the street  EOS SOS to the east you see the driveway  EOS SOS to the west you see a closed sliding patio door  EOS SOS inventory maximum capacity is 2 items    your inventory is currently empty  EOS SOS you are in the corridor  EOS SOS in one part of the room you see a key holder that has nothing on it  EOS SOS there is also a shoe cabinet that is closed  EOS SOS you also see a umbrella stand that has nothing on it  EOS SOS in another part of the room you see a hat rack that has nothing on it  EOS SOS in one part of the room you see a coat hanger that has nothing on it  EOS SOS to the north you see a closed wood door  EOS SOS to the south you see a closed wood door  EOS SOS through an open sliding patio door to the east you see the backyard  EOS SOS to the west you see the kitchen  EOS SOS inventory maximum capacity is 2 items    your inventory is currently empty  EOS SOS you are in the backyard  EOS SOS in one part of the room you see a barbeque  EOS SOS there is also a workbench that has nothing on it  EOS SOS you also see a patio chair that has nothing on it  EOS SOS in another part of the room you see a patio table that has nothing on it  EOS SOS in one part of the room you see a clothes line that has nothing on it  EOS SOS there is also a garden that has nothing on it  EOS SOS through an open screen door to the north you see the living room  EOS SOS to the south you see the street  EOS SOS to the east you see the driveway  EOS SOS through an open sliding patio door to the west you see the corridor  EOS SOS inventory maximum capacity is 2 items    your inventory is currently empty  EOS SOS you are in the kitchen  EOS SOS in one part of the room you see a stove  EOS SOS there is also an oven  EOS SOS you also see a fridge that is closed  EOS SOS in another part of the room you see a counter that has nothing on it  EOS SOS in one part of the room you see a kitchen cupboard that is closed  EOS SOS there is also a cutlery drawer that is closed  EOS SOS you also see a trash can that is closed  EOS SOS in another part of the room you see a dishwasher that is closed  EOS SOS in one part of the room you see a dining chair that has nothing on it  EOS SOS through an open wood door to the north you see the laundry room  EOS SOS through an open plain door to the south you see the pantry  EOS SOS to the east you see the corridor  EOS SOS inventory maximum capacity is 2 items    your inventory is currently empty  EOS SOS you are in the pantry  EOS SOS in one part of the room you see a folding chair that has nothing on it  EOS SOS there is also a shelf that has nothing on it  EOS SOS through an open plain door to the north you see the kitchen  EOS SOS inventory maximum capacity is 2 items    your inventory is currently empty  EOS SOS you are in the corridor  EOS SOS in one part of the room you see a key holder that has nothing on it  EOS SOS there is also a shoe cabinet that is closed  EOS SOS you also see a umbrella stand that has nothing on it  EOS SOS in another part of the room you see a hat rack that has nothing on it  EOS SOS in one part of the room you see a coat hanger that has nothing on it  EOS SOS to the north you see a closed wood door  EOS SOS through an open wood door to the south you see the bathroom  EOS SOS to the east you see a closed sliding patio door  EOS SOS to the west you see the kitchen  EOS SOS inventory maximum capacity is 2 items    your inventory is currently empty  EOS SOS you are in the bathroom  EOS SOS in one part of the room you see a dressing table that has nothing on it  EOS SOS there is also a sink that has nothing on it  EOS SOS you also see a wall hook that has nothing on it  EOS SOS in another part of the room you see a bath mat  EOS SOS in one part of the room you see a toilet roll holder that has nothing on it  EOS SOS there is also a towel rack that has nothing on it  EOS SOS you also see a bath tub that has nothing on it  EOS SOS in another part of the room you see a shower that has nothing on it  EOS SOS in one part of the room you see a trash can that is closed  EOS SOS there is also a bathroom cabinet that is closed  EOS SOS you also see a toilet  EOS SOS through an open wood door to the north you see the corridor  EOS SOS inventory maximum capacity is 2 items    a coin you are in the bathroom  EOS SOS in one part of the room you see a dressing table that has nothing on it  EOS SOS there is also a sink that has nothing on it  EOS SOS you also see a wall hook that has nothing on it  EOS SOS in another part of the room you see a bath mat  EOS SOS in one part of the room you see a toilet roll holder that has nothing on it  EOS SOS there is also a towel rack that has nothing on it  EOS SOS you also see a bath tub that has nothing on it  EOS SOS in another part of the room you see a shower that has nothing on it  EOS SOS in one part of the room you see a trash can that is closed  EOS SOS there is also a bathroom cabinet that is closed  EOS SOS you also see a toilet  EOS SOS in another part of the room you see a coin  EOS SOS to the north you see a closed wood door  EOS SOS inventory maximum capacity is 2 items    your inventory is currently empty  EOS SOS you are in the corridor  EOS SOS in one part of the room you see a key holder that has nothing on it  EOS SOS there is also a shoe cabinet that is closed  EOS SOS you also see a umbrella stand that has nothing on it  EOS SOS in another part of the room you see a hat rack that has nothing on it  EOS SOS in one part of the room you see a coat hanger that has nothing on it  EOS SOS to the north you see a closed wood door  EOS SOS to the south you see a closed wood door  EOS SOS to the east you see a closed sliding patio door  EOS SOS to the west you see the kitchen  EOS SOS inventory maximum capacity is 2 items    your inventory is currently empty  EOS SOS you are in the kitchen  EOS SOS in one part of the room you see a stove  EOS SOS there is also an oven  EOS SOS you also see a fridge that is closed  EOS SOS in another part of the room you see a counter that has nothing on it  EOS SOS in one part of the room you see a kitchen cupboard that is closed  EOS SOS there is also a cutlery drawer that is closed  EOS SOS you also see a trash can that is closed  EOS SOS in another part of the room you see a dishwasher that is closed  EOS SOS in one part of the room you see a dining chair that has nothing on it  EOS SOS through an open wood door to the north you see the laundry room  EOS SOS to the south you see a closed plain door  EOS SOS to the east you see the corridor  EOS SOS inventory maximum capacity is 2 items    your inventory is currently empty  EOS SOS you are in the corridor  EOS SOS in one part of the room you see a key holder that has nothing on it  EOS SOS there is also a shoe cabinet that is closed  EOS SOS you also see a umbrella stand that has nothing on it  EOS SOS in another part of the room you see a hat rack that has nothing on it  EOS SOS in one part of the room you see a coat hanger that has nothing on it  EOS SOS to the north you see a closed wood door  EOS SOS to the south you see a closed wood door  EOS SOS to the east you see a closed sliding patio door  EOS SOS to the west you see the kitchen  EOS SOS inventory maximum capacity is 2 items    your inventory is currently empty  EOS SOS you are in the laundry room  EOS SOS in one part of the room you see a bench that has nothing on it  EOS SOS there is also a work table that has nothing on it  EOS SOS you also see a clothes drier that is closed  EOS SOS in another part of the room you see a laundry basket that has nothing on it  EOS SOS in one part of the room you see a washing machine that is closed  EOS SOS through an open wood door to the south you see the kitchen  EOS SOS inventory maximum capacity is 2 items    your inventory is currently empty  EOS SOS you are in the corridor  EOS SOS in one part of the room you see a key holder that has nothing on it  EOS SOS there is also a shoe cabinet that is closed  EOS SOS you also see a umbrella stand that has nothing on it  EOS SOS in another part of the room you see a hat rack that has nothing on it  EOS SOS in one part of the room you see a coat hanger that has nothing on it  EOS SOS through an open wood door to the north you see the bedroom  EOS SOS to the south you see a closed wood door  EOS SOS to the east you see a closed sliding patio door  EOS SOS to the west you see the kitchen  EOS SOS inventory maximum capacity is 2 items    your inventory is currently empty  EOS SOS you are in the corridor  EOS SOS in one part of the room you see a key holder that has nothing on it  EOS SOS there is also a shoe cabinet that is closed  EOS SOS you also see a umbrella stand that has nothing on it  EOS SOS in another part of the room you see a hat rack that has nothing on it  EOS SOS in one part of the room you see a coat hanger that has nothing on it  EOS SOS to the north you see a closed wood door  EOS SOS to the south you see a closed wood door  EOS SOS through an open sliding patio door to the east you see the backyard  EOS SOS to the west you see the kitchen  EOS SOS inventory maximum capacity is 2 items    your inventory is currently empty  EOS SOS you are in the corridor  EOS SOS in one part of the room you see a key holder that has nothing on it  EOS SOS there is also a shoe cabinet that is closed  EOS SOS you also see a umbrella stand that has nothing on it  EOS SOS in another part of the room you see a hat rack that has nothing on it  EOS SOS in one part of the room you see a coat hanger that has nothing on it  EOS SOS to the north you see a closed wood door  EOS SOS through an open wood door to the south you see the bathroom  EOS SOS to the east you see a closed sliding patio door  EOS SOS to the west you see the kitchen  EOS SOS inventory maximum capacity is 2 items    your inventory is currently empty  EOS SOS you are in the pantry  EOS SOS in one part of the room you see a folding chair that has nothing on it  EOS SOS there is also a shelf that has nothing on it  EOS SOS through an open plain door to the north you see the kitchen  EOS SOS inventory maximum capacity is 2 items    your inventory is currently empty  EOS SOS you are in the kitchen  EOS SOS in one part of the room you see a stove  EOS SOS there is also an oven  EOS SOS you also see a fridge that is closed  EOS SOS in another part of the room you see a counter that has nothing on it  EOS SOS in one part of the room you see a kitchen cupboard that is closed  EOS SOS there is also a cutlery drawer that is closed  EOS SOS you also see a trash can that is closed  EOS SOS in another part of the room you see a dishwasher that is closed  EOS SOS in one part of the room you see a dining chair that has nothing on it  EOS SOS to the north you see a closed wood door  EOS SOS through an open plain door to the south you see the pantry  EOS SOS to the east you see the corridor  EOS SOS inventory maximum capacity is 2 items    your inventory is currently empty  EOS SOS you are in the corridor  EOS SOS in one part of the room you see a key holder that has nothing on it  EOS SOS there is also a shoe cabinet that is closed  EOS SOS you also see a umbrella stand that has nothing on it  EOS SOS in another part of the room you see a hat rack that has nothing on it  EOS SOS in one part of the room you see a coat hanger that has nothing on it  EOS SOS to the north you see a closed wood door  EOS SOS to the south you see a closed wood door  EOS SOS to the east you see a closed sliding patio door  EOS SOS to the west you see the kitchen  EOS SOS inventory maximum capacity is 2 items    your inventory is currently empty  EOS SOS you are in the corridor  EOS SOS in one part of the room you see a key holder that has nothing on it  EOS SOS there is also a shoe cabinet that is closed  EOS SOS you also see a umbrella stand that has nothing on it  EOS SOS in another part of the room you see a hat rack that has nothing on it  EOS SOS in one part of the room you see a coat hanger that has nothing on it  EOS SOS through an open wood door to the north you see the bedroom  EOS SOS through an open wood door to the south you see the bathroom  EOS SOS to the east you see a closed sliding patio door  EOS SOS to the west you see the kitchen  EOS SOS inventory maximum capacity is 2 items    your inventory is currently empty  EOS SOS you are in the corridor  EOS SOS in one part of the room you see a key holder that has nothing on it  EOS SOS there is also a shoe cabinet that is closed  EOS SOS you also see a umbrella stand that has nothing on it  EOS SOS in another part of the room you see a hat rack that has nothing on it  EOS SOS in one part of the room you see a coat hanger that has nothing on it  EOS SOS through an open wood door to the north you see the bedroom  EOS SOS to the south you see a closed wood door  EOS SOS through an open sliding patio door to the east you see the backyard  EOS SOS to the west you see the kitchen  EOS SOS inventory maximum capacity is 2 items    your inventory is currently empty  EOS SOS you are in the bedroom  EOS SOS in one part of the room you see a dressing table that has nothing on it  EOS SOS there is also a desk chair that has nothing on it  EOS SOS you also see a desk that has nothing on it  EOS SOS in another part of the room you see a chest of drawers that is closed  EOS SOS in one part of the room you see a wardrobe that is closed  EOS SOS there is also a night stand that has nothing on it  EOS SOS you also see a bed that has nothing on it  EOS SOS through an open wood door to the south you see the corridor  EOS SOS to the east you see a closed wood door  EOS SOS inventory maximum capacity is 2 items    your inventory is currently empty  EOS SOS you are in the corridor  EOS SOS in one part of the room you see a key holder that has nothing on it  EOS SOS there is also a shoe cabinet that is closed  EOS SOS you also see a umbrella stand that has nothing on it  EOS SOS in another part of the room you see a hat rack that has nothing on it  EOS SOS in one part of the room you see a coat hanger that has nothing on it  EOS SOS to the north you see a closed wood door  EOS SOS through an open wood door to the south you see the bathroom  EOS SOS through an open sliding patio door to the east you see the backyard  EOS SOS to the west you see the kitchen  EOS SOS inventory maximum capacity is 2 items    your inventory is currently empty  EOS SOS you are in the backyard  EOS SOS in one part of the room you see a barbeque  EOS SOS there is also a workbench that has nothing on it  EOS SOS you also see a patio chair that has nothing on it  EOS SOS in another part of the room you see a patio table that has nothing on it  EOS SOS in one part of the room you see a clothes line that has nothing on it  EOS SOS there is also a garden that has nothing on it  EOS SOS to the north you see a closed screen door  EOS SOS to the south you see the street  EOS SOS to the east you see the driveway  EOS SOS through an open sliding patio door to the west you see the corridor  EOS SOS inventory maximum capacity is 2 items    your inventory is currently empty  EOS SOS you are in the bathroom  EOS SOS in one part of the room you see a dressing table that has nothing on it  EOS SOS there is also a sink that has nothing on it  EOS SOS you also see a wall hook that has nothing on it  EOS SOS in another part of the room you see a bath mat  EOS SOS in one part of the room you see a toilet roll holder that has nothing on it  EOS SOS there is also a towel rack that has nothing on it  EOS SOS you also see a bath tub that has nothing on it  EOS SOS in another part of the room you see a shower that has nothing on it  EOS SOS in one part of the room you see a trash can that is closed  EOS SOS there is also a bathroom cabinet that is closed  EOS SOS you also see a toilet  EOS SOS in another part of the room you see a coin  EOS SOS through an open wood door to the north you see the corridor  EOS SOS inventory maximum capacity is 2 items    your inventory is currently empty  EOS SOS you are in the laundry room  EOS SOS in one part of the room you see a bench that has nothing on it  EOS SOS there is also a work table that has nothing on it  EOS SOS you also see a clothes drier that is closed  EOS SOS in another part of the room you see a laundry basket that has nothing on it  EOS SOS in one part of the room you see a washing machine that is closed  EOS SOS through an open wood door to the south you see the kitchen  EOS SOS inventory maximum capacity is 2 items    your inventory is currently empty  EOS SOS you are in the kitchen  EOS SOS in one part of the room you see a stove  EOS SOS there is also an oven  EOS SOS you also see a fridge that is closed  EOS SOS in another part of the room you see a counter that has nothing on it  EOS SOS in one part of the room you see a kitchen cupboard that is closed  EOS SOS there is also a cutlery drawer that is closed  EOS SOS you also see a trash can that is closed  EOS SOS in another part of the room you see a dishwasher that is closed  EOS SOS in one part of the room you see a dining chair that has nothing on it  EOS SOS through an open wood door to the north you see the laundry room  EOS SOS to the south you see a closed plain door  EOS SOS to the east you see the corridor  EOS SOS inventory maximum capacity is 2 items    your inventory is currently empty  EOS SOS you are in the bathroom  EOS SOS in one part of the room you see a dressing table that has nothing on it  EOS SOS there is also a sink that has nothing on it  EOS SOS you also see a wall hook that has nothing on it  EOS SOS in another part of the room you see a bath mat  EOS SOS in one part of the room you see a toilet roll holder that has nothing on it  EOS SOS there is also a towel rack that has nothing on it  EOS SOS you also see a bath tub that has nothing on it  EOS SOS in another part of the room you see a shower that has nothing on it  EOS SOS in one part of the room you see a trash can that is closed  EOS SOS there is also a bathroom cabinet that is closed  EOS SOS you also see a toilet  EOS SOS in another part of the room you see a coin  EOS SOS through an open wood door to the north you see the corridor  EOS SOS inventory maximum capacity is 2 items    your inventory is currently empty  EOS SOS you are in the bedroom  EOS SOS in one part of the room you see a dressing table that has nothing on it  EOS SOS there is also a desk chair that has nothing on it  EOS SOS you also see a desk that has nothing on it  EOS SOS in another part of the room you see a chest of drawers that is closed  EOS SOS in one part of the room you see a wardrobe that is closed  EOS SOS there is also a night stand that has nothing on it  EOS SOS you also see a bed that has nothing on it  EOS SOS through an open wood door to the south you see the corridor  EOS SOS to the east you see a closed wood door  EOS SOS inventory maximum capacity is 2 items    your inventory is currently empty  EOS SOS you are in the corridor  EOS SOS in one part of the room you see a key holder that has nothing on it  EOS SOS there is also a shoe cabinet that is closed  EOS SOS you also see a umbrella stand that has nothing on it  EOS SOS in another part of the room you see a hat rack that has nothing on it  EOS SOS in one part of the room you see a coat hanger that has nothing on it  EOS SOS through an open wood door to the north you see the bedroom  EOS SOS through an open wood door to the south you see the bathroom  EOS SOS through an open sliding patio door to the east you see the backyard  EOS SOS to the west you see the kitchen  EOS SOS inventory maximum capacity is 2 items    your inventory is currently empty  EOS SOS you are in the bedroom  EOS SOS in one part of the room you see a dressing table that has nothing on it  EOS SOS there is also a desk chair that has nothing on it  EOS SOS you also see a desk that has nothing on it  EOS SOS in another part of the room you see a chest of drawers that is closed  EOS SOS in one part of the room you see a wardrobe that is closed  EOS SOS there is also a night stand that has nothing on it  EOS SOS you also see a bed that has nothing on it  EOS SOS to the south you see a closed wood door  EOS SOS to the east you see a closed wood door  EOS SOS inventory maximum capacity is 2 items    your inventory is currently empty  EOS SOS you are in the corridor  EOS SOS in one part of the room you see a key holder that has nothing on it  EOS SOS there is also a shoe cabinet that is closed  EOS SOS you also see a umbrella stand that has nothing on it  EOS SOS in another part of the room you see a hat rack that has nothing on it  EOS SOS in one part of the room you see a coat hanger that has nothing on it  EOS SOS through an open wood door to the north you see the bedroom  EOS SOS to the south you see a closed wood door  EOS SOS to the east you see a closed sliding patio door  EOS SOS to the west you see the kitchen  EOS SOS inventory maximum capacity is 2 items    your inventory is currently empty  EOS SOS you are in the bedroom  EOS SOS in one part of the room you see a dressing table that has nothing on it  EOS SOS there is also a desk chair that has nothing on it  EOS SOS you also see a desk that has nothing on it  EOS SOS in another part of the room you see a chest of drawers that is closed  EOS SOS in one part of the room you see a wardrobe that is closed  EOS SOS there is also a night stand that has nothing on it  EOS SOS you also see a bed that has nothing on it  EOS SOS through an open wood door to the south you see the corridor  EOS SOS through an open wood door to the east you see the living room  EOS SOS inventory maximum capacity is 2 items    your inventory is currently empty  EOS SOS you are in the kitchen  EOS SOS in one part of the room you see a stove  EOS SOS there is also an oven  EOS SOS you also see a fridge that is closed  EOS SOS in another part of the room you see a counter that has nothing on it  EOS SOS in one part of the room you see a kitchen cupboard that is closed  EOS SOS there is also a cutlery drawer that is closed  EOS SOS you also see a trash can that is closed  EOS SOS in another part of the room you see a dishwasher that is closed  EOS SOS in one part of the room you see a dining chair that has nothing on it  EOS SOS through an open wood door to the north you see the laundry room  EOS SOS to the south you see a closed plain door  EOS SOS to the east you see the corridor  EOS SOS inventory maximum capacity is 2 items    your inventory is currently empty  EOS SOS you are in the backyard  EOS SOS in one part of the room you see a barbeque  EOS SOS there is also a workbench that has nothing on it  EOS SOS you also see a patio chair that has nothing on it  EOS SOS in another part of the room you see a patio table that has nothing on it  EOS SOS in one part of the room you see a clothes line that has nothing on it  EOS SOS there is also a garden that has nothing on it  EOS SOS to the north you see a closed screen door  EOS SOS to the south you see the street  EOS SOS to the east you see the driveway  EOS SOS through an open sliding patio door to the west you see the corridor  EOS SOS inventory maximum capacity is 2 items    your inventory is currently empty  EOS SOS you are in the bedroom  EOS SOS in one part of the room you see a dressing table that has nothing on it  EOS SOS there is also a desk chair that has nothing on it  EOS SOS you also see a desk that has nothing on it  EOS SOS in another part of the room you see a chest of drawers that is closed  EOS SOS in one part of the room you see a wardrobe that is closed  EOS SOS there is also a night stand that has nothing on it  EOS SOS you also see a bed that has nothing on it  EOS SOS through an open wood door to the south you see the corridor  EOS SOS to the east you see a closed wood door  EOS SOS inventory maximum capacity is 2 items    your inventory is currently empty  EOS SOS you are in the laundry room  EOS SOS in one part of the room you see a bench that has nothing on it  EOS SOS there is also a work table that has nothing on it  EOS SOS you also see a clothes drier that is closed  EOS SOS in another part of the room you see a laundry basket that has nothing on it  EOS SOS in one part of the room you see a washing machine that is closed  EOS SOS through an open wood door to the south you see the kitchen  EOS SOS inventory maximum capacity is 2 items    your inventory is currently empty  EOS SOS you are in the kitchen  EOS SOS in one part of the room you see a stove  EOS SOS there is also an oven  EOS SOS you also see a fridge that is closed  EOS SOS in another part of the room you see a counter that has nothing on it  EOS SOS in one part of the room you see a kitchen cupboard that is closed  EOS SOS there is also a cutlery drawer that is closed  EOS SOS you also see a trash can that is closed  EOS SOS in another part of the room you see a dishwasher that is closed  EOS SOS in one part of the room you see a dining chair that has nothing on it  EOS SOS through an open wood door to the north you see the laundry room  EOS SOS to the south you see a closed plain door  EOS SOS to the east you see the corridor  EOS SOS inventory maximum capacity is 2 items    your inventory is currently empty  EOS SOS you are in the backyard  EOS SOS in one part of the room you see a barbeque  EOS SOS there is also a workbench that has nothing on it  EOS SOS you also see a patio chair that has nothing on it  EOS SOS in another part of the room you see a patio table that has nothing on it  EOS SOS in one part of the room you see a clothes line that has nothing on it  EOS SOS there is also a garden that has nothing on it  EOS SOS to the north you see a closed screen door  EOS SOS to the south you see the street  EOS SOS to the east you see the driveway  EOS SOS through an open sliding patio door to the west you see the corridor  EOS SOS inventory maximum capacity is 2 items    your inventory is currently empty  EOS SOS you are in the bathroom  EOS SOS in one part of the room you see a dressing table that has nothing on it  EOS SOS there is also a sink that has nothing on it  EOS SOS you also see a wall hook that has nothing on it  EOS SOS in another part of the room you see a bath mat  EOS SOS in one part of the room you see a toilet roll holder that has nothing on it  EOS SOS there is also a towel rack that has nothing on it  EOS SOS you also see a bath tub that has nothing on it  EOS SOS in another part of the room you see a shower that has nothing on it  EOS SOS in one part of the room you see a trash can that is closed  EOS SOS there is also a bathroom cabinet that is closed  EOS SOS you also see a toilet  EOS SOS in another part of the room you see a coin  EOS SOS through an open wood door to the north you see the corridor  EOS SOS inventory maximum capacity is 2 items    your inventory is currently empty  EOS SOS you are in the street  EOS SOS to the north you see the backyard  EOS SOS inventory maximum capacity is 2 items    your inventory is currently empty  EOS SOS you are in the driveway  EOS SOS to the west you see the backyard  EOS SOS inventory maximum capacity is 2 items    your inventory is currently empty  EOS SOS you are in the backyard  EOS SOS in one part of the room you see a barbeque  EOS SOS there is also a workbench that has nothing on it  EOS SOS you also see a patio chair that has nothing on it  EOS SOS in another part of the room you see a patio table that has nothing on it  EOS SOS in one part of the room you see a clothes line that has nothing on it  EOS SOS there is also a garden that has nothing on it  EOS SOS to the north you see a closed screen door  EOS SOS to the south you see the street  EOS SOS to the east you see the driveway  EOS SOS to the west you see a closed sliding patio door  EOS SOS inventory maximum capacity is 2 items    your inventory is currently empty  EOS SOS you are in the corridor  EOS SOS in one part of the room you see a key holder that has nothing on it  EOS SOS there is also a shoe cabinet that is closed  EOS SOS you also see a umbrella stand that has nothing on it  EOS SOS in another part of the room you see a hat rack that has nothing on it  EOS SOS in one part of the room you see a coat hanger that has nothing on it  EOS SOS to the north you see a closed wood door  EOS SOS to the south you see a closed wood door  EOS SOS through an open sliding patio door to the east you see the backyard  EOS SOS to the west you see the kitchen  EOS SOS inventory maximum capacity is 2 items    your inventory is currently empty  EOS SOS you are in the backyard  EOS SOS in one part of the room you see a barbeque  EOS SOS there is also a workbench that has nothing on it  EOS SOS you also see a patio chair that has nothing on it  EOS SOS in another part of the room you see a patio table that has nothing on it  EOS SOS in one part of the room you see a clothes line that has nothing on it  EOS SOS there is also a garden that has nothing on it  EOS SOS through an open screen door to the north you see the living room  EOS SOS to the south you see the street  EOS SOS to the east you see the driveway  EOS SOS through an open sliding patio door to the west you see the corridor  EOS SOS inventory maximum capacity is 2 items    your inventory is currently empty  EOS SOS you are in the laundry room  EOS SOS in one part of the room you see a bench that has nothing on it  EOS SOS there is also a work table that has nothing on it  EOS SOS you also see a clothes drier that is closed  EOS SOS in another part of the room you see a laundry basket that has nothing on it  EOS SOS in one part of the room you see a washing machine that is closed  EOS SOS through an open wood door to the south you see the kitchen  EOS SOS inventory maximum capacity is 2 items    your inventory is currently empty  EOS SOS you are in the corridor  EOS SOS in one part of the room you see a key holder that has nothing on it  EOS SOS there is also a shoe cabinet that is closed  EOS SOS you also see a umbrella stand that has nothing on it  EOS SOS in another part of the room you see a hat rack that has nothing on it  EOS SOS in one part of the room you see a coat hanger that has nothing on it  EOS SOS to the north you see a closed wood door  EOS SOS through an open wood door to the south you see the bathroom  EOS SOS to the east you see a closed sliding patio door  EOS SOS to the west you see the kitchen  EOS SOS inventory maximum capacity is 2 items    your inventory is currently empty  EOS SOS you are in the bathroom  EOS SOS in one part of the room you see a dressing table that has nothing on it  EOS SOS there is also a sink that has nothing on it  EOS SOS you also see a wall hook that has nothing on it  EOS SOS in another part of the room you see a bath mat  EOS SOS in one part of the room you see a toilet roll holder that has nothing on it  EOS SOS there is also a towel rack that has nothing on it  EOS SOS you also see a bath tub that has nothing on it  EOS SOS in another part of the room you see a shower that has nothing on it  EOS SOS in one part of the room you see a trash can that is closed  EOS SOS there is also a bathroom cabinet that is closed  EOS SOS you also see a toilet  EOS SOS through an open wood door to the north you see the corridor  EOS SOS inventory maximum capacity is 2 items    a coin you are in the bathroom  EOS SOS in one part of the room you see a dressing table that has nothing on it  EOS SOS there is also a sink that has nothing on it  EOS SOS you also see a wall hook that has nothing on it  EOS SOS in another part of the room you see a bath mat  EOS SOS in one part of the room you see a toilet roll holder that has nothing on it  EOS SOS there is also a towel rack that has nothing on it  EOS SOS you also see a bath tub that has nothing on it  EOS SOS in another part of the room you see a shower that has nothing on it  EOS SOS in one part of the room you see a trash can that is closed  EOS SOS there is also a bathroom cabinet that is closed  EOS SOS you also see a toilet  EOS SOS in another part of the room you see a coin  EOS SOS to the north you see a closed wood door  EOS SOS inventory maximum capacity is 2 items    your inventory is currently empty  EOS SOS you are in the corridor  EOS SOS in one part of the room you see a key holder that has nothing on it  EOS SOS there is also a shoe cabinet that is closed  EOS SOS you also see a umbrella stand that has nothing on it  EOS SOS in another part of the room you see a hat rack that has nothing on it  EOS SOS in one part of the room you see a coat hanger that has nothing on it  EOS SOS to the north you see a closed wood door  EOS SOS to the south you see a closed wood door  EOS SOS to the east you see a closed sliding patio door  EOS SOS to the west you see the kitchen  EOS SOS inventory maximum capacity is 2 items    your inventory is currently empty  EOS SOS you are in the corridor  EOS SOS in one part of the room you see a key holder that has nothing on it  EOS SOS there is also a shoe cabinet that is closed  EOS SOS you also see a umbrella stand that has nothing on it  EOS SOS in another part of the room you see a hat rack that has nothing on it  EOS SOS in one part of the room you see a coat hanger that has nothing on it  EOS SOS through an open wood door to the north you see the bedroom  EOS SOS to the south you see a closed wood door  EOS SOS to the east you see a closed sliding patio door  EOS SOS to the west you see the kitchen  EOS SOS inventory maximum capacity is 2 items    your inventory is currently empty  EOS SOS you are in the corridor  EOS SOS in one part of the room you see a key holder that has nothing on it  EOS SOS there is also a shoe cabinet that is closed  EOS SOS you also see a umbrella stand that has nothing on it  EOS SOS in another part of the room you see a hat rack that has nothing on it  EOS SOS in one part of the room you see a coat hanger that has nothing on it  EOS SOS to the north you see a closed wood door  EOS SOS to the south you see a closed wood door  EOS SOS through an open sliding patio door to the east you see the backyard  EOS SOS to the west you see the kitchen  EOS SOS inventory maximum capacity is 2 items    your inventory is currently empty  EOS SOS you are in the corridor  EOS SOS in one part of the room you see a key holder that has nothing on it  EOS SOS there is also a shoe cabinet that is closed  EOS SOS you also see a umbrella stand that has nothing on it  EOS SOS in another part of the room you see a hat rack that has nothing on it  EOS SOS in one part of the room you see a coat hanger that has nothing on it  EOS SOS to the north you see a closed wood door  EOS SOS through an open wood door to the south you see the bathroom  EOS SOS to the east you see a closed sliding patio door  EOS SOS to the west you see the kitchen  EOS SOS inventory maximum capacity is 2 items    your inventory is currently empty  EOS SOS you are in the bedroom  EOS SOS in one part of the room you see a dressing table that has nothing on it  EOS SOS there is also a desk chair that has nothing on it  EOS SOS you also see a desk that has nothing on it  EOS SOS in another part of the room you see a chest of drawers that is closed  EOS SOS in one part of the room you see a wardrobe that is closed  EOS SOS there is also a night stand that has nothing on it  EOS SOS you also see a bed that has nothing on it  EOS SOS to the south you see a closed wood door  EOS SOS through an open wood door to the east you see the living room  EOS SOS inventory maximum capacity is 2 items    your inventory is currently empty  EOS SOS you are in the corridor  EOS SOS in one part of the room you see a key holder that has nothing on it  EOS SOS there is also a shoe cabinet that is closed  EOS SOS you also see a umbrella stand that has nothing on it  EOS SOS in another part of the room you see a hat rack that has nothing on it  EOS SOS in one part of the room you see a coat hanger that has nothing on it  EOS SOS through an open wood door to the north you see the bedroom  EOS SOS to the south you see a closed wood door  EOS SOS to the east you see a closed sliding patio door  EOS SOS to the west you see the kitchen  EOS SOS inventory maximum capacity is 2 items    your inventory is currently empty  EOS SOS you are in the living room  EOS SOS in one part of the room you see a wastepaper basket that is closed  EOS SOS there is also a book case that has nothing on it  EOS SOS you also see a tv stand that has nothing on it  EOS SOS in another part of the room you see a arm chair that has nothing on it  EOS SOS in one part of the room you see a side table that has nothing on it  EOS SOS there is also a coffee table that has nothing on it  EOS SOS you also see a end table that has nothing on it  EOS SOS in another part of the room you see a sofa that has nothing on it  EOS SOS to the south you see a closed screen door  EOS SOS through an open wood door to the west you see the bedroom  EOS SOS inventory maximum capacity is 2 items    your inventory is currently empty  EOS SOS you are in the corridor  EOS SOS in one part of the room you see a key holder that has nothing on it  EOS SOS there is also a shoe cabinet that is closed  EOS SOS you also see a umbrella stand that has nothing on it  EOS SOS in another part of the room you see a hat rack that has nothing on it  EOS SOS in one part of the room you see a coat hanger that has nothing on it  EOS SOS to the north you see a closed wood door  EOS SOS to the south you see a closed wood door  EOS SOS to the east you see a closed sliding patio door  EOS SOS to the west you see the kitchen  EOS SOS inventory maximum capacity is 2 items    your inventory is currently empty  EOS SOS you are in the corridor  EOS SOS in one part of the room you see a key holder that has nothing on it  EOS SOS there is also a shoe cabinet that is closed  EOS SOS you also see a umbrella stand that has nothing on it  EOS SOS in another part of the room you see a hat rack that has nothing on it  EOS SOS in one part of the room you see a coat hanger that has nothing on it  EOS SOS through an open wood door to the north you see the bedroom  EOS SOS through an open wood door to the south you see the bathroom  EOS SOS to the east you see a closed sliding patio door  EOS SOS to the west you see the kitchen  EOS SOS inventory maximum capacity is 2 items    your inventory is currently empty  EOS SOS you are in the corridor  EOS SOS in one part of the room you see a key holder that has nothing on it  EOS SOS there is also a shoe cabinet that is closed  EOS SOS you also see a umbrella stand that has nothing on it  EOS SOS in another part of the room you see a hat rack that has nothing on it  EOS SOS in one part of the room you see a coat hanger that has nothing on it  EOS SOS through an open wood door to the north you see the bedroom  EOS SOS to the south you see a closed wood door  EOS SOS through an open sliding patio door to the east you see the backyard  EOS SOS to the west you see the kitchen  EOS SOS inventory maximum capacity is 2 items    your inventory is currently empty  EOS SOS you are in the kitchen  EOS SOS in one part of the room you see a stove  EOS SOS there is also an oven  EOS SOS you also see a fridge that is closed  EOS SOS in another part of the room you see a counter that has nothing on it  EOS SOS in one part of the room you see a kitchen cupboard that is closed  EOS SOS there is also a cutlery drawer that is closed  EOS SOS you also see a trash can that is closed  EOS SOS in another part of the room you see a dishwasher that is closed  EOS SOS in one part of the room you see a dining chair that has nothing on it  EOS SOS to the north you see a closed wood door  EOS SOS to the south you see a closed plain door  EOS SOS to the east you see the corridor  EOS SOS inventory maximum capacity is 2 items    your inventory is currently empty  EOS SOS you are in the bathroom  EOS SOS in one part of the room you see a dressing table that has nothing on it  EOS SOS there is also a sink that has nothing on it  EOS SOS you also see a wall hook that has nothing on it  EOS SOS in another part of the room you see a bath mat  EOS SOS in one part of the room you see a toilet roll holder that has nothing on it  EOS SOS there is also a towel rack that has nothing on it  EOS SOS you also see a bath tub that has nothing on it  EOS SOS in another part of the room you see a shower that has nothing on it  EOS SOS in one part of the room you see a trash can that is closed  EOS SOS there is also a bathroom cabinet that is closed  EOS SOS you also see a toilet  EOS SOS in another part of the room you see a coin  EOS SOS through an open wood door to the north you see the corridor  EOS SOS inventory maximum capacity is 2 items    your inventory is currently empty  EOS SOS you are in the bedroom  EOS SOS in one part of the room you see a dressing table that has nothing on it  EOS SOS there is also a desk chair that has nothing on it  EOS SOS you also see a desk that has nothing on it  EOS SOS in another part of the room you see a chest of drawers that is closed  EOS SOS in one part of the room you see a wardrobe that is closed  EOS SOS there is also a night stand that has nothing on it  EOS SOS you also see a bed that has nothing on it  EOS SOS through an open wood door to the south you see the corridor  EOS SOS to the east you see a closed wood door  EOS SOS inventory maximum capacity is 2 items    your inventory is currently empty  EOS SOS you are in the backyard  EOS SOS in one part of the room you see a barbeque  EOS SOS there is also a workbench that has nothing on it  EOS SOS you also see a patio chair that has nothing on it  EOS SOS in another part of the room you see a patio table that has nothing on it  EOS SOS in one part of the room you see a clothes line that has nothing on it  EOS SOS there is also a garden that has nothing on it  EOS SOS to the north you see a closed screen door  EOS SOS to the south you see the street  EOS SOS to the east you see the driveway  EOS SOS through an open sliding patio door to the west you see the corridor  EOS SOS inventory maximum capacity is 2 items    your inventory is currently empty  EOS SOS you are in the kitchen  EOS SOS in one part of the room you see a stove  EOS SOS there is also an oven  EOS SOS you also see a fridge that is closed  EOS SOS in another part of the room you see a counter that has nothing on it  EOS SOS in one part of the room you see a kitchen cupboard that is closed  EOS SOS there is also a cutlery drawer that is closed  EOS SOS you also see a trash can that is closed  EOS SOS in another part of the room you see a dishwasher that is closed  EOS SOS in one part of the room you see a dining chair that has nothing on it  EOS SOS to the north you see a closed wood door  EOS SOS to the south you see a closed plain door  EOS SOS to the east you see the corridor  EOS SOS inventory maximum capacity is 2 items    your inventory is currently empty  EOS SOS you are in the backyard  EOS SOS in one part of the room you see a barbeque  EOS SOS there is also a workbench that has nothing on it  EOS SOS you also see a patio chair that has nothing on it  EOS SOS in another part of the room you see a patio table that has nothing on it  EOS SOS in one part of the room you see a clothes line that has nothing on it  EOS SOS there is also a garden that has nothing on it  EOS SOS to the north you see a closed screen door  EOS SOS to the south you see the street  EOS SOS to the east you see the driveway  EOS SOS to the west you see a closed sliding patio door  EOS SOS inventory maximum capacity is 2 items    your inventory is currently empty  EOS SOS you are in the driveway  EOS SOS to the west you see the backyard  EOS SOS inventory maximum capacity is 2 items    your inventory is currently empty  EOS SOS you are in the street  EOS SOS to the north you see the backyard  EOS SOS inventory maximum capacity is 2 items    your inventory is currently empty  EOS SOS you are in the backyard  EOS SOS in one part of the room you see a barbeque  EOS SOS there is also a workbench that has nothing on it  EOS SOS you also see a patio chair that has nothing on it  EOS SOS in another part of the room you see a patio table that has nothing on it  EOS SOS in one part of the room you see a clothes line that has nothing on it  EOS SOS there is also a garden that has nothing on it  EOS SOS through an open screen door to the north you see the living room  EOS SOS to the south you see the street  EOS SOS to the east you see the driveway  EOS SOS through an open sliding patio door to the west you see the corridor  EOS SOS inventory maximum capacity is 2 items    your inventory is currently empty  EOS SOS you are in the corridor  EOS SOS in one part of the room you see a key holder that has nothing on it  EOS SOS there is also a shoe cabinet that is closed  EOS SOS you also see a umbrella stand that has nothing on it  EOS SOS in another part of the room you see a hat rack that has nothing on it  EOS SOS in one part of the room you see a coat hanger that has nothing on it  EOS SOS through an open wood door to the north you see the bedroom  EOS SOS to the south you see a closed wood door  EOS SOS through an open sliding patio door to the east you see the backyard  EOS SOS to the west you see the kitchen  EOS SOS inventory maximum capacity is 2 items    your inventory is currently empty  EOS SOS you are in the bedroom  EOS SOS in one part of the room you see a dressing table that has nothing on it  EOS SOS there is also a desk chair that has nothing on it  EOS SOS you also see a desk that has nothing on it  EOS SOS in another part of the room you see a chest of drawers that is closed  EOS SOS in one part of the room you see a wardrobe that is closed  EOS SOS there is also a night stand that has nothing on it  EOS SOS you also see a bed that has nothing on it  EOS SOS through an open wood door to the south you see the corridor  EOS SOS through an open wood door to the east you see the living room  EOS SOS inventory maximum capacity is 2 items    your inventory is currently empty  EOS SOS you are in the bedroom  EOS SOS in one part of the room you see a dressing table that has nothing on it  EOS SOS there is also a desk chair that has nothing on it  EOS SOS you also see a desk that has nothing on it  EOS SOS in another part of the room you see a chest of drawers that is closed  EOS SOS in one part of the room you see a wardrobe that is closed  EOS SOS there is also a night stand that has nothing on it  EOS SOS you also see a bed that has nothing on it  EOS SOS to the south you see a closed wood door  EOS SOS to the east you see a closed wood door  EOS SOS inventory maximum capacity is 2 items    your inventory is currently empty  EOS SOS you are in the bathroom  EOS SOS in one part of the room you see a dressing table that has nothing on it  EOS SOS there is also a sink that has nothing on it  EOS SOS you also see a wall hook that has nothing on it  EOS SOS in another part of the room you see a bath mat  EOS SOS in one part of the room you see a toilet roll holder that has nothing on it  EOS SOS there is also a towel rack that has nothing on it  EOS SOS you also see a bath tub that has nothing on it  EOS SOS in another part of the room you see a shower that has nothing on it  EOS SOS in one part of the room you see a trash can that is closed  EOS SOS there is also a bathroom cabinet that is closed  EOS SOS you also see a toilet  EOS SOS in another part of the room you see a coin  EOS SOS to the north you see a closed wood door  EOS SOS inventory maximum capacity is 2 items    your inventory is currently empty  EOS SOS you are in the corridor  EOS SOS in one part of the room you see a key holder that has nothing on it  EOS SOS there is also a shoe cabinet that is closed  EOS SOS you also see a umbrella stand that has nothing on it  EOS SOS in another part of the room you see a hat rack that has nothing on it  EOS SOS in one part of the room you see a coat hanger that has nothing on it  EOS SOS through an open wood door to the north you see the bedroom  EOS SOS through an open wood door to the south you see the bathroom  EOS SOS to the east you see a closed sliding patio door  EOS SOS to the west you see the kitchen  EOS SOS inventory maximum capacity is 2 items    your inventory is currently empty  EOS SOS you are in the bathroom  EOS SOS in one part of the room you see a dressing table that has nothing on it  EOS SOS there is also a sink that has nothing on it  EOS SOS you also see a wall hook that has nothing on it  EOS SOS in another part of the room you see a bath mat  EOS SOS in one part of the room you see a toilet roll holder that has nothing on it  EOS SOS there is also a towel rack that has nothing on it  EOS SOS you also see a bath tub that has nothing on it  EOS SOS in another part of the room you see a shower that has nothing on it  EOS SOS in one part of the room you see a trash can that is closed  EOS SOS there is also a bathroom cabinet that is closed  EOS SOS you also see a toilet  EOS SOS through an open wood door to the north you see the corridor  EOS SOS inventory maximum capacity is 2 items    a coin you are in the bedroom  EOS SOS in one part of the room you see a dressing table that has nothing on it  EOS SOS there is also a desk chair that has nothing on it  EOS SOS you also see a desk that has nothing on it  EOS SOS in another part of the room you see a chest of drawers that is closed  EOS SOS in one part of the room you see a wardrobe that is closed  EOS SOS there is also a night stand that has nothing on it  EOS SOS you also see a bed that has nothing on it  EOS SOS through an open wood door to the south you see the corridor  EOS SOS through an open wood door to the east you see the living room  EOS SOS inventory maximum capacity is 2 items    your inventory is currently empty  EOS SOS you are in the bedroom  EOS SOS in one part of the room you see a dressing table that has nothing on it  EOS SOS there is also a desk chair that has nothing on it  EOS SOS you also see a desk that has nothing on it  EOS SOS in another part of the room you see a chest of drawers that is closed  EOS SOS in one part of the room you see a wardrobe that is closed  EOS SOS there is also a night stand that has nothing on it  EOS SOS you also see a bed that has nothing on it  EOS SOS to the south you see a closed wood door  EOS SOS to the east you see a closed wood door  EOS SOS inventory maximum capacity is 2 items    your inventory is currently empty  EOS SOS you are in the driveway  EOS SOS to the west you see the backyard  EOS SOS inventory maximum capacity is 2 items    your inventory is currently empty  EOS SOS you are in the street  EOS SOS to the north you see the backyard  EOS SOS inventory maximum capacity is 2 items    your inventory is currently empty  EOS SOS you are in the backyard  EOS SOS in one part of the room you see a barbeque  EOS SOS there is also a workbench that has nothing on it  EOS SOS you also see a patio chair that has nothing on it  EOS SOS in another part of the room you see a patio table that has nothing on it  EOS SOS in one part of the room you see a clothes line that has nothing on it  EOS SOS there is also a garden that has nothing on it  EOS SOS through an open screen door to the north you see the living room  EOS SOS to the south you see the street  EOS SOS to the east you see the driveway  EOS SOS to the west you see a closed sliding patio door  EOS SOS inventory maximum capacity is 2 items    your inventory is currently empty  EOS SOS you are in the living room  EOS SOS in one part of the room you see a wastepaper basket that is closed  EOS SOS there is also a book case that has nothing on it  EOS SOS you also see a tv stand that has nothing on it  EOS SOS in another part of the room you see a arm chair that has nothing on it  EOS SOS in one part of the room you see a side table that has nothing on it  EOS SOS there is also a coffee table that has nothing on it  EOS SOS you also see a end table that has nothing on it  EOS SOS in another part of the room you see a sofa that has nothing on it  EOS SOS through an open screen door to the south you see the backyard  EOS SOS to the west you see a closed wood door  EOS SOS inventory maximum capacity is 2 items    your inventory is currently empty  EOS SOS you are in the corridor  EOS SOS in one part of the room you see a key holder that has nothing on it  EOS SOS there is also a shoe cabinet that is closed  EOS SOS you also see a umbrella stand that has nothing on it  EOS SOS in another part of the room you see a hat rack that has nothing on it  EOS SOS in one part of the room you see a coat hanger that has nothing on it  EOS SOS to the north you see a closed wood door  EOS SOS to the south you see a closed wood door  EOS SOS through an open sliding patio door to the east you see the backyard  EOS SOS to the west you see the kitchen  EOS SOS inventory maximum capacity is 2 items    your inventory is currently empty  EOS SOS you are in the driveway  EOS SOS to the west you see the backyard  EOS SOS inventory maximum capacity is 2 items    your inventory is currently empty  EOS SOS you are in the street  EOS SOS to the north you see the backyard  EOS SOS inventory maximum capacity is 2 items    your inventory is currently empty  EOS SOS you are in the corridor  EOS SOS in one part of the room you see a key holder that has nothing on it  EOS SOS there is also a shoe cabinet that is closed  EOS SOS you also see a umbrella stand that has nothing on it  EOS SOS in another part of the room you see a hat rack that has nothing on it  EOS SOS in one part of the room you see a coat hanger that has nothing on it  EOS SOS to the north you see a closed wood door  EOS SOS to the south you see a closed wood door  EOS SOS to the east you see a closed sliding patio door  EOS SOS to the west you see the kitchen  EOS SOS inventory maximum capacity is 2 items    your inventory is currently empty  EOS SOS you are in the kitchen  EOS SOS in one part of the room you see a stove  EOS SOS there is also an oven  EOS SOS you also see a fridge that is closed  EOS SOS in another part of the room you see a counter that has nothing on it  EOS SOS in one part of the room you see a kitchen cupboard that is closed  EOS SOS there is also a cutlery drawer that is closed  EOS SOS you also see a trash can that is closed  EOS SOS in another part of the room you see a dishwasher that is closed  EOS SOS in one part of the room you see a dining chair that has nothing on it  EOS SOS to the north you see a closed wood door  EOS SOS to the south you see a closed plain door  EOS SOS to the east you see the corridor  EOS SOS inventory maximum capacity is 2 items    your inventory is currently empty  EOS SOS you are in the corridor  EOS SOS in one part of the room you see a key holder that has nothing on it  EOS SOS there is also a shoe cabinet that is closed  EOS SOS you also see a umbrella stand that has nothing on it  EOS SOS in another part of the room you see a hat rack that has nothing on it  EOS SOS in one part of the room you see a coat hanger that has nothing on it  EOS SOS to the north you see a closed wood door  EOS SOS through an open wood door to the south you see the bathroom  EOS SOS through an open sliding patio door to the east you see the backyard  EOS SOS to the west you see the kitchen  EOS SOS inventory maximum capacity is 2 items    your inventory is currently empty  EOS SOS you are in the backyard  EOS SOS in one part of the room you see a barbeque  EOS SOS there is also a workbench that has nothing on it  EOS SOS you also see a patio chair that has nothing on it  EOS SOS in another part of the room you see a patio table that has nothing on it  EOS SOS in one part of the room you see a clothes line that has nothing on it  EOS SOS there is also a garden that has nothing on it  EOS SOS to the north you see a closed screen door  EOS SOS to the south you see the street  EOS SOS to the east you see the driveway  EOS SOS to the west you see a closed sliding patio door  EOS SOS inventory maximum capacity is 2 items    your inventory is currently empty  EOS SOS you are in the driveway  EOS SOS to the west you see the backyard  EOS SOS inventory maximum capacity is 2 items    your inventory is currently empty  EOS SOS you are in the street  EOS SOS to the north you see the backyard  EOS SOS inventory maximum capacity is 2 items    your inventory is currently empty  EOS SOS you are in the backyard  EOS SOS in one part of the room you see a barbeque  EOS SOS there is also a workbench that has nothing on it  EOS SOS you also see a patio chair that has nothing on it  EOS SOS in another part of the room you see a patio table that has nothing on it  EOS SOS in one part of the room you see a clothes line that has nothing on it  EOS SOS there is also a garden that has nothing on it  EOS SOS through an open screen door to the north you see the living room  EOS SOS to the south you see the street  EOS SOS to the east you see the driveway  EOS SOS through an open sliding patio door to the west you see the corridor  EOS SOS inventory maximum capacity is 2 items    your inventory is currently empty  EOS SOS you are in the bathroom  EOS SOS in one part of the room you see a dressing table that has nothing on it  EOS SOS there is also a sink that has nothing on it  EOS SOS you also see a wall hook that has nothing on it  EOS SOS in another part of the room you see a bath mat  EOS SOS in one part of the room you see a toilet roll holder that has nothing on it  EOS SOS there is also a towel rack that has nothing on it  EOS SOS you also see a bath tub that has nothing on it  EOS SOS in another part of the room you see a shower that has nothing on it  EOS SOS in one part of the room you see a trash can that is closed  EOS SOS there is also a bathroom cabinet that is closed  EOS SOS you also see a toilet  EOS SOS in another part of the room you see a coin  EOS SOS to the north you see a closed wood door  EOS SOS inventory maximum capacity is 2 items    your inventory is currently empty  EOS SOS you are in the corridor  EOS SOS in one part of the room you see a key holder that has nothing on it  EOS SOS there is also a shoe cabinet that is closed  EOS SOS you also see a umbrella stand that has nothing on it  EOS SOS in another part of the room you see a hat rack that has nothing on it  EOS SOS in one part of the room you see a coat hanger that has nothing on it  EOS SOS to the north you see a closed wood door  EOS SOS through an open wood door to the south you see the bathroom  EOS SOS through an open sliding patio door to the east you see the backyard  EOS SOS to the west you see the kitchen  EOS SOS inventory maximum capacity is 2 items    your inventory is currently empty  EOS SOS you are in the bathroom  EOS SOS in one part of the room you see a dressing table that has nothing on it  EOS SOS there is also a sink that has nothing on it  EOS SOS you also see a wall hook that has nothing on it  EOS SOS in another part of the room you see a bath mat  EOS SOS in one part of the room you see a toilet roll holder that has nothing on it  EOS SOS there is also a towel rack that has nothing on it  EOS SOS you also see a bath tub that has nothing on it  EOS SOS in another part of the room you see a shower that has nothing on it  EOS SOS in one part of the room you see a trash can that is closed  EOS SOS there is also a bathroom cabinet that is closed  EOS SOS you also see a toilet  EOS SOS through an open wood door to the north you see the corridor  EOS SOS inventory maximum capacity is 2 items    a coin you are in the kitchen  EOS SOS in one part of the room you see a stove  EOS SOS there is also an oven  EOS SOS you also see a fridge that is closed  EOS SOS in another part of the room you see a counter that has nothing on it  EOS SOS in one part of the room you see a kitchen cupboard that is closed  EOS SOS there is also a cutlery drawer that is closed  EOS SOS you also see a trash can that is closed  EOS SOS in another part of the room you see a dishwasher that is closed  EOS SOS in one part of the room you see a dining chair that has nothing on it  EOS SOS to the north you see a closed wood door  EOS SOS to the south you see a closed plain door  EOS SOS to the east you see the corridor  EOS SOS inventory maximum capacity is 2 items    your inventory is currently empty  EOS SOS you are in the corridor  EOS SOS in one part of the room you see a key holder that has nothing on it  EOS SOS there is also a shoe cabinet that is closed  EOS SOS you also see a umbrella stand that has nothing on it  EOS SOS in another part of the room you see a hat rack that has nothing on it  EOS SOS in one part of the room you see a coat hanger that has nothing on it  EOS SOS to the north you see a closed wood door  EOS SOS to the south you see a closed wood door  EOS SOS to the east you see a closed sliding patio door  EOS SOS to the west you see the kitchen  EOS SOS inventory maximum capacity is 2 items    your inventory is currently empty  EOS SOS you are in the bathroom  EOS SOS in one part of the room you see a dressing table that has nothing on it  EOS SOS there is also a sink that has nothing on it  EOS SOS you also see a wall hook that has nothing on it  EOS SOS in another part of the room you see a bath mat  EOS SOS in one part of the room you see a toilet roll holder that has nothing on it  EOS SOS there is also a towel rack that has nothing on it  EOS SOS you also see a bath tub that has nothing on it  EOS SOS in another part of the room you see a shower that has nothing on it  EOS SOS in one part of the room you see a trash can that is closed  EOS SOS there is also a bathroom cabinet that is closed  EOS SOS you also see a toilet  EOS SOS to the north you see a closed wood door  EOS SOS inventory maximum capacity is 2 items    a coin you are in the corridor  EOS SOS in one part of the room you see a key holder that has nothing on it  EOS SOS there is also a shoe cabinet that is closed  EOS SOS you also see a umbrella stand that has nothing on it  EOS SOS in another part of the room you see a hat rack that has nothing on it  EOS SOS in one part of the room you see a coat hanger that has nothing on it  EOS SOS to the north you see a closed wood door  EOS SOS through an open wood door to the south you see the bathroom  EOS SOS to the east you see a closed sliding patio door  EOS SOS to the west you see the kitchen  EOS SOS inventory maximum capacity is 2 items    a coin you are in the pantry  EOS SOS in one part of the room you see a folding chair that has nothing on it  EOS SOS there is also a shelf that has nothing on it  EOS SOS through an open plain door to the north you see the kitchen  EOS SOS inventory maximum capacity is 2 items    your inventory is currently empty  EOS\n"
     ]
    }
   ],
   "source": [
    "with open(\"observations.txt\", \"r\") as f:\n",
    "    observations = f.read()\n",
    "\n",
    "observations = normalize_string(insert_eos_sos(observations))\n",
    "print(observations)"
   ]
  },
  {
   "cell_type": "code",
   "execution_count": 268,
   "metadata": {
    "colab": {
     "base_uri": "https://localhost:8080/"
    },
    "id": "nY_pu5li3Uto",
    "outputId": "3d97edaa-c762-4959-d1dd-22b92bc265a1"
   },
   "outputs": [
    {
     "name": "stdout",
     "output_type": "stream",
     "text": [
      "vocab size: 117\n"
     ]
    }
   ],
   "source": [
    "VOCAB = make_vocab([observations], \"observations\")\n",
    "print(\"vocab size:\", VOCAB.num_words())"
   ]
  },
  {
   "cell_type": "markdown",
   "metadata": {
    "id": "vb6wpzxnB8Na"
   },
   "source": [
    "Map a word to a token"
   ]
  },
  {
   "cell_type": "code",
   "execution_count": 269,
   "metadata": {
    "colab": {
     "base_uri": "https://localhost:8080/"
    },
    "id": "Iu3zzY7XBlm8",
    "outputId": "0a650603-5fd1-4c6d-e0a2-e1f4ba232d3f"
   },
   "outputs": [
    {
     "data": {
      "text/plain": [
       "6"
      ]
     },
     "execution_count": 269,
     "metadata": {},
     "output_type": "execute_result"
    }
   ],
   "source": [
    "VOCAB.word2token(\"kitchen\")"
   ]
  },
  {
   "cell_type": "markdown",
   "metadata": {
    "id": "raQTcpogB-TI"
   },
   "source": [
    "Map a token to a word"
   ]
  },
  {
   "cell_type": "code",
   "execution_count": 270,
   "metadata": {
    "colab": {
     "base_uri": "https://localhost:8080/",
     "height": 36
    },
    "id": "ayD34uopCAdi",
    "outputId": "a5610abe-08ba-4c74-81de-0d7708804f5c"
   },
   "outputs": [
    {
     "data": {
      "text/plain": [
       "'east'"
      ]
     },
     "execution_count": 270,
     "metadata": {},
     "output_type": "execute_result"
    }
   ],
   "source": [
    "VOCAB.token2word(42)"
   ]
  },
  {
   "cell_type": "markdown",
   "metadata": {
    "id": "WzE5UGYW9vu4"
   },
   "source": [
    "# Probabilistic Language Modeling **(TO-DO)**"
   ]
  },
  {
   "cell_type": "markdown",
   "metadata": {
    "id": "Y2-7EYQLiopK"
   },
   "source": [
    "## **Hints:**\n",
    "\n",
    "*   Use `Vocab.word2token` to get a unique token for each word (or SOS_token/EOS_token)\n",
    "*   Use `Vocab.token2word` to get the word associated with that paritcular token value\n",
    "*   Do **not** use `Vocab.word2count`!\n",
    "*   N-grams should represent the probability P(word_n | word_n-1, word_n-2, ...) for all combinations of words/tokens, so make sure these probabilities make sense (normalize!)"
   ]
  },
  {
   "cell_type": "markdown",
   "metadata": {
    "id": "d9VQJnkBhngw"
   },
   "source": [
    "## NumPy\n",
    "\n",
    "Because we will be using numpy matrices for this assignment, you may want to check out the [numpy package documentation](https://numpy.org/doc/stable/). API functions that will be particularly useful are:\n",
    "- Creating an empty matrix: `np.zeros(shape)` will create a matrix of shape `shape=(size_of_dim_0, size_of_dim_1, ...)` willed entirely with zeros. For example `np.zeros((2, 3))` will create a $2\\times 3$ matrix of zeros.\n",
    "- Getting the size of a matrix: `some_matrix.shape` is the shape of a numpy matrix as a tuple where each element is the size of each dimension.\n",
    "- Getting an element at a given position can be retrieved using `some_matrix[index1, index2, ...]` or `some_matrix[index1][index2]...`.\n",
    "- Setting: `some_matrix[index1, index2] = some_value` will set an individual element in a matrix at the given indices. This can also be also be done as `some_matrix[index1][index2]... = some_value`.\n",
    "- Slicing: sub-matrices can be extracted by giving spans of indices, similar to how python lists work, but with multiple dimensions. For example `some_matrix[5:10,5:10]` will construct a $5\\times 5$ square matrix that has elements from the original matrix in positions between $(5,5)$ through $(9,9)$\n",
    "- Summing: `some_matrix.sum()` adds all the elements of a matrix together. Numpy matrices have a number of built-in mathematical functions like this.\n",
    "- Mathematical operations: all the normal mathematica operations work as expected in linear algebra. `+` adds element-wise, `*` multiplies element-wise, etc. Matrix shapes must match.\n",
    "- Type casting: `some_matrix.astype(type)` converts every element in the matrix to a particular type, e.g. `some_matrix.astype(int)`."
   ]
  },
  {
   "cell_type": "markdown",
   "metadata": {
    "id": "pfDu7IgVS62W"
   },
   "source": [
    "## Unigram Language Model **(TO-DO)**\n",
    "\n",
    "Complete the `make_unigram_model()` function. It takes a text `text` which is a string of text data (normalized to be easy to work with). It also takes in a `Vocab` object. The function should return a 1D NumPy matrix with the probability of seeing a word as the value based on the word's token index from the vocab."
   ]
  },
  {
   "cell_type": "code",
   "execution_count": 271,
   "metadata": {
    "id": "nxmXxbSLS-vR"
   },
   "outputs": [],
   "source": [
    "# export - DO NOT MODIFY OR MOVE THIS LINE\n",
    "def make_unigram_model(text: str, vocab: Vocab) -> np.ndarray:\n",
    "    probabilities = np.zeros([vocab.num_words()])\n",
    "    ### YOUR CODE BELOW HERE\n",
    "    words = text.split()\n",
    "    for i in range(len(words)):\n",
    "        probabilities[vocab.word2token(words[i])] += 1\n",
    "    probabilities/=len(words)\n",
    "    ### YOUR CODE ABOVE HERE\n",
    "    return probabilities"
   ]
  },
  {
   "cell_type": "markdown",
   "metadata": {
    "id": "1Rgjid8khv2R"
   },
   "source": [
    "Make the unigram model"
   ]
  },
  {
   "cell_type": "code",
   "execution_count": 272,
   "metadata": {
    "id": "XQivw5uPTWyI"
   },
   "outputs": [],
   "source": [
    "with open(\"observations.txt\", \"r\") as f:\n",
    "    observations = f.read()\n",
    "\n",
    "observations = normalize_string(insert_eos_sos(observations))\n",
    "VOCAB = make_vocab([observations], \"observations\")\n",
    "unigram_lm = make_unigram_model(observations, VOCAB)"
   ]
  },
  {
   "cell_type": "markdown",
   "metadata": {
    "id": "Y7iQwYIlhz_r"
   },
   "source": [
    "The following should be a high-probability word (note: this doesn't mean that the raw probability will be high, but that it will be higher than other, lower-probability words)"
   ]
  },
  {
   "cell_type": "code",
   "execution_count": 273,
   "metadata": {
    "colab": {
     "base_uri": "https://localhost:8080/"
    },
    "id": "McZ9sXYBTsAs",
    "outputId": "21d5af16-8c5b-421b-8529-a123169c8882"
   },
   "outputs": [
    {
     "data": {
      "text/plain": [
       "np.float64(0.005304760231863693)"
      ]
     },
     "execution_count": 273,
     "metadata": {},
     "output_type": "execute_result"
    }
   ],
   "source": [
    "unigram_lm[VOCAB.word2token(\"kitchen\")]"
   ]
  },
  {
   "cell_type": "markdown",
   "metadata": {},
   "source": [
    "### Test Unigram Model"
   ]
  },
  {
   "cell_type": "code",
   "execution_count": 274,
   "metadata": {},
   "outputs": [
    {
     "name": "stdout",
     "output_type": "stream",
     "text": [
      "Beginning sonnet tests\n",
      " - Passed check:  EOS\n",
      " - Passed check:  SOS\n",
      " - Passed check:  thou\n",
      " - Passed check:  beauty\n",
      "Passed sonnet tests!\n",
      "Beginning observation tests\n",
      " - Passed check:  EOS\n",
      " - Passed check:  SOS\n",
      " - Passed check:  you\n",
      " - Passed check:  kitchen\n",
      "Passed observation tests!\n",
      "All tests passed!\n"
     ]
    }
   ],
   "source": [
    "from tests import test_unigram_probabilities\n",
    "\n",
    "test_unigram_probabilities(build_unigram_function=make_unigram_model)"
   ]
  },
  {
   "cell_type": "markdown",
   "metadata": {
    "id": "H-mPmsFubKjz"
   },
   "source": [
    "## Bigram Language Model **(TO-DO)**"
   ]
  },
  {
   "cell_type": "markdown",
   "metadata": {
    "id": "A18_UN5BDjg2"
   },
   "source": [
    "Complete the `make_bigram_model()` function. It takes a text `text` which is a string of text data (normalized to be easy to work with). It also takes in a `Vocab` object. The function should return a 2D numpy matrix where each element is the probability of token of the corresponding index in dimension 0 is followed by the token of the corresponding index in dimension 1.\n"
   ]
  },
  {
   "cell_type": "code",
   "execution_count": 275,
   "metadata": {
    "id": "RoJ2Kx-LDRdv"
   },
   "outputs": [],
   "source": [
    "# export - DO NOT MODIFY OR MOVE THIS LINE\n",
    "def make_bigram_model(text: str, vocab: Vocab) -> np.ndarray:\n",
    "    probabilities = np.zeros([vocab.num_words()] * 2)\n",
    "    ### YOUR CODE BELOW HERE\n",
    "    def defaultdict_func():\n",
    "        return defaultdict(int)\n",
    "    bigrams = defaultdict(defaultdict_func)\n",
    "    toks = [vocab.word2token(word) for word in text.split()]\n",
    "    for i in range(len(toks) - 1):\n",
    "        bigrams[toks[i]][toks[i + 1]] += 1\n",
    "    for bc in bigrams:\n",
    "        tot = sum(bigrams[bc].values())\n",
    "        for c in bigrams[bc]:\n",
    "            probabilities[bc, c] = bigrams[bc][c] / tot\n",
    "    ### YOUR CODE ABOVE HERE\n",
    "    return probabilities"
   ]
  },
  {
   "cell_type": "markdown",
   "metadata": {
    "id": "d4etrIftMirG"
   },
   "source": [
    "Make the bigram model"
   ]
  },
  {
   "cell_type": "code",
   "execution_count": 276,
   "metadata": {
    "id": "SvlGW7hXG7Av"
   },
   "outputs": [],
   "source": [
    "with open(\"observations.txt\", \"r\") as f:\n",
    "    observations = f.read()\n",
    "\n",
    "observations = normalize_string(insert_eos_sos(observations))\n",
    "VOCAB = make_vocab([observations], \"observations\")\n",
    "bigram_lm = make_bigram_model(observations, VOCAB)"
   ]
  },
  {
   "cell_type": "markdown",
   "metadata": {
    "id": "ZpNtzaHKY4TJ"
   },
   "source": [
    "The following should be a high-probability transition (note: this doesn't mean that the raw probability will be high, but that it will be higher than other, lower-probability transitions)"
   ]
  },
  {
   "cell_type": "code",
   "execution_count": 277,
   "metadata": {
    "colab": {
     "base_uri": "https://localhost:8080/"
    },
    "id": "Xg1Bz8GDLqUH",
    "outputId": "67f5cdc7-d25a-48eb-d4db-74a8dc028f82"
   },
   "outputs": [
    {
     "data": {
      "text/plain": [
       "np.float64(0.7187864644107351)"
      ]
     },
     "execution_count": 277,
     "metadata": {},
     "output_type": "execute_result"
    }
   ],
   "source": [
    "bigram_lm[VOCAB.word2token(\"you\"), VOCAB.word2token(\"see\")]"
   ]
  },
  {
   "cell_type": "markdown",
   "metadata": {
    "id": "_QkkUzzqZuTi"
   },
   "source": [
    "The following should be a lower-probability transition."
   ]
  },
  {
   "cell_type": "code",
   "execution_count": 278,
   "metadata": {
    "colab": {
     "base_uri": "https://localhost:8080/"
    },
    "id": "8kAA1WgTZNxG",
    "outputId": "d3b7f99f-9fba-4cf3-ed34-f2df59511db4"
   },
   "outputs": [
    {
     "data": {
      "text/plain": [
       "np.float64(0.01577503429355281)"
      ]
     },
     "execution_count": 278,
     "metadata": {},
     "output_type": "execute_result"
    }
   ],
   "source": [
    "bigram_lm[VOCAB.word2token(\"a\"), VOCAB.word2token(\"coin\")]"
   ]
  },
  {
   "cell_type": "markdown",
   "metadata": {},
   "source": [
    "### Test Bigram Model"
   ]
  },
  {
   "cell_type": "code",
   "execution_count": 279,
   "metadata": {},
   "outputs": [
    {
     "name": "stdout",
     "output_type": "stream",
     "text": [
      "Beginning sonnet tests\n",
      " - Passed check:  SOS betwixt\n",
      " - Passed check:  SOS but\n",
      " - Passed check:  me EOS\n",
      " - Passed check:  friend EOS\n",
      " - Passed check:  thou art\n",
      " - Passed check:  my joy\n",
      "Passed sonnet tests!\n",
      "Beginning observations tests\n",
      " - Passed check:  SOS there\n",
      " - Passed check:  SOS you\n",
      " - Passed check:  closed EOS\n",
      " - Passed check:  coin EOS\n",
      " - Passed check:  you see\n",
      " - Passed check:  a sofa\n",
      "Passed observations tests!\n",
      "All tests passed!\n"
     ]
    }
   ],
   "source": [
    "from tests import test_bigram_probabilities\n",
    "\n",
    "test_bigram_probabilities(build_bigram_function=make_bigram_model)"
   ]
  },
  {
   "cell_type": "markdown",
   "metadata": {
    "id": "HxyUbHXLbOI-"
   },
   "source": [
    "## Trigram Language Model **(TO-DO)**"
   ]
  },
  {
   "cell_type": "markdown",
   "metadata": {
    "id": "rZSUugPlMobU"
   },
   "source": [
    "Complete the `make_trigram_model()` function. It takes a text `text` which is a string of sentences. It also takes in a `Vocab` object. The function should return a 3D numpy matrix where each element is the probability of token of the corresponding index in dimension 0 is followed by the token of the corresponding index in dimension 1 then the token of the corresponding index in dimension 2.\n"
   ]
  },
  {
   "cell_type": "code",
   "execution_count": 280,
   "metadata": {
    "id": "rmXSRx1ACxCc"
   },
   "outputs": [],
   "source": [
    "# export - DO NOT MODIFY OR MOVE THIS LINE\n",
    "def make_trigram_model(text: str, vocab: Vocab) -> np.ndarray:\n",
    "    probabilities = np.zeros([vocab.num_words()] * 3)\n",
    "    ### YOUR CODE BELOW HERE\n",
    "    def defaultdict_funcThird():\n",
    "        return defaultdict(int)\n",
    "    def defaultdict_funcSecond():\n",
    "        return defaultdict(defaultdict_funcThird)\n",
    "    def defaultdict_funcFirst():\n",
    "        return defaultdict(defaultdict_funcSecond)\n",
    "    trigrams = defaultdict_funcFirst()\n",
    "    toks = [vocab.word2token(word) for word in text.split()]\n",
    "    for i in range(len(toks) - 2):\n",
    "        trigrams[toks[i]][toks[i + 1]][toks[i + 2]] += 1\n",
    "    for fc in trigrams:\n",
    "        for sc in trigrams[fc]:\n",
    "            tot = sum(trigrams[fc][sc].values())\n",
    "            for tc in trigrams[fc][sc]:\n",
    "                probabilities[fc, sc, tc] = trigrams[fc][sc][tc] / tot\n",
    "    ### YOUR CODE ABOVE HERE\n",
    "    return probabilities"
   ]
  },
  {
   "cell_type": "code",
   "execution_count": 281,
   "metadata": {
    "id": "Ja8mDeliGO3W"
   },
   "outputs": [],
   "source": [
    "with open(\"observations.txt\", \"r\") as f:\n",
    "    observations = f.read()\n",
    "\n",
    "observations = normalize_string(insert_eos_sos(observations))\n",
    "VOCAB = make_vocab([observations], \"observations\")\n",
    "trigram_lm = make_trigram_model(observations, VOCAB)"
   ]
  },
  {
   "cell_type": "code",
   "execution_count": 282,
   "metadata": {
    "colab": {
     "base_uri": "https://localhost:8080/"
    },
    "id": "r64oiTrN5tk0",
    "outputId": "4aa48c20-9c5e-4bd2-ae53-c332273325cc"
   },
   "outputs": [
    {
     "data": {
      "text/plain": [
       "np.float64(0.7248376623376623)"
      ]
     },
     "execution_count": 282,
     "metadata": {},
     "output_type": "execute_result"
    }
   ],
   "source": [
    "trigram_lm[VOCAB.word2token(\"you\"), VOCAB.word2token(\"see\"), VOCAB.word2token(\"a\")]"
   ]
  },
  {
   "cell_type": "markdown",
   "metadata": {},
   "source": [
    "### Test Trigam Model"
   ]
  },
  {
   "cell_type": "code",
   "execution_count": 283,
   "metadata": {},
   "outputs": [
    {
     "name": "stdout",
     "output_type": "stream",
     "text": [
      "Beginning sonnet tests\n",
      " - Passed check:  SOS thou art\n",
      " - Passed check:  SOS how heavy\n",
      " - Passed check:  so dear EOS\n",
      " - Passed check:  of me EOS\n",
      " - Passed check:  thou wilt be\n",
      " - Passed check:  my love thou\n",
      "Passed sonnet tests!\n",
      "Beginning observations tests\n",
      " - Passed check:  SOS there is\n",
      " - Passed check:  SOS in one\n",
      " - Passed check:  screen door EOS\n",
      " - Passed check:  is closed EOS\n",
      " - Passed check:  you see a\n",
      " - Passed check:  see a sofa\n",
      "Passed observations tests!\n",
      "All tests passed!\n"
     ]
    }
   ],
   "source": [
    "from tests import test_trigram_probabilities\n",
    "\n",
    "test_trigram_probabilities(build_trigram_function=make_trigram_model)"
   ]
  },
  {
   "cell_type": "markdown",
   "metadata": {
    "id": "2MB_9m39T6j8"
   },
   "source": [
    "# Text Generation **(TO-DO)**"
   ]
  },
  {
   "cell_type": "markdown",
   "metadata": {
    "id": "xAgK1tEvUlXD"
   },
   "source": [
    "### Unigram Generation"
   ]
  },
  {
   "cell_type": "markdown",
   "metadata": {
    "id": "WjWv6KXGRzcx"
   },
   "source": [
    "Complete the following function to generate text from a unigram language model.\n",
    "`generate_from_unigram()` will take the following parameters:\n",
    "- `first_token`: the token that will appear first in the generated text (e.g., `SOS_token`).\n",
    "- `probabilities`: a unigram model, a numpy 1D array of probability values for each token.\n",
    "- `vocab`: a Vocab object.\n",
    "- `max_length`: the maximum number of words to generate.\n",
    "\n",
    "The function should generate words until either `max_length` words is reached or until an `EOS_token` is generated.\n",
    "\n",
    "The return value will be a list of words where the first word is always the first word that corresponds to `first_token`."
   ]
  },
  {
   "cell_type": "code",
   "execution_count": 284,
   "metadata": {
    "id": "z6fg460ST9YJ"
   },
   "outputs": [],
   "source": [
    "# export - DO NOT MODIFY OR MOVE THIS LINE\n",
    "def generate_from_unigram(\n",
    "    first_token: int, probabilities: np.ndarray, vocab: Vocab, max_length: int\n",
    ") -> list:\n",
    "    # An empty list of words to populate\n",
    "    words = [vocab.token2word(first_token)]\n",
    "    ### YOUR CODE BELOW HERE\n",
    "    if max_length <= 0:\n",
    "        return words\n",
    "    for i in range(max_length - 2):\n",
    "        probCopy = probabilities.copy()\n",
    "        probCopy[SOS_token] = 0.0\n",
    "        tok = random.choices(\n",
    "            range(len(probCopy)), weights=probCopy\n",
    "        )[0]\n",
    "        words.append(\n",
    "            vocab.token2word(tok)\n",
    "        )\n",
    "        if tok == EOS_token:\n",
    "            return words\n",
    "    words.append(vocab.token2word(EOS_token))\n",
    "    ### YOUR CODE ABOVE HERE\n",
    "    return words"
   ]
  },
  {
   "cell_type": "code",
   "execution_count": 285,
   "metadata": {
    "colab": {
     "base_uri": "https://localhost:8080/",
     "height": 36
    },
    "id": "bl3foFF5Uv9s",
    "outputId": "8cc50b45-c248-466c-ae2a-610c9800f0fb"
   },
   "outputs": [
    {
     "data": {
      "text/plain": [
       "'SOS has EOS'"
      ]
     },
     "execution_count": 285,
     "metadata": {},
     "output_type": "execute_result"
    }
   ],
   "source": [
    "\" \".join(generate_from_unigram(SOS_token, unigram_lm, VOCAB, max_length=128))"
   ]
  },
  {
   "cell_type": "code",
   "execution_count": 286,
   "metadata": {},
   "outputs": [
    {
     "name": "stdout",
     "output_type": "stream",
     "text": [
      "['SOS', 'to', 'eternal', 'me', 'break', 'in', 'thee', 'when', 'to', 'remembrance', 'when', 'the', 'i', 'death', 'to', 'sweets', 'heart', 'EOS']\n",
      "['SOS', 'answer', 'EOS']\n",
      "All tests passed!\n"
     ]
    }
   ],
   "source": [
    "from tests import test_generate_from_unigram\n",
    "\n",
    "test_generate_from_unigram(\n",
    "    generate_from_unigram_function=generate_from_unigram,\n",
    "    build_unigram_function=make_unigram_model,\n",
    ")"
   ]
  },
  {
   "cell_type": "markdown",
   "metadata": {
    "id": "L3oNiN9YUonZ"
   },
   "source": [
    "### Bigram Generation"
   ]
  },
  {
   "cell_type": "markdown",
   "metadata": {
    "id": "uY7jbNb2bbsu"
   },
   "source": [
    "Complete the following function to generate text from a unigram language model.\n",
    "`generate_from_bigram()` will take the following parameters:\n",
    "- `first_token`: the token that will appear first in the generated text (e.g., `SOS_token`).\n",
    "- `probabilities`: a bigram model, a numpy 2D array of probability values where `probabilities[i][j]` indicates the probability of token `i` followed by token `j`.\n",
    "- `vocab`: a Vocab object.\n",
    "- `max_length`: the maximum number of words to generate.\n",
    "\n",
    "The function should generate words until either `max_length` words is reached or until an `EOS_token` is generated.\n",
    "\n",
    "The return value will be a list of words where the first word is always the first word that corresponds to `first_token`.\n",
    "\n",
    "To implement this function, start by sampling a word based on the probability of occurring after `first_token`. Then continue to sample tokens based on their probability of occurring after each subsequently generated token. Terminate when `EOS_token` is generated or when the maximum length of tokens is generated. Convert each token into a word.\n",
    "\n",
    "You might find the [Numpy random sampling functions](https://numpy.org/doc/stable/reference/random/index.html) helpful."
   ]
  },
  {
   "cell_type": "code",
   "execution_count": 287,
   "metadata": {
    "id": "eSKZ3cadP6Nm"
   },
   "outputs": [],
   "source": [
    "# export - DO NOT MODIFY OR MOVE THIS LINE\n",
    "def generate_from_bigram(\n",
    "    first_token: int, probabilities: np.ndarray, vocab: Vocab, max_length: int\n",
    ") -> list:\n",
    "    # An empty list of words to populate\n",
    "    words = [vocab.token2word(first_token)]\n",
    "    ### YOUR CODE BELOW HERE\n",
    "    if max_length <= 0:\n",
    "        return words\n",
    "    tok = first_token\n",
    "    for i in range(max_length - 2):\n",
    "       p = probabilities[tok]\n",
    "       if p.sum() == 0:\n",
    "           break\n",
    "       tok2 = random.choices(\n",
    "            range(len(p)), weights=p)[0]\n",
    "       words.append(vocab.token2word(tok2))\n",
    "       if tok2 == EOS_token:\n",
    "        return words\n",
    "       tok = tok2\n",
    "    words.append(vocab.token2word(EOS_token))\n",
    "        \n",
    "    ### YOUR CODE ABOVE HERE\n",
    "    return words"
   ]
  },
  {
   "cell_type": "markdown",
   "metadata": {
    "id": "UcyiD1WnW-yd"
   },
   "source": [
    "Generate from the bigram model."
   ]
  },
  {
   "cell_type": "code",
   "execution_count": 288,
   "metadata": {
    "colab": {
     "base_uri": "https://localhost:8080/",
     "height": 36
    },
    "id": "bJzupYocVOEJ",
    "outputId": "fe3fd1b5-564d-412b-fa14-36befed83904"
   },
   "outputs": [
    {
     "data": {
      "text/plain": [
       "'SOS to the room you also see the room you see a desk chair that has nothing on it EOS'"
      ]
     },
     "execution_count": 288,
     "metadata": {},
     "output_type": "execute_result"
    }
   ],
   "source": [
    "\" \".join(generate_from_bigram(SOS_token, bigram_lm, VOCAB, max_length=128))"
   ]
  },
  {
   "cell_type": "code",
   "execution_count": 289,
   "metadata": {},
   "outputs": [
    {
     "name": "stdout",
     "output_type": "stream",
     "text": [
      "['SOS', 'weary', 'with', 'my', 'love', 'and', 'make', 'the', 'strong', 'offences', 'cross', 'EOS']\n",
      "['SOS', 'but', 'EOS']\n",
      "All tests passed!\n"
     ]
    }
   ],
   "source": [
    "from tests import test_generate_from_bigram\n",
    "\n",
    "test_generate_from_bigram(\n",
    "    generate_from_bigram_function=generate_from_bigram,\n",
    "    build_bigram_function=make_bigram_model,\n",
    ")"
   ]
  },
  {
   "cell_type": "markdown",
   "metadata": {
    "id": "JZbYPZQGUrfz"
   },
   "source": [
    "### Trigram Generation"
   ]
  },
  {
   "cell_type": "markdown",
   "metadata": {
    "id": "KU8aO7_0cSAg"
   },
   "source": [
    "Complete the following function to generate text from a unigram language model.\n",
    "`generate_from_bigram()` will take the following parameters:\n",
    "- `first_token`: the token that will appear first in the generated text (e.g., `SOS_token`).\n",
    "- `probabilities`: a trigram model, a numpy 3D array of probability values where `probabilities[i][j][k]` indicates the probability of token `i` followed by token `j` followed by token `k`.\n",
    "- `vocab`: a Vocab object.\n",
    "- `max_length`: the maximum number of words to generate.\n",
    "\n",
    "The function should generate words until either `max_length` words is reached or until an `EOS_token` is generated.\n",
    "\n",
    "The return value will be a list of words where the first word is always the first word that corresponds to `first_token`.\n",
    "\n",
    "To implement this function, start by sampling a word based on the probability of occurring after `first_token`. To do this you will need to figure out how to make the trigram model operate like a bigram model. Once you have a sequence of two tokens, you can proceed by sampling a next token based on its probability of occurring after the token at position $n-2$ and token at position $n-1$. If the probability vector for the current sequence of two tokens is 0, you should select the next token randomly. Terminate when `EOS_token` is generated or when the maximum length of tokens is generated. Convert each token into a word.\n",
    "\n",
    "You might find the [Numpy random sampling functions](https://numpy.org/doc/stable/reference/random/index.html) helpful."
   ]
  },
  {
   "cell_type": "code",
   "execution_count": 290,
   "metadata": {
    "id": "zzxoU6OVM_XM"
   },
   "outputs": [],
   "source": [
    "# export - DO NOT MODIFY OR MOVE THIS LINE\n",
    "def generate_from_trigram(\n",
    "    first_token: int, probabilities: np.ndarray, vocab: Vocab, max_length: int\n",
    ") -> list:\n",
    "    # An empty list of words to populate\n",
    "    words = [vocab.token2word(first_token)]\n",
    "    ### YOUR CODE BELOW HERE\n",
    "    if max_length <= 0:\n",
    "        return words\n",
    "    s = [first_token, first_token]\n",
    "    if len(s) < 2:\n",
    "        pros = []\n",
    "        w = []\n",
    "        for w, c in vocab._word2count.items():\n",
    "            if vocab.word2token(w) == SOS_token or vocab.word2token(w) == EOS_token:\n",
    "                continue\n",
    "            pros.append(vocab.word2token(w))\n",
    "            w.append(c)\n",
    "            if pros:\n",
    "                tok = random.choices(\n",
    "                    pros, weights=w\n",
    "                )[0]\n",
    "            else:\n",
    "                tok = EOS_token\n",
    "            words.append(vocab.token2word(tok))\n",
    "            if tok == EOS_token:\n",
    "                return words\n",
    "    for i in range(max_length - len(s) - 1):\n",
    "        p = probabilities[s[-2]][s[-1]]\n",
    "        if p.sum() == 0:\n",
    "            break\n",
    "        tok = random.choices(\n",
    "            range(len(p)), weights=p)[0]\n",
    "        s.append(tok)\n",
    "        words.append(vocab.token2word(tok))\n",
    "        if tok == EOS_token:\n",
    "            return words\n",
    "    words.append(vocab.token2word(EOS_token))\n",
    "    ### YOUR CODE ABOVE HERE\n",
    "    return words"
   ]
  },
  {
   "cell_type": "markdown",
   "metadata": {
    "id": "LxRsPO69aLkG"
   },
   "source": [
    "Generate from the trigram model."
   ]
  },
  {
   "cell_type": "code",
   "execution_count": 291,
   "metadata": {
    "colab": {
     "base_uri": "https://localhost:8080/",
     "height": 36
    },
    "id": "48qa3b0DN91M",
    "outputId": "c8adc066-47b3-4add-edca-0d7e4edc3ce8"
   },
   "outputs": [
    {
     "data": {
      "text/plain": [
       "'SOS EOS'"
      ]
     },
     "execution_count": 291,
     "metadata": {},
     "output_type": "execute_result"
    }
   ],
   "source": [
    "\" \".join(generate_from_trigram(SOS_token, trigram_lm, VOCAB, max_length=256))"
   ]
  },
  {
   "cell_type": "code",
   "execution_count": 292,
   "metadata": {},
   "outputs": [
    {
     "name": "stdout",
     "output_type": "stream",
     "text": [
      "['SOS', 'EOS']\n",
      "['SOS', 'EOS']\n",
      "All tests passed!\n"
     ]
    }
   ],
   "source": [
    "from tests import test_generate_from_trigram\n",
    "\n",
    "test_generate_from_trigram(\n",
    "    generate_from_trigram_function=generate_from_trigram,\n",
    "    build_trigram_function=make_trigram_model,\n",
    ")"
   ]
  },
  {
   "cell_type": "markdown",
   "metadata": {
    "id": "dxPk8eMUMi4c"
   },
   "source": [
    "## Perplexity"
   ]
  },
  {
   "cell_type": "markdown",
   "metadata": {
    "id": "7OugQU7zcoEg"
   },
   "source": [
    "*Perplexity* is a measure of how well a language model captures a dataset. It is a measure of how \"surprised\" the model is when it sees a sequence. If a model has perplexity close to zero, it means that any sequence you throw at the model is very probable according to the model. If the perplexity is high, it means that the sequences it is seeing seem very improbable according to the model. If the sequences are real data from the corpus, then a low perplexity is good because the model is not being surprised by real data. Thus, lower is better.\n",
    "\n",
    "The formula for trigram perplexity is $ppl(w)=exp\\big(-\\frac{1}{n}\\displaystyle\\sum\\limits_{t=1}^{n}\\log p(w_t|w_{t-1}, w_{t-2})\\big)$ where $w$ is a word vector conisting of $n$ words $w_1...w_n$. The $log$ maps values between $0...1$ to a scale from $-∞...0$ to avoid multiplying small probability values together. We must add log probabilities instead of multiplying regular probabilities. The $\\frac{1}{n}$ gives us the average log probability. The $-1$ converts log probabilities from numbers less than 0 to numbers greater than 0 so that unlikely word vectors (probabilities close to 0 or log probabilities close to $-∞$) become very high positive numbers (high perplexity). This is also called the *negative log likelihood*, which, counter-intuitively is a positive score.\n",
    "\n",
    "To get the final perplexity score, you would then apply a $exp(⋅)$ to map the values in the log scale back to non-log scale.\n",
    "\n",
    "To summarize: convert probabilities to log-scale, combine probability chains, get the mean, flip to positive valued numbers, then covert to non-log-scale.\n",
    "\n",
    "We will be making one slight modification to this: we will **not** be converting back to non-log scale. This is because perplexity is mainly used to compare different text generation schemes to each other. Since log perplexity can be compared in the same way perplexity can, we will not be using an $exp(⋅)$ in our calculations."
   ]
  },
  {
   "cell_type": "code",
   "execution_count": 293,
   "metadata": {
    "id": "FUiAA67xX2di"
   },
   "outputs": [
    {
     "name": "stdout",
     "output_type": "stream",
     "text": [
      "3.741279033524569\n",
      "0.715972504684526\n",
      "0.43539901499431016\n"
     ]
    }
   ],
   "source": [
    "from helpers import perplexity1, perplexity2, perplexity3\n",
    "\n",
    "with open(\"observations.txt\", \"r\") as f:\n",
    "    observations = f.read()\n",
    "observations = normalize_string(insert_eos_sos(observations))\n",
    "VOCAB = make_vocab([observations], \"observations\")\n",
    "\n",
    "seq = [VOCAB.word2token(w) for w in observations.split()]\n",
    "\n",
    "observation_unigram_lm = make_unigram_model(observations, VOCAB)\n",
    "observation_bigram_lm = make_bigram_model(observations, VOCAB)\n",
    "observation_trigram_lm = make_trigram_model(observations, VOCAB)\n",
    "\n",
    "print(perplexity1(seq, observation_unigram_lm))\n",
    "print(perplexity2(seq, observation_unigram_lm, observation_bigram_lm))\n",
    "print(\n",
    "    perplexity3(\n",
    "        seq, observation_unigram_lm, observation_bigram_lm, observation_trigram_lm\n",
    "    )\n",
    ")"
   ]
  },
  {
   "cell_type": "code",
   "execution_count": 294,
   "metadata": {},
   "outputs": [
    {
     "name": "stdout",
     "output_type": "stream",
     "text": [
      "6.077064985815244\n",
      "2.197837560885327\n",
      "0.33340405928528066\n"
     ]
    }
   ],
   "source": [
    "with open(\"sonnets.txt\", \"r\") as f:\n",
    "    sonnets = f.read()\n",
    "sonnets = normalize_string(insert_eos_sos(sonnets))\n",
    "VOCAB = make_vocab([sonnets], \"sonnets\")\n",
    "\n",
    "seq = [VOCAB.word2token(w) for w in sonnets.split()]\n",
    "\n",
    "sonnets_unigram_lm = make_unigram_model(sonnets, VOCAB)\n",
    "sonnets_bigram_lm = make_bigram_model(sonnets, VOCAB)\n",
    "sonnets_trigram_lm = make_trigram_model(sonnets, VOCAB)\n",
    "\n",
    "print(perplexity1(seq, sonnets_unigram_lm))\n",
    "print(perplexity2(seq, sonnets_unigram_lm, sonnets_bigram_lm))\n",
    "print(perplexity3(seq, sonnets_unigram_lm, sonnets_bigram_lm, sonnets_trigram_lm))"
   ]
  },
  {
   "cell_type": "markdown",
   "metadata": {},
   "source": [
    "## Write text with perplexity **(TO-DO)**"
   ]
  },
  {
   "cell_type": "markdown",
   "metadata": {},
   "source": [
    "For this exercise, create two text sequences of your own design that have a perplexity above or below a required value. This exercise uses the observations.txt file for this sequence so all the words must exist in the observations vocabulary. Based on your understanding of perplexity, can you craft a sequence with the desired perplexity?"
   ]
  },
  {
   "cell_type": "code",
   "execution_count": 295,
   "metadata": {},
   "outputs": [],
   "source": [
    "perplexity_under_3 = \"you see a trash can that is closed.\"\n",
    "perplexity_over_7 = \"you see a coin that is fridge that is open plain door that is closed.\""
   ]
  },
  {
   "cell_type": "code",
   "execution_count": 296,
   "metadata": {},
   "outputs": [],
   "source": [
    "with open(\"observations.txt\", \"r\") as f:\n",
    "    observations = f.read()\n",
    "observations = normalize_string(insert_eos_sos(observations))\n",
    "VOCAB = make_vocab([observations], \"observations\")\n",
    "\n",
    "observation_unigram_lm = make_unigram_model(observations, VOCAB)\n",
    "observation_bigram_lm = make_bigram_model(observations, VOCAB)\n",
    "observation_trigram_lm = make_trigram_model(observations, VOCAB)"
   ]
  },
  {
   "cell_type": "code",
   "execution_count": 297,
   "metadata": {},
   "outputs": [
    {
     "name": "stdout",
     "output_type": "stream",
     "text": [
      "1.7406409283240045\n"
     ]
    }
   ],
   "source": [
    "low_perplexity = normalize_string(insert_eos_sos(perplexity_under_3))\n",
    "low_seq = [VOCAB.word2token(w) for w in low_perplexity.split()]\n",
    "\n",
    "print(\n",
    "    perplexity3(\n",
    "        low_seq, observation_unigram_lm, observation_bigram_lm, observation_trigram_lm\n",
    "    )\n",
    ")"
   ]
  },
  {
   "cell_type": "code",
   "execution_count": 298,
   "metadata": {},
   "outputs": [
    {
     "name": "stdout",
     "output_type": "stream",
     "text": [
      "5.8065504708768225\n"
     ]
    }
   ],
   "source": [
    "high_perplexity = normalize_string(insert_eos_sos(perplexity_over_7))\n",
    "high_seq = [VOCAB.word2token(w) for w in high_perplexity.split()]\n",
    "\n",
    "print(\n",
    "    perplexity3(\n",
    "        high_seq, observation_unigram_lm, observation_bigram_lm, observation_trigram_lm\n",
    "    )\n",
    ")"
   ]
  },
  {
   "cell_type": "markdown",
   "metadata": {},
   "source": [
    "### Test your sequences"
   ]
  },
  {
   "cell_type": "code",
   "execution_count": 299,
   "metadata": {},
   "outputs": [
    {
     "ename": "AssertionError",
     "evalue": "",
     "output_type": "error",
     "traceback": [
      "\u001b[0;31m---------------------------------------------------------------------------\u001b[0m",
      "\u001b[0;31mAssertionError\u001b[0m                            Traceback (most recent call last)",
      "Cell \u001b[0;32mIn[299], line 3\u001b[0m\n\u001b[1;32m      1\u001b[0m \u001b[38;5;28;01mfrom\u001b[39;00m\u001b[38;5;250m \u001b[39m\u001b[38;5;21;01mtests\u001b[39;00m\u001b[38;5;250m \u001b[39m\u001b[38;5;28;01mimport\u001b[39;00m test_perplexity\n\u001b[0;32m----> 3\u001b[0m \u001b[43mtest_perplexity\u001b[49m\u001b[43m(\u001b[49m\n\u001b[1;32m      4\u001b[0m \u001b[43m    \u001b[49m\u001b[43mperplexity_under_3\u001b[49m\u001b[43m,\u001b[49m\n\u001b[1;32m      5\u001b[0m \u001b[43m    \u001b[49m\u001b[43mperplexity_over_7\u001b[49m\u001b[43m,\u001b[49m\n\u001b[1;32m      6\u001b[0m \u001b[43m    \u001b[49m\u001b[43mbuild_unigram_function\u001b[49m\u001b[38;5;241;43m=\u001b[39;49m\u001b[43mmake_unigram_model\u001b[49m\u001b[43m,\u001b[49m\n\u001b[1;32m      7\u001b[0m \u001b[43m    \u001b[49m\u001b[43mbuild_bigram_function\u001b[49m\u001b[38;5;241;43m=\u001b[39;49m\u001b[43mmake_bigram_model\u001b[49m\u001b[43m,\u001b[49m\n\u001b[1;32m      8\u001b[0m \u001b[43m    \u001b[49m\u001b[43mbuild_trigram_function\u001b[49m\u001b[38;5;241;43m=\u001b[39;49m\u001b[43mmake_trigram_model\u001b[49m\u001b[43m,\u001b[49m\n\u001b[1;32m      9\u001b[0m \u001b[43m)\u001b[49m\n",
      "File \u001b[0;32m~/Documents/Georgia Tech Classes/Spring 2025/CS 3600/Assignment-3-main/A3-B/tests.py:385\u001b[0m, in \u001b[0;36mtest_perplexity\u001b[0;34m(low_text, high_text, build_unigram_function, build_bigram_function, build_trigram_function)\u001b[0m\n\u001b[1;32m    375\u001b[0m high_seq \u001b[38;5;241m=\u001b[39m [\n\u001b[1;32m    376\u001b[0m     OBSERVATION_VOCAB\u001b[38;5;241m.\u001b[39mword2token(w)\n\u001b[1;32m    377\u001b[0m     \u001b[38;5;28;01mfor\u001b[39;00m w \u001b[38;5;129;01min\u001b[39;00m normalize_string(insert_eos_sos(high_text))\u001b[38;5;241m.\u001b[39msplit()\n\u001b[1;32m    378\u001b[0m ]\n\u001b[1;32m    379\u001b[0m low_seq \u001b[38;5;241m=\u001b[39m [\n\u001b[1;32m    380\u001b[0m     OBSERVATION_VOCAB\u001b[38;5;241m.\u001b[39mword2token(w)\n\u001b[1;32m    381\u001b[0m     \u001b[38;5;28;01mfor\u001b[39;00m w \u001b[38;5;129;01min\u001b[39;00m normalize_string(insert_eos_sos(low_text))\u001b[38;5;241m.\u001b[39msplit()\n\u001b[1;32m    382\u001b[0m ]\n\u001b[1;32m    384\u001b[0m \u001b[38;5;28;01massert\u001b[39;00m (\n\u001b[0;32m--> 385\u001b[0m     perplexity3(\n\u001b[1;32m    386\u001b[0m         high_seq,\n\u001b[1;32m    387\u001b[0m         observation_unigram_lm,\n\u001b[1;32m    388\u001b[0m         observation_bigram_lm,\n\u001b[1;32m    389\u001b[0m         observation_trigram_lm,\n\u001b[1;32m    390\u001b[0m     )\n\u001b[1;32m    391\u001b[0m     \u001b[38;5;241m>\u001b[39m\u001b[38;5;241m=\u001b[39m HIGH_PERPLEXITY\n\u001b[1;32m    392\u001b[0m )\n\u001b[1;32m    393\u001b[0m \u001b[38;5;28;01massert\u001b[39;00m (\n\u001b[1;32m    394\u001b[0m     perplexity3(\n\u001b[1;32m    395\u001b[0m         low_seq,\n\u001b[0;32m   (...)\u001b[0m\n\u001b[1;32m    400\u001b[0m     \u001b[38;5;241m<\u001b[39m\u001b[38;5;241m=\u001b[39m LOW_PERPLEXITY\n\u001b[1;32m    401\u001b[0m )\n\u001b[1;32m    403\u001b[0m \u001b[38;5;28mprint\u001b[39m(\u001b[38;5;124m\"\u001b[39m\u001b[38;5;124mAll tests passed!\u001b[39m\u001b[38;5;124m\"\u001b[39m)\n",
      "\u001b[0;31mAssertionError\u001b[0m: "
     ]
    }
   ],
   "source": [
    "from tests import test_perplexity\n",
    "\n",
    "test_perplexity(\n",
    "    perplexity_under_3,\n",
    "    perplexity_over_7,\n",
    "    build_unigram_function=make_unigram_model,\n",
    "    build_bigram_function=make_bigram_model,\n",
    "    build_trigram_function=make_trigram_model,\n",
    ")"
   ]
  },
  {
   "cell_type": "markdown",
   "metadata": {},
   "source": [
    "# Testing"
   ]
  },
  {
   "cell_type": "markdown",
   "metadata": {
    "id": "yN777M-BVa4a"
   },
   "source": [
    "## Evaluate student models"
   ]
  },
  {
   "cell_type": "markdown",
   "metadata": {},
   "source": [
    "We will evaluate your models by training them on half of the data, and testing perplexity on the remaining half. To build your own tests, you can partition the given text files differently or download your own text files. You may share your results for any new text files with other students. As a reminder, you are **not** permitted to share code with other students."
   ]
  },
  {
   "cell_type": "code",
   "execution_count": null,
   "metadata": {
    "id": "2rBTfBCwIYxz"
   },
   "outputs": [],
   "source": [
    "with open(\"observations.txt\", \"r\") as f:\n",
    "    observations = f.read()\n",
    "\n",
    "sil = normalize_string(insert_eos_sos(observations))\n",
    "sil = \" \".join(sil.split()[:2000])\n",
    "sil_train = \" \".join(sil.split()[:1500])\n",
    "sil_test = \" \".join(sil.split()[1500:])"
   ]
  },
  {
   "cell_type": "code",
   "execution_count": null,
   "metadata": {
    "colab": {
     "base_uri": "https://localhost:8080/"
    },
    "id": "0n4K3oI29geU",
    "outputId": "62cfd02a-3e42-46e6-f67b-449af541a636"
   },
   "outputs": [
    {
     "data": {
      "text/plain": [
       "82"
      ]
     },
     "execution_count": 109,
     "metadata": {},
     "output_type": "execute_result"
    }
   ],
   "source": [
    "sil_vocab = make_vocab([sil], \"sil\")\n",
    "sil_vocab.num_words()"
   ]
  },
  {
   "cell_type": "markdown",
   "metadata": {
    "id": "vMJ3JHk0Ynuj"
   },
   "source": [
    "Build Student Models on the training data"
   ]
  },
  {
   "cell_type": "code",
   "execution_count": null,
   "metadata": {
    "id": "qJqCsFGXO8PC"
   },
   "outputs": [],
   "source": [
    "unigram_lm = make_unigram_model(sil_train, sil_vocab)\n",
    "bigram_lm = make_bigram_model(sil_train, sil_vocab)\n",
    "trigram_lm = make_trigram_model(sil_train, sil_vocab)"
   ]
  },
  {
   "cell_type": "markdown",
   "metadata": {
    "id": "XGDIiGdhPQls"
   },
   "source": [
    "Evaluate on Training Data"
   ]
  },
  {
   "cell_type": "code",
   "execution_count": null,
   "metadata": {
    "id": "9cSJ5NP6_CTj"
   },
   "outputs": [
    {
     "name": "stdout",
     "output_type": "stream",
     "text": [
      "Training Results\n",
      "Unigram perplexity:  3.714397330463374\n",
      "Bigram perplexity:  0.717304206438192\n",
      "Trigram perplexity:  0.42575687600416595\n"
     ]
    }
   ],
   "source": [
    "print(\"Training Results\")\n",
    "\n",
    "token_sequence = [sil_vocab.word2token(w) for w in sil_train.split()]\n",
    "\n",
    "print(\"Unigram perplexity: \", perplexity1(token_sequence, unigram_lm))\n",
    "print(\"Bigram perplexity: \", perplexity2(token_sequence, unigram_lm, bigram_lm))\n",
    "print(\n",
    "    \"Trigram perplexity: \",\n",
    "    perplexity3(token_sequence, unigram_lm, bigram_lm, trigram_lm),\n",
    ")"
   ]
  },
  {
   "cell_type": "markdown",
   "metadata": {
    "id": "oRYM_dkHYq5P"
   },
   "source": [
    "Evaluate on Testing Data"
   ]
  },
  {
   "cell_type": "code",
   "execution_count": null,
   "metadata": {
    "id": "cNqCEDU3PnWW"
   },
   "outputs": [
    {
     "name": "stdout",
     "output_type": "stream",
     "text": [
      "Testing Results\n",
      "Unigram perplexity:  3.745781771662003\n",
      "Bigram perplexity:  0.7942959167866147\n",
      "Trigram perplexity:  0.679413999328657\n"
     ]
    }
   ],
   "source": [
    "print(\"Testing Results\")\n",
    "\n",
    "testing_token_seq = [sil_vocab.word2token(w) for w in sil_test.split()]\n",
    "\n",
    "print(\"Unigram perplexity: \", perplexity1(testing_token_seq, unigram_lm))\n",
    "print(\"Bigram perplexity: \", perplexity2(testing_token_seq, unigram_lm, bigram_lm))\n",
    "print(\n",
    "    \"Trigram perplexity: \",\n",
    "    perplexity3(testing_token_seq, unigram_lm, bigram_lm, trigram_lm),\n",
    ")"
   ]
  },
  {
   "cell_type": "markdown",
   "metadata": {},
   "source": [
    "Run tests to ensure your perplexity falls within the acceptable bounds"
   ]
  },
  {
   "cell_type": "code",
   "execution_count": null,
   "metadata": {},
   "outputs": [
    {
     "name": "stdout",
     "output_type": "stream",
     "text": [
      "Training Results:\n",
      "Unigram perplexity:  3.667381057272907\n",
      "Passed unigram training perplexity\n",
      "Bigram perplexity:  0.6715943147035198\n",
      "Passed bigram training perplexity\n",
      "Trigram perplexity:  0.38385807590353377\n",
      "Passed trigram training perplexity\n",
      "Testing Results:\n",
      "Unigram perplexity:  3.745781771662003\n",
      "Passed unigram test perplexity\n",
      "Bigram perplexity:  0.7942959167866147\n",
      "Passed bigram test perplexity\n",
      "Trigram perplexity:  0.679413999328657\n",
      "Passed trigram test perplexity\n",
      "All tests passed!\n"
     ]
    }
   ],
   "source": [
    "from tests import test_model_perplexity\n",
    "\n",
    "test_model_perplexity(\n",
    "    build_unigram_function=make_unigram_model,\n",
    "    build_bigram_function=make_bigram_model,\n",
    "    build_trigram_function=make_trigram_model,\n",
    ")"
   ]
  },
  {
   "cell_type": "markdown",
   "metadata": {
    "id": "euOhfinWezA_"
   },
   "source": [
    "# Grading\n",
    "\n",
    "We will be grading your submission based on your probability tables, text generation, as well as the perplexity of your code evaluated on randomly choosen text data (it will be similar to the dataset we provide in this notebook). These tests will be very similar to the tests provided but on a different dataset.\n",
    "\n",
    "Part B is worth 50 points based on your performance across several trials of randomly sampled text data (from the same data provided), and your overall score will be weighted as follows:\n",
    "- 10 points for correctly calculating unigram probabilities\n",
    "- 10 points for correctly calculating bigram probabilities\n",
    "- 10 points for correctly calculating trigram probabilities\n",
    "- 10 points for correctly generating text from your models\n",
    "- 10 points for appropriate perplexity for all three models\n",
    "\n",
    "Do not try to subvert or game the autograder, as these cases will lead to a score of 0. We have a built-in curve to our autograder to help student scores. As such, the sanity checks provided do not guarantee similar performance on the overall assignment, but they do help ensure that your code runs correctly as you intend."
   ]
  },
  {
   "cell_type": "markdown",
   "metadata": {
    "id": "_05x1-3Me6Cs"
   },
   "source": [
    "# Submission\n",
    "\n",
    "Upload this notebook with the name `submission.ipynb` file to Gradescope. The autograder will **only** run successfully if your file is named this way. You must ensure that you have removed all print statements from **your** code, or the autograder may fail to run. Excessive print statements will also result in muddled test case outputs, which makes it more difficult to interpret your score. \n",
    "\n",
    "We've added appropriate comments to the top of certain cells for the autograder to export (`# export`). You do NOT have to do anything (e.g. remove print statements) to cells we have provided - anything related to those have been handled for you. You are responsible for ensuring your own code has no syntax errors or unnecessary print statements. You ***CANNOT*** modify the export comments at the top of the cells, or the autograder will fail to run on your submission.\n",
    "\n",
    "You should ***not*** add any cells that your code requires to the notebook when submitting. You're welcome to add any code as you need to extra cells when testing, but they will not be graded. Only the provided cells will be graded. As mentioned in the top of the notebook, **any helper functions that you add should be nested within the function that uses them.**\n",
    "\n",
    "If you encounter any issues with the autograder, please feel free to make a post on Ed Discussion. We highly recommend making a public post to clarify any questions, as it's likely that other students have the same questions as you! If you have a question that needs to be private, please make a private post."
   ]
  }
 ],
 "metadata": {
  "colab": {
   "collapsed_sections": [
    "kVlJ_OMK-GeR",
    "NMJadvTO-O7z",
    "f0GaE8xE-T6A",
    "2MB_9m39T6j8"
   ],
   "provenance": [],
   "toc_visible": true
  },
  "kernelspec": {
   "display_name": "CS-3600",
   "language": "python",
   "name": "python3"
  },
  "language_info": {
   "codemirror_mode": {
    "name": "ipython",
    "version": 3
   },
   "file_extension": ".py",
   "mimetype": "text/x-python",
   "name": "python",
   "nbconvert_exporter": "python",
   "pygments_lexer": "ipython3",
   "version": "3.10.16"
  }
 },
 "nbformat": 4,
 "nbformat_minor": 0
}
